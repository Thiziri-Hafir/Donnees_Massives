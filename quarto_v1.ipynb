{
  "nbformat": 4,
  "nbformat_minor": 0,
  "metadata": {
    "colab": {
      "provenance": [],
      "collapsed_sections": [
        "2_p6cn1BoM3y"
      ],
      "include_colab_link": true
    },
    "kernelspec": {
      "name": "python3",
      "display_name": "Python 3"
    },
    "language_info": {
      "name": "python"
    }
  },
  "cells": [
    {
      "cell_type": "markdown",
      "metadata": {
        "id": "view-in-github",
        "colab_type": "text"
      },
      "source": [
        "<a href=\"https://colab.research.google.com/github/Thiziri-Hafir/Donnees_Massives/blob/main/quarto_v1.ipynb\" target=\"_parent\"><img src=\"https://colab.research.google.com/assets/colab-badge.svg\" alt=\"Open In Colab\"/></a>"
      ]
    },
    {
      "cell_type": "markdown",
      "source": [
        "---\n",
        "title: \"Projet : Changement de production de café en fonction du climat au Brésil\"\n",
        "format:\n",
        "  html:\n",
        "    code-fold: true\n",
        "jupyter: python3\n",
        "---"
      ],
      "metadata": {
        "id": "yV5ppd0aqC49"
      }
    },
    {
      "cell_type": "code",
      "source": [
        "from google.colab import drive\n",
        "drive.mount('/content/gdrive')"
      ],
      "metadata": {
        "id": "a1k8EAtnhX45",
        "colab": {
          "base_uri": "https://localhost:8080/"
        },
        "outputId": "9551c6fc-20c4-4feb-d22c-25a75efc29eb"
      },
      "execution_count": null,
      "outputs": [
        {
          "output_type": "stream",
          "name": "stdout",
          "text": [
            "Mounted at /content/gdrive\n"
          ]
        }
      ]
    },
    {
      "cell_type": "code",
      "source": [
        "!pip install pyspark"
      ],
      "metadata": {
        "id": "HWInYt5nT7vZ",
        "colab": {
          "base_uri": "https://localhost:8080/"
        },
        "outputId": "2a9c2a17-88b6-47b3-b673-59708b42031e"
      },
      "execution_count": null,
      "outputs": [
        {
          "output_type": "stream",
          "name": "stdout",
          "text": [
            "Looking in indexes: https://pypi.org/simple, https://us-python.pkg.dev/colab-wheels/public/simple/\n",
            "Collecting pyspark\n",
            "  Downloading pyspark-3.3.1.tar.gz (281.4 MB)\n",
            "\u001b[K     |████████████████████████████████| 281.4 MB 44 kB/s \n",
            "\u001b[?25hCollecting py4j==0.10.9.5\n",
            "  Downloading py4j-0.10.9.5-py2.py3-none-any.whl (199 kB)\n",
            "\u001b[K     |████████████████████████████████| 199 kB 53.6 MB/s \n",
            "\u001b[?25hBuilding wheels for collected packages: pyspark\n",
            "  Building wheel for pyspark (setup.py) ... \u001b[?25l\u001b[?25hdone\n",
            "  Created wheel for pyspark: filename=pyspark-3.3.1-py2.py3-none-any.whl size=281845512 sha256=d437c5a1de6c9655479ea0e1947c52f97e9a5008c0a5cbe2f96b9da717ae9748\n",
            "  Stored in directory: /root/.cache/pip/wheels/42/59/f5/79a5bf931714dcd201b26025347785f087370a10a3329a899c\n",
            "Successfully built pyspark\n",
            "Installing collected packages: py4j, pyspark\n",
            "Successfully installed py4j-0.10.9.5 pyspark-3.3.1\n"
          ]
        }
      ]
    },
    {
      "cell_type": "markdown",
      "source": [
        "# Importing the data"
      ],
      "metadata": {
        "id": "zVBfQxoCVXdB"
      }
    },
    {
      "cell_type": "code",
      "execution_count": null,
      "metadata": {
        "id": "nB1xk38dTrBN"
      },
      "outputs": [],
      "source": [
        "import pyspark\n",
        "import pandas as pd\n",
        "from pyspark import SparkContext\n",
        "from pyspark.sql import SparkSession\n",
        "import seaborn as sns\n",
        "import matplotlib.pyplot as plt\n",
        "\n",
        "SparkContext.setSystemProperty('spark.executor.memory', '8g')\n",
        "SparkContext.setSystemProperty('spark.driver.memory', '45G')\n",
        "\n",
        "sc = SparkContext.getOrCreate()\n",
        "spark = SparkSession.builder.appName(\"Python Spark\").getOrCreate()"
      ]
    },
    {
      "cell_type": "code",
      "source": [
        "url = \"https://raw.githubusercontent.com/jldbc/coffee-quality-database/master/data/arabica_data_cleaned.csv\"\n",
        "raw_arabica = pd.read_csv(url)"
      ],
      "metadata": {
        "id": "l9lkq3ObU7gE"
      },
      "execution_count": null,
      "outputs": []
    },
    {
      "cell_type": "code",
      "source": [
        "import pyspark.sql.functions as F\n",
        "from pyspark.sql.types import *\n",
        "\n",
        "# Auxiliar functions\n",
        "\n",
        "def count_missings(spark_df,sort=True):\n",
        "    \"\"\"\n",
        "    Counts number of nulls and nans in each column\n",
        "    \"\"\"\n",
        "    df = spark_df.select([F.count(F.when(F.isnan(c) | F.isnull(c), c)).alias(c) for (c,c_type) in spark_df.dtypes if c_type not in ('timestamp', 'string', 'date')]).toPandas()\n",
        "\n",
        "    if len(df) == 0:\n",
        "        print(\"There are no any missing values!\")\n",
        "        return None\n",
        "\n",
        "    if sort:\n",
        "        return df.rename(index={0: 'count'}).T.sort_values(\"count\",ascending=False)\n",
        "\n",
        "    return df\n",
        "\n",
        "def equivalent_type(f):\n",
        "    \"\"\" \n",
        "         Function that changes the input Python type to PySpark type\n",
        "    \"\"\"\n",
        "    if f == 'datetime64[ns]': return TimestampType()\n",
        "    elif f == 'int64': return LongType()\n",
        "    elif f == 'int32': return IntegerType()\n",
        "    elif f == 'float64': return DoubleType()\n",
        "    elif f == 'float32': return FloatType()\n",
        "    else: return StringType()\n",
        "\n",
        "def define_structure(string, format_type):\n",
        "    \"\"\" \n",
        "         Function that define the structure of the input\n",
        "    \"\"\"\n",
        "    try: typo = equivalent_type(format_type)\n",
        "    except: typo = StringType()\n",
        "    return StructField(string, typo)\n",
        "\n",
        "# Given pandas dataframe, it will return a spark's dataframe.\n",
        "def pandas_to_spark(pandas_df):\n",
        "    \"\"\" \n",
        "         Function that transforms an input pandas dataframe to a spark dataframe\n",
        "    \"\"\"\n",
        "    columns = list(pandas_df.columns)\n",
        "    types = list(pandas_df.dtypes)\n",
        "    struct_list = []\n",
        "    for column, typo in zip(columns, types): \n",
        "      struct_list.append(define_structure(column, typo))\n",
        "    p_schema = StructType(struct_list)\n",
        "    return spark.createDataFrame(pandas_df, p_schema)"
      ],
      "metadata": {
        "id": "JT1QNG7yU_S3"
      },
      "execution_count": null,
      "outputs": []
    },
    {
      "cell_type": "code",
      "source": [
        "# Creaate a spark dataframe from our initial pandas dataframe \n",
        "\n",
        "raw_arabica[['Variety']]= raw_arabica[['Variety']].fillna('unknown')\n",
        "df_arabica = pandas_to_spark(raw_arabica)  \n",
        "df_arabica.show(10)"
      ],
      "metadata": {
        "id": "u2Gds8tjVCkj",
        "colab": {
          "base_uri": "https://localhost:8080/"
        },
        "outputId": "2b630e16-f45c-4aeb-e093-cb81e99a55f1"
      },
      "execution_count": null,
      "outputs": [
        {
          "output_type": "stream",
          "name": "stdout",
          "text": [
            "+----------+-------+--------------------+-----------------+--------------------+----------+-----------------+----------+--------------------+-------------+--------------------+--------------------+--------------+----------+--------------------+------------+--------------------+--------------------+-------+-----------------+-----+------+----------+-------+----+-------+----------+---------+---------+-------------+----------------+--------+--------------------+-------+------------+--------------------+--------------------+--------------------+---------------------+---------------------+-------------------+-------------------+--------------------+--------------------+\n",
            "|Unnamed: 0|Species|               Owner|Country.of.Origin|           Farm.Name|Lot.Number|             Mill|ICO.Number|             Company|     Altitude|              Region|            Producer|Number.of.Bags|Bag.Weight|  In.Country.Partner|Harvest.Year|        Grading.Date|             Owner.1|Variety|Processing.Method|Aroma|Flavor|Aftertaste|Acidity|Body|Balance|Uniformity|Clean.Cup|Sweetness|Cupper.Points|Total.Cup.Points|Moisture|Category.One.Defects|Quakers|       Color|Category.Two.Defects|          Expiration|  Certification.Body|Certification.Address|Certification.Contact|unit_of_measurement|altitude_low_meters|altitude_high_meters|altitude_mean_meters|\n",
            "+----------+-------+--------------------+-----------------+--------------------+----------+-----------------+----------+--------------------+-------------+--------------------+--------------------+--------------+----------+--------------------+------------+--------------------+--------------------+-------+-----------------+-----+------+----------+-------+----+-------+----------+---------+---------+-------------+----------------+--------+--------------------+-------+------------+--------------------+--------------------+--------------------+---------------------+---------------------+-------------------+-------------------+--------------------+--------------------+\n",
            "|         1|Arabica|           metad plc|         Ethiopia|           metad plc|       NaN|        metad plc| 2014/2015|metad agricultura...|    1950-2200|        guji-hambela|           METAD PLC|           300|     60 kg|METAD Agricultura...|        2014|     April 4th, 2015|           metad plc|unknown|     Washed / Wet| 8.67|  8.83|      8.67|   8.75| 8.5|   8.42|      10.0|     10.0|     10.0|         8.75|           90.58|    0.12|                   0|    0.0|       Green|                   0|     April 3rd, 2016|METAD Agricultura...| 309fcf77415a3661a...| 19fef5a731de2db57...|                  m|             1950.0|              2200.0|              2075.0|\n",
            "|         2|Arabica|           metad plc|         Ethiopia|           metad plc|       NaN|        metad plc| 2014/2015|metad agricultura...|    1950-2200|        guji-hambela|           METAD PLC|           300|     60 kg|METAD Agricultura...|        2014|     April 4th, 2015|           metad plc|  Other|     Washed / Wet| 8.75|  8.67|       8.5|   8.58|8.42|   8.42|      10.0|     10.0|     10.0|         8.58|           89.92|    0.12|                   0|    0.0|       Green|                   1|     April 3rd, 2016|METAD Agricultura...| 309fcf77415a3661a...| 19fef5a731de2db57...|                  m|             1950.0|              2200.0|              2075.0|\n",
            "|         3|Arabica|grounds for healt...|        Guatemala|san marcos barran...|       NaN|              NaN|       NaN|                 NaN|1600 - 1800 m|                 NaN|                 NaN|             5|         1|Specialty Coffee ...|         NaN|      May 31st, 2010|Grounds for Healt...|Bourbon|              NaN| 8.42|   8.5|      8.42|   8.42|8.33|   8.42|      10.0|     10.0|     10.0|         9.25|           89.75|     0.0|                   0|    0.0|         NaN|                   0|      May 31st, 2011|Specialty Coffee ...| 36d0d00a3724338ba...| 0878a7d4b9d35ddbf...|                  m|             1600.0|              1800.0|              1700.0|\n",
            "|         4|Arabica| yidnekachew dabessa|         Ethiopia|yidnekachew dabes...|       NaN|          wolensu|       NaN|yidnekachew debes...|    1800-2200|              oromia|Yidnekachew Dabes...|           320|     60 kg|METAD Agricultura...|        2014|    March 26th, 2015| Yidnekachew Dabessa|unknown|    Natural / Dry| 8.17|  8.58|      8.42|   8.42| 8.5|   8.25|      10.0|     10.0|     10.0|         8.67|            89.0|    0.11|                   0|    0.0|       Green|                   2|    March 25th, 2016|METAD Agricultura...| 309fcf77415a3661a...| 19fef5a731de2db57...|                  m|             1800.0|              2200.0|              2000.0|\n",
            "|         5|Arabica|           metad plc|         Ethiopia|           metad plc|       NaN|        metad plc| 2014/2015|metad agricultura...|    1950-2200|        guji-hambela|           METAD PLC|           300|     60 kg|METAD Agricultura...|        2014|     April 4th, 2015|           metad plc|  Other|     Washed / Wet| 8.25|   8.5|      8.25|    8.5|8.42|   8.33|      10.0|     10.0|     10.0|         8.58|           88.83|    0.12|                   0|    0.0|       Green|                   2|     April 3rd, 2016|METAD Agricultura...| 309fcf77415a3661a...| 19fef5a731de2db57...|                  m|             1950.0|              2200.0|              2075.0|\n",
            "|         6|Arabica|           ji-ae ahn|           Brazil|                 NaN|       NaN|              NaN|       NaN|                 NaN|          NaN|                 NaN|                 NaN|           100|     30 kg|Specialty Coffee ...|        2013| September 3rd, 2013|           Ji-Ae Ahn|unknown|    Natural / Dry| 8.58|  8.42|      8.42|    8.5|8.25|   8.33|      10.0|     10.0|     10.0|         8.33|           88.83|    0.11|                   0|    0.0|Bluish-Green|                   1| September 3rd, 2014|Specialty Coffee ...| 726e4891cf2c9a484...| b70da261fcc84831e...|                  m|                NaN|                 NaN|                 NaN|\n",
            "|         7|Arabica|       hugo valdivia|             Peru|                 NaN|       NaN|              hvc|       NaN|richmond investme...|          NaN|                 NaN|                 HVC|           100|     69 kg|Specialty Coffee ...|        2012|September 17th, 2012|       Hugo Valdivia|  Other|     Washed / Wet| 8.42|   8.5|      8.33|    8.5|8.25|   8.25|      10.0|     10.0|     10.0|          8.5|           88.75|    0.11|                   0|    0.0|Bluish-Green|                   0|September 17th, 2013|Specialty Coffee ...| 726e4891cf2c9a484...| b70da261fcc84831e...|                  m|                NaN|                 NaN|                 NaN|\n",
            "|         8|Arabica|ethiopia commodit...|         Ethiopia|               aolme|       NaN|          c.p.w.e|  010/0338|                 NaN|    1570-1700|              oromia|Bazen Agricultura...|           300|     60 kg|Ethiopia Commodit...|  March 2010| September 2nd, 2010|Ethiopia Commodit...|unknown|              NaN| 8.25|  8.33|       8.5|   8.42|8.33|    8.5|      10.0|     10.0|     9.33|          9.0|           88.67|    0.03|                   0|    0.0|         NaN|                   0| September 2nd, 2011|Ethiopia Commodit...| a176532400aebdc34...| 61bbaf6a9f341e578...|                  m|             1570.0|              1700.0|              1635.0|\n",
            "|         9|Arabica|ethiopia commodit...|         Ethiopia|               aolme|       NaN|          c.p.w.e|  010/0338|                 NaN|    1570-1700|             oromiya|Bazen Agricultura...|           300|     60 kg|Ethiopia Commodit...|  March 2010| September 2nd, 2010|Ethiopia Commodit...|unknown|              NaN| 8.67|  8.67|      8.58|   8.42|8.33|   8.42|      9.33|     10.0|     9.33|         8.67|           88.42|    0.03|                   0|    0.0|         NaN|                   0| September 2nd, 2011|Ethiopia Commodit...| a176532400aebdc34...| 61bbaf6a9f341e578...|                  m|             1570.0|              1700.0|              1635.0|\n",
            "|        10|Arabica|diamond enterpris...|         Ethiopia|   tulla coffee farm|       NaN|tulla coffee farm|   2014/15|diamond enterpris...|    1795-1850|snnp/kaffa zone,g...|Diamond Enterpris...|            50|     60 kg|METAD Agricultura...|        2014|    March 30th, 2015|Diamond Enterpris...|  Other|    Natural / Dry| 8.08|  8.58|       8.5|    8.5|7.67|   8.42|      10.0|     10.0|     10.0|          8.5|           88.25|     0.1|                   0|    0.0|       Green|                   4|    March 29th, 2016|METAD Agricultura...| 309fcf77415a3661a...| 19fef5a731de2db57...|                  m|             1795.0|              1850.0|              1822.5|\n",
            "+----------+-------+--------------------+-----------------+--------------------+----------+-----------------+----------+--------------------+-------------+--------------------+--------------------+--------------+----------+--------------------+------------+--------------------+--------------------+-------+-----------------+-----+------+----------+-------+----+-------+----------+---------+---------+-------------+----------------+--------+--------------------+-------+------------+--------------------+--------------------+--------------------+---------------------+---------------------+-------------------+-------------------+--------------------+--------------------+\n",
            "only showing top 10 rows\n",
            "\n"
          ]
        }
      ]
    },
    {
      "cell_type": "markdown",
      "source": [
        "# Basic structural transformations and harmonization"
      ],
      "metadata": {
        "id": "x_-mzrIgVcQC"
      }
    },
    {
      "cell_type": "markdown",
      "source": [
        "## Renaming columns and selecting the columns and rows of interest"
      ],
      "metadata": {
        "id": "KE1RpgPaV8YR"
      }
    },
    {
      "cell_type": "markdown",
      "source": [
        "### In the next cell, we rename the columns to facilitate their use.\n"
      ],
      "metadata": {
        "id": "v-w3xAVODkKC"
      }
    },
    {
      "cell_type": "code",
      "source": [
        "tempList = [] #Edit01\n",
        "for col in df_arabica.columns:\n",
        "        new_name = col.strip()\n",
        "        new_name = \"\".join(new_name.split())\n",
        "        new_name = new_name.replace('.','_') # EDIT\n",
        "        tempList.append(new_name) #Edit02\n",
        "print(tempList) #Just for the sake of it #Edit03\n",
        "\n",
        "df_arabica = df_arabica.toDF(*tempList) #Edit04"
      ],
      "metadata": {
        "id": "42Ntf6-3VE90",
        "colab": {
          "base_uri": "https://localhost:8080/"
        },
        "outputId": "7b083402-f29e-4a3b-a691-3079dcf04270"
      },
      "execution_count": null,
      "outputs": [
        {
          "output_type": "stream",
          "name": "stdout",
          "text": [
            "['Unnamed:0', 'Species', 'Owner', 'Country_of_Origin', 'Farm_Name', 'Lot_Number', 'Mill', 'ICO_Number', 'Company', 'Altitude', 'Region', 'Producer', 'Number_of_Bags', 'Bag_Weight', 'In_Country_Partner', 'Harvest_Year', 'Grading_Date', 'Owner_1', 'Variety', 'Processing_Method', 'Aroma', 'Flavor', 'Aftertaste', 'Acidity', 'Body', 'Balance', 'Uniformity', 'Clean_Cup', 'Sweetness', 'Cupper_Points', 'Total_Cup_Points', 'Moisture', 'Category_One_Defects', 'Quakers', 'Color', 'Category_Two_Defects', 'Expiration', 'Certification_Body', 'Certification_Address', 'Certification_Contact', 'unit_of_measurement', 'altitude_low_meters', 'altitude_high_meters', 'altitude_mean_meters']\n"
          ]
        }
      ]
    },
    {
      "cell_type": "code",
      "source": [
        "count_missings(df_arabica)"
      ],
      "metadata": {
        "colab": {
          "base_uri": "https://localhost:8080/",
          "height": 677
        },
        "id": "LqSIP8nIoH-J",
        "outputId": "b90960c4-62cf-4146-bb9b-93d25bf5a62d"
      },
      "execution_count": null,
      "outputs": [
        {
          "output_type": "execute_result",
          "data": {
            "text/plain": [
              "                      count\n",
              "altitude_mean_meters    227\n",
              "altitude_high_meters    227\n",
              "altitude_low_meters     227\n",
              "Quakers                   1\n",
              "Number_of_Bags            0\n",
              "Category_Two_Defects      0\n",
              "Category_One_Defects      0\n",
              "Moisture                  0\n",
              "Total_Cup_Points          0\n",
              "Cupper_Points             0\n",
              "Unnamed:0                 0\n",
              "Clean_Cup                 0\n",
              "Uniformity                0\n",
              "Balance                   0\n",
              "Body                      0\n",
              "Acidity                   0\n",
              "Aftertaste                0\n",
              "Flavor                    0\n",
              "Aroma                     0\n",
              "Sweetness                 0"
            ],
            "text/html": [
              "\n",
              "  <div id=\"df-7acbabc2-f954-47a6-ac81-73d79d23de98\">\n",
              "    <div class=\"colab-df-container\">\n",
              "      <div>\n",
              "<style scoped>\n",
              "    .dataframe tbody tr th:only-of-type {\n",
              "        vertical-align: middle;\n",
              "    }\n",
              "\n",
              "    .dataframe tbody tr th {\n",
              "        vertical-align: top;\n",
              "    }\n",
              "\n",
              "    .dataframe thead th {\n",
              "        text-align: right;\n",
              "    }\n",
              "</style>\n",
              "<table border=\"1\" class=\"dataframe\">\n",
              "  <thead>\n",
              "    <tr style=\"text-align: right;\">\n",
              "      <th></th>\n",
              "      <th>count</th>\n",
              "    </tr>\n",
              "  </thead>\n",
              "  <tbody>\n",
              "    <tr>\n",
              "      <th>altitude_mean_meters</th>\n",
              "      <td>227</td>\n",
              "    </tr>\n",
              "    <tr>\n",
              "      <th>altitude_high_meters</th>\n",
              "      <td>227</td>\n",
              "    </tr>\n",
              "    <tr>\n",
              "      <th>altitude_low_meters</th>\n",
              "      <td>227</td>\n",
              "    </tr>\n",
              "    <tr>\n",
              "      <th>Quakers</th>\n",
              "      <td>1</td>\n",
              "    </tr>\n",
              "    <tr>\n",
              "      <th>Number_of_Bags</th>\n",
              "      <td>0</td>\n",
              "    </tr>\n",
              "    <tr>\n",
              "      <th>Category_Two_Defects</th>\n",
              "      <td>0</td>\n",
              "    </tr>\n",
              "    <tr>\n",
              "      <th>Category_One_Defects</th>\n",
              "      <td>0</td>\n",
              "    </tr>\n",
              "    <tr>\n",
              "      <th>Moisture</th>\n",
              "      <td>0</td>\n",
              "    </tr>\n",
              "    <tr>\n",
              "      <th>Total_Cup_Points</th>\n",
              "      <td>0</td>\n",
              "    </tr>\n",
              "    <tr>\n",
              "      <th>Cupper_Points</th>\n",
              "      <td>0</td>\n",
              "    </tr>\n",
              "    <tr>\n",
              "      <th>Unnamed:0</th>\n",
              "      <td>0</td>\n",
              "    </tr>\n",
              "    <tr>\n",
              "      <th>Clean_Cup</th>\n",
              "      <td>0</td>\n",
              "    </tr>\n",
              "    <tr>\n",
              "      <th>Uniformity</th>\n",
              "      <td>0</td>\n",
              "    </tr>\n",
              "    <tr>\n",
              "      <th>Balance</th>\n",
              "      <td>0</td>\n",
              "    </tr>\n",
              "    <tr>\n",
              "      <th>Body</th>\n",
              "      <td>0</td>\n",
              "    </tr>\n",
              "    <tr>\n",
              "      <th>Acidity</th>\n",
              "      <td>0</td>\n",
              "    </tr>\n",
              "    <tr>\n",
              "      <th>Aftertaste</th>\n",
              "      <td>0</td>\n",
              "    </tr>\n",
              "    <tr>\n",
              "      <th>Flavor</th>\n",
              "      <td>0</td>\n",
              "    </tr>\n",
              "    <tr>\n",
              "      <th>Aroma</th>\n",
              "      <td>0</td>\n",
              "    </tr>\n",
              "    <tr>\n",
              "      <th>Sweetness</th>\n",
              "      <td>0</td>\n",
              "    </tr>\n",
              "  </tbody>\n",
              "</table>\n",
              "</div>\n",
              "      <button class=\"colab-df-convert\" onclick=\"convertToInteractive('df-7acbabc2-f954-47a6-ac81-73d79d23de98')\"\n",
              "              title=\"Convert this dataframe to an interactive table.\"\n",
              "              style=\"display:none;\">\n",
              "        \n",
              "  <svg xmlns=\"http://www.w3.org/2000/svg\" height=\"24px\"viewBox=\"0 0 24 24\"\n",
              "       width=\"24px\">\n",
              "    <path d=\"M0 0h24v24H0V0z\" fill=\"none\"/>\n",
              "    <path d=\"M18.56 5.44l.94 2.06.94-2.06 2.06-.94-2.06-.94-.94-2.06-.94 2.06-2.06.94zm-11 1L8.5 8.5l.94-2.06 2.06-.94-2.06-.94L8.5 2.5l-.94 2.06-2.06.94zm10 10l.94 2.06.94-2.06 2.06-.94-2.06-.94-.94-2.06-.94 2.06-2.06.94z\"/><path d=\"M17.41 7.96l-1.37-1.37c-.4-.4-.92-.59-1.43-.59-.52 0-1.04.2-1.43.59L10.3 9.45l-7.72 7.72c-.78.78-.78 2.05 0 2.83L4 21.41c.39.39.9.59 1.41.59.51 0 1.02-.2 1.41-.59l7.78-7.78 2.81-2.81c.8-.78.8-2.07 0-2.86zM5.41 20L4 18.59l7.72-7.72 1.47 1.35L5.41 20z\"/>\n",
              "  </svg>\n",
              "      </button>\n",
              "      \n",
              "  <style>\n",
              "    .colab-df-container {\n",
              "      display:flex;\n",
              "      flex-wrap:wrap;\n",
              "      gap: 12px;\n",
              "    }\n",
              "\n",
              "    .colab-df-convert {\n",
              "      background-color: #E8F0FE;\n",
              "      border: none;\n",
              "      border-radius: 50%;\n",
              "      cursor: pointer;\n",
              "      display: none;\n",
              "      fill: #1967D2;\n",
              "      height: 32px;\n",
              "      padding: 0 0 0 0;\n",
              "      width: 32px;\n",
              "    }\n",
              "\n",
              "    .colab-df-convert:hover {\n",
              "      background-color: #E2EBFA;\n",
              "      box-shadow: 0px 1px 2px rgba(60, 64, 67, 0.3), 0px 1px 3px 1px rgba(60, 64, 67, 0.15);\n",
              "      fill: #174EA6;\n",
              "    }\n",
              "\n",
              "    [theme=dark] .colab-df-convert {\n",
              "      background-color: #3B4455;\n",
              "      fill: #D2E3FC;\n",
              "    }\n",
              "\n",
              "    [theme=dark] .colab-df-convert:hover {\n",
              "      background-color: #434B5C;\n",
              "      box-shadow: 0px 1px 3px 1px rgba(0, 0, 0, 0.15);\n",
              "      filter: drop-shadow(0px 1px 2px rgba(0, 0, 0, 0.3));\n",
              "      fill: #FFFFFF;\n",
              "    }\n",
              "  </style>\n",
              "\n",
              "      <script>\n",
              "        const buttonEl =\n",
              "          document.querySelector('#df-7acbabc2-f954-47a6-ac81-73d79d23de98 button.colab-df-convert');\n",
              "        buttonEl.style.display =\n",
              "          google.colab.kernel.accessAllowed ? 'block' : 'none';\n",
              "\n",
              "        async function convertToInteractive(key) {\n",
              "          const element = document.querySelector('#df-7acbabc2-f954-47a6-ac81-73d79d23de98');\n",
              "          const dataTable =\n",
              "            await google.colab.kernel.invokeFunction('convertToInteractive',\n",
              "                                                     [key], {});\n",
              "          if (!dataTable) return;\n",
              "\n",
              "          const docLinkHtml = 'Like what you see? Visit the ' +\n",
              "            '<a target=\"_blank\" href=https://colab.research.google.com/notebooks/data_table.ipynb>data table notebook</a>'\n",
              "            + ' to learn more about interactive tables.';\n",
              "          element.innerHTML = '';\n",
              "          dataTable['output_type'] = 'display_data';\n",
              "          await google.colab.output.renderOutput(dataTable, element);\n",
              "          const docLink = document.createElement('div');\n",
              "          docLink.innerHTML = docLinkHtml;\n",
              "          element.appendChild(docLink);\n",
              "        }\n",
              "      </script>\n",
              "    </div>\n",
              "  </div>\n",
              "  "
            ]
          },
          "metadata": {},
          "execution_count": 8
        }
      ]
    },
    {
      "cell_type": "markdown",
      "source": [
        "#### We decided to focus on Brazil as it is one of the biggest coffee producer and presents interesting geoclimatic features and diversity"
      ],
      "metadata": {
        "id": "VcAZCNvSYQsL"
      }
    },
    {
      "cell_type": "code",
      "source": [
        "df_arabica = df_arabica.filter(df_arabica[\"Country_of_Origin\"]=='Brazil')\\\n",
        "          .distinct()\\\n",
        "          .select([\"Farm_name\",\"Altitude\",\"Variety\",\"Aroma\",\"Flavor\",\"Aftertaste\",\\\n",
        "                   \"Acidity\",\"Body\",\"Balance\",\"Uniformity\",\"Clean_Cup\",\"Sweetness\",\"Total_Cup_Points\",\"altitude_mean_meters\"])\n",
        "df_arabica.show(100, 100)"
      ],
      "metadata": {
        "id": "8bupiicSVOGU",
        "colab": {
          "base_uri": "https://localhost:8080/"
        },
        "outputId": "b65f1ebc-91e5-4ffb-9267-a69f8a16e7a4"
      },
      "execution_count": null,
      "outputs": [
        {
          "output_type": "stream",
          "name": "stdout",
          "text": [
            "+-----------------------------------+--------------+--------------+-----+------+----------+-------+----+-------+----------+---------+---------+----------------+--------------------+\n",
            "|                          Farm_name|      Altitude|       Variety|Aroma|Flavor|Aftertaste|Acidity|Body|Balance|Uniformity|Clean_Cup|Sweetness|Total_Cup_Points|altitude_mean_meters|\n",
            "+-----------------------------------+--------------+--------------+-----+------+----------+-------+----+-------+----------+---------+---------+----------------+--------------------+\n",
            "|                                NaN|           NaN|       unknown| 8.58|  8.42|      8.42|    8.5|8.25|   8.33|      10.0|     10.0|     10.0|           88.83|                 NaN|\n",
            "|                 fazenda capoeirnha|           890|       Bourbon| 7.67|  7.58|       7.5|   7.58|7.58|    7.5|      10.0|     10.0|     10.0|           82.92|               890.0|\n",
            "|                        capoeirinha|           905|Yellow Bourbon| 7.58|  7.58|      7.58|    7.5|7.67|   7.58|      10.0|     10.0|     10.0|           83.08|               905.0|\n",
            "|                       olhos d'agua|          900m|       unknown| 7.58|  7.75|      7.67|    7.5|7.67|   7.58|      10.0|     10.0|     10.0|           83.17|               900.0|\n",
            "|                        capoeirinha|           905|Yellow Bourbon|  7.5|   7.5|      7.58|    7.5|7.58|   7.58|      10.0|     10.0|     10.0|           82.75|               905.0|\n",
            "|                                NaN|           NaN|       unknown| 7.42|  7.42|       7.5|   7.33|7.25|   7.67|      10.0|     10.0|     10.0|           82.58|                 NaN|\n",
            "|                  sitío são geraldo|         1100m|    Mundo Novo|  8.0|   8.0|      7.83|   7.83|7.67|   7.67|      10.0|     10.0|     10.0|            85.0|              1100.0|\n",
            "|                    fazenda kaquend|         1250m|       Bourbon|  8.5|   8.5|       8.0|    8.0| 8.0|    8.0|      10.0|     10.0|     10.0|           86.92|              1250.0|\n",
            "|                          rio verde|          1227|        Catuai|  7.5|  7.83|      7.33|   7.58|7.58|   7.92|      10.0|     10.0|     10.0|           83.33|              1227.0|\n",
            "|                                NaN|           mmm|       unknown| 7.81|  7.81|      7.88|   7.75|7.38|   8.25|       9.5|     10.0|     10.0|            84.5|                 NaN|\n",
            "|                  fazenda rio verde|          1260|Yellow Bourbon| 7.58|  7.83|      7.67|   7.25| 8.0|   7.75|      10.0|     10.0|     10.0|            84.0|              1260.0|\n",
            "|                fazenda grota funda|         1200m|       Bourbon|  8.0|  7.92|      7.75|   7.75| 8.0|   7.75|      10.0|     10.0|     10.0|           84.92|              1200.0|\n",
            "|              fazenda santo antonio|      900-1100|        Catuai| 7.67|  7.67|      7.67|    7.5|7.42|    7.5|      10.0|     10.0|     10.0|            83.0|              1000.0|\n",
            "|                    café do paraíso|  894m - 1183m|    Mundo Novo| 7.58|  7.83|      7.75|   7.67|7.67|    8.0|      10.0|     10.0|     10.0|           84.17|              1038.5|\n",
            "|                        capoeirinha|           934|       Bourbon| 7.58|  7.67|      7.67|   7.75|7.58|   7.83|      10.0|     10.0|     10.0|           83.92|               934.0|\n",
            "|                         água limpa|         1200m|Yellow Bourbon| 7.75|  7.67|       7.5|   7.58|7.58|   7.58|      10.0|     10.0|     10.0|           83.25|              1200.0|\n",
            "|               fazenda vista alegre|         1100m|        Catuai|  8.5|   8.0|       7.5|   7.75| 7.5|   7.83|      10.0|     10.0|     10.0|           84.58|              1100.0|\n",
            "|                          rio verde|          1200|       Bourbon| 7.58|  7.83|      7.67|   7.42|7.42|    7.5|      10.0|     10.0|     10.0|           83.08|              1200.0|\n",
            "|                 fazenda capoeirnha|           894|       Bourbon|  7.5|  7.58|      7.58|   7.67|7.58|    7.5|      10.0|     10.0|     10.0|            83.0|               894.0|\n",
            "|                          rio verde|             1|Yellow Bourbon| 7.25|  7.58|      7.42|    8.0|7.75|   7.83|      10.0|     10.0|     10.0|           83.83|                 1.0|\n",
            "|                    fazenda kaquend|         1250m|       Bourbon| 8.33|   8.0|       8.0|    8.0|7.75|    8.0|      10.0|     10.0|     10.0|           86.08|              1250.0|\n",
            "|                        capoeirinha|           934|       Bourbon|  7.5|  7.58|       7.5|   7.67| 7.5|   7.42|      10.0|     10.0|     10.0|           82.67|               934.0|\n",
            "|                                NaN|           NaN|       unknown| 7.58|  7.67|      7.42|    7.5|7.67|   7.42|      10.0|     10.0|     10.0|           83.25|                 NaN|\n",
            "|                     fazenda jericó|         1100m|        Catuai| 7.83|  7.75|       7.5|   7.75| 7.5|   7.58|      10.0|     10.0|     10.0|           83.58|              1100.0|\n",
            "|                          rio verde|          1200|       Bourbon| 7.67|  7.67|      7.58|    7.5|7.83|   8.17|      10.0|     10.0|     9.33|           83.83|              1200.0|\n",
            "|                        santa maria|           NaN|        Catuai| 7.33|   7.5|      7.58|   7.58|7.67|    7.5|      10.0|     10.0|     10.0|           82.67|                 NaN|\n",
            "|                  fazenda rio verde|          1260|Yellow Bourbon| 7.92|   7.5|      7.33|   7.67|8.17|    7.5|      10.0|     10.0|     10.0|           83.83|              1260.0|\n",
            "|                                NaN|           NaN|       unknown|  7.5|  7.58|      7.42|    7.5|7.75|   7.33|      10.0|     10.0|     10.0|           82.58|                 NaN|\n",
            "|                        capoeirinha|           872|       Bourbon|  7.5|  7.67|      7.58|   7.67|7.58|   7.42|      10.0|     10.0|     10.0|            83.0|               872.0|\n",
            "|                    fazenda recreio|         1300m|       Bourbon|  8.0|   8.0|      7.75|   7.75|7.58|   7.75|      10.0|     10.0|     10.0|           84.58|              1300.0|\n",
            "|       fazenda serra de três barras|         1250m|       Bourbon|  8.0|   8.0|       8.0|   7.67|7.75|    8.0|      10.0|     10.0|     10.0|           85.42|              1250.0|\n",
            "|            cachoeira da grama farm|           NaN|Yellow Bourbon| 7.33|  7.83|      7.75|    7.5|7.42|   7.83|      10.0|     10.0|     10.0|           83.42|                 NaN|\n",
            "|                 fazenda capoeirnha|           890|       Bourbon| 7.58|  7.67|      7.58|   7.58|7.67|   7.58|      10.0|     10.0|     10.0|           83.58|               890.0|\n",
            "|             são francisco da serra|          950m|    Mundo Novo| 7.92|  7.58|       7.5|   7.58|7.42|    7.5|      10.0|     10.0|     10.0|           83.17|               950.0|\n",
            "|                        capoeirinha|           905|Yellow Bourbon| 7.67|  7.58|      7.58|    7.5| 7.5|   7.42|      10.0|     10.0|     10.0|           82.83|               905.0|\n",
            "|                        capoeirinha|           934|       Bourbon| 7.58|  7.75|      7.58|   7.75|7.58|   7.58|      10.0|     10.0|     10.0|           83.67|               934.0|\n",
            "|                                NaN|           NaN|    Mundo Novo| 7.42|  7.67|      7.58|    7.5|7.75|   7.67|      10.0|     10.0|     10.0|           83.08|                 NaN|\n",
            "|                   fazenda baipendi|     900-1200m|       unknown|  8.0|   8.0|       7.5|    7.5|7.67|   7.75|      10.0|     10.0|     10.0|           84.33|              1050.0|\n",
            "|                 fazenda capoeirnha|           890|       Bourbon|  7.5|  7.75|      7.58|    7.5|7.58|    7.5|      10.0|     10.0|     10.0|           83.92|               890.0|\n",
            "|                 fazenda capoeirnha|           890|       Bourbon| 7.58|   7.5|       7.5|   7.75|7.67|    7.5|      10.0|     10.0|     10.0|            83.0|               890.0|\n",
            "|                   campo das flores|         1000m|    Mundo Novo| 7.75|  7.67|      7.58|    7.5|7.58|   7.58|      10.0|     10.0|     10.0|           83.17|              1000.0|\n",
            "|                 fazenda capoeirnha|           890|       Bourbon|  7.5|   7.5|       7.5|    7.5|7.58|    7.5|      10.0|     10.0|     10.0|            82.5|               890.0|\n",
            "|                    fazenda recreio|          1300|       Bourbon|  8.5|  8.17|       8.0|   7.75| 8.0|    8.0|      10.0|     10.0|     10.0|           86.42|              1300.0|\n",
            "|                  fazenda do sertao|       1.250 m|Yellow Bourbon| 7.83|  7.83|      7.58|   7.67| 7.5|   7.58|      10.0|     10.0|     10.0|           83.83|              1250.0|\n",
            "|                                NaN|          test|       unknown| 8.17|  7.67|      7.75|   7.75|7.67|   7.75|      10.0|     10.0|     10.0|            84.5|                 NaN|\n",
            "|                 fazenda capoeirnha|           890|       Bourbon| 7.67|  7.67|      7.58|   7.75|7.67|   7.67|      10.0|     10.0|     10.0|           83.75|               890.0|\n",
            "|                          rio verde|             1|Yellow Bourbon| 7.33|  7.67|      7.67|   7.33|7.75|   7.42|      10.0|     10.0|     10.0|           83.08|                 1.0|\n",
            "|              pereira estate coffee|           1.2|Yellow Bourbon| 8.42|  7.92|       8.0|   7.75|7.92|    8.0|      10.0|     10.0|     10.0|           86.17|                12.0|\n",
            "|                        sitio claro|        1000 m|        Catuai|  8.0|   8.0|      7.75|    8.0| 7.5|   7.75|      10.0|     10.0|     10.0|           84.92|              1000.0|\n",
            "|                         santa fé 2|           900|        Catuai| 7.58|  7.83|      7.33|   7.67|7.42|   7.33|      10.0|     10.0|     10.0|           82.83|               900.0|\n",
            "|                            pantano|          1150|        Catuai| 7.67|  7.75|      7.75|   7.67|7.83|   7.75|      10.0|     10.0|     10.0|           84.17|              1150.0|\n",
            "|                   fazenda chamusca|     900-1050m|    Mundo Novo| 7.58|   7.5|      7.33|   7.75| 7.5|    7.5|      10.0|     10.0|     10.0|           82.58|               975.0|\n",
            "|              pereira estate coffee|           1.2|Yellow Bourbon| 8.17|  7.92|      7.92|   7.75|8.33|    8.0|      10.0|     10.0|     10.0|           86.17|                12.0|\n",
            "|                          rio verde|             1|Yellow Bourbon| 7.58|   7.5|      7.42|   7.67| 7.5|    7.5|      10.0|     10.0|     10.0|           82.67|                 1.0|\n",
            "|                    fazenda pantano|  11000 metros| Moka Peaberry| 7.08|   7.5|       7.5|   7.83|7.75|   7.67|      10.0|     10.0|     10.0|           82.92|             11000.0|\n",
            "|                        capoeirinha|           890|       Bourbon|  7.5|  7.58|      7.25|   7.75|7.58|    7.5|      10.0|     10.0|     10.0|           82.67|               890.0|\n",
            "|                        sertao farm|          1250|Yellow Bourbon| 7.75|  7.58|      7.42|   7.67|7.42|   7.67|      10.0|     10.0|     10.0|            83.0|              1250.0|\n",
            "|                 fazenda capoeirnha|           890|       Bourbon| 7.67|  7.42|       7.5|   7.58|7.67|   7.58|      10.0|     10.0|     10.0|           83.17|               890.0|\n",
            "|                        santa alina|1200m to 1350m|Yellow Bourbon| 8.17|   8.0|       7.5|   7.75| 7.5|   7.67|      10.0|     10.0|     10.0|           84.33|              1275.0|\n",
            "|                 fazenda capoeirnha|           890|       Bourbon| 7.67|  7.83|       7.5|   7.67|7.67|    7.5|      10.0|     10.0|     10.0|           83.67|               890.0|\n",
            "|                    fazenda do lobo|         1000m|    Mundo Novo| 7.75|   7.5|      7.58|    7.5|7.75|    7.5|      10.0|     10.0|     10.0|           83.17|              1000.0|\n",
            "|                                NaN|           NaN|       unknown| 7.17|   7.0|      6.83|    7.5|7.17|    7.0|       8.0|      8.0|     10.0|           75.67|                 NaN|\n",
            "|                 fazenda capoeirnha|           934|       Bourbon| 7.42|  7.42|       7.5|   7.42|7.42|    7.5|      10.0|     10.0|     10.0|           82.17|               934.0|\n",
            "|                 fazenda capoeirnha|           894|       Bourbon| 7.42|  7.58|      7.42|    7.5|7.42|   7.25|      10.0|     10.0|     10.0|           82.08|               894.0|\n",
            "|       são rafael_ ra/ras certified|           995|        Catuai| 7.17|  7.33|      7.42|   7.08| 7.0|    7.0|      10.0|     10.0|     10.0|           80.25|               995.0|\n",
            "|                        capoeirinha|           934|       Bourbon|  7.5|   7.5|      7.42|    7.5|7.42|    7.5|      10.0|     10.0|     10.0|           82.33|               934.0|\n",
            "|                          rio verde|             1|Yellow Bourbon| 7.17|  7.83|      7.33|    7.5|7.75|   7.42|      10.0|     10.0|     10.0|           82.42|                 1.0|\n",
            "|                                NaN|           NaN|       unknown|  7.0|   7.0|      6.83|    7.0|7.33|   6.83|       6.0|      6.0|     10.0|           70.67|                 NaN|\n",
            "|                        sertao farm|          1200|Yellow Bourbon| 7.17|  7.33|      7.42|   7.25|7.42|   7.33|      10.0|     10.0|     10.0|           81.33|              1200.0|\n",
            "|                             sertao|          1.25|       Bourbon|  7.5|  7.42|      7.17|   7.42| 7.5|   7.33|      10.0|     10.0|     10.0|            81.5|               125.0|\n",
            "|                           cianorte|      900-950m|    Mundo Novo| 7.33|  7.67|      7.25|    7.5| 7.5|   7.25|      10.0|     10.0|     10.0|           81.83|               925.0|\n",
            "|                                NaN|           NaN|    Mundo Novo| 7.42|   7.5|       7.5|   7.42| 7.5|   7.58|      10.0|     10.0|     10.0|           82.33|                 NaN|\n",
            "|                          rio verde|          1100|       Bourbon| 7.75|  7.58|      7.42|   7.42|7.33|   7.33|      10.0|     10.0|     10.0|           82.25|              1100.0|\n",
            "|                fazenda serra negra|         1000m|        Catuai| 7.58|  7.67|      7.33|    7.5| 7.5|   7.42|      10.0|     10.0|     10.0|           82.42|              1000.0|\n",
            "|                        sertao farm|          1250|       Bourbon| 7.75|  7.75|       7.5|   7.42|7.83|   7.75|      9.33|     9.33|     9.33|           81.83|              1250.0|\n",
            "|            cachoeira da grama farm|        1250 m|Yellow Bourbon| 7.25|  7.33|      7.17|    7.5|7.33|   7.25|      9.33|     10.0|     10.0|            80.5|              1250.0|\n",
            "|                          rio verde|          1100|       Bourbon| 7.33|  7.58|      7.25|   7.17|7.83|   7.33|      10.0|     10.0|     10.0|           81.83|              1100.0|\n",
            "|                          rio verde|             1|Yellow Bourbon| 6.92|  7.58|      7.42|   7.33|7.83|    7.5|      10.0|     10.0|     10.0|           82.17|                 1.0|\n",
            "|                  fazenda são pedro|           982|        Catuai| 7.33|   7.5|       7.5|   7.33| 7.5|    7.5|      10.0|     10.0|     10.0|           82.33|               982.0|\n",
            "|                                NaN|           NaN|       unknown| 7.42|   7.5|      7.33|    7.5|7.25|   7.42|      10.0|     10.0|     10.0|           82.42|                 NaN|\n",
            "|                 fazendas klem ltda|          1100|        Catuai| 7.58|   7.5|      7.25|   7.42|7.67|   7.33|      10.0|     10.0|     10.0|           82.25|              1100.0|\n",
            "|sitío corrego da olaria/são caetano|         1100m|    Mundo Novo| 7.42|  7.58|      7.25|    7.5|7.33|    7.5|      10.0|     10.0|     10.0|           81.92|              1100.0|\n",
            "|                       leticia farm|           NaN|       unknown| 7.33|  7.25|      7.33|   7.08|7.58|   7.25|      9.33|     10.0|     10.0|           80.58|                 NaN|\n",
            "|          santa mariana/são vicente|          950m|    Mundo Novo| 7.58|   7.5|      7.17|    7.5| 7.5|   7.42|      10.0|     10.0|     10.0|            82.0|               950.0|\n",
            "|            cachoeira da grama farm|           NaN|       Bourbon| 7.25|  7.25|      7.17|    7.5|7.33|   7.17|      10.0|     10.0|     10.0|            81.0|                 NaN|\n",
            "|                            juliana|           NaN|        Catuai| 7.42|  7.42|      7.17|   7.42|7.33|   7.25|      10.0|     10.0|     10.0|           81.17|                 NaN|\n",
            "|                          rio verde|          1100|       Bourbon| 7.17|  7.42|      7.17|   7.25|7.25|   7.33|      10.0|     10.0|     10.0|           80.92|              1100.0|\n",
            "|                  fazenda rio verde|          1260|Yellow Bourbon| 7.42|   7.5|      7.67|   7.33|7.42|   7.67|      10.0|     10.0|     10.0|            82.5|              1260.0|\n",
            "|                      santa mariana|           NaN|        Arusha| 7.75|   7.5|      7.42|   7.42| 7.5|   7.42|      10.0|     10.0|     10.0|           82.42|                 NaN|\n",
            "|                  sitío santa luzia|         1100m|    Mundo Novo| 7.58|   7.5|      7.42|    7.5| 7.5|   7.42|      10.0|     10.0|     10.0|           82.33|              1100.0|\n",
            "|              fazenda rio brilhante|          1100|        Catuai| 7.33|   7.5|       7.5|   7.33|6.83|   7.42|      10.0|     10.0|     10.0|           81.42|              1100.0|\n",
            "|                          rio verde|             1|Yellow Bourbon| 7.42|  7.67|       7.5|   7.08| 7.5|   7.42|      10.0|     10.0|     10.0|           82.25|                 1.0|\n",
            "|                          rio verde|          1200|       Bourbon| 7.42|  7.25|      7.33|    7.0|7.08|   7.25|      10.0|     10.0|     10.0|           80.58|              1200.0|\n",
            "|                    castelhana farm|           NaN|       unknown| 7.17|  7.25|      7.08|   7.17|7.25|   7.58|      10.0|     10.0|     10.0|           80.75|                 NaN|\n",
            "|                        café citrus|          950m|    Mundo Novo| 7.58|  7.58|      7.25|   7.58|7.42|    7.5|      10.0|     10.0|     10.0|           82.33|               950.0|\n",
            "|                          rio verde|          1268|       Bourbon| 8.25|  7.83|      7.25|   8.33|8.17|   8.08|      10.0|     6.67|     10.0|           82.33|              1268.0|\n",
            "|           fazenda são josé mirante|           695|    Mundo Novo| 7.58|  7.42|       7.5|   7.25|7.75|   7.58|      9.33|     10.0|     9.33|           81.08|               695.0|\n",
            "|                        sertao farm|          1200|Yellow Bourbon| 7.25|  7.33|      7.25|   7.25|7.25|   7.33|      10.0|     10.0|     10.0|           80.92|              1200.0|\n",
            "|                        santa maria|           NaN|        Catuai| 6.83|   7.0|      6.92|   7.08|6.92|   6.83|      10.0|     10.0|     10.0|           78.42|                 NaN|\n",
            "|                                NaN|           NaN|    Mundo Novo| 7.58|   7.5|      7.42|   7.25| 7.5|   7.42|      10.0|     10.0|     10.0|           82.17|                 NaN|\n",
            "+-----------------------------------+--------------+--------------+-----+------+----------+-------+----+-------+----------+---------+---------+----------------+--------------------+\n",
            "only showing top 100 rows\n",
            "\n"
          ]
        }
      ]
    },
    {
      "cell_type": "code",
      "source": [
        "from pyspark.sql.functions import regexp_replace\n",
        "from pyspark.sql.functions import col\n",
        "\n",
        "df_arabica = df_arabica.withColumn('Farm_name', regexp_replace(col('Farm_name'), \"/\", \"_\"))"
      ],
      "metadata": {
        "id": "aoyerjXoe_ms"
      },
      "execution_count": null,
      "outputs": []
    },
    {
      "cell_type": "code",
      "source": [
        "# We drop all rows with where altitude_mean_meters==NaN\n",
        "df_arabica = df_arabica.na.drop(subset=[\"altitude_mean_meters\"]) "
      ],
      "metadata": {
        "id": "aYw5eX0GDYOh"
      },
      "execution_count": null,
      "outputs": []
    },
    {
      "cell_type": "code",
      "source": [
        "df_arabica.show(10,10)"
      ],
      "metadata": {
        "id": "wYlLw3A0MNHt",
        "colab": {
          "base_uri": "https://localhost:8080/"
        },
        "outputId": "413feab5-f518-40d7-bf1a-03ae8f5db119"
      },
      "execution_count": null,
      "outputs": [
        {
          "output_type": "stream",
          "name": "stdout",
          "text": [
            "+----------+--------+----------+-----+------+----------+-------+----+-------+----------+---------+---------+----------------+--------------------+\n",
            "| Farm_name|Altitude|   Variety|Aroma|Flavor|Aftertaste|Acidity|Body|Balance|Uniformity|Clean_Cup|Sweetness|Total_Cup_Points|altitude_mean_meters|\n",
            "+----------+--------+----------+-----+------+----------+-------+----+-------+----------+---------+---------+----------------+--------------------+\n",
            "|fazenda...|     890|   Bourbon| 7.67|  7.58|       7.5|   7.58|7.58|    7.5|      10.0|     10.0|     10.0|           82.92|               890.0|\n",
            "|capoeir...|     905|Yellow ...| 7.58|  7.58|      7.58|    7.5|7.67|   7.58|      10.0|     10.0|     10.0|           83.08|               905.0|\n",
            "|olhos d...|    900m|   unknown| 7.58|  7.75|      7.67|    7.5|7.67|   7.58|      10.0|     10.0|     10.0|           83.17|               900.0|\n",
            "|capoeir...|     905|Yellow ...|  7.5|   7.5|      7.58|    7.5|7.58|   7.58|      10.0|     10.0|     10.0|           82.75|               905.0|\n",
            "|sitío s...|   1100m|Mundo Novo|  8.0|   8.0|      7.83|   7.83|7.67|   7.67|      10.0|     10.0|     10.0|            85.0|              1100.0|\n",
            "|fazenda...|   1250m|   Bourbon|  8.5|   8.5|       8.0|    8.0| 8.0|    8.0|      10.0|     10.0|     10.0|           86.92|              1250.0|\n",
            "| rio verde|    1227|    Catuai|  7.5|  7.83|      7.33|   7.58|7.58|   7.92|      10.0|     10.0|     10.0|           83.33|              1227.0|\n",
            "|fazenda...|    1260|Yellow ...| 7.58|  7.83|      7.67|   7.25| 8.0|   7.75|      10.0|     10.0|     10.0|            84.0|              1260.0|\n",
            "|fazenda...|   1200m|   Bourbon|  8.0|  7.92|      7.75|   7.75| 8.0|   7.75|      10.0|     10.0|     10.0|           84.92|              1200.0|\n",
            "|fazenda...|900-1100|    Catuai| 7.67|  7.67|      7.67|    7.5|7.42|    7.5|      10.0|     10.0|     10.0|            83.0|              1000.0|\n",
            "+----------+--------+----------+-----+------+----------+-------+----+-------+----------+---------+---------+----------------+--------------------+\n",
            "only showing top 10 rows\n",
            "\n"
          ]
        }
      ]
    },
    {
      "cell_type": "markdown",
      "source": [
        "#### At first sight, we can notice that we need to harmonize the Altitude column values and link each Farm_name to its position.\n"
      ],
      "metadata": {
        "id": "wvMFtbhxW7PG"
      }
    },
    {
      "cell_type": "markdown",
      "source": [
        "## Harmonizing the altitude column"
      ],
      "metadata": {
        "id": "iLx9HyzwXRto"
      }
    },
    {
      "cell_type": "code",
      "source": [],
      "metadata": {
        "id": "HZIYqUlFXY7m"
      },
      "execution_count": null,
      "outputs": []
    },
    {
      "cell_type": "markdown",
      "source": [
        "## Linking Farm_names to actual longitudes and latitudes"
      ],
      "metadata": {
        "id": "cCoucEK9Xgxz"
      }
    },
    {
      "cell_type": "markdown",
      "source": [
        " #### We created by hand a dataset with the position of the fields of each Farm_name and performed a simple outer_join"
      ],
      "metadata": {
        "id": "9Vz3Us9hXmN-"
      }
    },
    {
      "cell_type": "code",
      "source": [
        "df_farms = spark.createDataFrame(\n",
        "    [\n",
        "        (\"fazenda rio verde\",-21.877600079894428, -45.17833587173798 ), \n",
        "        (\"fazenda do lobo\", -20.05845833645814, -45.551377369807916),\n",
        "        (\"fazenda grota funda\",-4.498676298642221, -46.01438009152326),\n",
        "        (\"sitio claro\",-12.404400112670487, -57.0307320652044),\n",
        "        (\"santa alina\",-21.76121880758086, -46.674253002625804),\n",
        "        (\"fazenda chamusca\",-21.4532483711391, -45.22708818550831),\n",
        "        (\"santa maria\",-16.609194745742165, -46.98365752985455),\n",
        "        (\"capoeirinha\",-18.64698614414741, -45.796849953979795),\n",
        "        (\"fazenda do sertao\",-22.09933939187727, -45.18968007378277),\n",
        "        (\"santa fé 2\",-17.582654936016926, -47.2198752950817),\n",
        "        (\"café do paraíso\",-22.094568087843687, -45.155496432162685),\n",
        "        (\"cachoeira da grama farm\",-21.76626556295618, -46.702161544954144),\n",
        "        (\"são francisco da serra\",-22.629913000779446, -44.601043902591805),\n",
        "        (\"fazenda jericó\",-18.676315608302055, -45.70281563093488),\n",
        "        (\"sertao farm\",-22.099418916815903, -45.18965861611114),\n",
        "        (\"campo das flores\",-20.312258124962906, -43.28548394936318),\n",
        "        (\"olhos d'agua\",-18.63831446703355, -46.952789277527444),\n",
        "        (\"fazenda serra de três barras\",-19.560780988980817, -46.579303497451384),\n",
        "        (\"fazenda pantano\",-18.631997524421426, -46.82473127385452),\n",
        "        (\"pereira estate coffee\",-22.112480964214626, -45.15508902245408),\n",
        "        (\"rio verde\",-21.940510105475326, -45.176192869009476),\n",
        "        (\"sitío são geraldo\",-22.59528143237296, -46.66759241371165),\n",
        "        (\"fazenda baipendi\",-21.45008093579659, -46.8357381855336),\n",
        "        (\"água limpa\",-21.44645605895183, -46.82635044153258),\n",
        "        (\"fazenda kaquend\",-21.435236392716707, -46.83244978479159),\n",
        "        (\"fazenda santo antonio\",-21.40862617568116, -46.80560442679252),\n",
        "        (\"fazenda vista alegre\",-21.44237673402853, -46.818513026788274),\n",
        "        (\"fazenda recreio\",-21.780100162105256, -46.67880344388111),\n",
        "        (\"fazenda capoeirnha\",-21.761009557830032, -46.67507912298348),\n",
        "        (\"pantano\",-21.444638601462618, -46.81747769417689),\n",
        "        (\"fazenda são sebastião\",-21.444863288363614, -46.827235570452125),\n",
        "        (\"santa bárbara\",-18.52732198399872, -47.569893903127564),\n",
        "        (\"santa mariana\",-23.19046310851501, -50.55948683365515),\n",
        "        (\"sertao\",-22.095760723175886, -45.189755175672296),\n",
        "        (\"são rafael_ ra/ras certified\",-22.784292492565246, -47.032534461666536),\n",
        "        (\"sitío santa luzia\",-22.366016295045306, -46.47371725096838),\n",
        "        (\"fazenda são josé mirante\",-22.785019797545694, -47.03177457322967),\n",
        "        (\"cianorte\",-22.774138613223663, -47.02968245276757),\n",
        "        (\"juliana\",-21.46270024286904, -46.832515362350975),\n",
        "        (\"sitío corrego da olaria/são caetano\",-22.745464486282955, -47.0338567362583),\n",
        "        (\"fazenda serra negra\",-21., -46.674253002625804),\n",
        "        (\"fazendas klem ltda\",-20.27591897959779, -41.876604035124465),\n",
        "        (\"castelhana farm\",-18.922960557030457, -47.45831617257145),\n",
        "        (\"leticia farm\",-19.807319369835636, -42.215697182335234),\n",
        "        (\"helena\",-22.107657064931225, -48.32067672583973),\n",
        "        (\"caxambu\",-21.339808722609096, -45.42201735838091),\n",
        "    ],\n",
        "    [\"Farm_name\", \"lat\",\"long\"]  # we add column names here\n",
        ")"
      ],
      "metadata": {
        "id": "OEVstVcWXvKM"
      },
      "execution_count": null,
      "outputs": []
    },
    {
      "cell_type": "code",
      "source": [
        "# Joining the two dataframes to made one \n",
        "df_arabica = df_arabica.join(df_farms, on=['Farm_name'], how='left_outer')"
      ],
      "metadata": {
        "id": "yfpoxlabXwzG"
      },
      "execution_count": null,
      "outputs": []
    },
    {
      "cell_type": "code",
      "source": [
        "df_arabica.show(10)"
      ],
      "metadata": {
        "id": "kdU0wnUtYjcS",
        "colab": {
          "base_uri": "https://localhost:8080/"
        },
        "outputId": "40206de2-be16-4762-e7c8-18e1fe63dcf2"
      },
      "execution_count": null,
      "outputs": [
        {
          "output_type": "stream",
          "name": "stdout",
          "text": [
            "+--------------------+------------+--------------+-----+------+----------+-------+----+-------+----------+---------+---------+----------------+--------------------+-------------------+-------------------+\n",
            "|           Farm_name|    Altitude|       Variety|Aroma|Flavor|Aftertaste|Acidity|Body|Balance|Uniformity|Clean_Cup|Sweetness|Total_Cup_Points|altitude_mean_meters|                lat|               long|\n",
            "+--------------------+------------+--------------+-----+------+----------+-------+----+-------+----------+---------+---------+----------------+--------------------+-------------------+-------------------+\n",
            "|   fazenda rio verde|        1260|Yellow Bourbon| 7.58|  7.83|      7.67|   7.25| 8.0|   7.75|      10.0|     10.0|     10.0|            84.0|              1260.0|-21.877600079894428| -45.17833587173798|\n",
            "| fazenda grota funda|       1200m|       Bourbon|  8.0|  7.92|      7.75|   7.75| 8.0|   7.75|      10.0|     10.0|     10.0|           84.92|              1200.0| -4.498676298642221| -46.01438009152326|\n",
            "|         capoeirinha|         905|Yellow Bourbon| 7.58|  7.58|      7.58|    7.5|7.67|   7.58|      10.0|     10.0|     10.0|           83.08|               905.0| -18.64698614414741|-45.796849953979795|\n",
            "|         capoeirinha|         905|Yellow Bourbon|  7.5|   7.5|      7.58|    7.5|7.58|   7.58|      10.0|     10.0|     10.0|           82.75|               905.0| -18.64698614414741|-45.796849953979795|\n",
            "|     café do paraíso|894m - 1183m|    Mundo Novo| 7.58|  7.83|      7.75|   7.67|7.67|    8.0|      10.0|     10.0|     10.0|           84.17|              1038.5|-22.094568087843687|-45.155496432162685|\n",
            "|        olhos d'agua|        900m|       unknown| 7.58|  7.75|      7.67|    7.5|7.67|   7.58|      10.0|     10.0|     10.0|           83.17|               900.0| -18.63831446703355|-46.952789277527444|\n",
            "|           rio verde|        1227|        Catuai|  7.5|  7.83|      7.33|   7.58|7.58|   7.92|      10.0|     10.0|     10.0|           83.33|              1227.0|-21.940510105475326|-45.176192869009476|\n",
            "|   sitío são geraldo|       1100m|    Mundo Novo|  8.0|   8.0|      7.83|   7.83|7.67|   7.67|      10.0|     10.0|     10.0|            85.0|              1100.0| -22.59528143237296| -46.66759241371165|\n",
            "|     fazenda kaquend|       1250m|       Bourbon|  8.5|   8.5|       8.0|    8.0| 8.0|    8.0|      10.0|     10.0|     10.0|           86.92|              1250.0|-21.435236392716707| -46.83244978479159|\n",
            "|fazenda santo ant...|    900-1100|        Catuai| 7.67|  7.67|      7.67|    7.5|7.42|    7.5|      10.0|     10.0|     10.0|            83.0|              1000.0| -21.40862617568116| -46.80560442679252|\n",
            "+--------------------+------------+--------------+-----+------+----------+-------+----+-------+----------+---------+---------+----------------+--------------------+-------------------+-------------------+\n",
            "only showing top 10 rows\n",
            "\n"
          ]
        }
      ]
    },
    {
      "cell_type": "markdown",
      "source": [
        "### We then filter the coffee to keep only those whose origin is known (Farm_name)."
      ],
      "metadata": {
        "id": "U4tG1Tj4aSMv"
      }
    },
    {
      "cell_type": "code",
      "source": [
        "df_arabica = df_arabica.filter(df_arabica.Farm_name != \"NaN\")\n",
        "df_arabica.show(10)"
      ],
      "metadata": {
        "id": "LNX4DwUXahX3",
        "colab": {
          "base_uri": "https://localhost:8080/"
        },
        "outputId": "e893074e-80a5-405f-d8a1-f1334c087ef6"
      },
      "execution_count": null,
      "outputs": [
        {
          "output_type": "stream",
          "name": "stdout",
          "text": [
            "+--------------------+------------+--------------+-----+------+----------+-------+----+-------+----------+---------+---------+----------------+--------------------+-------------------+-------------------+\n",
            "|           Farm_name|    Altitude|       Variety|Aroma|Flavor|Aftertaste|Acidity|Body|Balance|Uniformity|Clean_Cup|Sweetness|Total_Cup_Points|altitude_mean_meters|                lat|               long|\n",
            "+--------------------+------------+--------------+-----+------+----------+-------+----+-------+----------+---------+---------+----------------+--------------------+-------------------+-------------------+\n",
            "|   fazenda rio verde|        1260|Yellow Bourbon| 7.58|  7.83|      7.67|   7.25| 8.0|   7.75|      10.0|     10.0|     10.0|            84.0|              1260.0|-21.877600079894428| -45.17833587173798|\n",
            "| fazenda grota funda|       1200m|       Bourbon|  8.0|  7.92|      7.75|   7.75| 8.0|   7.75|      10.0|     10.0|     10.0|           84.92|              1200.0| -4.498676298642221| -46.01438009152326|\n",
            "|         capoeirinha|         905|Yellow Bourbon| 7.58|  7.58|      7.58|    7.5|7.67|   7.58|      10.0|     10.0|     10.0|           83.08|               905.0| -18.64698614414741|-45.796849953979795|\n",
            "|         capoeirinha|         905|Yellow Bourbon|  7.5|   7.5|      7.58|    7.5|7.58|   7.58|      10.0|     10.0|     10.0|           82.75|               905.0| -18.64698614414741|-45.796849953979795|\n",
            "|     café do paraíso|894m - 1183m|    Mundo Novo| 7.58|  7.83|      7.75|   7.67|7.67|    8.0|      10.0|     10.0|     10.0|           84.17|              1038.5|-22.094568087843687|-45.155496432162685|\n",
            "|        olhos d'agua|        900m|       unknown| 7.58|  7.75|      7.67|    7.5|7.67|   7.58|      10.0|     10.0|     10.0|           83.17|               900.0| -18.63831446703355|-46.952789277527444|\n",
            "|           rio verde|        1227|        Catuai|  7.5|  7.83|      7.33|   7.58|7.58|   7.92|      10.0|     10.0|     10.0|           83.33|              1227.0|-21.940510105475326|-45.176192869009476|\n",
            "|   sitío são geraldo|       1100m|    Mundo Novo|  8.0|   8.0|      7.83|   7.83|7.67|   7.67|      10.0|     10.0|     10.0|            85.0|              1100.0| -22.59528143237296| -46.66759241371165|\n",
            "|     fazenda kaquend|       1250m|       Bourbon|  8.5|   8.5|       8.0|    8.0| 8.0|    8.0|      10.0|     10.0|     10.0|           86.92|              1250.0|-21.435236392716707| -46.83244978479159|\n",
            "|fazenda santo ant...|    900-1100|        Catuai| 7.67|  7.67|      7.67|    7.5|7.42|    7.5|      10.0|     10.0|     10.0|            83.0|              1000.0| -21.40862617568116| -46.80560442679252|\n",
            "+--------------------+------------+--------------+-----+------+----------+-------+----+-------+----------+---------+---------+----------------+--------------------+-------------------+-------------------+\n",
            "only showing top 10 rows\n",
            "\n"
          ]
        }
      ]
    },
    {
      "cell_type": "markdown",
      "source": [
        "#### We also replace NaN values in the Variety column by \"Unknonwn\" as the information about the variety is missing."
      ],
      "metadata": {
        "id": "VHm_XPDjJQGf"
      }
    },
    {
      "cell_type": "code",
      "source": [
        "df_arabica = df_arabica.replace(float('nan'), None)\n",
        "\n",
        "df_arabica.show(10)"
      ],
      "metadata": {
        "id": "8lOqDuy2alSe",
        "colab": {
          "base_uri": "https://localhost:8080/"
        },
        "outputId": "39039f79-4602-4a4b-8723-d6993d170205"
      },
      "execution_count": null,
      "outputs": [
        {
          "output_type": "stream",
          "name": "stdout",
          "text": [
            "+--------------------+------------+--------------+-----+------+----------+-------+----+-------+----------+---------+---------+----------------+--------------------+-------------------+-------------------+\n",
            "|           Farm_name|    Altitude|       Variety|Aroma|Flavor|Aftertaste|Acidity|Body|Balance|Uniformity|Clean_Cup|Sweetness|Total_Cup_Points|altitude_mean_meters|                lat|               long|\n",
            "+--------------------+------------+--------------+-----+------+----------+-------+----+-------+----------+---------+---------+----------------+--------------------+-------------------+-------------------+\n",
            "|   fazenda rio verde|        1260|Yellow Bourbon| 7.58|  7.83|      7.67|   7.25| 8.0|   7.75|      10.0|     10.0|     10.0|            84.0|              1260.0|-21.877600079894428| -45.17833587173798|\n",
            "| fazenda grota funda|       1200m|       Bourbon|  8.0|  7.92|      7.75|   7.75| 8.0|   7.75|      10.0|     10.0|     10.0|           84.92|              1200.0| -4.498676298642221| -46.01438009152326|\n",
            "|         capoeirinha|         905|Yellow Bourbon| 7.58|  7.58|      7.58|    7.5|7.67|   7.58|      10.0|     10.0|     10.0|           83.08|               905.0| -18.64698614414741|-45.796849953979795|\n",
            "|         capoeirinha|         905|Yellow Bourbon|  7.5|   7.5|      7.58|    7.5|7.58|   7.58|      10.0|     10.0|     10.0|           82.75|               905.0| -18.64698614414741|-45.796849953979795|\n",
            "|     café do paraíso|894m - 1183m|    Mundo Novo| 7.58|  7.83|      7.75|   7.67|7.67|    8.0|      10.0|     10.0|     10.0|           84.17|              1038.5|-22.094568087843687|-45.155496432162685|\n",
            "|        olhos d'agua|        900m|       unknown| 7.58|  7.75|      7.67|    7.5|7.67|   7.58|      10.0|     10.0|     10.0|           83.17|               900.0| -18.63831446703355|-46.952789277527444|\n",
            "|           rio verde|        1227|        Catuai|  7.5|  7.83|      7.33|   7.58|7.58|   7.92|      10.0|     10.0|     10.0|           83.33|              1227.0|-21.940510105475326|-45.176192869009476|\n",
            "|   sitío são geraldo|       1100m|    Mundo Novo|  8.0|   8.0|      7.83|   7.83|7.67|   7.67|      10.0|     10.0|     10.0|            85.0|              1100.0| -22.59528143237296| -46.66759241371165|\n",
            "|     fazenda kaquend|       1250m|       Bourbon|  8.5|   8.5|       8.0|    8.0| 8.0|    8.0|      10.0|     10.0|     10.0|           86.92|              1250.0|-21.435236392716707| -46.83244978479159|\n",
            "|fazenda santo ant...|    900-1100|        Catuai| 7.67|  7.67|      7.67|    7.5|7.42|    7.5|      10.0|     10.0|     10.0|            83.0|              1000.0| -21.40862617568116| -46.80560442679252|\n",
            "+--------------------+------------+--------------+-----+------+----------+-------+----+-------+----------+---------+---------+----------------+--------------------+-------------------+-------------------+\n",
            "only showing top 10 rows\n",
            "\n"
          ]
        }
      ]
    },
    {
      "cell_type": "markdown",
      "source": [
        "# Data Exploration and plotting"
      ],
      "metadata": {
        "id": "B56DhNgJYtod"
      }
    },
    {
      "cell_type": "markdown",
      "source": [
        "#### Now that we cleaned and structured the data, we will explore them to fully understand them and get more details abour their behavour. "
      ],
      "metadata": {
        "id": "LPxQfwvLNF3Z"
      }
    },
    {
      "cell_type": "markdown",
      "source": [
        "## Location of coffee farms "
      ],
      "metadata": {
        "id": "9NSDdvHxMyNo"
      }
    },
    {
      "cell_type": "markdown",
      "source": [
        "#### On the map below, we can see the projection of the farms that produce coffee in Brazil. We can see at first sight that they are mainly in the south east of the country, on the side of the Atlantic Ocean. This gives us a first idea of the meteorological conditions necessary for this production,since the south-east is a region with a subtropical climate. The summer can be very hot, even stifling, and there are many tropical rains, as sudden as they can be violent, especially in Rio and São Paulo. Winter, from June to September, is rather mild, with temperatures between 12 and 25 degrees."
      ],
      "metadata": {
        "id": "EjPjNbIiKIsD"
      }
    },
    {
      "cell_type": "code",
      "source": [
        "import plotly.express as px\n",
        "fig = px.scatter_mapbox(df_arabica.toPandas(), lat=\"lat\", lon=\"long\", hover_name=\"Farm_name\", hover_data=[\"altitude_mean_meters\",], color_discrete_sequence=[\"fuchsia\"], zoom=3, height=300)\n",
        "fig.update_layout(mapbox_style=\"open-street-map\")\n",
        "fig.update_layout(margin={\"r\":0,\"t\":0,\"l\":0,\"b\":0})\n",
        "fig.show()"
      ],
      "metadata": {
        "id": "_rXD9XPk82c1",
        "colab": {
          "base_uri": "https://localhost:8080/",
          "height": 317
        },
        "outputId": "b38677d7-eb95-4d89-dcbb-8e918afffd8d"
      },
      "execution_count": null,
      "outputs": [
        {
          "output_type": "display_data",
          "data": {
            "text/html": [
              "<html>\n",
              "<head><meta charset=\"utf-8\" /></head>\n",
              "<body>\n",
              "    <div>            <script src=\"https://cdnjs.cloudflare.com/ajax/libs/mathjax/2.7.5/MathJax.js?config=TeX-AMS-MML_SVG\"></script><script type=\"text/javascript\">if (window.MathJax) {MathJax.Hub.Config({SVG: {font: \"STIX-Web\"}});}</script>                <script type=\"text/javascript\">window.PlotlyConfig = {MathJaxConfig: 'local'};</script>\n",
              "        <script src=\"https://cdn.plot.ly/plotly-2.8.3.min.js\"></script>                <div id=\"7b07a13b-6cea-4700-acd4-816b95036a29\" class=\"plotly-graph-div\" style=\"height:300px; width:100%;\"></div>            <script type=\"text/javascript\">                                    window.PLOTLYENV=window.PLOTLYENV || {};                                    if (document.getElementById(\"7b07a13b-6cea-4700-acd4-816b95036a29\")) {                    Plotly.newPlot(                        \"7b07a13b-6cea-4700-acd4-816b95036a29\",                        [{\"customdata\":[[1000.0],[1020.0],[1260.0],[1260.0],[1260.0],[1260.0],[1000.0],[1200.0],[125.0],[1000.0],[1275.0],[1100.0],[695.0],[975.0],[905.0],[905.0],[934.0],[934.0],[872.0],[905.0],[934.0],[890.0],[934.0],[944.0],[1050.0],[1250.0],[1250.0],[1100.0],[900.0],[1100.0],[982.0],[1038.5],[1250.0],[1038.5],[950.0],[1100.0],[1250.0],[1200.0],[1250.0],[1200.0],[900.0],[1000.0],[1000.0],[1250.0],[11000.0],[1100.0],[12.0],[12.0],[1200.0],[1250.0],[950.0],[925.0],[1227.0],[1200.0],[1.0],[1200.0],[1.0],[1.0],[1.0],[1100.0],[1100.0],[1.0],[1100.0],[1.0],[1200.0],[1268.0],[1.0],[1.0],[1.0],[1.0],[1260.0],[1.0],[1100.0],[1260.0],[1100.0],[1100.0],[1200.0],[1050.0],[1250.0],[1250.0],[950.0],[1000.0],[1000.0],[1100.0],[1100.0],[1100.0],[995.0],[1300.0],[1300.0],[890.0],[894.0],[890.0],[890.0],[890.0],[890.0],[890.0],[890.0],[890.0],[934.0],[894.0],[890.0],[890.0],[1150.0],[973.0]],\"hovertemplate\":\"<b>%{hovertext}</b><br><br>lat=%{lat}<br>long=%{lon}<br>altitude_mean_meters=%{customdata[0]}<extra></extra>\",\"hovertext\":[\"fazenda s\\u00e3o sebasti\\u00e3o\",\"santa b\\u00e1rbara\",\"fazenda rio verde\",\"fazenda rio verde\",\"fazenda rio verde\",\"fazenda rio verde\",\"fazenda do lobo\",\"fazenda grota funda\",\"sertao\",\"sitio claro\",\"santa alina\",\"sit\\u00edo santa luzia\",\"fazenda s\\u00e3o jos\\u00e9 mirante\",\"fazenda chamusca\",\"capoeirinha\",\"capoeirinha\",\"capoeirinha\",\"capoeirinha\",\"capoeirinha\",\"capoeirinha\",\"capoeirinha\",\"capoeirinha\",\"capoeirinha\",\"capoeirinha\",\"s\\u00e3o jos\\u00e9 da lagoa\",\"fazenda do sertao\",\"fazenda do sertao\",\"fazenda rio brilhante\",\"santa f\\u00e9 2\",\"sit\\u00edo corrego da olaria_s\\u00e3o caetano\",\"fazenda s\\u00e3o pedro\",\"caf\\u00e9 do para\\u00edso\",\"cachoeira da grama farm\",\"caf\\u00e9 do para\\u00edso\",\"s\\u00e3o francisco da serra\",\"fazenda jeric\\u00f3\",\"sertao farm\",\"sertao farm\",\"sertao farm\",\"sertao farm\",\"olhos d'agua\",\"campo das flores\",\"campo das flores\",\"fazenda serra de tr\\u00eas barras\",\"fazenda pantano\",\"fazenda sacramento\",\"pereira estate coffee\",\"pereira estate coffee\",\"pereira estate coffee\",\"pereira estate coffee\",\"caf\\u00e9 citrus\",\"cianorte\",\"rio verde\",\"rio verde\",\"rio verde\",\"rio verde\",\"rio verde\",\"rio verde\",\"rio verde\",\"rio verde\",\"rio verde\",\"rio verde\",\"rio verde\",\"rio verde\",\"rio verde\",\"rio verde\",\"rio verde\",\"rio verde\",\"rio verde\",\"rio verde\",\"rio verde\",\"rio verde\",\"rio verde\",\"rio verde\",\"rio verde\",\"sit\\u00edo s\\u00e3o geraldo\",\"\\u00e1gua limpa\",\"fazenda baipendi\",\"fazenda kaquend\",\"fazenda kaquend\",\"santa mariana_s\\u00e3o vicente\",\"fazenda santo antonio\",\"fazenda serra negra\",\"fazendas klem ltda\",\"fazendas klem ltda\",\"fazenda vista alegre\",\"s\\u00e3o rafael_ ra_ras certified\",\"fazenda recreio\",\"fazenda recreio\",\"fazenda capoeirnha\",\"fazenda capoeirnha\",\"fazenda capoeirnha\",\"fazenda capoeirnha\",\"fazenda capoeirnha\",\"fazenda capoeirnha\",\"fazenda capoeirnha\",\"fazenda capoeirnha\",\"fazenda capoeirnha\",\"fazenda capoeirnha\",\"fazenda capoeirnha\",\"fazenda capoeirnha\",\"fazenda capoeirnha\",\"pantano\",\"helena\"],\"lat\":[-21.444863288363614,-18.52732198399872,-21.877600079894428,-21.877600079894428,-21.877600079894428,-21.877600079894428,-20.05845833645814,-4.498676298642221,-22.095760723175886,-12.404400112670487,-21.76121880758086,-22.366016295045306,-22.785019797545694,-21.4532483711391,-18.64698614414741,-18.64698614414741,-18.64698614414741,-18.64698614414741,-18.64698614414741,-18.64698614414741,-18.64698614414741,-18.64698614414741,-18.64698614414741,-18.64698614414741,null,-22.09933939187727,-22.09933939187727,null,-17.582654936016926,null,null,-22.094568087843687,-21.76626556295618,-22.094568087843687,-22.629913000779446,-18.676315608302055,-22.099418916815903,-22.099418916815903,-22.099418916815903,-22.099418916815903,-18.63831446703355,-20.312258124962906,-20.312258124962906,-19.560780988980817,-18.631997524421426,null,-22.112480964214626,-22.112480964214626,-22.112480964214626,-22.112480964214626,null,-22.774138613223663,-21.940510105475326,-21.940510105475326,-21.940510105475326,-21.940510105475326,-21.940510105475326,-21.940510105475326,-21.940510105475326,-21.940510105475326,-21.940510105475326,-21.940510105475326,-21.940510105475326,-21.940510105475326,-21.940510105475326,-21.940510105475326,-21.940510105475326,-21.940510105475326,-21.940510105475326,-21.940510105475326,-21.940510105475326,-21.940510105475326,-21.940510105475326,-21.940510105475326,-21.940510105475326,-22.59528143237296,-21.44645605895183,-21.45008093579659,-21.435236392716707,-21.435236392716707,null,-21.40862617568116,-21.0,-20.27591897959779,-20.27591897959779,-21.44237673402853,null,-21.780100162105256,-21.780100162105256,-21.761009557830032,-21.761009557830032,-21.761009557830032,-21.761009557830032,-21.761009557830032,-21.761009557830032,-21.761009557830032,-21.761009557830032,-21.761009557830032,-21.761009557830032,-21.761009557830032,-21.761009557830032,-21.761009557830032,-21.444638601462618,-22.107657064931225],\"legendgroup\":\"\",\"lon\":[-46.827235570452125,-47.569893903127564,-45.17833587173798,-45.17833587173798,-45.17833587173798,-45.17833587173798,-45.551377369807916,-46.01438009152326,-45.189755175672296,-57.0307320652044,-46.674253002625804,-46.47371725096838,-47.03177457322967,-45.22708818550831,-45.796849953979795,-45.796849953979795,-45.796849953979795,-45.796849953979795,-45.796849953979795,-45.796849953979795,-45.796849953979795,-45.796849953979795,-45.796849953979795,-45.796849953979795,null,-45.18968007378277,-45.18968007378277,null,-47.2198752950817,null,null,-45.155496432162685,-46.702161544954144,-45.155496432162685,-44.601043902591805,-45.70281563093488,-45.18965861611114,-45.18965861611114,-45.18965861611114,-45.18965861611114,-46.952789277527444,-43.28548394936318,-43.28548394936318,-46.579303497451384,-46.82473127385452,null,-45.15508902245408,-45.15508902245408,-45.15508902245408,-45.15508902245408,null,-47.02968245276757,-45.176192869009476,-45.176192869009476,-45.176192869009476,-45.176192869009476,-45.176192869009476,-45.176192869009476,-45.176192869009476,-45.176192869009476,-45.176192869009476,-45.176192869009476,-45.176192869009476,-45.176192869009476,-45.176192869009476,-45.176192869009476,-45.176192869009476,-45.176192869009476,-45.176192869009476,-45.176192869009476,-45.176192869009476,-45.176192869009476,-45.176192869009476,-45.176192869009476,-45.176192869009476,-46.66759241371165,-46.82635044153258,-46.8357381855336,-46.83244978479159,-46.83244978479159,null,-46.80560442679252,-46.674253002625804,-41.876604035124465,-41.876604035124465,-46.818513026788274,null,-46.67880344388111,-46.67880344388111,-46.67507912298348,-46.67507912298348,-46.67507912298348,-46.67507912298348,-46.67507912298348,-46.67507912298348,-46.67507912298348,-46.67507912298348,-46.67507912298348,-46.67507912298348,-46.67507912298348,-46.67507912298348,-46.67507912298348,-46.81747769417689,-48.32067672583973],\"marker\":{\"color\":\"fuchsia\"},\"mode\":\"markers\",\"name\":\"\",\"showlegend\":false,\"subplot\":\"mapbox\",\"type\":\"scattermapbox\"}],                        {\"template\":{\"data\":{\"bar\":[{\"error_x\":{\"color\":\"#2a3f5f\"},\"error_y\":{\"color\":\"#2a3f5f\"},\"marker\":{\"line\":{\"color\":\"#E5ECF6\",\"width\":0.5},\"pattern\":{\"fillmode\":\"overlay\",\"size\":10,\"solidity\":0.2}},\"type\":\"bar\"}],\"barpolar\":[{\"marker\":{\"line\":{\"color\":\"#E5ECF6\",\"width\":0.5},\"pattern\":{\"fillmode\":\"overlay\",\"size\":10,\"solidity\":0.2}},\"type\":\"barpolar\"}],\"carpet\":[{\"aaxis\":{\"endlinecolor\":\"#2a3f5f\",\"gridcolor\":\"white\",\"linecolor\":\"white\",\"minorgridcolor\":\"white\",\"startlinecolor\":\"#2a3f5f\"},\"baxis\":{\"endlinecolor\":\"#2a3f5f\",\"gridcolor\":\"white\",\"linecolor\":\"white\",\"minorgridcolor\":\"white\",\"startlinecolor\":\"#2a3f5f\"},\"type\":\"carpet\"}],\"choropleth\":[{\"colorbar\":{\"outlinewidth\":0,\"ticks\":\"\"},\"type\":\"choropleth\"}],\"contour\":[{\"colorbar\":{\"outlinewidth\":0,\"ticks\":\"\"},\"colorscale\":[[0.0,\"#0d0887\"],[0.1111111111111111,\"#46039f\"],[0.2222222222222222,\"#7201a8\"],[0.3333333333333333,\"#9c179e\"],[0.4444444444444444,\"#bd3786\"],[0.5555555555555556,\"#d8576b\"],[0.6666666666666666,\"#ed7953\"],[0.7777777777777778,\"#fb9f3a\"],[0.8888888888888888,\"#fdca26\"],[1.0,\"#f0f921\"]],\"type\":\"contour\"}],\"contourcarpet\":[{\"colorbar\":{\"outlinewidth\":0,\"ticks\":\"\"},\"type\":\"contourcarpet\"}],\"heatmap\":[{\"colorbar\":{\"outlinewidth\":0,\"ticks\":\"\"},\"colorscale\":[[0.0,\"#0d0887\"],[0.1111111111111111,\"#46039f\"],[0.2222222222222222,\"#7201a8\"],[0.3333333333333333,\"#9c179e\"],[0.4444444444444444,\"#bd3786\"],[0.5555555555555556,\"#d8576b\"],[0.6666666666666666,\"#ed7953\"],[0.7777777777777778,\"#fb9f3a\"],[0.8888888888888888,\"#fdca26\"],[1.0,\"#f0f921\"]],\"type\":\"heatmap\"}],\"heatmapgl\":[{\"colorbar\":{\"outlinewidth\":0,\"ticks\":\"\"},\"colorscale\":[[0.0,\"#0d0887\"],[0.1111111111111111,\"#46039f\"],[0.2222222222222222,\"#7201a8\"],[0.3333333333333333,\"#9c179e\"],[0.4444444444444444,\"#bd3786\"],[0.5555555555555556,\"#d8576b\"],[0.6666666666666666,\"#ed7953\"],[0.7777777777777778,\"#fb9f3a\"],[0.8888888888888888,\"#fdca26\"],[1.0,\"#f0f921\"]],\"type\":\"heatmapgl\"}],\"histogram\":[{\"marker\":{\"pattern\":{\"fillmode\":\"overlay\",\"size\":10,\"solidity\":0.2}},\"type\":\"histogram\"}],\"histogram2d\":[{\"colorbar\":{\"outlinewidth\":0,\"ticks\":\"\"},\"colorscale\":[[0.0,\"#0d0887\"],[0.1111111111111111,\"#46039f\"],[0.2222222222222222,\"#7201a8\"],[0.3333333333333333,\"#9c179e\"],[0.4444444444444444,\"#bd3786\"],[0.5555555555555556,\"#d8576b\"],[0.6666666666666666,\"#ed7953\"],[0.7777777777777778,\"#fb9f3a\"],[0.8888888888888888,\"#fdca26\"],[1.0,\"#f0f921\"]],\"type\":\"histogram2d\"}],\"histogram2dcontour\":[{\"colorbar\":{\"outlinewidth\":0,\"ticks\":\"\"},\"colorscale\":[[0.0,\"#0d0887\"],[0.1111111111111111,\"#46039f\"],[0.2222222222222222,\"#7201a8\"],[0.3333333333333333,\"#9c179e\"],[0.4444444444444444,\"#bd3786\"],[0.5555555555555556,\"#d8576b\"],[0.6666666666666666,\"#ed7953\"],[0.7777777777777778,\"#fb9f3a\"],[0.8888888888888888,\"#fdca26\"],[1.0,\"#f0f921\"]],\"type\":\"histogram2dcontour\"}],\"mesh3d\":[{\"colorbar\":{\"outlinewidth\":0,\"ticks\":\"\"},\"type\":\"mesh3d\"}],\"parcoords\":[{\"line\":{\"colorbar\":{\"outlinewidth\":0,\"ticks\":\"\"}},\"type\":\"parcoords\"}],\"pie\":[{\"automargin\":true,\"type\":\"pie\"}],\"scatter\":[{\"marker\":{\"colorbar\":{\"outlinewidth\":0,\"ticks\":\"\"}},\"type\":\"scatter\"}],\"scatter3d\":[{\"line\":{\"colorbar\":{\"outlinewidth\":0,\"ticks\":\"\"}},\"marker\":{\"colorbar\":{\"outlinewidth\":0,\"ticks\":\"\"}},\"type\":\"scatter3d\"}],\"scattercarpet\":[{\"marker\":{\"colorbar\":{\"outlinewidth\":0,\"ticks\":\"\"}},\"type\":\"scattercarpet\"}],\"scattergeo\":[{\"marker\":{\"colorbar\":{\"outlinewidth\":0,\"ticks\":\"\"}},\"type\":\"scattergeo\"}],\"scattergl\":[{\"marker\":{\"colorbar\":{\"outlinewidth\":0,\"ticks\":\"\"}},\"type\":\"scattergl\"}],\"scattermapbox\":[{\"marker\":{\"colorbar\":{\"outlinewidth\":0,\"ticks\":\"\"}},\"type\":\"scattermapbox\"}],\"scatterpolar\":[{\"marker\":{\"colorbar\":{\"outlinewidth\":0,\"ticks\":\"\"}},\"type\":\"scatterpolar\"}],\"scatterpolargl\":[{\"marker\":{\"colorbar\":{\"outlinewidth\":0,\"ticks\":\"\"}},\"type\":\"scatterpolargl\"}],\"scatterternary\":[{\"marker\":{\"colorbar\":{\"outlinewidth\":0,\"ticks\":\"\"}},\"type\":\"scatterternary\"}],\"surface\":[{\"colorbar\":{\"outlinewidth\":0,\"ticks\":\"\"},\"colorscale\":[[0.0,\"#0d0887\"],[0.1111111111111111,\"#46039f\"],[0.2222222222222222,\"#7201a8\"],[0.3333333333333333,\"#9c179e\"],[0.4444444444444444,\"#bd3786\"],[0.5555555555555556,\"#d8576b\"],[0.6666666666666666,\"#ed7953\"],[0.7777777777777778,\"#fb9f3a\"],[0.8888888888888888,\"#fdca26\"],[1.0,\"#f0f921\"]],\"type\":\"surface\"}],\"table\":[{\"cells\":{\"fill\":{\"color\":\"#EBF0F8\"},\"line\":{\"color\":\"white\"}},\"header\":{\"fill\":{\"color\":\"#C8D4E3\"},\"line\":{\"color\":\"white\"}},\"type\":\"table\"}]},\"layout\":{\"annotationdefaults\":{\"arrowcolor\":\"#2a3f5f\",\"arrowhead\":0,\"arrowwidth\":1},\"autotypenumbers\":\"strict\",\"coloraxis\":{\"colorbar\":{\"outlinewidth\":0,\"ticks\":\"\"}},\"colorscale\":{\"diverging\":[[0,\"#8e0152\"],[0.1,\"#c51b7d\"],[0.2,\"#de77ae\"],[0.3,\"#f1b6da\"],[0.4,\"#fde0ef\"],[0.5,\"#f7f7f7\"],[0.6,\"#e6f5d0\"],[0.7,\"#b8e186\"],[0.8,\"#7fbc41\"],[0.9,\"#4d9221\"],[1,\"#276419\"]],\"sequential\":[[0.0,\"#0d0887\"],[0.1111111111111111,\"#46039f\"],[0.2222222222222222,\"#7201a8\"],[0.3333333333333333,\"#9c179e\"],[0.4444444444444444,\"#bd3786\"],[0.5555555555555556,\"#d8576b\"],[0.6666666666666666,\"#ed7953\"],[0.7777777777777778,\"#fb9f3a\"],[0.8888888888888888,\"#fdca26\"],[1.0,\"#f0f921\"]],\"sequentialminus\":[[0.0,\"#0d0887\"],[0.1111111111111111,\"#46039f\"],[0.2222222222222222,\"#7201a8\"],[0.3333333333333333,\"#9c179e\"],[0.4444444444444444,\"#bd3786\"],[0.5555555555555556,\"#d8576b\"],[0.6666666666666666,\"#ed7953\"],[0.7777777777777778,\"#fb9f3a\"],[0.8888888888888888,\"#fdca26\"],[1.0,\"#f0f921\"]]},\"colorway\":[\"#636efa\",\"#EF553B\",\"#00cc96\",\"#ab63fa\",\"#FFA15A\",\"#19d3f3\",\"#FF6692\",\"#B6E880\",\"#FF97FF\",\"#FECB52\"],\"font\":{\"color\":\"#2a3f5f\"},\"geo\":{\"bgcolor\":\"white\",\"lakecolor\":\"white\",\"landcolor\":\"#E5ECF6\",\"showlakes\":true,\"showland\":true,\"subunitcolor\":\"white\"},\"hoverlabel\":{\"align\":\"left\"},\"hovermode\":\"closest\",\"mapbox\":{\"style\":\"light\"},\"paper_bgcolor\":\"white\",\"plot_bgcolor\":\"#E5ECF6\",\"polar\":{\"angularaxis\":{\"gridcolor\":\"white\",\"linecolor\":\"white\",\"ticks\":\"\"},\"bgcolor\":\"#E5ECF6\",\"radialaxis\":{\"gridcolor\":\"white\",\"linecolor\":\"white\",\"ticks\":\"\"}},\"scene\":{\"xaxis\":{\"backgroundcolor\":\"#E5ECF6\",\"gridcolor\":\"white\",\"gridwidth\":2,\"linecolor\":\"white\",\"showbackground\":true,\"ticks\":\"\",\"zerolinecolor\":\"white\"},\"yaxis\":{\"backgroundcolor\":\"#E5ECF6\",\"gridcolor\":\"white\",\"gridwidth\":2,\"linecolor\":\"white\",\"showbackground\":true,\"ticks\":\"\",\"zerolinecolor\":\"white\"},\"zaxis\":{\"backgroundcolor\":\"#E5ECF6\",\"gridcolor\":\"white\",\"gridwidth\":2,\"linecolor\":\"white\",\"showbackground\":true,\"ticks\":\"\",\"zerolinecolor\":\"white\"}},\"shapedefaults\":{\"line\":{\"color\":\"#2a3f5f\"}},\"ternary\":{\"aaxis\":{\"gridcolor\":\"white\",\"linecolor\":\"white\",\"ticks\":\"\"},\"baxis\":{\"gridcolor\":\"white\",\"linecolor\":\"white\",\"ticks\":\"\"},\"bgcolor\":\"#E5ECF6\",\"caxis\":{\"gridcolor\":\"white\",\"linecolor\":\"white\",\"ticks\":\"\"}},\"title\":{\"x\":0.05},\"xaxis\":{\"automargin\":true,\"gridcolor\":\"white\",\"linecolor\":\"white\",\"ticks\":\"\",\"title\":{\"standoff\":15},\"zerolinecolor\":\"white\",\"zerolinewidth\":2},\"yaxis\":{\"automargin\":true,\"gridcolor\":\"white\",\"linecolor\":\"white\",\"ticks\":\"\",\"title\":{\"standoff\":15},\"zerolinecolor\":\"white\",\"zerolinewidth\":2}}},\"mapbox\":{\"domain\":{\"x\":[0.0,1.0],\"y\":[0.0,1.0]},\"center\":{\"lat\":-20.988521270423572,\"lon\":-45.88432447484906},\"zoom\":3,\"style\":\"open-street-map\"},\"legend\":{\"tracegroupgap\":0},\"margin\":{\"t\":0,\"r\":0,\"l\":0,\"b\":0},\"height\":300},                        {\"responsive\": true}                    ).then(function(){\n",
              "                            \n",
              "var gd = document.getElementById('7b07a13b-6cea-4700-acd4-816b95036a29');\n",
              "var x = new MutationObserver(function (mutations, observer) {{\n",
              "        var display = window.getComputedStyle(gd).display;\n",
              "        if (!display || display === 'none') {{\n",
              "            console.log([gd, 'removed!']);\n",
              "            Plotly.purge(gd);\n",
              "            observer.disconnect();\n",
              "        }}\n",
              "}});\n",
              "\n",
              "// Listen for the removal of the full notebook cells\n",
              "var notebookContainer = gd.closest('#notebook-container');\n",
              "if (notebookContainer) {{\n",
              "    x.observe(notebookContainer, {childList: true});\n",
              "}}\n",
              "\n",
              "// Listen for the clearing of the current output cell\n",
              "var outputEl = gd.closest('.output');\n",
              "if (outputEl) {{\n",
              "    x.observe(outputEl, {childList: true});\n",
              "}}\n",
              "\n",
              "                        })                };                            </script>        </div>\n",
              "</body>\n",
              "</html>"
            ]
          },
          "metadata": {}
        }
      ]
    },
    {
      "cell_type": "markdown",
      "source": [
        "## The correlation between the different taste of coffee variables "
      ],
      "metadata": {
        "id": "T5e3HvTNMIpS"
      }
    },
    {
      "cell_type": "code",
      "source": [
        "df_arabica.groupBy('Variety')\\\n",
        "          .count().alias(\"count\")\\\n",
        "          .show()"
      ],
      "metadata": {
        "id": "GAwfXpiPOuNT",
        "colab": {
          "base_uri": "https://localhost:8080/"
        },
        "outputId": "26926f72-2f0e-4255-e954-f87769e31b4d"
      },
      "execution_count": null,
      "outputs": [
        {
          "output_type": "stream",
          "name": "stdout",
          "text": [
            "+--------------+-----+\n",
            "|       Variety|count|\n",
            "+--------------+-----+\n",
            "|Yellow Bourbon|   30|\n",
            "|    Mundo Novo|   16|\n",
            "|       unknown|    2|\n",
            "|        Catuai|   16|\n",
            "|       Bourbon|   39|\n",
            "| Moka Peaberry|    1|\n",
            "+--------------+-----+\n",
            "\n"
          ]
        }
      ]
    },
    {
      "cell_type": "markdown",
      "source": [
        "Using the Seaborn library, we plot the individuals on a dual axis to see if there are overall correlations between the taste variables (aroma, flavor, aftertaste, acidity, sweetness). We can also observe if individuals of the same variety share the same correlation on this axis. Finally we can observe how the varieties are distributed on the correlation axis."
      ],
      "metadata": {
        "id": "_kAws9vtG9tY"
      }
    },
    {
      "cell_type": "code",
      "source": [
        "g = sns.PairGrid(df_arabica.toPandas(), vars=['Aroma','Flavor','Aftertaste','Acidity','Sweetness'],\n",
        "                 hue='Variety', palette='RdBu_r')\n",
        "g.map(plt.scatter, alpha=0.4)\n",
        "g.add_legend()"
      ],
      "metadata": {
        "id": "VVIjr9GzUJgz",
        "colab": {
          "base_uri": "https://localhost:8080/",
          "height": 916
        },
        "outputId": "91888848-cf4b-4e0b-8c0f-b82cb734bf0f"
      },
      "execution_count": null,
      "outputs": [
        {
          "output_type": "execute_result",
          "data": {
            "text/plain": [
              "<seaborn.axisgrid.PairGrid at 0x7fbb9f666a10>"
            ]
          },
          "metadata": {},
          "execution_count": 20
        },
        {
          "output_type": "display_data",
          "data": {
            "text/plain": [
              "<Figure size 1011.75x900 with 25 Axes>"
            ],
            "image/png": "[encoded data removed]"
          },
          "metadata": {
            "needs_background": "light"
          }
        }
      ]
    },
    {
      "cell_type": "markdown",
      "source": [
        "Alternative visualisation"
      ],
      "metadata": {
        "id": "PJ-WA6oTNXZ1"
      }
    },
    {
      "cell_type": "code",
      "source": [
        "#!pip install seaborn --upgrade \n",
        "#if there are errors : upgrade seaborn then restart kernel"
      ],
      "metadata": {
        "id": "F1opM4DDV2H0"
      },
      "execution_count": null,
      "outputs": []
    },
    {
      "cell_type": "code",
      "source": [
        "g = sns.PairGrid(df_arabica.toPandas(), vars=['Aroma','Flavor','Aftertaste','Acidity','Sweetness'], hue='Variety', palette = \"deep\")\n",
        "g.map_upper(sns.scatterplot)\n",
        "g.map_lower(sns.kdeplot, warn_singular=False)\n",
        "g.map_diag(sns.kdeplot, warn_singular=False, lw = 3)\n",
        "g.add_legend()"
      ],
      "metadata": {
        "id": "OnmuuuC_-38x",
        "colab": {
          "base_uri": "https://localhost:8080/",
          "height": 1000
        },
        "outputId": "2fe2b714-b74b-4af6-b20a-f3b4bb3dbd3e"
      },
      "execution_count": null,
      "outputs": [
        {
          "output_type": "error",
          "ename": "LinAlgError",
          "evalue": "ignored",
          "traceback": [
            "\u001b[0;31m---------------------------------------------------------------------------\u001b[0m",
            "\u001b[0;31mLinAlgError\u001b[0m                               Traceback (most recent call last)",
            "\u001b[0;32m<ipython-input-22-547f23fbe709>\u001b[0m in \u001b[0;36m<module>\u001b[0;34m\u001b[0m\n\u001b[1;32m      1\u001b[0m \u001b[0mg\u001b[0m \u001b[0;34m=\u001b[0m \u001b[0msns\u001b[0m\u001b[0;34m.\u001b[0m\u001b[0mPairGrid\u001b[0m\u001b[0;34m(\u001b[0m\u001b[0mdf_arabica\u001b[0m\u001b[0;34m.\u001b[0m\u001b[0mtoPandas\u001b[0m\u001b[0;34m(\u001b[0m\u001b[0;34m)\u001b[0m\u001b[0;34m,\u001b[0m \u001b[0mvars\u001b[0m\u001b[0;34m=\u001b[0m\u001b[0;34m[\u001b[0m\u001b[0;34m'Aroma'\u001b[0m\u001b[0;34m,\u001b[0m\u001b[0;34m'Flavor'\u001b[0m\u001b[0;34m,\u001b[0m\u001b[0;34m'Aftertaste'\u001b[0m\u001b[0;34m,\u001b[0m\u001b[0;34m'Acidity'\u001b[0m\u001b[0;34m,\u001b[0m\u001b[0;34m'Sweetness'\u001b[0m\u001b[0;34m]\u001b[0m\u001b[0;34m,\u001b[0m \u001b[0mhue\u001b[0m\u001b[0;34m=\u001b[0m\u001b[0;34m'Variety'\u001b[0m\u001b[0;34m,\u001b[0m \u001b[0mpalette\u001b[0m \u001b[0;34m=\u001b[0m \u001b[0;34m\"deep\"\u001b[0m\u001b[0;34m)\u001b[0m\u001b[0;34m\u001b[0m\u001b[0;34m\u001b[0m\u001b[0m\n\u001b[1;32m      2\u001b[0m \u001b[0mg\u001b[0m\u001b[0;34m.\u001b[0m\u001b[0mmap_upper\u001b[0m\u001b[0;34m(\u001b[0m\u001b[0msns\u001b[0m\u001b[0;34m.\u001b[0m\u001b[0mscatterplot\u001b[0m\u001b[0;34m)\u001b[0m\u001b[0;34m\u001b[0m\u001b[0;34m\u001b[0m\u001b[0m\n\u001b[0;32m----> 3\u001b[0;31m \u001b[0mg\u001b[0m\u001b[0;34m.\u001b[0m\u001b[0mmap_lower\u001b[0m\u001b[0;34m(\u001b[0m\u001b[0msns\u001b[0m\u001b[0;34m.\u001b[0m\u001b[0mkdeplot\u001b[0m\u001b[0;34m,\u001b[0m \u001b[0mwarn_singular\u001b[0m\u001b[0;34m=\u001b[0m\u001b[0;32mFalse\u001b[0m\u001b[0;34m)\u001b[0m\u001b[0;34m\u001b[0m\u001b[0;34m\u001b[0m\u001b[0m\n\u001b[0m\u001b[1;32m      4\u001b[0m \u001b[0mg\u001b[0m\u001b[0;34m.\u001b[0m\u001b[0mmap_diag\u001b[0m\u001b[0;34m(\u001b[0m\u001b[0msns\u001b[0m\u001b[0;34m.\u001b[0m\u001b[0mkdeplot\u001b[0m\u001b[0;34m,\u001b[0m \u001b[0mwarn_singular\u001b[0m\u001b[0;34m=\u001b[0m\u001b[0;32mFalse\u001b[0m\u001b[0;34m,\u001b[0m \u001b[0mlw\u001b[0m \u001b[0;34m=\u001b[0m \u001b[0;36m3\u001b[0m\u001b[0;34m)\u001b[0m\u001b[0;34m\u001b[0m\u001b[0;34m\u001b[0m\u001b[0m\n\u001b[1;32m      5\u001b[0m \u001b[0mg\u001b[0m\u001b[0;34m.\u001b[0m\u001b[0madd_legend\u001b[0m\u001b[0;34m(\u001b[0m\u001b[0;34m)\u001b[0m\u001b[0;34m\u001b[0m\u001b[0;34m\u001b[0m\u001b[0m\n",
            "\u001b[0;32m/usr/local/lib/python3.7/dist-packages/seaborn/axisgrid.py\u001b[0m in \u001b[0;36mmap_lower\u001b[0;34m(self, func, **kwargs)\u001b[0m\n\u001b[1;32m   1355\u001b[0m         \"\"\"\n\u001b[1;32m   1356\u001b[0m         \u001b[0mindices\u001b[0m \u001b[0;34m=\u001b[0m \u001b[0mzip\u001b[0m\u001b[0;34m(\u001b[0m\u001b[0;34m*\u001b[0m\u001b[0mnp\u001b[0m\u001b[0;34m.\u001b[0m\u001b[0mtril_indices_from\u001b[0m\u001b[0;34m(\u001b[0m\u001b[0mself\u001b[0m\u001b[0;34m.\u001b[0m\u001b[0maxes\u001b[0m\u001b[0;34m,\u001b[0m \u001b[0;34m-\u001b[0m\u001b[0;36m1\u001b[0m\u001b[0;34m)\u001b[0m\u001b[0;34m)\u001b[0m\u001b[0;34m\u001b[0m\u001b[0;34m\u001b[0m\u001b[0m\n\u001b[0;32m-> 1357\u001b[0;31m         \u001b[0mself\u001b[0m\u001b[0;34m.\u001b[0m\u001b[0m_map_bivariate\u001b[0m\u001b[0;34m(\u001b[0m\u001b[0mfunc\u001b[0m\u001b[0;34m,\u001b[0m \u001b[0mindices\u001b[0m\u001b[0;34m,\u001b[0m \u001b[0;34m**\u001b[0m\u001b[0mkwargs\u001b[0m\u001b[0;34m)\u001b[0m\u001b[0;34m\u001b[0m\u001b[0;34m\u001b[0m\u001b[0m\n\u001b[0m\u001b[1;32m   1358\u001b[0m         \u001b[0;32mreturn\u001b[0m \u001b[0mself\u001b[0m\u001b[0;34m\u001b[0m\u001b[0;34m\u001b[0m\u001b[0m\n\u001b[1;32m   1359\u001b[0m \u001b[0;34m\u001b[0m\u001b[0m\n",
            "\u001b[0;32m/usr/local/lib/python3.7/dist-packages/seaborn/axisgrid.py\u001b[0m in \u001b[0;36m_map_bivariate\u001b[0;34m(self, func, indices, **kwargs)\u001b[0m\n\u001b[1;32m   1537\u001b[0m             \u001b[0;32mif\u001b[0m \u001b[0max\u001b[0m \u001b[0;32mis\u001b[0m \u001b[0;32mNone\u001b[0m\u001b[0;34m:\u001b[0m  \u001b[0;31m# i.e. we are in corner mode\u001b[0m\u001b[0;34m\u001b[0m\u001b[0;34m\u001b[0m\u001b[0m\n\u001b[1;32m   1538\u001b[0m                 \u001b[0;32mcontinue\u001b[0m\u001b[0;34m\u001b[0m\u001b[0;34m\u001b[0m\u001b[0m\n\u001b[0;32m-> 1539\u001b[0;31m             \u001b[0mself\u001b[0m\u001b[0;34m.\u001b[0m\u001b[0m_plot_bivariate\u001b[0m\u001b[0;34m(\u001b[0m\u001b[0mx_var\u001b[0m\u001b[0;34m,\u001b[0m \u001b[0my_var\u001b[0m\u001b[0;34m,\u001b[0m \u001b[0max\u001b[0m\u001b[0;34m,\u001b[0m \u001b[0mfunc\u001b[0m\u001b[0;34m,\u001b[0m \u001b[0;34m**\u001b[0m\u001b[0mkws\u001b[0m\u001b[0;34m)\u001b[0m\u001b[0;34m\u001b[0m\u001b[0;34m\u001b[0m\u001b[0m\n\u001b[0m\u001b[1;32m   1540\u001b[0m         \u001b[0mself\u001b[0m\u001b[0;34m.\u001b[0m\u001b[0m_add_axis_labels\u001b[0m\u001b[0;34m(\u001b[0m\u001b[0;34m)\u001b[0m\u001b[0;34m\u001b[0m\u001b[0;34m\u001b[0m\u001b[0m\n\u001b[1;32m   1541\u001b[0m \u001b[0;34m\u001b[0m\u001b[0m\n",
            "\u001b[0;32m/usr/local/lib/python3.7/dist-packages/seaborn/axisgrid.py\u001b[0m in \u001b[0;36m_plot_bivariate\u001b[0;34m(self, x_var, y_var, ax, func, **kwargs)\u001b[0m\n\u001b[1;32m   1577\u001b[0m         \u001b[0mkwargs\u001b[0m\u001b[0;34m.\u001b[0m\u001b[0msetdefault\u001b[0m\u001b[0;34m(\u001b[0m\u001b[0;34m\"hue_order\"\u001b[0m\u001b[0;34m,\u001b[0m \u001b[0mself\u001b[0m\u001b[0;34m.\u001b[0m\u001b[0m_hue_order\u001b[0m\u001b[0;34m)\u001b[0m\u001b[0;34m\u001b[0m\u001b[0;34m\u001b[0m\u001b[0m\n\u001b[1;32m   1578\u001b[0m         \u001b[0mkwargs\u001b[0m\u001b[0;34m.\u001b[0m\u001b[0msetdefault\u001b[0m\u001b[0;34m(\u001b[0m\u001b[0;34m\"palette\"\u001b[0m\u001b[0;34m,\u001b[0m \u001b[0mself\u001b[0m\u001b[0;34m.\u001b[0m\u001b[0m_orig_palette\u001b[0m\u001b[0;34m)\u001b[0m\u001b[0;34m\u001b[0m\u001b[0;34m\u001b[0m\u001b[0m\n\u001b[0;32m-> 1579\u001b[0;31m         \u001b[0mfunc\u001b[0m\u001b[0;34m(\u001b[0m\u001b[0mx\u001b[0m\u001b[0;34m=\u001b[0m\u001b[0mx\u001b[0m\u001b[0;34m,\u001b[0m \u001b[0my\u001b[0m\u001b[0;34m=\u001b[0m\u001b[0my\u001b[0m\u001b[0;34m,\u001b[0m \u001b[0;34m**\u001b[0m\u001b[0mkwargs\u001b[0m\u001b[0;34m)\u001b[0m\u001b[0;34m\u001b[0m\u001b[0;34m\u001b[0m\u001b[0m\n\u001b[0m\u001b[1;32m   1580\u001b[0m \u001b[0;34m\u001b[0m\u001b[0m\n\u001b[1;32m   1581\u001b[0m         \u001b[0mself\u001b[0m\u001b[0;34m.\u001b[0m\u001b[0m_update_legend_data\u001b[0m\u001b[0;34m(\u001b[0m\u001b[0max\u001b[0m\u001b[0;34m)\u001b[0m\u001b[0;34m\u001b[0m\u001b[0;34m\u001b[0m\u001b[0m\n",
            "\u001b[0;32m/usr/local/lib/python3.7/dist-packages/seaborn/_decorators.py\u001b[0m in \u001b[0;36minner_f\u001b[0;34m(*args, **kwargs)\u001b[0m\n\u001b[1;32m     44\u001b[0m             )\n\u001b[1;32m     45\u001b[0m         \u001b[0mkwargs\u001b[0m\u001b[0;34m.\u001b[0m\u001b[0mupdate\u001b[0m\u001b[0;34m(\u001b[0m\u001b[0;34m{\u001b[0m\u001b[0mk\u001b[0m\u001b[0;34m:\u001b[0m \u001b[0marg\u001b[0m \u001b[0;32mfor\u001b[0m \u001b[0mk\u001b[0m\u001b[0;34m,\u001b[0m \u001b[0marg\u001b[0m \u001b[0;32min\u001b[0m \u001b[0mzip\u001b[0m\u001b[0;34m(\u001b[0m\u001b[0msig\u001b[0m\u001b[0;34m.\u001b[0m\u001b[0mparameters\u001b[0m\u001b[0;34m,\u001b[0m \u001b[0margs\u001b[0m\u001b[0;34m)\u001b[0m\u001b[0;34m}\u001b[0m\u001b[0;34m)\u001b[0m\u001b[0;34m\u001b[0m\u001b[0;34m\u001b[0m\u001b[0m\n\u001b[0;32m---> 46\u001b[0;31m         \u001b[0;32mreturn\u001b[0m \u001b[0mf\u001b[0m\u001b[0;34m(\u001b[0m\u001b[0;34m**\u001b[0m\u001b[0mkwargs\u001b[0m\u001b[0;34m)\u001b[0m\u001b[0;34m\u001b[0m\u001b[0;34m\u001b[0m\u001b[0m\n\u001b[0m\u001b[1;32m     47\u001b[0m     \u001b[0;32mreturn\u001b[0m \u001b[0minner_f\u001b[0m\u001b[0;34m\u001b[0m\u001b[0;34m\u001b[0m\u001b[0m\n\u001b[1;32m     48\u001b[0m \u001b[0;34m\u001b[0m\u001b[0m\n",
            "\u001b[0;32m/usr/local/lib/python3.7/dist-packages/seaborn/distributions.py\u001b[0m in \u001b[0;36mkdeplot\u001b[0;34m(x, y, shade, vertical, kernel, bw, gridsize, cut, clip, legend, cumulative, shade_lowest, cbar, cbar_ax, cbar_kws, ax, weights, hue, palette, hue_order, hue_norm, multiple, common_norm, common_grid, levels, thresh, bw_method, bw_adjust, log_scale, color, fill, data, data2, warn_singular, **kwargs)\u001b[0m\n\u001b[1;32m   1793\u001b[0m             \u001b[0mcbar_kws\u001b[0m\u001b[0;34m=\u001b[0m\u001b[0mcbar_kws\u001b[0m\u001b[0;34m,\u001b[0m\u001b[0;34m\u001b[0m\u001b[0;34m\u001b[0m\u001b[0m\n\u001b[1;32m   1794\u001b[0m             \u001b[0mestimate_kws\u001b[0m\u001b[0;34m=\u001b[0m\u001b[0mestimate_kws\u001b[0m\u001b[0;34m,\u001b[0m\u001b[0;34m\u001b[0m\u001b[0;34m\u001b[0m\u001b[0m\n\u001b[0;32m-> 1795\u001b[0;31m             \u001b[0;34m**\u001b[0m\u001b[0mkwargs\u001b[0m\u001b[0;34m,\u001b[0m\u001b[0;34m\u001b[0m\u001b[0;34m\u001b[0m\u001b[0m\n\u001b[0m\u001b[1;32m   1796\u001b[0m         )\n\u001b[1;32m   1797\u001b[0m \u001b[0;34m\u001b[0m\u001b[0m\n",
            "\u001b[0;32m/usr/local/lib/python3.7/dist-packages/seaborn/distributions.py\u001b[0m in \u001b[0;36mplot_bivariate_density\u001b[0;34m(self, common_norm, fill, levels, thresh, color, legend, cbar, warn_singular, cbar_ax, cbar_kws, estimate_kws, **contour_kws)\u001b[0m\n\u001b[1;32m   1109\u001b[0m             \u001b[0;31m# Estimate the density of observations at this level\u001b[0m\u001b[0;34m\u001b[0m\u001b[0;34m\u001b[0m\u001b[0;34m\u001b[0m\u001b[0m\n\u001b[1;32m   1110\u001b[0m             \u001b[0mobservations\u001b[0m \u001b[0;34m=\u001b[0m \u001b[0mobservations\u001b[0m\u001b[0;34m[\u001b[0m\u001b[0;34m\"x\"\u001b[0m\u001b[0;34m]\u001b[0m\u001b[0;34m,\u001b[0m \u001b[0mobservations\u001b[0m\u001b[0;34m[\u001b[0m\u001b[0;34m\"y\"\u001b[0m\u001b[0;34m]\u001b[0m\u001b[0;34m\u001b[0m\u001b[0;34m\u001b[0m\u001b[0m\n\u001b[0;32m-> 1111\u001b[0;31m             \u001b[0mdensity\u001b[0m\u001b[0;34m,\u001b[0m \u001b[0msupport\u001b[0m \u001b[0;34m=\u001b[0m \u001b[0mestimator\u001b[0m\u001b[0;34m(\u001b[0m\u001b[0;34m*\u001b[0m\u001b[0mobservations\u001b[0m\u001b[0;34m,\u001b[0m \u001b[0mweights\u001b[0m\u001b[0;34m=\u001b[0m\u001b[0mweights\u001b[0m\u001b[0;34m)\u001b[0m\u001b[0;34m\u001b[0m\u001b[0;34m\u001b[0m\u001b[0m\n\u001b[0m\u001b[1;32m   1112\u001b[0m \u001b[0;34m\u001b[0m\u001b[0m\n\u001b[1;32m   1113\u001b[0m             \u001b[0;31m# Transform the support grid back to the original scale\u001b[0m\u001b[0;34m\u001b[0m\u001b[0;34m\u001b[0m\u001b[0;34m\u001b[0m\u001b[0m\n",
            "\u001b[0;32m/usr/local/lib/python3.7/dist-packages/seaborn/_statistics.py\u001b[0m in \u001b[0;36m__call__\u001b[0;34m(self, x1, x2, weights)\u001b[0m\n\u001b[1;32m    187\u001b[0m             \u001b[0;32mreturn\u001b[0m \u001b[0mself\u001b[0m\u001b[0;34m.\u001b[0m\u001b[0m_eval_univariate\u001b[0m\u001b[0;34m(\u001b[0m\u001b[0mx1\u001b[0m\u001b[0;34m,\u001b[0m \u001b[0mweights\u001b[0m\u001b[0;34m)\u001b[0m\u001b[0;34m\u001b[0m\u001b[0;34m\u001b[0m\u001b[0m\n\u001b[1;32m    188\u001b[0m         \u001b[0;32melse\u001b[0m\u001b[0;34m:\u001b[0m\u001b[0;34m\u001b[0m\u001b[0;34m\u001b[0m\u001b[0m\n\u001b[0;32m--> 189\u001b[0;31m             \u001b[0;32mreturn\u001b[0m \u001b[0mself\u001b[0m\u001b[0;34m.\u001b[0m\u001b[0m_eval_bivariate\u001b[0m\u001b[0;34m(\u001b[0m\u001b[0mx1\u001b[0m\u001b[0;34m,\u001b[0m \u001b[0mx2\u001b[0m\u001b[0;34m,\u001b[0m \u001b[0mweights\u001b[0m\u001b[0;34m)\u001b[0m\u001b[0;34m\u001b[0m\u001b[0;34m\u001b[0m\u001b[0m\n\u001b[0m\u001b[1;32m    190\u001b[0m \u001b[0;34m\u001b[0m\u001b[0m\n\u001b[1;32m    191\u001b[0m \u001b[0;34m\u001b[0m\u001b[0m\n",
            "\u001b[0;32m/usr/local/lib/python3.7/dist-packages/seaborn/_statistics.py\u001b[0m in \u001b[0;36m_eval_bivariate\u001b[0;34m(self, x1, x2, weights)\u001b[0m\n\u001b[1;32m    162\u001b[0m         \u001b[0msupport\u001b[0m \u001b[0;34m=\u001b[0m \u001b[0mself\u001b[0m\u001b[0;34m.\u001b[0m\u001b[0msupport\u001b[0m\u001b[0;34m\u001b[0m\u001b[0;34m\u001b[0m\u001b[0m\n\u001b[1;32m    163\u001b[0m         \u001b[0;32mif\u001b[0m \u001b[0msupport\u001b[0m \u001b[0;32mis\u001b[0m \u001b[0;32mNone\u001b[0m\u001b[0;34m:\u001b[0m\u001b[0;34m\u001b[0m\u001b[0;34m\u001b[0m\u001b[0m\n\u001b[0;32m--> 164\u001b[0;31m             \u001b[0msupport\u001b[0m \u001b[0;34m=\u001b[0m \u001b[0mself\u001b[0m\u001b[0;34m.\u001b[0m\u001b[0mdefine_support\u001b[0m\u001b[0;34m(\u001b[0m\u001b[0mx1\u001b[0m\u001b[0;34m,\u001b[0m \u001b[0mx2\u001b[0m\u001b[0;34m,\u001b[0m \u001b[0mcache\u001b[0m\u001b[0;34m=\u001b[0m\u001b[0;32mFalse\u001b[0m\u001b[0;34m)\u001b[0m\u001b[0;34m\u001b[0m\u001b[0;34m\u001b[0m\u001b[0m\n\u001b[0m\u001b[1;32m    165\u001b[0m \u001b[0;34m\u001b[0m\u001b[0m\n\u001b[1;32m    166\u001b[0m         \u001b[0mkde\u001b[0m \u001b[0;34m=\u001b[0m \u001b[0mself\u001b[0m\u001b[0;34m.\u001b[0m\u001b[0m_fit\u001b[0m\u001b[0;34m(\u001b[0m\u001b[0;34m[\u001b[0m\u001b[0mx1\u001b[0m\u001b[0;34m,\u001b[0m \u001b[0mx2\u001b[0m\u001b[0;34m]\u001b[0m\u001b[0;34m,\u001b[0m \u001b[0mweights\u001b[0m\u001b[0;34m)\u001b[0m\u001b[0;34m\u001b[0m\u001b[0;34m\u001b[0m\u001b[0m\n",
            "\u001b[0;32m/usr/local/lib/python3.7/dist-packages/seaborn/_statistics.py\u001b[0m in \u001b[0;36mdefine_support\u001b[0;34m(self, x1, x2, weights, cache)\u001b[0m\n\u001b[1;32m    119\u001b[0m             \u001b[0msupport\u001b[0m \u001b[0;34m=\u001b[0m \u001b[0mself\u001b[0m\u001b[0;34m.\u001b[0m\u001b[0m_define_support_univariate\u001b[0m\u001b[0;34m(\u001b[0m\u001b[0mx1\u001b[0m\u001b[0;34m,\u001b[0m \u001b[0mweights\u001b[0m\u001b[0;34m)\u001b[0m\u001b[0;34m\u001b[0m\u001b[0;34m\u001b[0m\u001b[0m\n\u001b[1;32m    120\u001b[0m         \u001b[0;32melse\u001b[0m\u001b[0;34m:\u001b[0m\u001b[0;34m\u001b[0m\u001b[0;34m\u001b[0m\u001b[0m\n\u001b[0;32m--> 121\u001b[0;31m             \u001b[0msupport\u001b[0m \u001b[0;34m=\u001b[0m \u001b[0mself\u001b[0m\u001b[0;34m.\u001b[0m\u001b[0m_define_support_bivariate\u001b[0m\u001b[0;34m(\u001b[0m\u001b[0mx1\u001b[0m\u001b[0;34m,\u001b[0m \u001b[0mx2\u001b[0m\u001b[0;34m,\u001b[0m \u001b[0mweights\u001b[0m\u001b[0;34m)\u001b[0m\u001b[0;34m\u001b[0m\u001b[0;34m\u001b[0m\u001b[0m\n\u001b[0m\u001b[1;32m    122\u001b[0m \u001b[0;34m\u001b[0m\u001b[0m\n\u001b[1;32m    123\u001b[0m         \u001b[0;32mif\u001b[0m \u001b[0mcache\u001b[0m\u001b[0;34m:\u001b[0m\u001b[0;34m\u001b[0m\u001b[0;34m\u001b[0m\u001b[0m\n",
            "\u001b[0;32m/usr/local/lib/python3.7/dist-packages/seaborn/_statistics.py\u001b[0m in \u001b[0;36m_define_support_bivariate\u001b[0;34m(self, x1, x2, weights)\u001b[0m\n\u001b[1;32m    102\u001b[0m             \u001b[0mclip\u001b[0m \u001b[0;34m=\u001b[0m \u001b[0;34m(\u001b[0m\u001b[0mclip\u001b[0m\u001b[0;34m,\u001b[0m \u001b[0mclip\u001b[0m\u001b[0;34m)\u001b[0m\u001b[0;34m\u001b[0m\u001b[0;34m\u001b[0m\u001b[0m\n\u001b[1;32m    103\u001b[0m \u001b[0;34m\u001b[0m\u001b[0m\n\u001b[0;32m--> 104\u001b[0;31m         \u001b[0mkde\u001b[0m \u001b[0;34m=\u001b[0m \u001b[0mself\u001b[0m\u001b[0;34m.\u001b[0m\u001b[0m_fit\u001b[0m\u001b[0;34m(\u001b[0m\u001b[0;34m[\u001b[0m\u001b[0mx1\u001b[0m\u001b[0;34m,\u001b[0m \u001b[0mx2\u001b[0m\u001b[0;34m]\u001b[0m\u001b[0;34m,\u001b[0m \u001b[0mweights\u001b[0m\u001b[0;34m)\u001b[0m\u001b[0;34m\u001b[0m\u001b[0;34m\u001b[0m\u001b[0m\n\u001b[0m\u001b[1;32m    105\u001b[0m         \u001b[0mbw\u001b[0m \u001b[0;34m=\u001b[0m \u001b[0mnp\u001b[0m\u001b[0;34m.\u001b[0m\u001b[0msqrt\u001b[0m\u001b[0;34m(\u001b[0m\u001b[0mnp\u001b[0m\u001b[0;34m.\u001b[0m\u001b[0mdiag\u001b[0m\u001b[0;34m(\u001b[0m\u001b[0mkde\u001b[0m\u001b[0;34m.\u001b[0m\u001b[0mcovariance\u001b[0m\u001b[0;34m)\u001b[0m\u001b[0;34m.\u001b[0m\u001b[0msqueeze\u001b[0m\u001b[0;34m(\u001b[0m\u001b[0;34m)\u001b[0m\u001b[0;34m)\u001b[0m\u001b[0;34m\u001b[0m\u001b[0;34m\u001b[0m\u001b[0m\n\u001b[1;32m    106\u001b[0m \u001b[0;34m\u001b[0m\u001b[0m\n",
            "\u001b[0;32m/usr/local/lib/python3.7/dist-packages/seaborn/_statistics.py\u001b[0m in \u001b[0;36m_fit\u001b[0;34m(self, fit_data, weights)\u001b[0m\n\u001b[1;32m    135\u001b[0m             \u001b[0mfit_kws\u001b[0m\u001b[0;34m[\u001b[0m\u001b[0;34m\"weights\"\u001b[0m\u001b[0;34m]\u001b[0m \u001b[0;34m=\u001b[0m \u001b[0mweights\u001b[0m\u001b[0;34m\u001b[0m\u001b[0;34m\u001b[0m\u001b[0m\n\u001b[1;32m    136\u001b[0m \u001b[0;34m\u001b[0m\u001b[0m\n\u001b[0;32m--> 137\u001b[0;31m         \u001b[0mkde\u001b[0m \u001b[0;34m=\u001b[0m \u001b[0mstats\u001b[0m\u001b[0;34m.\u001b[0m\u001b[0mgaussian_kde\u001b[0m\u001b[0;34m(\u001b[0m\u001b[0mfit_data\u001b[0m\u001b[0;34m,\u001b[0m \u001b[0;34m**\u001b[0m\u001b[0mfit_kws\u001b[0m\u001b[0;34m)\u001b[0m\u001b[0;34m\u001b[0m\u001b[0;34m\u001b[0m\u001b[0m\n\u001b[0m\u001b[1;32m    138\u001b[0m         \u001b[0mkde\u001b[0m\u001b[0;34m.\u001b[0m\u001b[0mset_bandwidth\u001b[0m\u001b[0;34m(\u001b[0m\u001b[0mkde\u001b[0m\u001b[0;34m.\u001b[0m\u001b[0mfactor\u001b[0m \u001b[0;34m*\u001b[0m \u001b[0mself\u001b[0m\u001b[0;34m.\u001b[0m\u001b[0mbw_adjust\u001b[0m\u001b[0;34m)\u001b[0m\u001b[0;34m\u001b[0m\u001b[0;34m\u001b[0m\u001b[0m\n\u001b[1;32m    139\u001b[0m \u001b[0;34m\u001b[0m\u001b[0m\n",
            "\u001b[0;32m/usr/local/lib/python3.7/dist-packages/scipy/stats/kde.py\u001b[0m in \u001b[0;36m__init__\u001b[0;34m(self, dataset, bw_method, weights)\u001b[0m\n\u001b[1;32m    204\u001b[0m             \u001b[0mself\u001b[0m\u001b[0;34m.\u001b[0m\u001b[0m_neff\u001b[0m \u001b[0;34m=\u001b[0m \u001b[0;36m1\u001b[0m\u001b[0;34m/\u001b[0m\u001b[0msum\u001b[0m\u001b[0;34m(\u001b[0m\u001b[0mself\u001b[0m\u001b[0;34m.\u001b[0m\u001b[0m_weights\u001b[0m\u001b[0;34m**\u001b[0m\u001b[0;36m2\u001b[0m\u001b[0;34m)\u001b[0m\u001b[0;34m\u001b[0m\u001b[0;34m\u001b[0m\u001b[0m\n\u001b[1;32m    205\u001b[0m \u001b[0;34m\u001b[0m\u001b[0m\n\u001b[0;32m--> 206\u001b[0;31m         \u001b[0mself\u001b[0m\u001b[0;34m.\u001b[0m\u001b[0mset_bandwidth\u001b[0m\u001b[0;34m(\u001b[0m\u001b[0mbw_method\u001b[0m\u001b[0;34m=\u001b[0m\u001b[0mbw_method\u001b[0m\u001b[0;34m)\u001b[0m\u001b[0;34m\u001b[0m\u001b[0;34m\u001b[0m\u001b[0m\n\u001b[0m\u001b[1;32m    207\u001b[0m \u001b[0;34m\u001b[0m\u001b[0m\n\u001b[1;32m    208\u001b[0m     \u001b[0;32mdef\u001b[0m \u001b[0mevaluate\u001b[0m\u001b[0;34m(\u001b[0m\u001b[0mself\u001b[0m\u001b[0;34m,\u001b[0m \u001b[0mpoints\u001b[0m\u001b[0;34m)\u001b[0m\u001b[0;34m:\u001b[0m\u001b[0;34m\u001b[0m\u001b[0;34m\u001b[0m\u001b[0m\n",
            "\u001b[0;32m/usr/local/lib/python3.7/dist-packages/scipy/stats/kde.py\u001b[0m in \u001b[0;36mset_bandwidth\u001b[0;34m(self, bw_method)\u001b[0m\n\u001b[1;32m    552\u001b[0m             \u001b[0;32mraise\u001b[0m \u001b[0mValueError\u001b[0m\u001b[0;34m(\u001b[0m\u001b[0mmsg\u001b[0m\u001b[0;34m)\u001b[0m\u001b[0;34m\u001b[0m\u001b[0;34m\u001b[0m\u001b[0m\n\u001b[1;32m    553\u001b[0m \u001b[0;34m\u001b[0m\u001b[0m\n\u001b[0;32m--> 554\u001b[0;31m         \u001b[0mself\u001b[0m\u001b[0;34m.\u001b[0m\u001b[0m_compute_covariance\u001b[0m\u001b[0;34m(\u001b[0m\u001b[0;34m)\u001b[0m\u001b[0;34m\u001b[0m\u001b[0;34m\u001b[0m\u001b[0m\n\u001b[0m\u001b[1;32m    555\u001b[0m \u001b[0;34m\u001b[0m\u001b[0m\n\u001b[1;32m    556\u001b[0m     \u001b[0;32mdef\u001b[0m \u001b[0m_compute_covariance\u001b[0m\u001b[0;34m(\u001b[0m\u001b[0mself\u001b[0m\u001b[0;34m)\u001b[0m\u001b[0;34m:\u001b[0m\u001b[0;34m\u001b[0m\u001b[0;34m\u001b[0m\u001b[0m\n",
            "\u001b[0;32m/usr/local/lib/python3.7/dist-packages/scipy/stats/kde.py\u001b[0m in \u001b[0;36m_compute_covariance\u001b[0;34m(self)\u001b[0m\n\u001b[1;32m    564\u001b[0m                                                \u001b[0mbias\u001b[0m\u001b[0;34m=\u001b[0m\u001b[0;32mFalse\u001b[0m\u001b[0;34m,\u001b[0m\u001b[0;34m\u001b[0m\u001b[0;34m\u001b[0m\u001b[0m\n\u001b[1;32m    565\u001b[0m                                                aweights=self.weights))\n\u001b[0;32m--> 566\u001b[0;31m             \u001b[0mself\u001b[0m\u001b[0;34m.\u001b[0m\u001b[0m_data_inv_cov\u001b[0m \u001b[0;34m=\u001b[0m \u001b[0mlinalg\u001b[0m\u001b[0;34m.\u001b[0m\u001b[0minv\u001b[0m\u001b[0;34m(\u001b[0m\u001b[0mself\u001b[0m\u001b[0;34m.\u001b[0m\u001b[0m_data_covariance\u001b[0m\u001b[0;34m)\u001b[0m\u001b[0;34m\u001b[0m\u001b[0;34m\u001b[0m\u001b[0m\n\u001b[0m\u001b[1;32m    567\u001b[0m \u001b[0;34m\u001b[0m\u001b[0m\n\u001b[1;32m    568\u001b[0m         \u001b[0mself\u001b[0m\u001b[0;34m.\u001b[0m\u001b[0mcovariance\u001b[0m \u001b[0;34m=\u001b[0m \u001b[0mself\u001b[0m\u001b[0;34m.\u001b[0m\u001b[0m_data_covariance\u001b[0m \u001b[0;34m*\u001b[0m \u001b[0mself\u001b[0m\u001b[0;34m.\u001b[0m\u001b[0mfactor\u001b[0m\u001b[0;34m**\u001b[0m\u001b[0;36m2\u001b[0m\u001b[0;34m\u001b[0m\u001b[0;34m\u001b[0m\u001b[0m\n",
            "\u001b[0;32m/usr/local/lib/python3.7/dist-packages/scipy/linalg/basic.py\u001b[0m in \u001b[0;36minv\u001b[0;34m(a, overwrite_a, check_finite)\u001b[0m\n\u001b[1;32m    966\u001b[0m         \u001b[0minv_a\u001b[0m\u001b[0;34m,\u001b[0m \u001b[0minfo\u001b[0m \u001b[0;34m=\u001b[0m \u001b[0mgetri\u001b[0m\u001b[0;34m(\u001b[0m\u001b[0mlu\u001b[0m\u001b[0;34m,\u001b[0m \u001b[0mpiv\u001b[0m\u001b[0;34m,\u001b[0m \u001b[0mlwork\u001b[0m\u001b[0;34m=\u001b[0m\u001b[0mlwork\u001b[0m\u001b[0;34m,\u001b[0m \u001b[0moverwrite_lu\u001b[0m\u001b[0;34m=\u001b[0m\u001b[0;36m1\u001b[0m\u001b[0;34m)\u001b[0m\u001b[0;34m\u001b[0m\u001b[0;34m\u001b[0m\u001b[0m\n\u001b[1;32m    967\u001b[0m     \u001b[0;32mif\u001b[0m \u001b[0minfo\u001b[0m \u001b[0;34m>\u001b[0m \u001b[0;36m0\u001b[0m\u001b[0;34m:\u001b[0m\u001b[0;34m\u001b[0m\u001b[0;34m\u001b[0m\u001b[0m\n\u001b[0;32m--> 968\u001b[0;31m         \u001b[0;32mraise\u001b[0m \u001b[0mLinAlgError\u001b[0m\u001b[0;34m(\u001b[0m\u001b[0;34m\"singular matrix\"\u001b[0m\u001b[0;34m)\u001b[0m\u001b[0;34m\u001b[0m\u001b[0;34m\u001b[0m\u001b[0m\n\u001b[0m\u001b[1;32m    969\u001b[0m     \u001b[0;32mif\u001b[0m \u001b[0minfo\u001b[0m \u001b[0;34m<\u001b[0m \u001b[0;36m0\u001b[0m\u001b[0;34m:\u001b[0m\u001b[0;34m\u001b[0m\u001b[0;34m\u001b[0m\u001b[0m\n\u001b[1;32m    970\u001b[0m         raise ValueError('illegal value in %d-th argument of internal '\n",
            "\u001b[0;31mLinAlgError\u001b[0m: singular matrix"
          ]
        },
        {
          "output_type": "display_data",
          "data": {
            "text/plain": [
              "<Figure size 900x900 with 25 Axes>"
            ],
            "image/png": "[encoded data removed]"
          },
          "metadata": {
            "needs_background": "light"
          }
        }
      ]
    },
    {
      "cell_type": "markdown",
      "source": [
        "We may need more individuals to find a clear pattern."
      ],
      "metadata": {
        "id": "hXC0kVGzSp6d"
      }
    },
    {
      "cell_type": "markdown",
      "source": [
        "## Taste profile and scoring relation "
      ],
      "metadata": {
        "id": "DVAzLN2GYxVr"
      }
    },
    {
      "cell_type": "markdown",
      "source": [
        "### In the section below, we will see how the different tastes of coffee influence the rating of Total_Cup_Score"
      ],
      "metadata": {
        "id": "xnwnNbS-bfIF"
      }
    },
    {
      "cell_type": "markdown",
      "source": [
        "#### Creating the features vector which are : Aroma, Flavor, Aftertaste, Acidity, Body, Balance, Uniformity, Clean_Cup, Sweetnes."
      ],
      "metadata": {
        "id": "pCXx2cCUdTVx"
      }
    },
    {
      "cell_type": "code",
      "source": [
        "from pyspark.ml.feature import VectorAssembler\n",
        "vectorAssembler = VectorAssembler(inputCols = [\"Aroma\",\"Flavor\",\"Aftertaste\",\\\n",
        "                   \"Acidity\",\"Body\", \"Balance\", \"Clean_Cup\", \"Uniformity\",\"Sweetness\"], outputCol = 'features')\n",
        "vec_df_arabica = vectorAssembler.transform(df_arabica)"
      ],
      "metadata": {
        "id": "9B70pLp0bd6-"
      },
      "execution_count": null,
      "outputs": []
    },
    {
      "cell_type": "markdown",
      "source": [
        "#### Train test splitting"
      ],
      "metadata": {
        "id": "MeVxFFA5dQaR"
      }
    },
    {
      "cell_type": "code",
      "source": [
        "train_taste,test_taste  = vec_df_arabica.randomSplit([0.7, 0.3])"
      ],
      "metadata": {
        "id": "8Dnb45XwdPoL"
      },
      "execution_count": null,
      "outputs": []
    },
    {
      "cell_type": "markdown",
      "source": [
        "##### LR model"
      ],
      "metadata": {
        "id": "ZDjMHxfXdj1d"
      }
    },
    {
      "cell_type": "code",
      "source": [
        "from pyspark.ml.regression import LinearRegression\n",
        "lr = LinearRegression(featuresCol = 'features', labelCol='Total_Cup_Points', maxIter=10)\n",
        "lr_model = lr.fit(train_taste)\n",
        "print(\"Coefficients: \" + str(lr_model.coefficients[:5])+ \"\\n\"+ str(lr_model.coefficients[5:]))\n",
        "print(\"Intercept: \" + str(lr_model.intercept))"
      ],
      "metadata": {
        "id": "U_W6uJA5dAgN",
        "colab": {
          "base_uri": "https://localhost:8080/"
        },
        "outputId": "aca7a4d7-c6f0-450b-9b3c-97d0a0a97a9c"
      },
      "execution_count": null,
      "outputs": [
        {
          "output_type": "stream",
          "name": "stdout",
          "text": [
            "Coefficients: [1.02825663 1.19244051 1.0893845  0.84473943 1.52903298]\n",
            "[1.32332164 1.07008675 1.22494014 1.01465731]\n",
            "Intercept: -3.0945756598503786\n"
          ]
        }
      ]
    },
    {
      "cell_type": "markdown",
      "source": [
        "All taste characteristics are scored out of 10 and the characteristic Total_Cup_Points is their aggregation.\n",
        "\n",
        "We can therefore assume that all taste characteristics have the same importance.\n",
        "\n",
        "By running a linear regression model, we can see that all the features have a close importance, but some of them have a slightly greater impact on the model.\n",
        "\n",
        "We can then make 2 assumptions:\n",
        "\n",
        "1st assumption: because of the correlation between the characteristics, some of them are considered more important because when their score is high, it increases the score of the others.\n",
        "\n",
        "2nd assumption: some characteristics have a high variance and the others a low one, those with a high variance will have more impact on the final score.\n",
        "\n",
        "The slightly more important characteristics seem to be body and balance, but they are not very significant."
      ],
      "metadata": {
        "id": "lMY75yCsVy1O"
      }
    },
    {
      "cell_type": "code",
      "source": [
        "# Evaluation on the train data \n",
        "print(\"MSE: \", lr_model.summary.meanSquaredError)\n",
        "print(\"MAE: \", lr_model.summary.meanAbsoluteError)\n",
        "print(\"R-squared: \", lr_model.summary.r2)"
      ],
      "metadata": {
        "id": "qNP-xIbP4uxT",
        "colab": {
          "base_uri": "https://localhost:8080/"
        },
        "outputId": "ecf38798-5ebc-4d5f-ec57-cd3e02c75681"
      },
      "execution_count": null,
      "outputs": [
        {
          "output_type": "stream",
          "name": "stdout",
          "text": [
            "MSE:  0.03674017123281112\n",
            "MAE:  0.13733059171105555\n",
            "R-squared:  0.9805621677687725\n"
          ]
        }
      ]
    },
    {
      "cell_type": "markdown",
      "source": [
        "#### Predicting and evaluating the model"
      ],
      "metadata": {
        "id": "Uzmm7PSCealT"
      }
    },
    {
      "cell_type": "code",
      "source": [
        "lr_predictions = lr_model.transform(test_taste)\n",
        "lr_predictions.select(\"prediction\",\"Total_Cup_Points\",\"features\").show(5)"
      ],
      "metadata": {
        "id": "dvHB_lD0eiD5",
        "colab": {
          "base_uri": "https://localhost:8080/"
        },
        "outputId": "f63e6092-a92f-4e77-bc11-2c40c12d2750"
      },
      "execution_count": null,
      "outputs": [
        {
          "output_type": "stream",
          "name": "stdout",
          "text": [
            "+-----------------+----------------+--------------------+\n",
            "|       prediction|Total_Cup_Points|            features|\n",
            "+-----------------+----------------+--------------------+\n",
            "|80.32533205455645|            80.5|[7.25,7.33,7.17,7...|\n",
            "|84.36939804484996|           84.17|[7.58,7.83,7.75,7...|\n",
            "|83.00601214660509|            83.0|[7.5,7.67,7.58,7....|\n",
            "|82.71264050202623|           82.67|[7.5,7.58,7.25,7....|\n",
            "|82.34661049306384|           82.33|[7.5,7.5,7.42,7.5...|\n",
            "+-----------------+----------------+--------------------+\n",
            "only showing top 5 rows\n",
            "\n"
          ]
        }
      ]
    },
    {
      "cell_type": "code",
      "source": [
        "# Evaluation on test data \n",
        "from pyspark.ml.evaluation import RegressionEvaluator\n",
        "lr_evaluator = RegressionEvaluator(predictionCol=\"prediction\", \\\n",
        "                 labelCol=\"Total_Cup_Points\")\n",
        "\n",
        "print(\"MAE on test data = %g\" % lr_evaluator.evaluate(lr_predictions, {lr_evaluator.metricName: \"mae\"}))\n",
        "print(\"MSE on test data = %g\" % lr_evaluator.evaluate(lr_predictions, {lr_evaluator.metricName: \"mse\"}))\n",
        "print(\"R-squared (R2) on test data = %g\" % lr_evaluator.evaluate(lr_predictions, {lr_evaluator.metricName: \"r2\"}))\n"
      ],
      "metadata": {
        "id": "eKrAhrZIfB3P",
        "colab": {
          "base_uri": "https://localhost:8080/"
        },
        "outputId": "e94fec8e-1edd-4b68-84b6-328c4f70cf6f"
      },
      "execution_count": null,
      "outputs": [
        {
          "output_type": "stream",
          "name": "stdout",
          "text": [
            "MAE on test data = 0.160075\n",
            "MSE on test data = 0.0442976\n",
            "R-squared (R2) on test data = 0.980808\n"
          ]
        }
      ]
    },
    {
      "cell_type": "markdown",
      "source": [
        "#### Th R squared of our model is very high that means that the variation of tastes variables explains very well the note given for a coffee. In the other hand, our model fits quite well the data."
      ],
      "metadata": {
        "id": "PA6mxGR3fSIK"
      }
    },
    {
      "cell_type": "markdown",
      "source": [
        "#### In the graph below, we can see that the prediction values curve is almost superimposed on the original values curve"
      ],
      "metadata": {
        "id": "y05K935YztVX"
      }
    },
    {
      "cell_type": "code",
      "source": [
        "x_ax = range(0,lr_predictions.count())\n",
        "y_pred = lr_predictions.select(\"prediction\").collect()\n",
        "y_orig = lr_predictions.select(\"Total_Cup_Points\").collect()"
      ],
      "metadata": {
        "id": "2F94FxaTyRqd"
      },
      "execution_count": null,
      "outputs": []
    },
    {
      "cell_type": "code",
      "source": [
        "plt.figure(figsize=(15,8))\n",
        "plt.plot(x_ax, y_orig, label=\"Total_Cup_Points\")\n",
        "plt.plot(x_ax, y_pred, label=\"prediction\")\n",
        "plt.title(\"Real notes on the test data and the predicted ones\")\n",
        "plt.xlabel('X-axis')\n",
        "plt.ylabel('Y-axis')\n",
        "plt.legend(loc='best',fancybox=True, shadow=True)\n",
        "plt.grid(True)\n",
        "plt.show()  \n",
        " \n"
      ],
      "metadata": {
        "id": "NU5WAyvJfpwM",
        "colab": {
          "base_uri": "https://localhost:8080/",
          "height": 513
        },
        "outputId": "46628e4b-5025-42c4-b3c0-536f73f519fd"
      },
      "execution_count": null,
      "outputs": [
        {
          "output_type": "display_data",
          "data": {
            "text/plain": [
              "<Figure size 1080x576 with 1 Axes>"
            ],
            "image/png": "[encoded data removed]"
          },
          "metadata": {
            "needs_background": "light"
          }
        }
      ]
    },
    {
      "cell_type": "markdown",
      "source": [
        "## Variety and scoring relation"
      ],
      "metadata": {
        "id": "_0VWZKVTY8kL"
      }
    },
    {
      "cell_type": "markdown",
      "source": [
        "#### For this one we will just use visualizations to see the variation of coffee grade according to the variet."
      ],
      "metadata": {
        "id": "xNQaoih5f07i"
      }
    },
    {
      "cell_type": "code",
      "source": [
        "var = df_arabica.groupBy(\"Variety\").mean(\"Total_Cup_Points\")\n",
        "var.show()"
      ],
      "metadata": {
        "id": "gBcQiNAFZAEF",
        "colab": {
          "base_uri": "https://localhost:8080/"
        },
        "outputId": "f8ce977b-c682-4ece-f5db-3207c2bbb5fe"
      },
      "execution_count": null,
      "outputs": [
        {
          "output_type": "stream",
          "name": "stdout",
          "text": [
            "+--------------+---------------------+\n",
            "|       Variety|avg(Total_Cup_Points)|\n",
            "+--------------+---------------------+\n",
            "|Yellow Bourbon|    82.65233333333335|\n",
            "|    Mundo Novo|    82.48437499999999|\n",
            "|       unknown|                83.75|\n",
            "|        Catuai|             82.60375|\n",
            "|       Bourbon|    82.90846153846155|\n",
            "| Moka Peaberry|                82.92|\n",
            "+--------------+---------------------+\n",
            "\n"
          ]
        }
      ]
    },
    {
      "cell_type": "code",
      "source": [
        "px.bar(var.toPandas(), x='Variety', y='avg(Total_Cup_Points)')"
      ],
      "metadata": {
        "id": "UP7tnDvCJz5k",
        "colab": {
          "base_uri": "https://localhost:8080/",
          "height": 542
        },
        "outputId": "00c0468d-553b-4be1-c6bc-b33e2c8746a4"
      },
      "execution_count": null,
      "outputs": [
        {
          "output_type": "display_data",
          "data": {
            "text/html": [
              "<html>\n",
              "<head><meta charset=\"utf-8\" /></head>\n",
              "<body>\n",
              "    <div>            <script src=\"https://cdnjs.cloudflare.com/ajax/libs/mathjax/2.7.5/MathJax.js?config=TeX-AMS-MML_SVG\"></script><script type=\"text/javascript\">if (window.MathJax) {MathJax.Hub.Config({SVG: {font: \"STIX-Web\"}});}</script>                <script type=\"text/javascript\">window.PlotlyConfig = {MathJaxConfig: 'local'};</script>\n",
              "        <script src=\"https://cdn.plot.ly/plotly-2.8.3.min.js\"></script>                <div id=\"b888891a-2cd7-467a-837d-d1791337ca0c\" class=\"plotly-graph-div\" style=\"height:525px; width:100%;\"></div>            <script type=\"text/javascript\">                                    window.PLOTLYENV=window.PLOTLYENV || {};                                    if (document.getElementById(\"b888891a-2cd7-467a-837d-d1791337ca0c\")) {                    Plotly.newPlot(                        \"b888891a-2cd7-467a-837d-d1791337ca0c\",                        [{\"alignmentgroup\":\"True\",\"hovertemplate\":\"Variety=%{x}<br>avg(Total_Cup_Points)=%{y}<extra></extra>\",\"legendgroup\":\"\",\"marker\":{\"color\":\"#636efa\",\"pattern\":{\"shape\":\"\"}},\"name\":\"\",\"offsetgroup\":\"\",\"orientation\":\"v\",\"showlegend\":false,\"textposition\":\"auto\",\"x\":[\"Yellow Bourbon\",\"Mundo Novo\",\"unknown\",\"Catuai\",\"Bourbon\",\"Moka Peaberry\"],\"xaxis\":\"x\",\"y\":[82.65233333333335,82.48437499999999,83.75,82.60375,82.90846153846155,82.92],\"yaxis\":\"y\",\"type\":\"bar\"}],                        {\"template\":{\"data\":{\"bar\":[{\"error_x\":{\"color\":\"#2a3f5f\"},\"error_y\":{\"color\":\"#2a3f5f\"},\"marker\":{\"line\":{\"color\":\"#E5ECF6\",\"width\":0.5},\"pattern\":{\"fillmode\":\"overlay\",\"size\":10,\"solidity\":0.2}},\"type\":\"bar\"}],\"barpolar\":[{\"marker\":{\"line\":{\"color\":\"#E5ECF6\",\"width\":0.5},\"pattern\":{\"fillmode\":\"overlay\",\"size\":10,\"solidity\":0.2}},\"type\":\"barpolar\"}],\"carpet\":[{\"aaxis\":{\"endlinecolor\":\"#2a3f5f\",\"gridcolor\":\"white\",\"linecolor\":\"white\",\"minorgridcolor\":\"white\",\"startlinecolor\":\"#2a3f5f\"},\"baxis\":{\"endlinecolor\":\"#2a3f5f\",\"gridcolor\":\"white\",\"linecolor\":\"white\",\"minorgridcolor\":\"white\",\"startlinecolor\":\"#2a3f5f\"},\"type\":\"carpet\"}],\"choropleth\":[{\"colorbar\":{\"outlinewidth\":0,\"ticks\":\"\"},\"type\":\"choropleth\"}],\"contour\":[{\"colorbar\":{\"outlinewidth\":0,\"ticks\":\"\"},\"colorscale\":[[0.0,\"#0d0887\"],[0.1111111111111111,\"#46039f\"],[0.2222222222222222,\"#7201a8\"],[0.3333333333333333,\"#9c179e\"],[0.4444444444444444,\"#bd3786\"],[0.5555555555555556,\"#d8576b\"],[0.6666666666666666,\"#ed7953\"],[0.7777777777777778,\"#fb9f3a\"],[0.8888888888888888,\"#fdca26\"],[1.0,\"#f0f921\"]],\"type\":\"contour\"}],\"contourcarpet\":[{\"colorbar\":{\"outlinewidth\":0,\"ticks\":\"\"},\"type\":\"contourcarpet\"}],\"heatmap\":[{\"colorbar\":{\"outlinewidth\":0,\"ticks\":\"\"},\"colorscale\":[[0.0,\"#0d0887\"],[0.1111111111111111,\"#46039f\"],[0.2222222222222222,\"#7201a8\"],[0.3333333333333333,\"#9c179e\"],[0.4444444444444444,\"#bd3786\"],[0.5555555555555556,\"#d8576b\"],[0.6666666666666666,\"#ed7953\"],[0.7777777777777778,\"#fb9f3a\"],[0.8888888888888888,\"#fdca26\"],[1.0,\"#f0f921\"]],\"type\":\"heatmap\"}],\"heatmapgl\":[{\"colorbar\":{\"outlinewidth\":0,\"ticks\":\"\"},\"colorscale\":[[0.0,\"#0d0887\"],[0.1111111111111111,\"#46039f\"],[0.2222222222222222,\"#7201a8\"],[0.3333333333333333,\"#9c179e\"],[0.4444444444444444,\"#bd3786\"],[0.5555555555555556,\"#d8576b\"],[0.6666666666666666,\"#ed7953\"],[0.7777777777777778,\"#fb9f3a\"],[0.8888888888888888,\"#fdca26\"],[1.0,\"#f0f921\"]],\"type\":\"heatmapgl\"}],\"histogram\":[{\"marker\":{\"pattern\":{\"fillmode\":\"overlay\",\"size\":10,\"solidity\":0.2}},\"type\":\"histogram\"}],\"histogram2d\":[{\"colorbar\":{\"outlinewidth\":0,\"ticks\":\"\"},\"colorscale\":[[0.0,\"#0d0887\"],[0.1111111111111111,\"#46039f\"],[0.2222222222222222,\"#7201a8\"],[0.3333333333333333,\"#9c179e\"],[0.4444444444444444,\"#bd3786\"],[0.5555555555555556,\"#d8576b\"],[0.6666666666666666,\"#ed7953\"],[0.7777777777777778,\"#fb9f3a\"],[0.8888888888888888,\"#fdca26\"],[1.0,\"#f0f921\"]],\"type\":\"histogram2d\"}],\"histogram2dcontour\":[{\"colorbar\":{\"outlinewidth\":0,\"ticks\":\"\"},\"colorscale\":[[0.0,\"#0d0887\"],[0.1111111111111111,\"#46039f\"],[0.2222222222222222,\"#7201a8\"],[0.3333333333333333,\"#9c179e\"],[0.4444444444444444,\"#bd3786\"],[0.5555555555555556,\"#d8576b\"],[0.6666666666666666,\"#ed7953\"],[0.7777777777777778,\"#fb9f3a\"],[0.8888888888888888,\"#fdca26\"],[1.0,\"#f0f921\"]],\"type\":\"histogram2dcontour\"}],\"mesh3d\":[{\"colorbar\":{\"outlinewidth\":0,\"ticks\":\"\"},\"type\":\"mesh3d\"}],\"parcoords\":[{\"line\":{\"colorbar\":{\"outlinewidth\":0,\"ticks\":\"\"}},\"type\":\"parcoords\"}],\"pie\":[{\"automargin\":true,\"type\":\"pie\"}],\"scatter\":[{\"marker\":{\"colorbar\":{\"outlinewidth\":0,\"ticks\":\"\"}},\"type\":\"scatter\"}],\"scatter3d\":[{\"line\":{\"colorbar\":{\"outlinewidth\":0,\"ticks\":\"\"}},\"marker\":{\"colorbar\":{\"outlinewidth\":0,\"ticks\":\"\"}},\"type\":\"scatter3d\"}],\"scattercarpet\":[{\"marker\":{\"colorbar\":{\"outlinewidth\":0,\"ticks\":\"\"}},\"type\":\"scattercarpet\"}],\"scattergeo\":[{\"marker\":{\"colorbar\":{\"outlinewidth\":0,\"ticks\":\"\"}},\"type\":\"scattergeo\"}],\"scattergl\":[{\"marker\":{\"colorbar\":{\"outlinewidth\":0,\"ticks\":\"\"}},\"type\":\"scattergl\"}],\"scattermapbox\":[{\"marker\":{\"colorbar\":{\"outlinewidth\":0,\"ticks\":\"\"}},\"type\":\"scattermapbox\"}],\"scatterpolar\":[{\"marker\":{\"colorbar\":{\"outlinewidth\":0,\"ticks\":\"\"}},\"type\":\"scatterpolar\"}],\"scatterpolargl\":[{\"marker\":{\"colorbar\":{\"outlinewidth\":0,\"ticks\":\"\"}},\"type\":\"scatterpolargl\"}],\"scatterternary\":[{\"marker\":{\"colorbar\":{\"outlinewidth\":0,\"ticks\":\"\"}},\"type\":\"scatterternary\"}],\"surface\":[{\"colorbar\":{\"outlinewidth\":0,\"ticks\":\"\"},\"colorscale\":[[0.0,\"#0d0887\"],[0.1111111111111111,\"#46039f\"],[0.2222222222222222,\"#7201a8\"],[0.3333333333333333,\"#9c179e\"],[0.4444444444444444,\"#bd3786\"],[0.5555555555555556,\"#d8576b\"],[0.6666666666666666,\"#ed7953\"],[0.7777777777777778,\"#fb9f3a\"],[0.8888888888888888,\"#fdca26\"],[1.0,\"#f0f921\"]],\"type\":\"surface\"}],\"table\":[{\"cells\":{\"fill\":{\"color\":\"#EBF0F8\"},\"line\":{\"color\":\"white\"}},\"header\":{\"fill\":{\"color\":\"#C8D4E3\"},\"line\":{\"color\":\"white\"}},\"type\":\"table\"}]},\"layout\":{\"annotationdefaults\":{\"arrowcolor\":\"#2a3f5f\",\"arrowhead\":0,\"arrowwidth\":1},\"autotypenumbers\":\"strict\",\"coloraxis\":{\"colorbar\":{\"outlinewidth\":0,\"ticks\":\"\"}},\"colorscale\":{\"diverging\":[[0,\"#8e0152\"],[0.1,\"#c51b7d\"],[0.2,\"#de77ae\"],[0.3,\"#f1b6da\"],[0.4,\"#fde0ef\"],[0.5,\"#f7f7f7\"],[0.6,\"#e6f5d0\"],[0.7,\"#b8e186\"],[0.8,\"#7fbc41\"],[0.9,\"#4d9221\"],[1,\"#276419\"]],\"sequential\":[[0.0,\"#0d0887\"],[0.1111111111111111,\"#46039f\"],[0.2222222222222222,\"#7201a8\"],[0.3333333333333333,\"#9c179e\"],[0.4444444444444444,\"#bd3786\"],[0.5555555555555556,\"#d8576b\"],[0.6666666666666666,\"#ed7953\"],[0.7777777777777778,\"#fb9f3a\"],[0.8888888888888888,\"#fdca26\"],[1.0,\"#f0f921\"]],\"sequentialminus\":[[0.0,\"#0d0887\"],[0.1111111111111111,\"#46039f\"],[0.2222222222222222,\"#7201a8\"],[0.3333333333333333,\"#9c179e\"],[0.4444444444444444,\"#bd3786\"],[0.5555555555555556,\"#d8576b\"],[0.6666666666666666,\"#ed7953\"],[0.7777777777777778,\"#fb9f3a\"],[0.8888888888888888,\"#fdca26\"],[1.0,\"#f0f921\"]]},\"colorway\":[\"#636efa\",\"#EF553B\",\"#00cc96\",\"#ab63fa\",\"#FFA15A\",\"#19d3f3\",\"#FF6692\",\"#B6E880\",\"#FF97FF\",\"#FECB52\"],\"font\":{\"color\":\"#2a3f5f\"},\"geo\":{\"bgcolor\":\"white\",\"lakecolor\":\"white\",\"landcolor\":\"#E5ECF6\",\"showlakes\":true,\"showland\":true,\"subunitcolor\":\"white\"},\"hoverlabel\":{\"align\":\"left\"},\"hovermode\":\"closest\",\"mapbox\":{\"style\":\"light\"},\"paper_bgcolor\":\"white\",\"plot_bgcolor\":\"#E5ECF6\",\"polar\":{\"angularaxis\":{\"gridcolor\":\"white\",\"linecolor\":\"white\",\"ticks\":\"\"},\"bgcolor\":\"#E5ECF6\",\"radialaxis\":{\"gridcolor\":\"white\",\"linecolor\":\"white\",\"ticks\":\"\"}},\"scene\":{\"xaxis\":{\"backgroundcolor\":\"#E5ECF6\",\"gridcolor\":\"white\",\"gridwidth\":2,\"linecolor\":\"white\",\"showbackground\":true,\"ticks\":\"\",\"zerolinecolor\":\"white\"},\"yaxis\":{\"backgroundcolor\":\"#E5ECF6\",\"gridcolor\":\"white\",\"gridwidth\":2,\"linecolor\":\"white\",\"showbackground\":true,\"ticks\":\"\",\"zerolinecolor\":\"white\"},\"zaxis\":{\"backgroundcolor\":\"#E5ECF6\",\"gridcolor\":\"white\",\"gridwidth\":2,\"linecolor\":\"white\",\"showbackground\":true,\"ticks\":\"\",\"zerolinecolor\":\"white\"}},\"shapedefaults\":{\"line\":{\"color\":\"#2a3f5f\"}},\"ternary\":{\"aaxis\":{\"gridcolor\":\"white\",\"linecolor\":\"white\",\"ticks\":\"\"},\"baxis\":{\"gridcolor\":\"white\",\"linecolor\":\"white\",\"ticks\":\"\"},\"bgcolor\":\"#E5ECF6\",\"caxis\":{\"gridcolor\":\"white\",\"linecolor\":\"white\",\"ticks\":\"\"}},\"title\":{\"x\":0.05},\"xaxis\":{\"automargin\":true,\"gridcolor\":\"white\",\"linecolor\":\"white\",\"ticks\":\"\",\"title\":{\"standoff\":15},\"zerolinecolor\":\"white\",\"zerolinewidth\":2},\"yaxis\":{\"automargin\":true,\"gridcolor\":\"white\",\"linecolor\":\"white\",\"ticks\":\"\",\"title\":{\"standoff\":15},\"zerolinecolor\":\"white\",\"zerolinewidth\":2}}},\"xaxis\":{\"anchor\":\"y\",\"domain\":[0.0,1.0],\"title\":{\"text\":\"Variety\"}},\"yaxis\":{\"anchor\":\"x\",\"domain\":[0.0,1.0],\"title\":{\"text\":\"avg(Total_Cup_Points)\"}},\"legend\":{\"tracegroupgap\":0},\"margin\":{\"t\":60},\"barmode\":\"relative\"},                        {\"responsive\": true}                    ).then(function(){\n",
              "                            \n",
              "var gd = document.getElementById('b888891a-2cd7-467a-837d-d1791337ca0c');\n",
              "var x = new MutationObserver(function (mutations, observer) {{\n",
              "        var display = window.getComputedStyle(gd).display;\n",
              "        if (!display || display === 'none') {{\n",
              "            console.log([gd, 'removed!']);\n",
              "            Plotly.purge(gd);\n",
              "            observer.disconnect();\n",
              "        }}\n",
              "}});\n",
              "\n",
              "// Listen for the removal of the full notebook cells\n",
              "var notebookContainer = gd.closest('#notebook-container');\n",
              "if (notebookContainer) {{\n",
              "    x.observe(notebookContainer, {childList: true});\n",
              "}}\n",
              "\n",
              "// Listen for the clearing of the current output cell\n",
              "var outputEl = gd.closest('.output');\n",
              "if (outputEl) {{\n",
              "    x.observe(outputEl, {childList: true});\n",
              "}}\n",
              "\n",
              "                        })                };                            </script>        </div>\n",
              "</body>\n",
              "</html>"
            ]
          },
          "metadata": {}
        }
      ]
    },
    {
      "cell_type": "code",
      "source": [
        "plt.figure(figsize=(15,8))\n",
        "sns.set_theme(style=\"darkgrid\")\n",
        "sns.lineplot(x=\"Variety\", y='avg(Total_Cup_Points)', data=var.toPandas()).set_title('Variation of the coffee grade according to the variety')"
      ],
      "metadata": {
        "id": "rneAG8EfGVVp",
        "colab": {
          "base_uri": "https://localhost:8080/",
          "height": 535
        },
        "outputId": "1d88d3dd-b1f6-447b-c375-37ec8fafaa98"
      },
      "execution_count": null,
      "outputs": [
        {
          "output_type": "execute_result",
          "data": {
            "text/plain": [
              "Text(0.5, 1.0, 'Variation of the coffee grade according to the variety')"
            ]
          },
          "metadata": {},
          "execution_count": 33
        },
        {
          "output_type": "display_data",
          "data": {
            "text/plain": [
              "<Figure size 1080x576 with 1 Axes>"
            ],
            "image/png": "[encoded data removed]"
          },
          "metadata": {
            "needs_background": "light"
          }
        }
      ]
    },
    {
      "cell_type": "markdown",
      "source": [
        "#### Not a very convincing plot, the Total_Cup_Points are very close (in the 80-90 range) and variety doesn't seem to matter that much"
      ],
      "metadata": {
        "id": "YV1Wp3-qkD9y"
      }
    },
    {
      "cell_type": "markdown",
      "source": [
        "## Farm and scoring relation"
      ],
      "metadata": {
        "id": "kcQRu2pwZAPk"
      }
    },
    {
      "cell_type": "code",
      "source": [
        "farmr = df_arabica.groupBy(\"Farm_name\").mean(\"Total_Cup_Points\")\n",
        "farmr.show()"
      ],
      "metadata": {
        "id": "a1qhNoYzmJRX",
        "colab": {
          "base_uri": "https://localhost:8080/"
        },
        "outputId": "9d4a2ace-0cdf-4aab-b45c-2d75d7f6e95f"
      },
      "execution_count": null,
      "outputs": [
        {
          "output_type": "stream",
          "name": "stdout",
          "text": [
            "+--------------------+---------------------+\n",
            "|           Farm_name|avg(Total_Cup_Points)|\n",
            "+--------------------+---------------------+\n",
            "|fazenda são sebas...|                81.17|\n",
            "|       santa bárbara|                81.92|\n",
            "|   fazenda rio verde|              83.1875|\n",
            "|     fazenda do lobo|                83.17|\n",
            "| fazenda grota funda|                84.92|\n",
            "|              sertao|                 81.5|\n",
            "|         sitio claro|                84.92|\n",
            "|         santa alina|                84.33|\n",
            "|   sitío santa luzia|                82.33|\n",
            "|fazenda são josé ...|                81.08|\n",
            "|    fazenda chamusca|                82.58|\n",
            "|         capoeirinha|               82.892|\n",
            "|   são josé da lagoa|                 82.0|\n",
            "|   fazenda do sertao|    83.16499999999999|\n",
            "|fazenda rio brilh...|                81.42|\n",
            "|          santa fé 2|                82.83|\n",
            "|sitío corrego da ...|                81.92|\n",
            "|   fazenda são pedro|                82.33|\n",
            "|     café do paraíso|    83.08500000000001|\n",
            "|cachoeira da gram...|                 80.5|\n",
            "+--------------------+---------------------+\n",
            "only showing top 20 rows\n",
            "\n"
          ]
        }
      ]
    },
    {
      "cell_type": "code",
      "source": [
        "px.bar(farmr.toPandas().sort_values(by=['avg(Total_Cup_Points)']), x='Farm_name', y='avg(Total_Cup_Points)')"
      ],
      "metadata": {
        "id": "Uk1abBQCmakC",
        "colab": {
          "base_uri": "https://localhost:8080/",
          "height": 542
        },
        "outputId": "08cbb32d-98ea-4f55-82cb-e68c9590c727"
      },
      "execution_count": null,
      "outputs": [
        {
          "output_type": "display_data",
          "data": {
            "text/html": [
              "<html>\n",
              "<head><meta charset=\"utf-8\" /></head>\n",
              "<body>\n",
              "    <div>            <script src=\"https://cdnjs.cloudflare.com/ajax/libs/mathjax/2.7.5/MathJax.js?config=TeX-AMS-MML_SVG\"></script><script type=\"text/javascript\">if (window.MathJax) {MathJax.Hub.Config({SVG: {font: \"STIX-Web\"}});}</script>                <script type=\"text/javascript\">window.PlotlyConfig = {MathJaxConfig: 'local'};</script>\n",
              "        <script src=\"https://cdn.plot.ly/plotly-2.8.3.min.js\"></script>                <div id=\"97ae11da-ec33-40f2-9f97-e698e429e78e\" class=\"plotly-graph-div\" style=\"height:525px; width:100%;\"></div>            <script type=\"text/javascript\">                                    window.PLOTLYENV=window.PLOTLYENV || {};                                    if (document.getElementById(\"97ae11da-ec33-40f2-9f97-e698e429e78e\")) {                    Plotly.newPlot(                        \"97ae11da-ec33-40f2-9f97-e698e429e78e\",                        [{\"alignmentgroup\":\"True\",\"hovertemplate\":\"Farm_name=%{x}<br>avg(Total_Cup_Points)=%{y}<extra></extra>\",\"legendgroup\":\"\",\"marker\":{\"color\":\"#636efa\",\"pattern\":{\"shape\":\"\"}},\"name\":\"\",\"offsetgroup\":\"\",\"orientation\":\"v\",\"showlegend\":false,\"textposition\":\"auto\",\"x\":[\"s\\u00e3o rafael_ ra_ras certified\",\"cachoeira da grama farm\",\"fazenda s\\u00e3o jos\\u00e9 mirante\",\"fazenda s\\u00e3o sebasti\\u00e3o\",\"fazenda sacramento\",\"fazenda rio brilhante\",\"sertao\",\"sertao farm\",\"fazendas klem ltda\",\"helena\",\"cianorte\",\"santa b\\u00e1rbara\",\"sit\\u00edo corrego da olaria_s\\u00e3o caetano\",\"santa mariana_s\\u00e3o vicente\",\"s\\u00e3o jos\\u00e9 da lagoa\",\"rio verde\",\"caf\\u00e9 citrus\",\"sit\\u00edo santa luzia\",\"fazenda s\\u00e3o pedro\",\"fazenda serra negra\",\"fazenda capoeirnha\",\"fazenda chamusca\",\"campo das flores\",\"santa f\\u00e9 2\",\"capoeirinha\",\"fazenda pantano\",\"fazenda santo antonio\",\"caf\\u00e9 do para\\u00edso\",\"fazenda do sertao\",\"fazenda do lobo\",\"s\\u00e3o francisco da serra\",\"olhos d'agua\",\"fazenda rio verde\",\"\\u00e1gua limpa\",\"fazenda jeric\\u00f3\",\"pereira estate coffee\",\"pantano\",\"fazenda baipendi\",\"santa alina\",\"fazenda vista alegre\",\"fazenda grota funda\",\"sitio claro\",\"sit\\u00edo s\\u00e3o geraldo\",\"fazenda serra de tr\\u00eas barras\",\"fazenda recreio\",\"fazenda kaquend\"],\"xaxis\":\"x\",\"y\":[80.25,80.5,81.08,81.17,81.33,81.42,81.5,81.77,81.78999999999999,81.83,81.83,81.92,81.92,82.0,82.0,82.18391304347826,82.33,82.33,82.33,82.42,82.52,82.58,82.58500000000001,82.83,82.892,82.92,83.0,83.08500000000001,83.16499999999999,83.17,83.17,83.17,83.1875,83.25,83.58,83.58500000000001,84.17,84.33,84.33,84.58,84.92,84.92,85.0,85.42,85.5,86.5],\"yaxis\":\"y\",\"type\":\"bar\"}],                        {\"template\":{\"data\":{\"bar\":[{\"error_x\":{\"color\":\"#2a3f5f\"},\"error_y\":{\"color\":\"#2a3f5f\"},\"marker\":{\"line\":{\"color\":\"#E5ECF6\",\"width\":0.5},\"pattern\":{\"fillmode\":\"overlay\",\"size\":10,\"solidity\":0.2}},\"type\":\"bar\"}],\"barpolar\":[{\"marker\":{\"line\":{\"color\":\"#E5ECF6\",\"width\":0.5},\"pattern\":{\"fillmode\":\"overlay\",\"size\":10,\"solidity\":0.2}},\"type\":\"barpolar\"}],\"carpet\":[{\"aaxis\":{\"endlinecolor\":\"#2a3f5f\",\"gridcolor\":\"white\",\"linecolor\":\"white\",\"minorgridcolor\":\"white\",\"startlinecolor\":\"#2a3f5f\"},\"baxis\":{\"endlinecolor\":\"#2a3f5f\",\"gridcolor\":\"white\",\"linecolor\":\"white\",\"minorgridcolor\":\"white\",\"startlinecolor\":\"#2a3f5f\"},\"type\":\"carpet\"}],\"choropleth\":[{\"colorbar\":{\"outlinewidth\":0,\"ticks\":\"\"},\"type\":\"choropleth\"}],\"contour\":[{\"colorbar\":{\"outlinewidth\":0,\"ticks\":\"\"},\"colorscale\":[[0.0,\"#0d0887\"],[0.1111111111111111,\"#46039f\"],[0.2222222222222222,\"#7201a8\"],[0.3333333333333333,\"#9c179e\"],[0.4444444444444444,\"#bd3786\"],[0.5555555555555556,\"#d8576b\"],[0.6666666666666666,\"#ed7953\"],[0.7777777777777778,\"#fb9f3a\"],[0.8888888888888888,\"#fdca26\"],[1.0,\"#f0f921\"]],\"type\":\"contour\"}],\"contourcarpet\":[{\"colorbar\":{\"outlinewidth\":0,\"ticks\":\"\"},\"type\":\"contourcarpet\"}],\"heatmap\":[{\"colorbar\":{\"outlinewidth\":0,\"ticks\":\"\"},\"colorscale\":[[0.0,\"#0d0887\"],[0.1111111111111111,\"#46039f\"],[0.2222222222222222,\"#7201a8\"],[0.3333333333333333,\"#9c179e\"],[0.4444444444444444,\"#bd3786\"],[0.5555555555555556,\"#d8576b\"],[0.6666666666666666,\"#ed7953\"],[0.7777777777777778,\"#fb9f3a\"],[0.8888888888888888,\"#fdca26\"],[1.0,\"#f0f921\"]],\"type\":\"heatmap\"}],\"heatmapgl\":[{\"colorbar\":{\"outlinewidth\":0,\"ticks\":\"\"},\"colorscale\":[[0.0,\"#0d0887\"],[0.1111111111111111,\"#46039f\"],[0.2222222222222222,\"#7201a8\"],[0.3333333333333333,\"#9c179e\"],[0.4444444444444444,\"#bd3786\"],[0.5555555555555556,\"#d8576b\"],[0.6666666666666666,\"#ed7953\"],[0.7777777777777778,\"#fb9f3a\"],[0.8888888888888888,\"#fdca26\"],[1.0,\"#f0f921\"]],\"type\":\"heatmapgl\"}],\"histogram\":[{\"marker\":{\"pattern\":{\"fillmode\":\"overlay\",\"size\":10,\"solidity\":0.2}},\"type\":\"histogram\"}],\"histogram2d\":[{\"colorbar\":{\"outlinewidth\":0,\"ticks\":\"\"},\"colorscale\":[[0.0,\"#0d0887\"],[0.1111111111111111,\"#46039f\"],[0.2222222222222222,\"#7201a8\"],[0.3333333333333333,\"#9c179e\"],[0.4444444444444444,\"#bd3786\"],[0.5555555555555556,\"#d8576b\"],[0.6666666666666666,\"#ed7953\"],[0.7777777777777778,\"#fb9f3a\"],[0.8888888888888888,\"#fdca26\"],[1.0,\"#f0f921\"]],\"type\":\"histogram2d\"}],\"histogram2dcontour\":[{\"colorbar\":{\"outlinewidth\":0,\"ticks\":\"\"},\"colorscale\":[[0.0,\"#0d0887\"],[0.1111111111111111,\"#46039f\"],[0.2222222222222222,\"#7201a8\"],[0.3333333333333333,\"#9c179e\"],[0.4444444444444444,\"#bd3786\"],[0.5555555555555556,\"#d8576b\"],[0.6666666666666666,\"#ed7953\"],[0.7777777777777778,\"#fb9f3a\"],[0.8888888888888888,\"#fdca26\"],[1.0,\"#f0f921\"]],\"type\":\"histogram2dcontour\"}],\"mesh3d\":[{\"colorbar\":{\"outlinewidth\":0,\"ticks\":\"\"},\"type\":\"mesh3d\"}],\"parcoords\":[{\"line\":{\"colorbar\":{\"outlinewidth\":0,\"ticks\":\"\"}},\"type\":\"parcoords\"}],\"pie\":[{\"automargin\":true,\"type\":\"pie\"}],\"scatter\":[{\"marker\":{\"colorbar\":{\"outlinewidth\":0,\"ticks\":\"\"}},\"type\":\"scatter\"}],\"scatter3d\":[{\"line\":{\"colorbar\":{\"outlinewidth\":0,\"ticks\":\"\"}},\"marker\":{\"colorbar\":{\"outlinewidth\":0,\"ticks\":\"\"}},\"type\":\"scatter3d\"}],\"scattercarpet\":[{\"marker\":{\"colorbar\":{\"outlinewidth\":0,\"ticks\":\"\"}},\"type\":\"scattercarpet\"}],\"scattergeo\":[{\"marker\":{\"colorbar\":{\"outlinewidth\":0,\"ticks\":\"\"}},\"type\":\"scattergeo\"}],\"scattergl\":[{\"marker\":{\"colorbar\":{\"outlinewidth\":0,\"ticks\":\"\"}},\"type\":\"scattergl\"}],\"scattermapbox\":[{\"marker\":{\"colorbar\":{\"outlinewidth\":0,\"ticks\":\"\"}},\"type\":\"scattermapbox\"}],\"scatterpolar\":[{\"marker\":{\"colorbar\":{\"outlinewidth\":0,\"ticks\":\"\"}},\"type\":\"scatterpolar\"}],\"scatterpolargl\":[{\"marker\":{\"colorbar\":{\"outlinewidth\":0,\"ticks\":\"\"}},\"type\":\"scatterpolargl\"}],\"scatterternary\":[{\"marker\":{\"colorbar\":{\"outlinewidth\":0,\"ticks\":\"\"}},\"type\":\"scatterternary\"}],\"surface\":[{\"colorbar\":{\"outlinewidth\":0,\"ticks\":\"\"},\"colorscale\":[[0.0,\"#0d0887\"],[0.1111111111111111,\"#46039f\"],[0.2222222222222222,\"#7201a8\"],[0.3333333333333333,\"#9c179e\"],[0.4444444444444444,\"#bd3786\"],[0.5555555555555556,\"#d8576b\"],[0.6666666666666666,\"#ed7953\"],[0.7777777777777778,\"#fb9f3a\"],[0.8888888888888888,\"#fdca26\"],[1.0,\"#f0f921\"]],\"type\":\"surface\"}],\"table\":[{\"cells\":{\"fill\":{\"color\":\"#EBF0F8\"},\"line\":{\"color\":\"white\"}},\"header\":{\"fill\":{\"color\":\"#C8D4E3\"},\"line\":{\"color\":\"white\"}},\"type\":\"table\"}]},\"layout\":{\"annotationdefaults\":{\"arrowcolor\":\"#2a3f5f\",\"arrowhead\":0,\"arrowwidth\":1},\"autotypenumbers\":\"strict\",\"coloraxis\":{\"colorbar\":{\"outlinewidth\":0,\"ticks\":\"\"}},\"colorscale\":{\"diverging\":[[0,\"#8e0152\"],[0.1,\"#c51b7d\"],[0.2,\"#de77ae\"],[0.3,\"#f1b6da\"],[0.4,\"#fde0ef\"],[0.5,\"#f7f7f7\"],[0.6,\"#e6f5d0\"],[0.7,\"#b8e186\"],[0.8,\"#7fbc41\"],[0.9,\"#4d9221\"],[1,\"#276419\"]],\"sequential\":[[0.0,\"#0d0887\"],[0.1111111111111111,\"#46039f\"],[0.2222222222222222,\"#7201a8\"],[0.3333333333333333,\"#9c179e\"],[0.4444444444444444,\"#bd3786\"],[0.5555555555555556,\"#d8576b\"],[0.6666666666666666,\"#ed7953\"],[0.7777777777777778,\"#fb9f3a\"],[0.8888888888888888,\"#fdca26\"],[1.0,\"#f0f921\"]],\"sequentialminus\":[[0.0,\"#0d0887\"],[0.1111111111111111,\"#46039f\"],[0.2222222222222222,\"#7201a8\"],[0.3333333333333333,\"#9c179e\"],[0.4444444444444444,\"#bd3786\"],[0.5555555555555556,\"#d8576b\"],[0.6666666666666666,\"#ed7953\"],[0.7777777777777778,\"#fb9f3a\"],[0.8888888888888888,\"#fdca26\"],[1.0,\"#f0f921\"]]},\"colorway\":[\"#636efa\",\"#EF553B\",\"#00cc96\",\"#ab63fa\",\"#FFA15A\",\"#19d3f3\",\"#FF6692\",\"#B6E880\",\"#FF97FF\",\"#FECB52\"],\"font\":{\"color\":\"#2a3f5f\"},\"geo\":{\"bgcolor\":\"white\",\"lakecolor\":\"white\",\"landcolor\":\"#E5ECF6\",\"showlakes\":true,\"showland\":true,\"subunitcolor\":\"white\"},\"hoverlabel\":{\"align\":\"left\"},\"hovermode\":\"closest\",\"mapbox\":{\"style\":\"light\"},\"paper_bgcolor\":\"white\",\"plot_bgcolor\":\"#E5ECF6\",\"polar\":{\"angularaxis\":{\"gridcolor\":\"white\",\"linecolor\":\"white\",\"ticks\":\"\"},\"bgcolor\":\"#E5ECF6\",\"radialaxis\":{\"gridcolor\":\"white\",\"linecolor\":\"white\",\"ticks\":\"\"}},\"scene\":{\"xaxis\":{\"backgroundcolor\":\"#E5ECF6\",\"gridcolor\":\"white\",\"gridwidth\":2,\"linecolor\":\"white\",\"showbackground\":true,\"ticks\":\"\",\"zerolinecolor\":\"white\"},\"yaxis\":{\"backgroundcolor\":\"#E5ECF6\",\"gridcolor\":\"white\",\"gridwidth\":2,\"linecolor\":\"white\",\"showbackground\":true,\"ticks\":\"\",\"zerolinecolor\":\"white\"},\"zaxis\":{\"backgroundcolor\":\"#E5ECF6\",\"gridcolor\":\"white\",\"gridwidth\":2,\"linecolor\":\"white\",\"showbackground\":true,\"ticks\":\"\",\"zerolinecolor\":\"white\"}},\"shapedefaults\":{\"line\":{\"color\":\"#2a3f5f\"}},\"ternary\":{\"aaxis\":{\"gridcolor\":\"white\",\"linecolor\":\"white\",\"ticks\":\"\"},\"baxis\":{\"gridcolor\":\"white\",\"linecolor\":\"white\",\"ticks\":\"\"},\"bgcolor\":\"#E5ECF6\",\"caxis\":{\"gridcolor\":\"white\",\"linecolor\":\"white\",\"ticks\":\"\"}},\"title\":{\"x\":0.05},\"xaxis\":{\"automargin\":true,\"gridcolor\":\"white\",\"linecolor\":\"white\",\"ticks\":\"\",\"title\":{\"standoff\":15},\"zerolinecolor\":\"white\",\"zerolinewidth\":2},\"yaxis\":{\"automargin\":true,\"gridcolor\":\"white\",\"linecolor\":\"white\",\"ticks\":\"\",\"title\":{\"standoff\":15},\"zerolinecolor\":\"white\",\"zerolinewidth\":2}}},\"xaxis\":{\"anchor\":\"y\",\"domain\":[0.0,1.0],\"title\":{\"text\":\"Farm_name\"}},\"yaxis\":{\"anchor\":\"x\",\"domain\":[0.0,1.0],\"title\":{\"text\":\"avg(Total_Cup_Points)\"}},\"legend\":{\"tracegroupgap\":0},\"margin\":{\"t\":60},\"barmode\":\"relative\"},                        {\"responsive\": true}                    ).then(function(){\n",
              "                            \n",
              "var gd = document.getElementById('97ae11da-ec33-40f2-9f97-e698e429e78e');\n",
              "var x = new MutationObserver(function (mutations, observer) {{\n",
              "        var display = window.getComputedStyle(gd).display;\n",
              "        if (!display || display === 'none') {{\n",
              "            console.log([gd, 'removed!']);\n",
              "            Plotly.purge(gd);\n",
              "            observer.disconnect();\n",
              "        }}\n",
              "}});\n",
              "\n",
              "// Listen for the removal of the full notebook cells\n",
              "var notebookContainer = gd.closest('#notebook-container');\n",
              "if (notebookContainer) {{\n",
              "    x.observe(notebookContainer, {childList: true});\n",
              "}}\n",
              "\n",
              "// Listen for the clearing of the current output cell\n",
              "var outputEl = gd.closest('.output');\n",
              "if (outputEl) {{\n",
              "    x.observe(outputEl, {childList: true});\n",
              "}}\n",
              "\n",
              "                        })                };                            </script>        </div>\n",
              "</body>\n",
              "</html>"
            ]
          },
          "metadata": {}
        }
      ]
    },
    {
      "cell_type": "markdown",
      "source": [
        "#### Once again the plot is uninteresting, we can try to scale Total_Cup_Points to see more clearly (and with it let's do it on the tastes column since they suffer the same problem)"
      ],
      "metadata": {
        "id": "2_p6cn1BoM3y"
      }
    },
    {
      "cell_type": "markdown",
      "source": [
        "## Normalizing"
      ],
      "metadata": {
        "id": "I0paRqsloYsG"
      }
    },
    {
      "cell_type": "code",
      "source": [
        "from pyspark.ml.feature import MinMaxScaler\n",
        "from pyspark.ml import Pipeline\n",
        "from pyspark.sql.functions import udf"
      ],
      "metadata": {
        "id": "eFnnRJcooas7"
      },
      "execution_count": null,
      "outputs": []
    },
    {
      "cell_type": "code",
      "source": [
        "unlist = udf(lambda x: round(float(list(x)[0]),3), DoubleType())\n",
        "df_arabica_scaled = df_arabica\n",
        "\n",
        "for i in [\"Aroma\",\"Flavor\",\"Aftertaste\",\\\n",
        "                   \"Acidity\",\"Body\",\"Balance\",\"Total_Cup_Points\"]:\n",
        "    # VectorAssembler Transformation - Converting column to vector type\n",
        "    assembler = VectorAssembler(inputCols=[i],outputCol=i+\"_Vect\")\n",
        "\n",
        "    # MinMaxScaler Transformation\n",
        "    scaler = MinMaxScaler(inputCol=i+\"_Vect\", outputCol=i+\"_Scaled\")\n",
        "\n",
        "    # Pipeline of VectorAssembler and MinMaxScaler\n",
        "    pipeline = Pipeline(stages=[assembler, scaler])\n",
        "\n",
        "    # Fitting pipeline on dataframe\n",
        "    df_arabica_scaled = pipeline.fit(df_arabica_scaled).transform(df_arabica_scaled).withColumn(i+\"_Scaled\", unlist(i+\"_Scaled\")).drop(i+\"_Vect\")\n",
        "\n",
        "print(\"After Scaling :\")\n",
        "df_arabica_scaled.show(5)"
      ],
      "metadata": {
        "id": "6jyses5EoLxk",
        "colab": {
          "base_uri": "https://localhost:8080/"
        },
        "outputId": "96d1af45-2650-48c8-e0fc-b219a937946a"
      },
      "execution_count": null,
      "outputs": [
        {
          "output_type": "stream",
          "name": "stdout",
          "text": [
            "After Scaling :\n",
            "+--------------------+--------+--------------+-----+------+----------+-------+----+-------+----------+---------+---------+----------------+--------------------+-------------------+-------------------+------------+-------------+-----------------+--------------+-----------+--------------+-----------------------+\n",
            "|           Farm_name|Altitude|       Variety|Aroma|Flavor|Aftertaste|Acidity|Body|Balance|Uniformity|Clean_Cup|Sweetness|Total_Cup_Points|altitude_mean_meters|                lat|               long|Aroma_Scaled|Flavor_Scaled|Aftertaste_Scaled|Acidity_Scaled|Body_Scaled|Balance_Scaled|Total_Cup_Points_Scaled|\n",
            "+--------------------+--------+--------------+-----+------+----------+-------+----+-------+----------+---------+---------+----------------+--------------------+-------------------+-------------------+------------+-------------+-----------------+--------------+-----------+--------------+-----------------------+\n",
            "|fazenda são sebas...|   1000m|    Mundo Novo| 7.42|  7.33|      7.25|   7.42| 7.5|   7.17|      10.0|     10.0|     10.0|           81.17|              1000.0|-21.444863288363614|-46.827235570452125|       0.316|         0.22|            0.359|         0.355|      0.447|           0.2|                    0.4|\n",
            "|       santa bárbara|    1020|        Catuai| 7.42|  7.33|      7.33|    7.5| 7.5|   7.33|      10.0|     10.0|     10.0|           81.92|              1020.0| -18.52732198399872|-47.569893903127564|       0.316|         0.22|            0.427|         0.411|      0.447|         0.328|                  0.479|\n",
            "|   fazenda rio verde|    1260|Yellow Bourbon| 7.58|  7.83|      7.67|   7.25| 8.0|   7.75|      10.0|     10.0|     10.0|            84.0|              1260.0|-21.877600079894428| -45.17833587173798|       0.418|        0.553|            0.718|         0.234|       0.78|         0.664|                  0.696|\n",
            "|   fazenda rio verde|    1260|Yellow Bourbon| 7.92|   7.5|      7.33|   7.67|8.17|    7.5|      10.0|     10.0|     10.0|           83.83|              1260.0|-21.877600079894428| -45.17833587173798|       0.633|        0.333|            0.427|         0.532|      0.893|         0.464|                  0.678|\n",
            "|   fazenda rio verde|    1260|Yellow Bourbon| 7.42|   7.5|      7.67|   7.33|7.42|   7.67|      10.0|     10.0|     10.0|            82.5|              1260.0|-21.877600079894428| -45.17833587173798|       0.316|        0.333|            0.718|         0.291|      0.393|           0.6|                  0.539|\n",
            "+--------------------+--------+--------------+-----+------+----------+-------+----+-------+----------+---------+---------+----------------+--------------------+-------------------+-------------------+------------+-------------+-----------------+--------------+-----------+--------------+-----------------------+\n",
            "only showing top 5 rows\n",
            "\n"
          ]
        }
      ]
    },
    {
      "cell_type": "markdown",
      "source": [
        "source : https://stackoverflow.com/questions/40337744/scalenormalise-a-column-in-spark-dataframe-pyspark"
      ],
      "metadata": {
        "id": "QrPiRf-nqVMh"
      }
    },
    {
      "cell_type": "markdown",
      "source": [
        "# Back to Exploration"
      ],
      "metadata": {
        "id": "rVBT1T4vsNub"
      }
    },
    {
      "cell_type": "markdown",
      "source": [
        "## Let's try again the previous plots"
      ],
      "metadata": {
        "id": "Gb_aMJwxsZsr"
      }
    },
    {
      "cell_type": "markdown",
      "source": [
        "## Variety"
      ],
      "metadata": {
        "id": "-qD3fjJJspzq"
      }
    },
    {
      "cell_type": "code",
      "source": [
        "var = df_arabica_scaled.groupBy(\"Variety\").mean(\"Total_Cup_Points_Scaled\")\n",
        "px.bar(var.toPandas(), x='Variety', y='avg(Total_Cup_Points_Scaled)')"
      ],
      "metadata": {
        "id": "tb6jmXElsePZ",
        "colab": {
          "base_uri": "https://localhost:8080/",
          "height": 542
        },
        "outputId": "593baa1e-36ed-4380-a86e-2ec6c9313126"
      },
      "execution_count": null,
      "outputs": [
        {
          "output_type": "display_data",
          "data": {
            "text/html": [
              "<html>\n",
              "<head><meta charset=\"utf-8\" /></head>\n",
              "<body>\n",
              "    <div>            <script src=\"https://cdnjs.cloudflare.com/ajax/libs/mathjax/2.7.5/MathJax.js?config=TeX-AMS-MML_SVG\"></script><script type=\"text/javascript\">if (window.MathJax) {MathJax.Hub.Config({SVG: {font: \"STIX-Web\"}});}</script>                <script type=\"text/javascript\">window.PlotlyConfig = {MathJaxConfig: 'local'};</script>\n",
              "        <script src=\"https://cdn.plot.ly/plotly-2.8.3.min.js\"></script>                <div id=\"32c98d0c-970a-474b-ab53-7cde0595ff0f\" class=\"plotly-graph-div\" style=\"height:525px; width:100%;\"></div>            <script type=\"text/javascript\">                                    window.PLOTLYENV=window.PLOTLYENV || {};                                    if (document.getElementById(\"32c98d0c-970a-474b-ab53-7cde0595ff0f\")) {                    Plotly.newPlot(                        \"32c98d0c-970a-474b-ab53-7cde0595ff0f\",                        [{\"alignmentgroup\":\"True\",\"hovertemplate\":\"Variety=%{x}<br>avg(Total_Cup_Points_Scaled)=%{y}<extra></extra>\",\"legendgroup\":\"\",\"marker\":{\"color\":\"#636efa\",\"pattern\":{\"shape\":\"\"}},\"name\":\"\",\"offsetgroup\":\"\",\"orientation\":\"v\",\"showlegend\":false,\"textposition\":\"auto\",\"x\":[\"Yellow Bourbon\",\"Mundo Novo\",\"unknown\",\"Catuai\",\"Bourbon\",\"Moka Peaberry\"],\"xaxis\":\"x\",\"y\":[0.5551,0.5373749999999999,0.6695,0.549875,0.5816410256410258,0.583],\"yaxis\":\"y\",\"type\":\"bar\"}],                        {\"template\":{\"data\":{\"bar\":[{\"error_x\":{\"color\":\"#2a3f5f\"},\"error_y\":{\"color\":\"#2a3f5f\"},\"marker\":{\"line\":{\"color\":\"#E5ECF6\",\"width\":0.5},\"pattern\":{\"fillmode\":\"overlay\",\"size\":10,\"solidity\":0.2}},\"type\":\"bar\"}],\"barpolar\":[{\"marker\":{\"line\":{\"color\":\"#E5ECF6\",\"width\":0.5},\"pattern\":{\"fillmode\":\"overlay\",\"size\":10,\"solidity\":0.2}},\"type\":\"barpolar\"}],\"carpet\":[{\"aaxis\":{\"endlinecolor\":\"#2a3f5f\",\"gridcolor\":\"white\",\"linecolor\":\"white\",\"minorgridcolor\":\"white\",\"startlinecolor\":\"#2a3f5f\"},\"baxis\":{\"endlinecolor\":\"#2a3f5f\",\"gridcolor\":\"white\",\"linecolor\":\"white\",\"minorgridcolor\":\"white\",\"startlinecolor\":\"#2a3f5f\"},\"type\":\"carpet\"}],\"choropleth\":[{\"colorbar\":{\"outlinewidth\":0,\"ticks\":\"\"},\"type\":\"choropleth\"}],\"contour\":[{\"colorbar\":{\"outlinewidth\":0,\"ticks\":\"\"},\"colorscale\":[[0.0,\"#0d0887\"],[0.1111111111111111,\"#46039f\"],[0.2222222222222222,\"#7201a8\"],[0.3333333333333333,\"#9c179e\"],[0.4444444444444444,\"#bd3786\"],[0.5555555555555556,\"#d8576b\"],[0.6666666666666666,\"#ed7953\"],[0.7777777777777778,\"#fb9f3a\"],[0.8888888888888888,\"#fdca26\"],[1.0,\"#f0f921\"]],\"type\":\"contour\"}],\"contourcarpet\":[{\"colorbar\":{\"outlinewidth\":0,\"ticks\":\"\"},\"type\":\"contourcarpet\"}],\"heatmap\":[{\"colorbar\":{\"outlinewidth\":0,\"ticks\":\"\"},\"colorscale\":[[0.0,\"#0d0887\"],[0.1111111111111111,\"#46039f\"],[0.2222222222222222,\"#7201a8\"],[0.3333333333333333,\"#9c179e\"],[0.4444444444444444,\"#bd3786\"],[0.5555555555555556,\"#d8576b\"],[0.6666666666666666,\"#ed7953\"],[0.7777777777777778,\"#fb9f3a\"],[0.8888888888888888,\"#fdca26\"],[1.0,\"#f0f921\"]],\"type\":\"heatmap\"}],\"heatmapgl\":[{\"colorbar\":{\"outlinewidth\":0,\"ticks\":\"\"},\"colorscale\":[[0.0,\"#0d0887\"],[0.1111111111111111,\"#46039f\"],[0.2222222222222222,\"#7201a8\"],[0.3333333333333333,\"#9c179e\"],[0.4444444444444444,\"#bd3786\"],[0.5555555555555556,\"#d8576b\"],[0.6666666666666666,\"#ed7953\"],[0.7777777777777778,\"#fb9f3a\"],[0.8888888888888888,\"#fdca26\"],[1.0,\"#f0f921\"]],\"type\":\"heatmapgl\"}],\"histogram\":[{\"marker\":{\"pattern\":{\"fillmode\":\"overlay\",\"size\":10,\"solidity\":0.2}},\"type\":\"histogram\"}],\"histogram2d\":[{\"colorbar\":{\"outlinewidth\":0,\"ticks\":\"\"},\"colorscale\":[[0.0,\"#0d0887\"],[0.1111111111111111,\"#46039f\"],[0.2222222222222222,\"#7201a8\"],[0.3333333333333333,\"#9c179e\"],[0.4444444444444444,\"#bd3786\"],[0.5555555555555556,\"#d8576b\"],[0.6666666666666666,\"#ed7953\"],[0.7777777777777778,\"#fb9f3a\"],[0.8888888888888888,\"#fdca26\"],[1.0,\"#f0f921\"]],\"type\":\"histogram2d\"}],\"histogram2dcontour\":[{\"colorbar\":{\"outlinewidth\":0,\"ticks\":\"\"},\"colorscale\":[[0.0,\"#0d0887\"],[0.1111111111111111,\"#46039f\"],[0.2222222222222222,\"#7201a8\"],[0.3333333333333333,\"#9c179e\"],[0.4444444444444444,\"#bd3786\"],[0.5555555555555556,\"#d8576b\"],[0.6666666666666666,\"#ed7953\"],[0.7777777777777778,\"#fb9f3a\"],[0.8888888888888888,\"#fdca26\"],[1.0,\"#f0f921\"]],\"type\":\"histogram2dcontour\"}],\"mesh3d\":[{\"colorbar\":{\"outlinewidth\":0,\"ticks\":\"\"},\"type\":\"mesh3d\"}],\"parcoords\":[{\"line\":{\"colorbar\":{\"outlinewidth\":0,\"ticks\":\"\"}},\"type\":\"parcoords\"}],\"pie\":[{\"automargin\":true,\"type\":\"pie\"}],\"scatter\":[{\"marker\":{\"colorbar\":{\"outlinewidth\":0,\"ticks\":\"\"}},\"type\":\"scatter\"}],\"scatter3d\":[{\"line\":{\"colorbar\":{\"outlinewidth\":0,\"ticks\":\"\"}},\"marker\":{\"colorbar\":{\"outlinewidth\":0,\"ticks\":\"\"}},\"type\":\"scatter3d\"}],\"scattercarpet\":[{\"marker\":{\"colorbar\":{\"outlinewidth\":0,\"ticks\":\"\"}},\"type\":\"scattercarpet\"}],\"scattergeo\":[{\"marker\":{\"colorbar\":{\"outlinewidth\":0,\"ticks\":\"\"}},\"type\":\"scattergeo\"}],\"scattergl\":[{\"marker\":{\"colorbar\":{\"outlinewidth\":0,\"ticks\":\"\"}},\"type\":\"scattergl\"}],\"scattermapbox\":[{\"marker\":{\"colorbar\":{\"outlinewidth\":0,\"ticks\":\"\"}},\"type\":\"scattermapbox\"}],\"scatterpolar\":[{\"marker\":{\"colorbar\":{\"outlinewidth\":0,\"ticks\":\"\"}},\"type\":\"scatterpolar\"}],\"scatterpolargl\":[{\"marker\":{\"colorbar\":{\"outlinewidth\":0,\"ticks\":\"\"}},\"type\":\"scatterpolargl\"}],\"scatterternary\":[{\"marker\":{\"colorbar\":{\"outlinewidth\":0,\"ticks\":\"\"}},\"type\":\"scatterternary\"}],\"surface\":[{\"colorbar\":{\"outlinewidth\":0,\"ticks\":\"\"},\"colorscale\":[[0.0,\"#0d0887\"],[0.1111111111111111,\"#46039f\"],[0.2222222222222222,\"#7201a8\"],[0.3333333333333333,\"#9c179e\"],[0.4444444444444444,\"#bd3786\"],[0.5555555555555556,\"#d8576b\"],[0.6666666666666666,\"#ed7953\"],[0.7777777777777778,\"#fb9f3a\"],[0.8888888888888888,\"#fdca26\"],[1.0,\"#f0f921\"]],\"type\":\"surface\"}],\"table\":[{\"cells\":{\"fill\":{\"color\":\"#EBF0F8\"},\"line\":{\"color\":\"white\"}},\"header\":{\"fill\":{\"color\":\"#C8D4E3\"},\"line\":{\"color\":\"white\"}},\"type\":\"table\"}]},\"layout\":{\"annotationdefaults\":{\"arrowcolor\":\"#2a3f5f\",\"arrowhead\":0,\"arrowwidth\":1},\"autotypenumbers\":\"strict\",\"coloraxis\":{\"colorbar\":{\"outlinewidth\":0,\"ticks\":\"\"}},\"colorscale\":{\"diverging\":[[0,\"#8e0152\"],[0.1,\"#c51b7d\"],[0.2,\"#de77ae\"],[0.3,\"#f1b6da\"],[0.4,\"#fde0ef\"],[0.5,\"#f7f7f7\"],[0.6,\"#e6f5d0\"],[0.7,\"#b8e186\"],[0.8,\"#7fbc41\"],[0.9,\"#4d9221\"],[1,\"#276419\"]],\"sequential\":[[0.0,\"#0d0887\"],[0.1111111111111111,\"#46039f\"],[0.2222222222222222,\"#7201a8\"],[0.3333333333333333,\"#9c179e\"],[0.4444444444444444,\"#bd3786\"],[0.5555555555555556,\"#d8576b\"],[0.6666666666666666,\"#ed7953\"],[0.7777777777777778,\"#fb9f3a\"],[0.8888888888888888,\"#fdca26\"],[1.0,\"#f0f921\"]],\"sequentialminus\":[[0.0,\"#0d0887\"],[0.1111111111111111,\"#46039f\"],[0.2222222222222222,\"#7201a8\"],[0.3333333333333333,\"#9c179e\"],[0.4444444444444444,\"#bd3786\"],[0.5555555555555556,\"#d8576b\"],[0.6666666666666666,\"#ed7953\"],[0.7777777777777778,\"#fb9f3a\"],[0.8888888888888888,\"#fdca26\"],[1.0,\"#f0f921\"]]},\"colorway\":[\"#636efa\",\"#EF553B\",\"#00cc96\",\"#ab63fa\",\"#FFA15A\",\"#19d3f3\",\"#FF6692\",\"#B6E880\",\"#FF97FF\",\"#FECB52\"],\"font\":{\"color\":\"#2a3f5f\"},\"geo\":{\"bgcolor\":\"white\",\"lakecolor\":\"white\",\"landcolor\":\"#E5ECF6\",\"showlakes\":true,\"showland\":true,\"subunitcolor\":\"white\"},\"hoverlabel\":{\"align\":\"left\"},\"hovermode\":\"closest\",\"mapbox\":{\"style\":\"light\"},\"paper_bgcolor\":\"white\",\"plot_bgcolor\":\"#E5ECF6\",\"polar\":{\"angularaxis\":{\"gridcolor\":\"white\",\"linecolor\":\"white\",\"ticks\":\"\"},\"bgcolor\":\"#E5ECF6\",\"radialaxis\":{\"gridcolor\":\"white\",\"linecolor\":\"white\",\"ticks\":\"\"}},\"scene\":{\"xaxis\":{\"backgroundcolor\":\"#E5ECF6\",\"gridcolor\":\"white\",\"gridwidth\":2,\"linecolor\":\"white\",\"showbackground\":true,\"ticks\":\"\",\"zerolinecolor\":\"white\"},\"yaxis\":{\"backgroundcolor\":\"#E5ECF6\",\"gridcolor\":\"white\",\"gridwidth\":2,\"linecolor\":\"white\",\"showbackground\":true,\"ticks\":\"\",\"zerolinecolor\":\"white\"},\"zaxis\":{\"backgroundcolor\":\"#E5ECF6\",\"gridcolor\":\"white\",\"gridwidth\":2,\"linecolor\":\"white\",\"showbackground\":true,\"ticks\":\"\",\"zerolinecolor\":\"white\"}},\"shapedefaults\":{\"line\":{\"color\":\"#2a3f5f\"}},\"ternary\":{\"aaxis\":{\"gridcolor\":\"white\",\"linecolor\":\"white\",\"ticks\":\"\"},\"baxis\":{\"gridcolor\":\"white\",\"linecolor\":\"white\",\"ticks\":\"\"},\"bgcolor\":\"#E5ECF6\",\"caxis\":{\"gridcolor\":\"white\",\"linecolor\":\"white\",\"ticks\":\"\"}},\"title\":{\"x\":0.05},\"xaxis\":{\"automargin\":true,\"gridcolor\":\"white\",\"linecolor\":\"white\",\"ticks\":\"\",\"title\":{\"standoff\":15},\"zerolinecolor\":\"white\",\"zerolinewidth\":2},\"yaxis\":{\"automargin\":true,\"gridcolor\":\"white\",\"linecolor\":\"white\",\"ticks\":\"\",\"title\":{\"standoff\":15},\"zerolinecolor\":\"white\",\"zerolinewidth\":2}}},\"xaxis\":{\"anchor\":\"y\",\"domain\":[0.0,1.0],\"title\":{\"text\":\"Variety\"}},\"yaxis\":{\"anchor\":\"x\",\"domain\":[0.0,1.0],\"title\":{\"text\":\"avg(Total_Cup_Points_Scaled)\"}},\"legend\":{\"tracegroupgap\":0},\"margin\":{\"t\":60},\"barmode\":\"relative\"},                        {\"responsive\": true}                    ).then(function(){\n",
              "                            \n",
              "var gd = document.getElementById('32c98d0c-970a-474b-ab53-7cde0595ff0f');\n",
              "var x = new MutationObserver(function (mutations, observer) {{\n",
              "        var display = window.getComputedStyle(gd).display;\n",
              "        if (!display || display === 'none') {{\n",
              "            console.log([gd, 'removed!']);\n",
              "            Plotly.purge(gd);\n",
              "            observer.disconnect();\n",
              "        }}\n",
              "}});\n",
              "\n",
              "// Listen for the removal of the full notebook cells\n",
              "var notebookContainer = gd.closest('#notebook-container');\n",
              "if (notebookContainer) {{\n",
              "    x.observe(notebookContainer, {childList: true});\n",
              "}}\n",
              "\n",
              "// Listen for the clearing of the current output cell\n",
              "var outputEl = gd.closest('.output');\n",
              "if (outputEl) {{\n",
              "    x.observe(outputEl, {childList: true});\n",
              "}}\n",
              "\n",
              "                        })                };                            </script>        </div>\n",
              "</body>\n",
              "</html>"
            ]
          },
          "metadata": {}
        }
      ]
    },
    {
      "cell_type": "code",
      "source": [
        "plt.figure(figsize=(15,8))\n",
        "sns.set_theme(style=\"darkgrid\")\n",
        "sns.lineplot(x=\"Variety\", y='avg(Total_Cup_Points_Scaled)', data=var.toPandas()).set_title('Variation of the coffee grade according to the variety')"
      ],
      "metadata": {
        "id": "EUAEFdcwJlC1",
        "colab": {
          "base_uri": "https://localhost:8080/",
          "height": 535
        },
        "outputId": "b7b422f7-7292-4d26-e732-48c091ac452a"
      },
      "execution_count": null,
      "outputs": [
        {
          "output_type": "execute_result",
          "data": {
            "text/plain": [
              "Text(0.5, 1.0, 'Variation of the coffee grade according to the variety')"
            ]
          },
          "metadata": {},
          "execution_count": 39
        },
        {
          "output_type": "display_data",
          "data": {
            "text/plain": [
              "<Figure size 1080x576 with 1 Axes>"
            ],
            "image/png": "[encoded data removed]"
          },
          "metadata": {}
        }
      ]
    },
    {
      "cell_type": "markdown",
      "source": [
        "# TOOOOOOOOOOOOOOOOOOOO DOOOOOOOOOOOOOOOOOOOOOOOOOOOOOOOOOOOOOOOOOO"
      ],
      "metadata": {
        "id": "mAHj_A4ItRGm"
      }
    },
    {
      "cell_type": "markdown",
      "source": [
        "## Farms"
      ],
      "metadata": {
        "id": "KQ_GJ3HWsnqs"
      }
    },
    {
      "cell_type": "code",
      "source": [
        "farmr = df_arabica_scaled.groupBy(\"Farm_name\").mean(\"Total_Cup_Points_Scaled\")\n",
        "px.bar(farmr.toPandas().sort_values(by=['avg(Total_Cup_Points_Scaled)']), x='Farm_name', y='avg(Total_Cup_Points_Scaled)')"
      ],
      "metadata": {
        "id": "yK10qWfnshxv",
        "colab": {
          "base_uri": "https://localhost:8080/",
          "height": 542
        },
        "outputId": "456c6932-cf25-44db-a76f-43259d49ccc5"
      },
      "execution_count": null,
      "outputs": [
        {
          "output_type": "display_data",
          "data": {
            "text/html": [
              "<html>\n",
              "<head><meta charset=\"utf-8\" /></head>\n",
              "<body>\n",
              "    <div>            <script src=\"https://cdnjs.cloudflare.com/ajax/libs/mathjax/2.7.5/MathJax.js?config=TeX-AMS-MML_SVG\"></script><script type=\"text/javascript\">if (window.MathJax) {MathJax.Hub.Config({SVG: {font: \"STIX-Web\"}});}</script>                <script type=\"text/javascript\">window.PlotlyConfig = {MathJaxConfig: 'local'};</script>\n",
              "        <script src=\"https://cdn.plot.ly/plotly-2.8.3.min.js\"></script>                <div id=\"e519804f-cf9a-4e3c-b123-73094282d9b3\" class=\"plotly-graph-div\" style=\"height:525px; width:100%;\"></div>            <script type=\"text/javascript\">                                    window.PLOTLYENV=window.PLOTLYENV || {};                                    if (document.getElementById(\"e519804f-cf9a-4e3c-b123-73094282d9b3\")) {                    Plotly.newPlot(                        \"e519804f-cf9a-4e3c-b123-73094282d9b3\",                        [{\"alignmentgroup\":\"True\",\"hovertemplate\":\"Farm_name=%{x}<br>avg(Total_Cup_Points_Scaled)=%{y}<extra></extra>\",\"legendgroup\":\"\",\"marker\":{\"color\":\"#636efa\",\"pattern\":{\"shape\":\"\"}},\"name\":\"\",\"offsetgroup\":\"\",\"orientation\":\"v\",\"showlegend\":false,\"textposition\":\"auto\",\"x\":[\"s\\u00e3o rafael_ ra_ras certified\",\"cachoeira da grama farm\",\"fazenda s\\u00e3o jos\\u00e9 mirante\",\"fazenda s\\u00e3o sebasti\\u00e3o\",\"fazenda sacramento\",\"fazenda rio brilhante\",\"sertao\",\"sertao farm\",\"fazendas klem ltda\",\"helena\",\"cianorte\",\"santa b\\u00e1rbara\",\"sit\\u00edo corrego da olaria_s\\u00e3o caetano\",\"santa mariana_s\\u00e3o vicente\",\"s\\u00e3o jos\\u00e9 da lagoa\",\"rio verde\",\"caf\\u00e9 citrus\",\"sit\\u00edo santa luzia\",\"fazenda s\\u00e3o pedro\",\"fazenda serra negra\",\"fazenda capoeirnha\",\"fazenda chamusca\",\"campo das flores\",\"santa f\\u00e9 2\",\"capoeirinha\",\"fazenda pantano\",\"fazenda santo antonio\",\"caf\\u00e9 do para\\u00edso\",\"fazenda do sertao\",\"fazenda do lobo\",\"s\\u00e3o francisco da serra\",\"olhos d'agua\",\"fazenda rio verde\",\"\\u00e1gua limpa\",\"fazenda jeric\\u00f3\",\"pereira estate coffee\",\"pantano\",\"fazenda baipendi\",\"santa alina\",\"fazenda vista alegre\",\"fazenda grota funda\",\"sitio claro\",\"sit\\u00edo s\\u00e3o geraldo\",\"fazenda serra de tr\\u00eas barras\",\"fazenda recreio\",\"fazenda kaquend\"],\"xaxis\":\"x\",\"y\":[0.304,0.331,0.391,0.4,0.417,0.426,0.435,0.46275,0.46499999999999997,0.469,0.469,0.479,0.479,0.487,0.487,0.5061739130434783,0.521,0.521,0.521,0.531,0.5411538461538462,0.547,0.548,0.574,0.58,0.583,0.591,0.6,0.6085,0.609,0.609,0.609,0.6110000000000001,0.617,0.652,0.6525,0.713,0.73,0.73,0.756,0.791,0.791,0.8,0.844,0.852,0.956],\"yaxis\":\"y\",\"type\":\"bar\"}],                        {\"template\":{\"data\":{\"bar\":[{\"error_x\":{\"color\":\"#2a3f5f\"},\"error_y\":{\"color\":\"#2a3f5f\"},\"marker\":{\"line\":{\"color\":\"#E5ECF6\",\"width\":0.5},\"pattern\":{\"fillmode\":\"overlay\",\"size\":10,\"solidity\":0.2}},\"type\":\"bar\"}],\"barpolar\":[{\"marker\":{\"line\":{\"color\":\"#E5ECF6\",\"width\":0.5},\"pattern\":{\"fillmode\":\"overlay\",\"size\":10,\"solidity\":0.2}},\"type\":\"barpolar\"}],\"carpet\":[{\"aaxis\":{\"endlinecolor\":\"#2a3f5f\",\"gridcolor\":\"white\",\"linecolor\":\"white\",\"minorgridcolor\":\"white\",\"startlinecolor\":\"#2a3f5f\"},\"baxis\":{\"endlinecolor\":\"#2a3f5f\",\"gridcolor\":\"white\",\"linecolor\":\"white\",\"minorgridcolor\":\"white\",\"startlinecolor\":\"#2a3f5f\"},\"type\":\"carpet\"}],\"choropleth\":[{\"colorbar\":{\"outlinewidth\":0,\"ticks\":\"\"},\"type\":\"choropleth\"}],\"contour\":[{\"colorbar\":{\"outlinewidth\":0,\"ticks\":\"\"},\"colorscale\":[[0.0,\"#0d0887\"],[0.1111111111111111,\"#46039f\"],[0.2222222222222222,\"#7201a8\"],[0.3333333333333333,\"#9c179e\"],[0.4444444444444444,\"#bd3786\"],[0.5555555555555556,\"#d8576b\"],[0.6666666666666666,\"#ed7953\"],[0.7777777777777778,\"#fb9f3a\"],[0.8888888888888888,\"#fdca26\"],[1.0,\"#f0f921\"]],\"type\":\"contour\"}],\"contourcarpet\":[{\"colorbar\":{\"outlinewidth\":0,\"ticks\":\"\"},\"type\":\"contourcarpet\"}],\"heatmap\":[{\"colorbar\":{\"outlinewidth\":0,\"ticks\":\"\"},\"colorscale\":[[0.0,\"#0d0887\"],[0.1111111111111111,\"#46039f\"],[0.2222222222222222,\"#7201a8\"],[0.3333333333333333,\"#9c179e\"],[0.4444444444444444,\"#bd3786\"],[0.5555555555555556,\"#d8576b\"],[0.6666666666666666,\"#ed7953\"],[0.7777777777777778,\"#fb9f3a\"],[0.8888888888888888,\"#fdca26\"],[1.0,\"#f0f921\"]],\"type\":\"heatmap\"}],\"heatmapgl\":[{\"colorbar\":{\"outlinewidth\":0,\"ticks\":\"\"},\"colorscale\":[[0.0,\"#0d0887\"],[0.1111111111111111,\"#46039f\"],[0.2222222222222222,\"#7201a8\"],[0.3333333333333333,\"#9c179e\"],[0.4444444444444444,\"#bd3786\"],[0.5555555555555556,\"#d8576b\"],[0.6666666666666666,\"#ed7953\"],[0.7777777777777778,\"#fb9f3a\"],[0.8888888888888888,\"#fdca26\"],[1.0,\"#f0f921\"]],\"type\":\"heatmapgl\"}],\"histogram\":[{\"marker\":{\"pattern\":{\"fillmode\":\"overlay\",\"size\":10,\"solidity\":0.2}},\"type\":\"histogram\"}],\"histogram2d\":[{\"colorbar\":{\"outlinewidth\":0,\"ticks\":\"\"},\"colorscale\":[[0.0,\"#0d0887\"],[0.1111111111111111,\"#46039f\"],[0.2222222222222222,\"#7201a8\"],[0.3333333333333333,\"#9c179e\"],[0.4444444444444444,\"#bd3786\"],[0.5555555555555556,\"#d8576b\"],[0.6666666666666666,\"#ed7953\"],[0.7777777777777778,\"#fb9f3a\"],[0.8888888888888888,\"#fdca26\"],[1.0,\"#f0f921\"]],\"type\":\"histogram2d\"}],\"histogram2dcontour\":[{\"colorbar\":{\"outlinewidth\":0,\"ticks\":\"\"},\"colorscale\":[[0.0,\"#0d0887\"],[0.1111111111111111,\"#46039f\"],[0.2222222222222222,\"#7201a8\"],[0.3333333333333333,\"#9c179e\"],[0.4444444444444444,\"#bd3786\"],[0.5555555555555556,\"#d8576b\"],[0.6666666666666666,\"#ed7953\"],[0.7777777777777778,\"#fb9f3a\"],[0.8888888888888888,\"#fdca26\"],[1.0,\"#f0f921\"]],\"type\":\"histogram2dcontour\"}],\"mesh3d\":[{\"colorbar\":{\"outlinewidth\":0,\"ticks\":\"\"},\"type\":\"mesh3d\"}],\"parcoords\":[{\"line\":{\"colorbar\":{\"outlinewidth\":0,\"ticks\":\"\"}},\"type\":\"parcoords\"}],\"pie\":[{\"automargin\":true,\"type\":\"pie\"}],\"scatter\":[{\"marker\":{\"colorbar\":{\"outlinewidth\":0,\"ticks\":\"\"}},\"type\":\"scatter\"}],\"scatter3d\":[{\"line\":{\"colorbar\":{\"outlinewidth\":0,\"ticks\":\"\"}},\"marker\":{\"colorbar\":{\"outlinewidth\":0,\"ticks\":\"\"}},\"type\":\"scatter3d\"}],\"scattercarpet\":[{\"marker\":{\"colorbar\":{\"outlinewidth\":0,\"ticks\":\"\"}},\"type\":\"scattercarpet\"}],\"scattergeo\":[{\"marker\":{\"colorbar\":{\"outlinewidth\":0,\"ticks\":\"\"}},\"type\":\"scattergeo\"}],\"scattergl\":[{\"marker\":{\"colorbar\":{\"outlinewidth\":0,\"ticks\":\"\"}},\"type\":\"scattergl\"}],\"scattermapbox\":[{\"marker\":{\"colorbar\":{\"outlinewidth\":0,\"ticks\":\"\"}},\"type\":\"scattermapbox\"}],\"scatterpolar\":[{\"marker\":{\"colorbar\":{\"outlinewidth\":0,\"ticks\":\"\"}},\"type\":\"scatterpolar\"}],\"scatterpolargl\":[{\"marker\":{\"colorbar\":{\"outlinewidth\":0,\"ticks\":\"\"}},\"type\":\"scatterpolargl\"}],\"scatterternary\":[{\"marker\":{\"colorbar\":{\"outlinewidth\":0,\"ticks\":\"\"}},\"type\":\"scatterternary\"}],\"surface\":[{\"colorbar\":{\"outlinewidth\":0,\"ticks\":\"\"},\"colorscale\":[[0.0,\"#0d0887\"],[0.1111111111111111,\"#46039f\"],[0.2222222222222222,\"#7201a8\"],[0.3333333333333333,\"#9c179e\"],[0.4444444444444444,\"#bd3786\"],[0.5555555555555556,\"#d8576b\"],[0.6666666666666666,\"#ed7953\"],[0.7777777777777778,\"#fb9f3a\"],[0.8888888888888888,\"#fdca26\"],[1.0,\"#f0f921\"]],\"type\":\"surface\"}],\"table\":[{\"cells\":{\"fill\":{\"color\":\"#EBF0F8\"},\"line\":{\"color\":\"white\"}},\"header\":{\"fill\":{\"color\":\"#C8D4E3\"},\"line\":{\"color\":\"white\"}},\"type\":\"table\"}]},\"layout\":{\"annotationdefaults\":{\"arrowcolor\":\"#2a3f5f\",\"arrowhead\":0,\"arrowwidth\":1},\"autotypenumbers\":\"strict\",\"coloraxis\":{\"colorbar\":{\"outlinewidth\":0,\"ticks\":\"\"}},\"colorscale\":{\"diverging\":[[0,\"#8e0152\"],[0.1,\"#c51b7d\"],[0.2,\"#de77ae\"],[0.3,\"#f1b6da\"],[0.4,\"#fde0ef\"],[0.5,\"#f7f7f7\"],[0.6,\"#e6f5d0\"],[0.7,\"#b8e186\"],[0.8,\"#7fbc41\"],[0.9,\"#4d9221\"],[1,\"#276419\"]],\"sequential\":[[0.0,\"#0d0887\"],[0.1111111111111111,\"#46039f\"],[0.2222222222222222,\"#7201a8\"],[0.3333333333333333,\"#9c179e\"],[0.4444444444444444,\"#bd3786\"],[0.5555555555555556,\"#d8576b\"],[0.6666666666666666,\"#ed7953\"],[0.7777777777777778,\"#fb9f3a\"],[0.8888888888888888,\"#fdca26\"],[1.0,\"#f0f921\"]],\"sequentialminus\":[[0.0,\"#0d0887\"],[0.1111111111111111,\"#46039f\"],[0.2222222222222222,\"#7201a8\"],[0.3333333333333333,\"#9c179e\"],[0.4444444444444444,\"#bd3786\"],[0.5555555555555556,\"#d8576b\"],[0.6666666666666666,\"#ed7953\"],[0.7777777777777778,\"#fb9f3a\"],[0.8888888888888888,\"#fdca26\"],[1.0,\"#f0f921\"]]},\"colorway\":[\"#636efa\",\"#EF553B\",\"#00cc96\",\"#ab63fa\",\"#FFA15A\",\"#19d3f3\",\"#FF6692\",\"#B6E880\",\"#FF97FF\",\"#FECB52\"],\"font\":{\"color\":\"#2a3f5f\"},\"geo\":{\"bgcolor\":\"white\",\"lakecolor\":\"white\",\"landcolor\":\"#E5ECF6\",\"showlakes\":true,\"showland\":true,\"subunitcolor\":\"white\"},\"hoverlabel\":{\"align\":\"left\"},\"hovermode\":\"closest\",\"mapbox\":{\"style\":\"light\"},\"paper_bgcolor\":\"white\",\"plot_bgcolor\":\"#E5ECF6\",\"polar\":{\"angularaxis\":{\"gridcolor\":\"white\",\"linecolor\":\"white\",\"ticks\":\"\"},\"bgcolor\":\"#E5ECF6\",\"radialaxis\":{\"gridcolor\":\"white\",\"linecolor\":\"white\",\"ticks\":\"\"}},\"scene\":{\"xaxis\":{\"backgroundcolor\":\"#E5ECF6\",\"gridcolor\":\"white\",\"gridwidth\":2,\"linecolor\":\"white\",\"showbackground\":true,\"ticks\":\"\",\"zerolinecolor\":\"white\"},\"yaxis\":{\"backgroundcolor\":\"#E5ECF6\",\"gridcolor\":\"white\",\"gridwidth\":2,\"linecolor\":\"white\",\"showbackground\":true,\"ticks\":\"\",\"zerolinecolor\":\"white\"},\"zaxis\":{\"backgroundcolor\":\"#E5ECF6\",\"gridcolor\":\"white\",\"gridwidth\":2,\"linecolor\":\"white\",\"showbackground\":true,\"ticks\":\"\",\"zerolinecolor\":\"white\"}},\"shapedefaults\":{\"line\":{\"color\":\"#2a3f5f\"}},\"ternary\":{\"aaxis\":{\"gridcolor\":\"white\",\"linecolor\":\"white\",\"ticks\":\"\"},\"baxis\":{\"gridcolor\":\"white\",\"linecolor\":\"white\",\"ticks\":\"\"},\"bgcolor\":\"#E5ECF6\",\"caxis\":{\"gridcolor\":\"white\",\"linecolor\":\"white\",\"ticks\":\"\"}},\"title\":{\"x\":0.05},\"xaxis\":{\"automargin\":true,\"gridcolor\":\"white\",\"linecolor\":\"white\",\"ticks\":\"\",\"title\":{\"standoff\":15},\"zerolinecolor\":\"white\",\"zerolinewidth\":2},\"yaxis\":{\"automargin\":true,\"gridcolor\":\"white\",\"linecolor\":\"white\",\"ticks\":\"\",\"title\":{\"standoff\":15},\"zerolinecolor\":\"white\",\"zerolinewidth\":2}}},\"xaxis\":{\"anchor\":\"y\",\"domain\":[0.0,1.0],\"title\":{\"text\":\"Farm_name\"}},\"yaxis\":{\"anchor\":\"x\",\"domain\":[0.0,1.0],\"title\":{\"text\":\"avg(Total_Cup_Points_Scaled)\"}},\"legend\":{\"tracegroupgap\":0},\"margin\":{\"t\":60},\"barmode\":\"relative\"},                        {\"responsive\": true}                    ).then(function(){\n",
              "                            \n",
              "var gd = document.getElementById('e519804f-cf9a-4e3c-b123-73094282d9b3');\n",
              "var x = new MutationObserver(function (mutations, observer) {{\n",
              "        var display = window.getComputedStyle(gd).display;\n",
              "        if (!display || display === 'none') {{\n",
              "            console.log([gd, 'removed!']);\n",
              "            Plotly.purge(gd);\n",
              "            observer.disconnect();\n",
              "        }}\n",
              "}});\n",
              "\n",
              "// Listen for the removal of the full notebook cells\n",
              "var notebookContainer = gd.closest('#notebook-container');\n",
              "if (notebookContainer) {{\n",
              "    x.observe(notebookContainer, {childList: true});\n",
              "}}\n",
              "\n",
              "// Listen for the clearing of the current output cell\n",
              "var outputEl = gd.closest('.output');\n",
              "if (outputEl) {{\n",
              "    x.observe(outputEl, {childList: true});\n",
              "}}\n",
              "\n",
              "                        })                };                            </script>        </div>\n",
              "</body>\n",
              "</html>"
            ]
          },
          "metadata": {}
        }
      ]
    },
    {
      "cell_type": "markdown",
      "source": [
        "### Way clearer"
      ],
      "metadata": {
        "id": "P6wQhh1Gs9N_"
      }
    },
    {
      "cell_type": "markdown",
      "source": [
        "#### We can notice that farms are more important offer more distinction than variety, we will see furthermore"
      ],
      "metadata": {
        "id": "naGA7j8YwcFt"
      }
    },
    {
      "cell_type": "markdown",
      "source": [
        "## From now on we will use only the scaled version"
      ],
      "metadata": {
        "id": "CyhKDPdEtYwY"
      }
    },
    {
      "cell_type": "code",
      "source": [
        "df_arabica = df_arabica_scaled\n",
        "\n",
        "cols = (\"Aroma\",\"Flavor\",\"Aftertaste\",\\\n",
        "                   \"Acidity\",\"Body\",\"Balance\",\"Total_Cup_Points\")\n",
        "df_arabica = df_arabica.drop(*cols)\n",
        "for i in [\"Aroma\",\"Flavor\",\"Aftertaste\",\\\n",
        "                   \"Acidity\",\"Body\",\"Balance\",\"Total_Cup_Points\"]:\n",
        "                   df_arabica = df_arabica.withColumnRenamed(i+\"_Scaled\", i)\n",
        "\n",
        "df_arabica.show()\n",
        "df_arabica.printSchema()"
      ],
      "metadata": {
        "id": "0uzHwEqgtfng",
        "colab": {
          "base_uri": "https://localhost:8080/"
        },
        "outputId": "af00bdee-0d19-4d95-c9f7-e0cc28b42ceb"
      },
      "execution_count": null,
      "outputs": [
        {
          "output_type": "stream",
          "name": "stdout",
          "text": [
            "+--------------------+--------------+--------------+----------+---------+---------+--------------------+-------------------+-------------------+-----+------+----------+-------+-----+-------+----------------+\n",
            "|           Farm_name|      Altitude|       Variety|Uniformity|Clean_Cup|Sweetness|altitude_mean_meters|                lat|               long|Aroma|Flavor|Aftertaste|Acidity| Body|Balance|Total_Cup_Points|\n",
            "+--------------------+--------------+--------------+----------+---------+---------+--------------------+-------------------+-------------------+-----+------+----------+-------+-----+-------+----------------+\n",
            "|fazenda são sebas...|         1000m|    Mundo Novo|      10.0|     10.0|     10.0|              1000.0|-21.444863288363614|-46.827235570452125|0.316|  0.22|     0.359|  0.355|0.447|    0.2|             0.4|\n",
            "|       santa bárbara|          1020|        Catuai|      10.0|     10.0|     10.0|              1020.0| -18.52732198399872|-47.569893903127564|0.316|  0.22|     0.427|  0.411|0.447|  0.328|           0.479|\n",
            "|   fazenda rio verde|          1260|Yellow Bourbon|      10.0|     10.0|     10.0|              1260.0|-21.877600079894428| -45.17833587173798|0.418| 0.553|     0.718|  0.234| 0.78|  0.664|           0.696|\n",
            "|   fazenda rio verde|          1260|Yellow Bourbon|      10.0|     10.0|     10.0|              1260.0|-21.877600079894428| -45.17833587173798|0.633| 0.333|     0.427|  0.532|0.893|  0.464|           0.678|\n",
            "|   fazenda rio verde|          1260|Yellow Bourbon|      10.0|     10.0|     10.0|              1260.0|-21.877600079894428| -45.17833587173798|0.316| 0.333|     0.718|  0.291|0.393|    0.6|           0.539|\n",
            "|   fazenda rio verde|          1260|Yellow Bourbon|      10.0|     10.0|     10.0|              1260.0|-21.877600079894428| -45.17833587173798|0.209|  0.22|     0.359|  0.411|0.393|  0.464|           0.531|\n",
            "|     fazenda do lobo|         1000m|    Mundo Novo|      10.0|     10.0|     10.0|              1000.0| -20.05845833645814|-45.551377369807916|0.525| 0.333|     0.641|  0.411|0.613|  0.464|           0.609|\n",
            "| fazenda grota funda|         1200m|       Bourbon|      10.0|     10.0|     10.0|              1200.0| -4.498676298642221| -46.01438009152326|0.684| 0.613|     0.786|  0.589| 0.78|  0.664|           0.791|\n",
            "|              sertao|          1.25|       Bourbon|      10.0|     10.0|     10.0|               125.0|-22.095760723175886|-45.189755175672296|0.367|  0.28|     0.291|  0.355|0.447|  0.328|           0.435|\n",
            "|         sitio claro|        1000 m|        Catuai|      10.0|     10.0|     10.0|              1000.0|-12.404400112670487|  -57.0307320652044|0.684| 0.667|     0.786|  0.766|0.447|  0.664|           0.791|\n",
            "|         santa alina|1200m to 1350m|Yellow Bourbon|      10.0|     10.0|     10.0|              1275.0| -21.76121880758086|-46.674253002625804|0.791| 0.667|     0.573|  0.589|0.447|    0.6|            0.73|\n",
            "|   sitío santa luzia|         1100m|    Mundo Novo|      10.0|     10.0|     10.0|              1100.0|-22.366016295045306| -46.47371725096838|0.418| 0.333|     0.504|  0.411|0.447|    0.4|           0.521|\n",
            "|fazenda são josé ...|           695|    Mundo Novo|      9.33|     10.0|     9.33|               695.0|-22.785019797545694| -47.03177457322967|0.418|  0.28|     0.573|  0.234|0.613|  0.528|           0.391|\n",
            "|    fazenda chamusca|     900-1050m|    Mundo Novo|      10.0|     10.0|     10.0|               975.0|  -21.4532483711391| -45.22708818550831|0.418| 0.333|     0.427|  0.589|0.447|  0.464|           0.547|\n",
            "|         capoeirinha|           905|Yellow Bourbon|      10.0|     10.0|     10.0|               905.0| -18.64698614414741|-45.796849953979795|0.418| 0.387|     0.641|  0.411| 0.56|  0.528|             0.6|\n",
            "|         capoeirinha|           905|Yellow Bourbon|      10.0|     10.0|     10.0|               905.0| -18.64698614414741|-45.796849953979795|0.367| 0.333|     0.641|  0.411|  0.5|  0.528|           0.565|\n",
            "|         capoeirinha|           934|       Bourbon|      10.0|     10.0|     10.0|               934.0| -18.64698614414741|-45.796849953979795|0.418| 0.447|     0.718|  0.589|  0.5|  0.728|           0.687|\n",
            "|         capoeirinha|           934|       Bourbon|      10.0|     10.0|     10.0|               934.0| -18.64698614414741|-45.796849953979795|0.367| 0.387|     0.573|  0.532|0.447|    0.4|           0.557|\n",
            "|         capoeirinha|           872|       Bourbon|      10.0|     10.0|     10.0|               872.0| -18.64698614414741|-45.796849953979795|0.367| 0.447|     0.641|  0.532|  0.5|    0.4|           0.591|\n",
            "|         capoeirinha|           905|Yellow Bourbon|      10.0|     10.0|     10.0|               905.0| -18.64698614414741|-45.796849953979795|0.475| 0.387|     0.641|  0.411|0.447|    0.4|           0.574|\n",
            "+--------------------+--------------+--------------+----------+---------+---------+--------------------+-------------------+-------------------+-----+------+----------+-------+-----+-------+----------------+\n",
            "only showing top 20 rows\n",
            "\n",
            "root\n",
            " |-- Farm_name: string (nullable = true)\n",
            " |-- Altitude: string (nullable = true)\n",
            " |-- Variety: string (nullable = true)\n",
            " |-- Uniformity: double (nullable = true)\n",
            " |-- Clean_Cup: double (nullable = true)\n",
            " |-- Sweetness: double (nullable = true)\n",
            " |-- altitude_mean_meters: double (nullable = true)\n",
            " |-- lat: double (nullable = true)\n",
            " |-- long: double (nullable = true)\n",
            " |-- Aroma: double (nullable = true)\n",
            " |-- Flavor: double (nullable = true)\n",
            " |-- Aftertaste: double (nullable = true)\n",
            " |-- Acidity: double (nullable = true)\n",
            " |-- Body: double (nullable = true)\n",
            " |-- Balance: double (nullable = true)\n",
            " |-- Total_Cup_Points: double (nullable = true)\n",
            "\n"
          ]
        }
      ]
    },
    {
      "cell_type": "markdown",
      "source": [
        "## Farms all of fame and their strengths"
      ],
      "metadata": {
        "id": "QIjCRSP9mJb9"
      }
    },
    {
      "cell_type": "markdown",
      "source": [
        "### Since farms seem interesting we can plot radar plots of the taste they offer (meaned).\n",
        "#### We will focus on the most renowed farms"
      ],
      "metadata": {
        "id": "JvBejSPCwtd6"
      }
    },
    {
      "cell_type": "code",
      "source": [
        "from pyspark.sql.functions import desc\n",
        "hof = df_arabica.groupBy(\"Farm_name\").mean(\"Total_Cup_Points\").sort(desc(\"avg(Total_Cup_Points)\"))\n",
        "hof.show(6)"
      ],
      "metadata": {
        "id": "kZ_f6k13ZGM-",
        "colab": {
          "base_uri": "https://localhost:8080/"
        },
        "outputId": "580dabdb-a713-4089-c7a3-52ccb4c07023"
      },
      "execution_count": null,
      "outputs": [
        {
          "output_type": "stream",
          "name": "stdout",
          "text": [
            "+--------------------+---------------------+\n",
            "|           Farm_name|avg(Total_Cup_Points)|\n",
            "+--------------------+---------------------+\n",
            "|     fazenda kaquend|                0.956|\n",
            "|     fazenda recreio|                0.852|\n",
            "|fazenda serra de ...|                0.844|\n",
            "|   sitío são geraldo|                  0.8|\n",
            "| fazenda grota funda|                0.791|\n",
            "|         sitio claro|                0.791|\n",
            "+--------------------+---------------------+\n",
            "only showing top 6 rows\n",
            "\n"
          ]
        }
      ]
    },
    {
      "cell_type": "markdown",
      "source": [
        "We will take the top 3"
      ],
      "metadata": {
        "id": "I-YXFI_OyLFl"
      }
    },
    {
      "cell_type": "markdown",
      "source": [
        "# FAIIIIIIIIIRE"
      ],
      "metadata": {
        "id": "sOfl1Fdp2gWA"
      }
    },
    {
      "cell_type": "code",
      "source": [
        "li = hof.select(\"Farm_name\").take(3)[:3]"
      ],
      "metadata": {
        "id": "LdnW7A0KysHP"
      },
      "execution_count": null,
      "outputs": []
    },
    {
      "cell_type": "code",
      "source": [
        "li"
      ],
      "metadata": {
        "id": "5hAG3CRQ0swA",
        "colab": {
          "base_uri": "https://localhost:8080/"
        },
        "outputId": "d3913e7d-ec3b-4c74-c14a-9a59ce24cbf1"
      },
      "execution_count": null,
      "outputs": [
        {
          "output_type": "execute_result",
          "data": {
            "text/plain": [
              "[Row(Farm_name='fazenda kaquend'),\n",
              " Row(Farm_name='fazenda recreio'),\n",
              " Row(Farm_name='fazenda serra de três barras')]"
            ]
          },
          "metadata": {},
          "execution_count": 44
        }
      ]
    },
    {
      "cell_type": "code",
      "source": [
        "li = [\"fazenda kaquend\",\"fazenda recreio\",\"sitío são geraldo\",\"sitio claro\",\"fazenda grota funda\"]"
      ],
      "metadata": {
        "id": "uPOW_b_60ZpO"
      },
      "execution_count": null,
      "outputs": []
    },
    {
      "cell_type": "markdown",
      "source": [
        "Meaner par farm"
      ],
      "metadata": {
        "id": "tMuzaC6gBLiN"
      }
    },
    {
      "cell_type": "code",
      "source": [
        "df_hof = df_arabica.filter(df_arabica.Farm_name.isin(li))\n",
        "df_hof.show()"
      ],
      "metadata": {
        "id": "05RgOmqDxgCS",
        "colab": {
          "base_uri": "https://localhost:8080/"
        },
        "outputId": "9aacb905-2e86-4369-b185-80b46f4f3165"
      },
      "execution_count": null,
      "outputs": [
        {
          "output_type": "stream",
          "name": "stdout",
          "text": [
            "+-------------------+--------+----------+----------+---------+---------+--------------------+-------------------+------------------+-----+------+----------+-------+-----+-------+----------------+\n",
            "|          Farm_name|Altitude|   Variety|Uniformity|Clean_Cup|Sweetness|altitude_mean_meters|                lat|              long|Aroma|Flavor|Aftertaste|Acidity| Body|Balance|Total_Cup_Points|\n",
            "+-------------------+--------+----------+----------+---------+---------+--------------------+-------------------+------------------+-----+------+----------+-------+-----+-------+----------------+\n",
            "|fazenda grota funda|   1200m|   Bourbon|      10.0|     10.0|     10.0|              1200.0| -4.498676298642221|-46.01438009152326|0.684| 0.613|     0.786|  0.589| 0.78|  0.664|           0.791|\n",
            "|        sitio claro|  1000 m|    Catuai|      10.0|     10.0|     10.0|              1000.0|-12.404400112670487| -57.0307320652044|0.684| 0.667|     0.786|  0.766|0.447|  0.664|           0.791|\n",
            "|  sitío são geraldo|   1100m|Mundo Novo|      10.0|     10.0|     10.0|              1100.0| -22.59528143237296|-46.66759241371165|0.684| 0.667|     0.855|  0.645| 0.56|    0.6|             0.8|\n",
            "|    fazenda kaquend|   1250m|   Bourbon|      10.0|     10.0|     10.0|              1250.0|-21.435236392716707|-46.83244978479159|  1.0|   1.0|       1.0|  0.766| 0.78|  0.864|             1.0|\n",
            "|    fazenda kaquend|   1250m|   Bourbon|      10.0|     10.0|     10.0|              1250.0|-21.435236392716707|-46.83244978479159|0.892| 0.667|       1.0|  0.766|0.613|  0.864|           0.912|\n",
            "|    fazenda recreio|   1300m|   Bourbon|      10.0|     10.0|     10.0|              1300.0|-21.780100162105256|-46.67880344388111|0.684| 0.667|     0.786|  0.589|  0.5|  0.664|           0.756|\n",
            "|    fazenda recreio|    1300|   Bourbon|      10.0|     10.0|     10.0|              1300.0|-21.780100162105256|-46.67880344388111|  1.0|  0.78|       1.0|  0.589| 0.78|  0.864|           0.948|\n",
            "+-------------------+--------+----------+----------+---------+---------+--------------------+-------------------+------------------+-----+------+----------+-------+-----+-------+----------------+\n",
            "\n"
          ]
        }
      ]
    },
    {
      "cell_type": "code",
      "source": [
        "import plotly.graph_objects as go\n",
        "from pyspark.sql.functions import mean\n",
        "\n",
        "categories = [\"Aroma\",\"Flavor\",\"Aftertaste\",\\\n",
        "                   \"Acidity\",\"Body\",\"Balance\"]\n",
        "\n",
        "df_hof_pd = df_hof.select([\"Farm_name\",\"Aroma\",\"Flavor\",\"Aftertaste\",\\\n",
        "                   \"Acidity\",\"Body\",\"Balance\"]).toPandas().set_index('Farm_name')\n",
        "\n",
        "\n",
        "df_mean_pd = df_arabica.select(mean(\"Aroma\"), mean(\"Flavor\")\\\n",
        "                               , mean(\"Aftertaste\"), mean(\"Acidity\"), mean(\"Body\"), mean(\"Balance\"))\\\n",
        "                               .toPandas()\n",
        "\n",
        "fig = go.Figure()\n",
        "\n",
        "for g in df_hof_pd.index:\n",
        "    fig.add_trace(go.Scatterpolar(\n",
        "        r = df_hof_pd.loc[g].values,\n",
        "        theta = categories,\n",
        "        fill = \"toself\",\n",
        "        name = f'{g}'\n",
        "    ))\n",
        "\n",
        "\n",
        "fig.add_trace(go.Scatterpolar(\n",
        "        r = df_mean_pd.values,\n",
        "        theta = categories,\n",
        "        fill = \"toself\",\n",
        "        name = f'MEAN'\n",
        "    ))\n",
        "\n",
        "fig.update_layout(\n",
        "  polar=dict(\n",
        "    radialaxis=dict(\n",
        "      visible=False,\n",
        "      range=[0, 1]\n",
        "    )),\n",
        "  showlegend=False\n",
        ")\n",
        "\n",
        "fig.show()"
      ],
      "metadata": {
        "id": "TAukSS8o3I3H",
        "colab": {
          "base_uri": "https://localhost:8080/",
          "height": 542
        },
        "outputId": "bbf7383c-6286-49ed-9631-d80c58705982"
      },
      "execution_count": null,
      "outputs": [
        {
          "output_type": "display_data",
          "data": {
            "text/html": [
              "<html>\n",
              "<head><meta charset=\"utf-8\" /></head>\n",
              "<body>\n",
              "    <div>            <script src=\"https://cdnjs.cloudflare.com/ajax/libs/mathjax/2.7.5/MathJax.js?config=TeX-AMS-MML_SVG\"></script><script type=\"text/javascript\">if (window.MathJax) {MathJax.Hub.Config({SVG: {font: \"STIX-Web\"}});}</script>                <script type=\"text/javascript\">window.PlotlyConfig = {MathJaxConfig: 'local'};</script>\n",
              "        <script src=\"https://cdn.plot.ly/plotly-2.8.3.min.js\"></script>                <div id=\"f8f73523-9dd0-4ddf-a5de-3998c5150ffa\" class=\"plotly-graph-div\" style=\"height:525px; width:100%;\"></div>            <script type=\"text/javascript\">                                    window.PLOTLYENV=window.PLOTLYENV || {};                                    if (document.getElementById(\"f8f73523-9dd0-4ddf-a5de-3998c5150ffa\")) {                    Plotly.newPlot(                        \"f8f73523-9dd0-4ddf-a5de-3998c5150ffa\",                        [{\"fill\":\"toself\",\"name\":\"fazenda grota funda\",\"r\":[0.684,0.613,0.786,0.589,0.78,0.664],\"theta\":[\"Aroma\",\"Flavor\",\"Aftertaste\",\"Acidity\",\"Body\",\"Balance\"],\"type\":\"scatterpolar\"},{\"fill\":\"toself\",\"name\":\"sitio claro\",\"r\":[0.684,0.667,0.786,0.766,0.447,0.664],\"theta\":[\"Aroma\",\"Flavor\",\"Aftertaste\",\"Acidity\",\"Body\",\"Balance\"],\"type\":\"scatterpolar\"},{\"fill\":\"toself\",\"name\":\"sit\\u00edo s\\u00e3o geraldo\",\"r\":[0.684,0.667,0.855,0.645,0.56,0.6],\"theta\":[\"Aroma\",\"Flavor\",\"Aftertaste\",\"Acidity\",\"Body\",\"Balance\"],\"type\":\"scatterpolar\"},{\"fill\":\"toself\",\"name\":\"fazenda kaquend\",\"r\":[[1.0,1.0,1.0,0.766,0.78,0.864],[0.892,0.667,1.0,0.766,0.613,0.864]],\"theta\":[\"Aroma\",\"Flavor\",\"Aftertaste\",\"Acidity\",\"Body\",\"Balance\"],\"type\":\"scatterpolar\"},{\"fill\":\"toself\",\"name\":\"fazenda kaquend\",\"r\":[[1.0,1.0,1.0,0.766,0.78,0.864],[0.892,0.667,1.0,0.766,0.613,0.864]],\"theta\":[\"Aroma\",\"Flavor\",\"Aftertaste\",\"Acidity\",\"Body\",\"Balance\"],\"type\":\"scatterpolar\"},{\"fill\":\"toself\",\"name\":\"fazenda recreio\",\"r\":[[0.684,0.667,0.786,0.589,0.5,0.664],[1.0,0.78,1.0,0.589,0.78,0.864]],\"theta\":[\"Aroma\",\"Flavor\",\"Aftertaste\",\"Acidity\",\"Body\",\"Balance\"],\"type\":\"scatterpolar\"},{\"fill\":\"toself\",\"name\":\"fazenda recreio\",\"r\":[[0.684,0.667,0.786,0.589,0.5,0.664],[1.0,0.78,1.0,0.589,0.78,0.864]],\"theta\":[\"Aroma\",\"Flavor\",\"Aftertaste\",\"Acidity\",\"Body\",\"Balance\"],\"type\":\"scatterpolar\"},{\"fill\":\"toself\",\"name\":\"MEAN\",\"r\":[[0.42092307692307696,0.4122019230769232,0.5446346153846151,0.4392115384615387,0.49473076923076964,0.5088461538461537]],\"theta\":[\"Aroma\",\"Flavor\",\"Aftertaste\",\"Acidity\",\"Body\",\"Balance\"],\"type\":\"scatterpolar\"}],                        {\"template\":{\"data\":{\"bar\":[{\"error_x\":{\"color\":\"#2a3f5f\"},\"error_y\":{\"color\":\"#2a3f5f\"},\"marker\":{\"line\":{\"color\":\"#E5ECF6\",\"width\":0.5},\"pattern\":{\"fillmode\":\"overlay\",\"size\":10,\"solidity\":0.2}},\"type\":\"bar\"}],\"barpolar\":[{\"marker\":{\"line\":{\"color\":\"#E5ECF6\",\"width\":0.5},\"pattern\":{\"fillmode\":\"overlay\",\"size\":10,\"solidity\":0.2}},\"type\":\"barpolar\"}],\"carpet\":[{\"aaxis\":{\"endlinecolor\":\"#2a3f5f\",\"gridcolor\":\"white\",\"linecolor\":\"white\",\"minorgridcolor\":\"white\",\"startlinecolor\":\"#2a3f5f\"},\"baxis\":{\"endlinecolor\":\"#2a3f5f\",\"gridcolor\":\"white\",\"linecolor\":\"white\",\"minorgridcolor\":\"white\",\"startlinecolor\":\"#2a3f5f\"},\"type\":\"carpet\"}],\"choropleth\":[{\"colorbar\":{\"outlinewidth\":0,\"ticks\":\"\"},\"type\":\"choropleth\"}],\"contour\":[{\"colorbar\":{\"outlinewidth\":0,\"ticks\":\"\"},\"colorscale\":[[0.0,\"#0d0887\"],[0.1111111111111111,\"#46039f\"],[0.2222222222222222,\"#7201a8\"],[0.3333333333333333,\"#9c179e\"],[0.4444444444444444,\"#bd3786\"],[0.5555555555555556,\"#d8576b\"],[0.6666666666666666,\"#ed7953\"],[0.7777777777777778,\"#fb9f3a\"],[0.8888888888888888,\"#fdca26\"],[1.0,\"#f0f921\"]],\"type\":\"contour\"}],\"contourcarpet\":[{\"colorbar\":{\"outlinewidth\":0,\"ticks\":\"\"},\"type\":\"contourcarpet\"}],\"heatmap\":[{\"colorbar\":{\"outlinewidth\":0,\"ticks\":\"\"},\"colorscale\":[[0.0,\"#0d0887\"],[0.1111111111111111,\"#46039f\"],[0.2222222222222222,\"#7201a8\"],[0.3333333333333333,\"#9c179e\"],[0.4444444444444444,\"#bd3786\"],[0.5555555555555556,\"#d8576b\"],[0.6666666666666666,\"#ed7953\"],[0.7777777777777778,\"#fb9f3a\"],[0.8888888888888888,\"#fdca26\"],[1.0,\"#f0f921\"]],\"type\":\"heatmap\"}],\"heatmapgl\":[{\"colorbar\":{\"outlinewidth\":0,\"ticks\":\"\"},\"colorscale\":[[0.0,\"#0d0887\"],[0.1111111111111111,\"#46039f\"],[0.2222222222222222,\"#7201a8\"],[0.3333333333333333,\"#9c179e\"],[0.4444444444444444,\"#bd3786\"],[0.5555555555555556,\"#d8576b\"],[0.6666666666666666,\"#ed7953\"],[0.7777777777777778,\"#fb9f3a\"],[0.8888888888888888,\"#fdca26\"],[1.0,\"#f0f921\"]],\"type\":\"heatmapgl\"}],\"histogram\":[{\"marker\":{\"pattern\":{\"fillmode\":\"overlay\",\"size\":10,\"solidity\":0.2}},\"type\":\"histogram\"}],\"histogram2d\":[{\"colorbar\":{\"outlinewidth\":0,\"ticks\":\"\"},\"colorscale\":[[0.0,\"#0d0887\"],[0.1111111111111111,\"#46039f\"],[0.2222222222222222,\"#7201a8\"],[0.3333333333333333,\"#9c179e\"],[0.4444444444444444,\"#bd3786\"],[0.5555555555555556,\"#d8576b\"],[0.6666666666666666,\"#ed7953\"],[0.7777777777777778,\"#fb9f3a\"],[0.8888888888888888,\"#fdca26\"],[1.0,\"#f0f921\"]],\"type\":\"histogram2d\"}],\"histogram2dcontour\":[{\"colorbar\":{\"outlinewidth\":0,\"ticks\":\"\"},\"colorscale\":[[0.0,\"#0d0887\"],[0.1111111111111111,\"#46039f\"],[0.2222222222222222,\"#7201a8\"],[0.3333333333333333,\"#9c179e\"],[0.4444444444444444,\"#bd3786\"],[0.5555555555555556,\"#d8576b\"],[0.6666666666666666,\"#ed7953\"],[0.7777777777777778,\"#fb9f3a\"],[0.8888888888888888,\"#fdca26\"],[1.0,\"#f0f921\"]],\"type\":\"histogram2dcontour\"}],\"mesh3d\":[{\"colorbar\":{\"outlinewidth\":0,\"ticks\":\"\"},\"type\":\"mesh3d\"}],\"parcoords\":[{\"line\":{\"colorbar\":{\"outlinewidth\":0,\"ticks\":\"\"}},\"type\":\"parcoords\"}],\"pie\":[{\"automargin\":true,\"type\":\"pie\"}],\"scatter\":[{\"marker\":{\"colorbar\":{\"outlinewidth\":0,\"ticks\":\"\"}},\"type\":\"scatter\"}],\"scatter3d\":[{\"line\":{\"colorbar\":{\"outlinewidth\":0,\"ticks\":\"\"}},\"marker\":{\"colorbar\":{\"outlinewidth\":0,\"ticks\":\"\"}},\"type\":\"scatter3d\"}],\"scattercarpet\":[{\"marker\":{\"colorbar\":{\"outlinewidth\":0,\"ticks\":\"\"}},\"type\":\"scattercarpet\"}],\"scattergeo\":[{\"marker\":{\"colorbar\":{\"outlinewidth\":0,\"ticks\":\"\"}},\"type\":\"scattergeo\"}],\"scattergl\":[{\"marker\":{\"colorbar\":{\"outlinewidth\":0,\"ticks\":\"\"}},\"type\":\"scattergl\"}],\"scattermapbox\":[{\"marker\":{\"colorbar\":{\"outlinewidth\":0,\"ticks\":\"\"}},\"type\":\"scattermapbox\"}],\"scatterpolar\":[{\"marker\":{\"colorbar\":{\"outlinewidth\":0,\"ticks\":\"\"}},\"type\":\"scatterpolar\"}],\"scatterpolargl\":[{\"marker\":{\"colorbar\":{\"outlinewidth\":0,\"ticks\":\"\"}},\"type\":\"scatterpolargl\"}],\"scatterternary\":[{\"marker\":{\"colorbar\":{\"outlinewidth\":0,\"ticks\":\"\"}},\"type\":\"scatterternary\"}],\"surface\":[{\"colorbar\":{\"outlinewidth\":0,\"ticks\":\"\"},\"colorscale\":[[0.0,\"#0d0887\"],[0.1111111111111111,\"#46039f\"],[0.2222222222222222,\"#7201a8\"],[0.3333333333333333,\"#9c179e\"],[0.4444444444444444,\"#bd3786\"],[0.5555555555555556,\"#d8576b\"],[0.6666666666666666,\"#ed7953\"],[0.7777777777777778,\"#fb9f3a\"],[0.8888888888888888,\"#fdca26\"],[1.0,\"#f0f921\"]],\"type\":\"surface\"}],\"table\":[{\"cells\":{\"fill\":{\"color\":\"#EBF0F8\"},\"line\":{\"color\":\"white\"}},\"header\":{\"fill\":{\"color\":\"#C8D4E3\"},\"line\":{\"color\":\"white\"}},\"type\":\"table\"}]},\"layout\":{\"annotationdefaults\":{\"arrowcolor\":\"#2a3f5f\",\"arrowhead\":0,\"arrowwidth\":1},\"autotypenumbers\":\"strict\",\"coloraxis\":{\"colorbar\":{\"outlinewidth\":0,\"ticks\":\"\"}},\"colorscale\":{\"diverging\":[[0,\"#8e0152\"],[0.1,\"#c51b7d\"],[0.2,\"#de77ae\"],[0.3,\"#f1b6da\"],[0.4,\"#fde0ef\"],[0.5,\"#f7f7f7\"],[0.6,\"#e6f5d0\"],[0.7,\"#b8e186\"],[0.8,\"#7fbc41\"],[0.9,\"#4d9221\"],[1,\"#276419\"]],\"sequential\":[[0.0,\"#0d0887\"],[0.1111111111111111,\"#46039f\"],[0.2222222222222222,\"#7201a8\"],[0.3333333333333333,\"#9c179e\"],[0.4444444444444444,\"#bd3786\"],[0.5555555555555556,\"#d8576b\"],[0.6666666666666666,\"#ed7953\"],[0.7777777777777778,\"#fb9f3a\"],[0.8888888888888888,\"#fdca26\"],[1.0,\"#f0f921\"]],\"sequentialminus\":[[0.0,\"#0d0887\"],[0.1111111111111111,\"#46039f\"],[0.2222222222222222,\"#7201a8\"],[0.3333333333333333,\"#9c179e\"],[0.4444444444444444,\"#bd3786\"],[0.5555555555555556,\"#d8576b\"],[0.6666666666666666,\"#ed7953\"],[0.7777777777777778,\"#fb9f3a\"],[0.8888888888888888,\"#fdca26\"],[1.0,\"#f0f921\"]]},\"colorway\":[\"#636efa\",\"#EF553B\",\"#00cc96\",\"#ab63fa\",\"#FFA15A\",\"#19d3f3\",\"#FF6692\",\"#B6E880\",\"#FF97FF\",\"#FECB52\"],\"font\":{\"color\":\"#2a3f5f\"},\"geo\":{\"bgcolor\":\"white\",\"lakecolor\":\"white\",\"landcolor\":\"#E5ECF6\",\"showlakes\":true,\"showland\":true,\"subunitcolor\":\"white\"},\"hoverlabel\":{\"align\":\"left\"},\"hovermode\":\"closest\",\"mapbox\":{\"style\":\"light\"},\"paper_bgcolor\":\"white\",\"plot_bgcolor\":\"#E5ECF6\",\"polar\":{\"angularaxis\":{\"gridcolor\":\"white\",\"linecolor\":\"white\",\"ticks\":\"\"},\"bgcolor\":\"#E5ECF6\",\"radialaxis\":{\"gridcolor\":\"white\",\"linecolor\":\"white\",\"ticks\":\"\"}},\"scene\":{\"xaxis\":{\"backgroundcolor\":\"#E5ECF6\",\"gridcolor\":\"white\",\"gridwidth\":2,\"linecolor\":\"white\",\"showbackground\":true,\"ticks\":\"\",\"zerolinecolor\":\"white\"},\"yaxis\":{\"backgroundcolor\":\"#E5ECF6\",\"gridcolor\":\"white\",\"gridwidth\":2,\"linecolor\":\"white\",\"showbackground\":true,\"ticks\":\"\",\"zerolinecolor\":\"white\"},\"zaxis\":{\"backgroundcolor\":\"#E5ECF6\",\"gridcolor\":\"white\",\"gridwidth\":2,\"linecolor\":\"white\",\"showbackground\":true,\"ticks\":\"\",\"zerolinecolor\":\"white\"}},\"shapedefaults\":{\"line\":{\"color\":\"#2a3f5f\"}},\"ternary\":{\"aaxis\":{\"gridcolor\":\"white\",\"linecolor\":\"white\",\"ticks\":\"\"},\"baxis\":{\"gridcolor\":\"white\",\"linecolor\":\"white\",\"ticks\":\"\"},\"bgcolor\":\"#E5ECF6\",\"caxis\":{\"gridcolor\":\"white\",\"linecolor\":\"white\",\"ticks\":\"\"}},\"title\":{\"x\":0.05},\"xaxis\":{\"automargin\":true,\"gridcolor\":\"white\",\"linecolor\":\"white\",\"ticks\":\"\",\"title\":{\"standoff\":15},\"zerolinecolor\":\"white\",\"zerolinewidth\":2},\"yaxis\":{\"automargin\":true,\"gridcolor\":\"white\",\"linecolor\":\"white\",\"ticks\":\"\",\"title\":{\"standoff\":15},\"zerolinecolor\":\"white\",\"zerolinewidth\":2}}},\"polar\":{\"radialaxis\":{\"visible\":false,\"range\":[0,1]}},\"showlegend\":false},                        {\"responsive\": true}                    ).then(function(){\n",
              "                            \n",
              "var gd = document.getElementById('f8f73523-9dd0-4ddf-a5de-3998c5150ffa');\n",
              "var x = new MutationObserver(function (mutations, observer) {{\n",
              "        var display = window.getComputedStyle(gd).display;\n",
              "        if (!display || display === 'none') {{\n",
              "            console.log([gd, 'removed!']);\n",
              "            Plotly.purge(gd);\n",
              "            observer.disconnect();\n",
              "        }}\n",
              "}});\n",
              "\n",
              "// Listen for the removal of the full notebook cells\n",
              "var notebookContainer = gd.closest('#notebook-container');\n",
              "if (notebookContainer) {{\n",
              "    x.observe(notebookContainer, {childList: true});\n",
              "}}\n",
              "\n",
              "// Listen for the clearing of the current output cell\n",
              "var outputEl = gd.closest('.output');\n",
              "if (outputEl) {{\n",
              "    x.observe(outputEl, {childList: true});\n",
              "}}\n",
              "\n",
              "                        })                };                            </script>        </div>\n",
              "</body>\n",
              "</html>"
            ]
          },
          "metadata": {}
        }
      ]
    },
    {
      "cell_type": "markdown",
      "source": [
        "## The climat of Brazil over the last 22 years"
      ],
      "metadata": {
        "id": "yPOzJ3zuhk1i"
      }
    },
    {
      "cell_type": "code",
      "source": [
        "url = \"/content/gdrive/MyDrive/donmass_proj/\"\n",
        "# Brazil's weather stations\n",
        "stations_brazil = pd.read_csv(url+\"stations_.csv\",sep=\";\")"
      ],
      "metadata": {
        "id": "3VdALmugdIPp"
      },
      "execution_count": null,
      "outputs": []
    },
    {
      "cell_type": "code",
      "source": [
        "stations_brazil.head()"
      ],
      "metadata": {
        "colab": {
          "base_uri": "https://localhost:8080/",
          "height": 206
        },
        "id": "2173kROUdRUG",
        "outputId": "86ff458d-8e16-4835-b7c5-ca1ae1d08104"
      },
      "execution_count": null,
      "outputs": [
        {
          "output_type": "execute_result",
          "data": {
            "text/plain": [
              "  region state       city_station id_station        lat        lon      lvl  \\\n",
              "0     CO    DF           BRASILIA       A001 -45.016667 -47.925833  1159.54   \n",
              "1     NE    BA           SALVADOR       A401 -13.016667 -38.516667    51.41   \n",
              "2      N    AM             MANAUS       A101  -3.103333 -60.016389    61.25   \n",
              "3     SE    RJ  ECOLOGIA AGRICOLA       A601 -22.800000 -43.683333    33.00   \n",
              "4      S    RS       PORTO ALEGRE       A801 -30.050000 -51.166667    46.97   \n",
              "\n",
              "  record_first record_last  \n",
              "0   07/05/2000  31/08/2022  \n",
              "1   13/05/2000  31/08/2022  \n",
              "2   09/05/2000  31/08/2022  \n",
              "3   07/05/2000  31/08/2022  \n",
              "4   22/09/2000  31/08/2022  "
            ],
            "text/html": [
              "\n",
              "  <div id=\"df-1e86d6d8-d035-435b-a140-5c99dd5cdc79\">\n",
              "    <div class=\"colab-df-container\">\n",
              "      <div>\n",
              "<style scoped>\n",
              "    .dataframe tbody tr th:only-of-type {\n",
              "        vertical-align: middle;\n",
              "    }\n",
              "\n",
              "    .dataframe tbody tr th {\n",
              "        vertical-align: top;\n",
              "    }\n",
              "\n",
              "    .dataframe thead th {\n",
              "        text-align: right;\n",
              "    }\n",
              "</style>\n",
              "<table border=\"1\" class=\"dataframe\">\n",
              "  <thead>\n",
              "    <tr style=\"text-align: right;\">\n",
              "      <th></th>\n",
              "      <th>region</th>\n",
              "      <th>state</th>\n",
              "      <th>city_station</th>\n",
              "      <th>id_station</th>\n",
              "      <th>lat</th>\n",
              "      <th>lon</th>\n",
              "      <th>lvl</th>\n",
              "      <th>record_first</th>\n",
              "      <th>record_last</th>\n",
              "    </tr>\n",
              "  </thead>\n",
              "  <tbody>\n",
              "    <tr>\n",
              "      <th>0</th>\n",
              "      <td>CO</td>\n",
              "      <td>DF</td>\n",
              "      <td>BRASILIA</td>\n",
              "      <td>A001</td>\n",
              "      <td>-45.016667</td>\n",
              "      <td>-47.925833</td>\n",
              "      <td>1159.54</td>\n",
              "      <td>07/05/2000</td>\n",
              "      <td>31/08/2022</td>\n",
              "    </tr>\n",
              "    <tr>\n",
              "      <th>1</th>\n",
              "      <td>NE</td>\n",
              "      <td>BA</td>\n",
              "      <td>SALVADOR</td>\n",
              "      <td>A401</td>\n",
              "      <td>-13.016667</td>\n",
              "      <td>-38.516667</td>\n",
              "      <td>51.41</td>\n",
              "      <td>13/05/2000</td>\n",
              "      <td>31/08/2022</td>\n",
              "    </tr>\n",
              "    <tr>\n",
              "      <th>2</th>\n",
              "      <td>N</td>\n",
              "      <td>AM</td>\n",
              "      <td>MANAUS</td>\n",
              "      <td>A101</td>\n",
              "      <td>-3.103333</td>\n",
              "      <td>-60.016389</td>\n",
              "      <td>61.25</td>\n",
              "      <td>09/05/2000</td>\n",
              "      <td>31/08/2022</td>\n",
              "    </tr>\n",
              "    <tr>\n",
              "      <th>3</th>\n",
              "      <td>SE</td>\n",
              "      <td>RJ</td>\n",
              "      <td>ECOLOGIA AGRICOLA</td>\n",
              "      <td>A601</td>\n",
              "      <td>-22.800000</td>\n",
              "      <td>-43.683333</td>\n",
              "      <td>33.00</td>\n",
              "      <td>07/05/2000</td>\n",
              "      <td>31/08/2022</td>\n",
              "    </tr>\n",
              "    <tr>\n",
              "      <th>4</th>\n",
              "      <td>S</td>\n",
              "      <td>RS</td>\n",
              "      <td>PORTO ALEGRE</td>\n",
              "      <td>A801</td>\n",
              "      <td>-30.050000</td>\n",
              "      <td>-51.166667</td>\n",
              "      <td>46.97</td>\n",
              "      <td>22/09/2000</td>\n",
              "      <td>31/08/2022</td>\n",
              "    </tr>\n",
              "  </tbody>\n",
              "</table>\n",
              "</div>\n",
              "      <button class=\"colab-df-convert\" onclick=\"convertToInteractive('df-1e86d6d8-d035-435b-a140-5c99dd5cdc79')\"\n",
              "              title=\"Convert this dataframe to an interactive table.\"\n",
              "              style=\"display:none;\">\n",
              "        \n",
              "  <svg xmlns=\"http://www.w3.org/2000/svg\" height=\"24px\"viewBox=\"0 0 24 24\"\n",
              "       width=\"24px\">\n",
              "    <path d=\"M0 0h24v24H0V0z\" fill=\"none\"/>\n",
              "    <path d=\"M18.56 5.44l.94 2.06.94-2.06 2.06-.94-2.06-.94-.94-2.06-.94 2.06-2.06.94zm-11 1L8.5 8.5l.94-2.06 2.06-.94-2.06-.94L8.5 2.5l-.94 2.06-2.06.94zm10 10l.94 2.06.94-2.06 2.06-.94-2.06-.94-.94-2.06-.94 2.06-2.06.94z\"/><path d=\"M17.41 7.96l-1.37-1.37c-.4-.4-.92-.59-1.43-.59-.52 0-1.04.2-1.43.59L10.3 9.45l-7.72 7.72c-.78.78-.78 2.05 0 2.83L4 21.41c.39.39.9.59 1.41.59.51 0 1.02-.2 1.41-.59l7.78-7.78 2.81-2.81c.8-.78.8-2.07 0-2.86zM5.41 20L4 18.59l7.72-7.72 1.47 1.35L5.41 20z\"/>\n",
              "  </svg>\n",
              "      </button>\n",
              "      \n",
              "  <style>\n",
              "    .colab-df-container {\n",
              "      display:flex;\n",
              "      flex-wrap:wrap;\n",
              "      gap: 12px;\n",
              "    }\n",
              "\n",
              "    .colab-df-convert {\n",
              "      background-color: #E8F0FE;\n",
              "      border: none;\n",
              "      border-radius: 50%;\n",
              "      cursor: pointer;\n",
              "      display: none;\n",
              "      fill: #1967D2;\n",
              "      height: 32px;\n",
              "      padding: 0 0 0 0;\n",
              "      width: 32px;\n",
              "    }\n",
              "\n",
              "    .colab-df-convert:hover {\n",
              "      background-color: #E2EBFA;\n",
              "      box-shadow: 0px 1px 2px rgba(60, 64, 67, 0.3), 0px 1px 3px 1px rgba(60, 64, 67, 0.15);\n",
              "      fill: #174EA6;\n",
              "    }\n",
              "\n",
              "    [theme=dark] .colab-df-convert {\n",
              "      background-color: #3B4455;\n",
              "      fill: #D2E3FC;\n",
              "    }\n",
              "\n",
              "    [theme=dark] .colab-df-convert:hover {\n",
              "      background-color: #434B5C;\n",
              "      box-shadow: 0px 1px 3px 1px rgba(0, 0, 0, 0.15);\n",
              "      filter: drop-shadow(0px 1px 2px rgba(0, 0, 0, 0.3));\n",
              "      fill: #FFFFFF;\n",
              "    }\n",
              "  </style>\n",
              "\n",
              "      <script>\n",
              "        const buttonEl =\n",
              "          document.querySelector('#df-1e86d6d8-d035-435b-a140-5c99dd5cdc79 button.colab-df-convert');\n",
              "        buttonEl.style.display =\n",
              "          google.colab.kernel.accessAllowed ? 'block' : 'none';\n",
              "\n",
              "        async function convertToInteractive(key) {\n",
              "          const element = document.querySelector('#df-1e86d6d8-d035-435b-a140-5c99dd5cdc79');\n",
              "          const dataTable =\n",
              "            await google.colab.kernel.invokeFunction('convertToInteractive',\n",
              "                                                     [key], {});\n",
              "          if (!dataTable) return;\n",
              "\n",
              "          const docLinkHtml = 'Like what you see? Visit the ' +\n",
              "            '<a target=\"_blank\" href=https://colab.research.google.com/notebooks/data_table.ipynb>data table notebook</a>'\n",
              "            + ' to learn more about interactive tables.';\n",
              "          element.innerHTML = '';\n",
              "          dataTable['output_type'] = 'display_data';\n",
              "          await google.colab.output.renderOutput(dataTable, element);\n",
              "          const docLink = document.createElement('div');\n",
              "          docLink.innerHTML = docLinkHtml;\n",
              "          element.appendChild(docLink);\n",
              "        }\n",
              "      </script>\n",
              "    </div>\n",
              "  </div>\n",
              "  "
            ]
          },
          "metadata": {},
          "execution_count": 8
        }
      ]
    },
    {
      "cell_type": "code",
      "source": [
        "stations_brazil.info()"
      ],
      "metadata": {
        "colab": {
          "base_uri": "https://localhost:8080/"
        },
        "id": "z0WhGigNe0ja",
        "outputId": "352329e5-5ee1-436f-f48b-feb960904b17"
      },
      "execution_count": null,
      "outputs": [
        {
          "output_type": "stream",
          "name": "stdout",
          "text": [
            "<class 'pandas.core.frame.DataFrame'>\n",
            "RangeIndex: 613 entries, 0 to 612\n",
            "Data columns (total 9 columns):\n",
            " #   Column        Non-Null Count  Dtype  \n",
            "---  ------        --------------  -----  \n",
            " 0   region        613 non-null    object \n",
            " 1   state         613 non-null    object \n",
            " 2   city_station  613 non-null    object \n",
            " 3   id_station    613 non-null    object \n",
            " 4   lat           613 non-null    float64\n",
            " 5   lon           613 non-null    float64\n",
            " 6   lvl           597 non-null    float64\n",
            " 7   record_first  613 non-null    object \n",
            " 8   record_last   613 non-null    object \n",
            "dtypes: float64(3), object(6)\n",
            "memory usage: 43.2+ KB\n"
          ]
        }
      ]
    },
    {
      "cell_type": "code",
      "source": [
        "# convert pandas dataframe to spark dataFrame\n",
        "df_stations = pandas_to_spark(stations_brazil) "
      ],
      "metadata": {
        "id": "Oth59bdg54zi"
      },
      "execution_count": null,
      "outputs": []
    },
    {
      "cell_type": "code",
      "source": [
        "df_stations.printSchema()"
      ],
      "metadata": {
        "colab": {
          "base_uri": "https://localhost:8080/"
        },
        "id": "qme4sstL59Yp",
        "outputId": "0eeee72e-e52e-40a8-d0b3-e6697fb40467"
      },
      "execution_count": null,
      "outputs": [
        {
          "output_type": "stream",
          "name": "stdout",
          "text": [
            "root\n",
            " |-- region: string (nullable = true)\n",
            " |-- state: string (nullable = true)\n",
            " |-- city_station: string (nullable = true)\n",
            " |-- id_station: string (nullable = true)\n",
            " |-- lat: double (nullable = true)\n",
            " |-- lon: double (nullable = true)\n",
            " |-- lvl: double (nullable = true)\n",
            " |-- record_first: string (nullable = true)\n",
            " |-- record_last: string (nullable = true)\n",
            "\n"
          ]
        }
      ]
    },
    {
      "cell_type": "code",
      "source": [
        "\n",
        "import plotly.graph_objects as go\n",
        "fig = px.scatter_mapbox(df_stations.toPandas(), lat=\"lat\", lon=\"lon\", hover_name=\"id_station\", hover_data=[\"lvl\",], color_discrete_sequence=[\"blue\"], zoom=3, height=300)\n",
        "fig.add_trace(go.Scatter(x=df_arabica.toPandas()['lat'], y=df_arabica.toPandas()['long'],\n",
        "                    mode='markers',\n",
        "                    name='farms',\n",
        "                    marker_color='rgba(152, 0, 0, .8)'))\n",
        "fig.update_layout(mapbox_style=\"open-street-map\")\n",
        "fig.update_layout(margin={\"r\":0,\"t\":0,\"l\":0,\"b\":0})\n",
        "fig.show()"
      ],
      "metadata": {
        "colab": {
          "base_uri": "https://localhost:8080/",
          "height": 317
        },
        "id": "BzeXTXlv46OR",
        "outputId": "b5f0250f-1a96-4e09-872f-12218fba7b07"
      },
      "execution_count": null,
      "outputs": [
        {
          "output_type": "display_data",
          "data": {
            "text/html": [
              "<html>\n",
              "<head><meta charset=\"utf-8\" /></head>\n",
              "<body>\n",
              "    <div>            <script src=\"https://cdnjs.cloudflare.com/ajax/libs/mathjax/2.7.5/MathJax.js?config=TeX-AMS-MML_SVG\"></script><script type=\"text/javascript\">if (window.MathJax) {MathJax.Hub.Config({SVG: {font: \"STIX-Web\"}});}</script>                <script type=\"text/javascript\">window.PlotlyConfig = {MathJaxConfig: 'local'};</script>\n",
              "        <script src=\"https://cdn.plot.ly/plotly-2.8.3.min.js\"></script>                <div id=\"01d8c443-6f6e-4f0a-8beb-32cf3baf9933\" class=\"plotly-graph-div\" style=\"height:300px; width:100%;\"></div>            <script type=\"text/javascript\">                                    window.PLOTLYENV=window.PLOTLYENV || {};                                    if (document.getElementById(\"01d8c443-6f6e-4f0a-8beb-32cf3baf9933\")) {                    Plotly.newPlot(                        \"01d8c443-6f6e-4f0a-8beb-32cf3baf9933\",                        [{\"customdata\":[[1159.54],[51.41],[61.25],[33.0],[46.97],[770.0],[771.42],[530.0],[675.0],[313.0],[470.37],[666.0],[2.46],[95.0],[196.0],[490.0],[240.0],[321.5],[380.0],[570.0],[320.0],[754.04],[2.88],[1155.0],[1020.0],[646.29],[869.0],[194.0],[9.7],[33.0],[35.0],[1642.0],[1026.0],[373.8],[350.0],[284.0],[80.0],[225.87],[755.61],[249.89],[78.0],[380.0],[26.45],[109.62],[56.0],[370.46],[79.5],[15.0],[48.6],[4.72],[24.0],[65.0],[435.55],[923.5],[1.8],[574.62],[10.0],[680.7],[123.27],[74.36],[280.0],[1500.0],[280.0],[712.2],[488.51],[959.5],[424.0],[91.0],[155.0],[252.0],[469.0],[140.0],[85.0],[126.0],[818.0],[400.0],[647.0],[432.0],[220.0],[749.0],[591.0],[260.0],[474.0],[371.0],[220.0],[222.0],[547.56],[242.0],[287.0],[9.0],[40.0],[35.0],[39.0],[138.0],[333.0],[560.0],[1061.0],[991.0],[955.0],[784.0],[297.0],[555.2],[568.0],[869.0],[208.0],[976.0],[873.0],[912.0],[475.0],[921.0],[1150.0],[1276.33],[670.0],[4.0],[25.0],[32.0],[439.89],[1777.0],[367.0],[980.0],[5.0],[792.06],[863.0],[2.66],[609.0],[745.0],[678.0],[448.0],[398.0],[775.0],[573.0],[450.0],[571.0],[465.0],[808.0],[1007.76],[392.0],[522.0],[654.0],[1260.0],[385.0],[542.0],[4.66],[62.31],[276.0],[420.0],[111.0],[121.0],[765.0],[1244.0],[90.66],[684.05],[640.0],[86.13],[347.0],[512.0],[522.0],[582.0],[834.0],[667.0],[737.0],[1260.0],[782.0],[862.0],[1253.0],[752.0],[488.0],[1202.0],[339.0],[261.0],[218.0],[289.0],[19.0],[275.0],[231.0],[874.81],[450.0],[549.0],[440.0],[38.2],[409.0],[233.0],[415.0],[232.0],[43.6],[12.0],[254.0],[192.0],[47.0],[249.0],[233.06],[603.66],[822.76],[337.0],[550.0],[415.0],[374.22],[235.0],[161.2],[270.0],[523.0],[65.0],[169.85],[32.0],[36.0],[150.0],[208.0],[101.0],[38.0],[98.0],[189.0],[226.0],[988.0],[950.0],[512.0],[1040.0],[214.0],[860.0],[83.74],[722.0],[1356.0],[460.0],[213.5],[948.0],[631.0],[569.64],[894.0],[503.0],[616.0],[460.0],[880.0],[740.0],[266.0],[950.0],[495.0],[877.0],[615.0],[45.0],[42.0],[457.0],[374.0],[405.0],[525.0],[492.0],[730.0],[633.0],[730.0],[668.0],[520.0],[1.0],[398.0],[462.0],[230.0],[83.0],[124.0],[126.0],[47.0],[842.58],[245.11],[432.0],[490.0],[776.0],[1810.0],[2.0],[1200.0],[678.0],[890.0],[516.0],[329.0],[379.0],[431.0],[402.0],[336.0],[464.0],[306.0],[431.0],[353.0],[518.0],[379.0],[648.0],[526.0],[585.0],[875.0],[145.0],[303.0],[256.0],[241.0],[74.0],[19.0],[25.0],[401.0],[755.0],[438.74],[882.0],[85.0],[539.0],[403.0],[1290.0],[31.9],[506.5],[470.0],[407.0],[453.0],[315.0],[74.0],[10.0],[430.0],[453.0],[339.0],[430.0],[637.0],[291.0],[572.0],[184.0],[102.0],[91.0],[230.0],[8.0],[0.1],[41.0],[28.0],[153.0],[179.0],[281.0],[180.0],[126.0],[76.0],[175.0],[436.0],[136.0],[418.0],[448.0],[461.0],[332.0],[180.0],[233.0],[402.0],[393.0],[156.0],[17.0],[362.0],[308.0],[6.11],[187.0],[220.0],[111.0],[64.0],[72.0],[160.0],[53.0],[55.0],[78.0],[74.0],[35.0],[52.0],[17.0],[59.0],[92.0],[42.0],[21.0],[251.0],[108.0],[96.0],[203.0],[41.0],[33.0],[11.0],[148.0],[719.0],[13.0],[168.0],[317.0],[22.0],[106.0],[180.0],[590.0],[210.0],[140.0],[732.0],[220.0],[80.0],[154.0],[750.0],[1208.0],[8.0],[544.0],[667.0],[544.0],[600.0],[242.0],[362.0],[311.0],[381.0],[694.0],[59.0],[1018.0],[980.0],[1.0],[667.0],[631.0],[10.0],[830.0],[986.0],[26.0],[48.0],[1410.0],[960.0],[810.0],[665.0],[889.0],[952.0],[860.0],[592.0],[869.0],[484.0],[52.0],[12.0],[105.0],[125.0],[269.0],[88.0],[76.0],[286.0],[287.0],[301.0],[425.0],[204.0],[230.0],[163.0],[217.0],[116.0],[117.0],[394.0],[808.0],[949.0],[338.0],[464.0],[308.0],[237.0],[261.0],[94.0],[836.0],[1046.0],[533.0],[150.0],[18.0],[208.0],[249.0],[753.0],[71.0],[90.0],[81.0],[520.0],[791.0],[1106.0],[788.0],[730.0],[486.0],[116.0],[143.0],[96.0],[96.0],[798.0],[203.0],[425.0],[431.0],[81.0],[456.0],[625.0],[387.0],[27.0],[1214.0],[24.0],[990.0],[955.0],[370.0],[261.0],[220.0],[137.0],[306.0],[231.0],[845.0],[19.0],[16.0],[400.0],[488.0],[574.0],[110.0],[null],[null],[null],[null],[null],[null],[null],[null],[211.0],[245.0],[null],[null],[null],[null],[null],[null],[null],[171.0],[200.0],[291.0],[161.0],[512.0],[178.0],[480.0],[532.0],[697.0],[719.0],[null],[305.0],[516.0],[383.0],[590.0],[592.0],[835.0],[950.0],[462.0],[134.0],[545.0],[1017.0],[881.0],[1143.0],[1043.0],[608.0],[340.0],[105.0],[680.0],[187.0],[292.0],[447.0],[19.0],[213.0],[271.0],[21.0],[11.0],[224.0],[95.0],[722.0],[25.0],[950.0],[796.0],[308.0],[969.0],[778.0],[1025.0],[6.0],[2450.0],[20.0],[891.0],[660.0],[5.0],[35.0],[24.0],[498.0],[586.0],[365.5],[932.0],[347.0],[605.0],[624.0],[329.0],[345.0],[454.0],[540.0],[340.0],[319.0],[360.0],[499.0],[5.0],[372.0],[251.0],[436.0],[383.0],[374.0],[31.0],[182.0],[756.0],[193.0],[452.0],[519.0],[125.0],[251.0],[191.0],[712.0],[6.0],[293.0],[517.0],[771.0],[427.75],[300.0],[441.0],[195.0],[45.5],[183.0],[45.0],[84.0],[199.0],[620.0],[452.34],[13.0],[680.0],[963.0],[1285.0],[165.0],[705.0],[19.0]],\"hovertemplate\":\"<b>%{hovertext}</b><br><br>lat=%{lat}<br>lon=%{lon}<br>lvl=%{customdata[0]}<extra></extra>\",\"hovertext\":[\"A001\",\"A401\",\"A101\",\"A601\",\"A801\",\"A002\",\"A003\",\"A702\",\"A703\",\"A704\",\"A402\",\"A705\",\"A802\",\"A803\",\"A804\",\"A805\",\"A901\",\"A902\",\"A904\",\"A905\",\"A906\",\"A404\",\"A405\",\"A502\",\"A505\",\"A506\",\"A507\",\"A508\",\"A602\",\"A603\",\"A604\",\"A706\",\"A708\",\"A709\",\"A903\",\"A907\",\"A303\",\"A406\",\"A407\",\"A408\",\"A410\",\"A412\",\"A305\",\"A306\",\"A203\",\"A307\",\"A308\",\"A302\",\"A304\",\"A409\",\"A201\",\"A202\",\"A707\",\"A807\",\"A806\",\"A310\",\"A301\",\"A309\",\"A311\",\"A312\",\"A009\",\"A509\",\"A010\",\"A510\",\"A011\",\"A012\",\"A710\",\"A717\",\"A719\",\"A720\",\"A721\",\"A722\",\"A723\",\"A724\",\"A730\",\"A731\",\"A732\",\"A908\",\"A910\",\"A912\",\"A913\",\"A914\",\"A915\",\"A917\",\"A920\",\"A922\",\"A313\",\"A018\",\"A019\",\"A612\",\"A614\",\"A615\",\"A616\",\"A617\",\"A511\",\"A512\",\"A513\",\"A514\",\"A515\",\"A516\",\"A517\",\"A519\",\"A520\",\"A521\",\"A522\",\"A523\",\"A524\",\"A525\",\"A527\",\"A528\",\"A530\",\"A531\",\"A538\",\"A606\",\"A607\",\"A608\",\"A609\",\"A610\",\"A611\",\"A618\",\"A619\",\"A701\",\"A711\",\"A712\",\"A713\",\"A714\",\"A715\",\"A716\",\"A718\",\"A725\",\"A726\",\"A727\",\"A728\",\"A729\",\"A818\",\"A819\",\"A820\",\"A821\",\"A822\",\"A823\",\"A824\",\"A835\",\"A808\",\"A809\",\"A810\",\"A812\",\"A813\",\"A826\",\"A828\",\"A829\",\"A838\",\"A839\",\"A840\",\"A817\",\"A013\",\"A014\",\"A015\",\"A016\",\"A017\",\"A022\",\"A023\",\"A024\",\"A025\",\"A026\",\"A032\",\"A033\",\"A035\",\"A036\",\"A916\",\"A919\",\"A921\",\"A924\",\"A323\",\"A327\",\"A413\",\"A414\",\"A415\",\"A416\",\"A418\",\"A314\",\"A315\",\"A319\",\"A324\",\"A325\",\"A332\",\"A339\",\"A204\",\"A205\",\"A320\",\"A321\",\"A333\",\"A334\",\"A322\",\"A329\",\"A341\",\"A326\",\"A330\",\"A331\",\"A335\",\"A336\",\"A337\",\"A338\",\"A316\",\"A317\",\"A318\",\"A340\",\"A417\",\"A212\",\"A213\",\"A925\",\"A020\",\"A021\",\"A613\",\"A518\",\"A526\",\"A529\",\"A532\",\"A533\",\"A534\",\"A536\",\"A537\",\"A539\",\"A540\",\"A541\",\"A542\",\"A543\",\"A544\",\"A545\",\"A546\",\"A547\",\"A548\",\"A549\",\"A550\",\"A551\",\"A552\",\"A553\",\"A554\",\"A621\",\"A652\",\"A733\",\"A734\",\"A735\",\"A736\",\"A737\",\"A738\",\"A739\",\"A740\",\"A842\",\"A843\",\"A847\",\"A855\",\"A811\",\"A827\",\"A830\",\"A831\",\"A832\",\"A836\",\"A844\",\"A852\",\"A853\",\"A854\",\"A841\",\"A845\",\"A851\",\"A045\",\"A027\",\"A034\",\"A742\",\"A743\",\"A749\",\"A750\",\"A751\",\"A752\",\"A754\",\"A926\",\"A927\",\"A928\",\"A929\",\"A930\",\"A931\",\"A932\",\"A933\",\"A934\",\"A935\",\"A936\",\"A937\",\"A353\",\"A355\",\"A356\",\"A422\",\"A423\",\"A424\",\"A425\",\"A426\",\"A427\",\"A428\",\"A429\",\"A430\",\"A431\",\"A432\",\"A433\",\"A434\",\"A435\",\"A436\",\"A437\",\"A438\",\"A439\",\"A440\",\"A441\",\"A442\",\"A443\",\"A342\",\"A347\",\"A358\",\"A359\",\"A206\",\"A207\",\"A217\",\"A218\",\"A219\",\"A220\",\"A221\",\"A222\",\"A223\",\"A224\",\"A225\",\"A237\",\"A238\",\"A348\",\"A352\",\"A328\",\"A349\",\"A350\",\"A351\",\"A357\",\"A343\",\"A345\",\"A346\",\"A354\",\"A344\",\"A419\",\"A420\",\"A421\",\"A102\",\"A104\",\"A110\",\"A111\",\"A112\",\"A113\",\"A117\",\"A119\",\"A120\",\"A121\",\"A122\",\"A123\",\"A124\",\"A125\",\"A126\",\"A128\",\"A242\",\"A209\",\"A210\",\"A211\",\"A214\",\"A215\",\"A226\",\"A227\",\"A229\",\"A230\",\"A231\",\"A233\",\"A234\",\"A236\",\"A235\",\"A241\",\"A938\",\"A939\",\"A940\",\"A038\",\"A039\",\"A622\",\"A623\",\"A535\",\"A555\",\"A620\",\"A741\",\"A746\",\"A747\",\"A753\",\"A846\",\"A849\",\"A850\",\"A869\",\"A871\",\"A873\",\"A875\",\"A876\",\"A834\",\"A837\",\"A856\",\"A878\",\"A879\",\"A880\",\"A899\",\"A814\",\"A815\",\"A816\",\"A848\",\"A857\",\"A858\",\"A859\",\"A860\",\"A861\",\"A862\",\"A863\",\"A866\",\"A867\",\"A444\",\"A445\",\"A446\",\"A447\",\"A360\",\"A361\",\"A362\",\"A363\",\"A364\",\"A136\",\"A137\",\"A138\",\"A140\",\"A240\",\"A044\",\"A833\",\"A864\",\"A037\",\"A756\",\"A366\",\"A365\",\"A367\",\"A246\",\"A135\",\"A556\",\"A624\",\"A748\",\"A881\",\"A868\",\"A757\",\"A758\",\"A909\",\"A133\",\"A134\",\"A248\",\"A657\",\"A755\",\"A872\",\"A874\",\"A760\",\"A761\",\"A941\",\"A109\",\"A232\",\"A239\",\"A040\",\"A041\",\"A043\",\"A557\",\"A882\",\"A883\",\"A028\",\"A759\",\"A249\",\"F501\",\"A884\",\"A046\",\"A865\",\"A448\",\"A450\",\"A108\",\"A250\",\"A052\",\"A054\",\"A561\",\"A659\",\"A667\",\"A449\",\"A452\",\"A454\",\"A455\",\"S108\",\"S102\",\"S103\",\"S105\",\"S115\",\"S116\",\"S117\",\"S121\",\"A216\",\"A247\",\"S107\",\"S120\",\"S101\",\"S104\",\"S110\",\"S113\",\"S114\",\"A048\",\"A049\",\"A050\",\"A051\",\"A053\",\"A055\",\"A559\",\"A563\",\"A565\",\"A569\",\"S122\",\"A625\",\"A626\",\"A762\",\"A764\",\"B803\",\"B804\",\"B806\",\"A886\",\"A889\",\"A894\",\"A897\",\"A870\",\"A042\",\"A047\",\"A029\",\"A031\",\"A911\",\"A923\",\"A371\",\"A373\",\"A370\",\"A372\",\"A451\",\"A453\",\"A251\",\"A228\",\"A631\",\"A632\",\"A633\",\"A634\",\"A562\",\"A564\",\"A566\",\"A567\",\"A568\",\"A570\",\"A628\",\"A635\",\"A636\",\"A744\",\"A763\",\"A765\",\"A766\",\"A767\",\"A768\",\"A769\",\"A005\",\"A056\",\"S701\",\"S702\",\"S703\",\"S704\",\"S705\",\"S706\",\"S707\",\"S708\",\"S709\",\"S710\",\"S711\",\"S712\",\"S713\",\"S714\",\"S715\",\"S716\",\"S717\",\"A456\",\"A458\",\"A368\",\"A369\",\"A374\",\"A375\",\"A376\",\"A252\",\"A253\",\"A571\",\"A627\",\"A629\",\"A630\",\"A771\",\"A893\",\"A942\",\"A943\",\"A944\",\"A255\",\"A377\",\"A144\",\"A244\",\"A254\",\"A770\",\"A825\",\"A887\",\"A895\",\"A898\",\"C891\",\"A256\",\"A560\",\"A245\"],\"lat\":[-45.01666666,-13.01666666,-3.10333333,-22.8,-30.05,-16.64277777,-17.71666667,-20.45,-22.5525,-20.78999999,-12.15,-22.35805555,-32.03333333,-29.70833333,-30.84249999,-27.85416666,-15.55916666,-14.65,-12.55,-13.78333333,-9.95,-12.15222222,-17.73333333,-21.22888888,-19.60555555,-16.71666666,-18.91722221,-16.16666666,-23.05,-22.58972221,-21.56666666,-22.75027777,-20.57999999,-22.30666666,-13.45,-16.45,-9.55111111,-12.65,-13.52833332,-12.51666666,-14.65944444,-12.11666666,-3.83222221,-3.73166666,-2.52694443,-9.38805555,-3.08638888,0.9,-5.9,-10.95027777,-1.41027777,-1.30083333,-22.11999999,-25.43333333,-27.6025,-6.97499999,-8.05916666,-8.41694443,-6.76666666,-5.07388888,-10.18333333,-22.86138888,-12.615,-20.76277777,-18.96666666,-16.27222222,-19.69527777,-18.98888888,-20.47555554,-18.51222222,-22.19388888,-20.38333333,-21.70583333,-18.99666666,-18.80222222,-21.60916666,-19.42027777,-14.01611111,-9.56388888,-15.52749999,-13.70861111,-11.28027777,-14.42138888,-11.98222221,-11.36694443,-15.06277777,-7.24249999,-12.01666666,-11.74583333,-20.26666666,-19.35694444,-20.63638888,-18.71388888,-20.75055555,-19.5736111,-18.95277777,-20.54583333,-21.22638888,-21.56638888,-20.74499999,-21.10472222,-19.53916666,-19.98583333,-19.88416666,-17.7986111,-18.99638888,-20.45472222,-19.87527777,-17.9,-18.20055555,-21.91805554,-22.31444444,-18.76444444,-22.98333333,-21.71666666,-22.38333333,-22.45,-22.48166666,-22.35,-22.44888888,-23.22333332,-23.48333333,-21.97972221,-24.71666666,-23.35,-23.98138888,-23.85138888,-22.9486111,-22.37249999,-23.09972221,-22.70277777,-21.66527777,-23.04194444,-20.40305555,-25.01333333,-24.78944444,-24.53583333,-23.50527777,-24.43722221,-25.56583333,-23.39027777,-23.40777777,-29.35027777,-29.84249999,-27.89305555,-30.54777777,-29.87333332,-29.71166666,-27.66027777,-28.75138888,-30.81055555,-28.22944443,-29.16722221,-26.91361111,-15.90583333,-15.93916666,-14.98027777,-17.92388888,-14.08916666,-15.22027777,-16.96666666,-14.13305554,-17.78583333,-17.45472222,-13.24805555,-17.30416666,-18.40972222,-16.78805555,-12.5986111,-9.90611111,-11.61888888,-9.84944444,-9.76583333,-9.42055554,-12.19583333,-14.8861111,-11.01999999,-13.33222221,-13.41666666,-4.26111111,-7.31805554,-6.39666666,-6.01666666,-5.17305554,-5.13638888,-4.85333333,-7.45527777,-7.33722221,-7.16583333,-7.07972221,-6.75666666,-7.89138888,-8.90694444,-8.50305555,-8.2361111,-9.08333333,-8.07999999,-8.36472222,-4.26388888,-8.44305555,-9.2861111,-3.90083333,-6.45972222,-5.15111111,-4.90388888,-5.62638888,-11.27249999,-3.01027777,-2.6,-8.76388888,-8.9686111,-7.10416666,-19.98833333,-21.76999999,-15.08583333,-22.3961111,-18.83027777,-18.78666666,-19.53277777,-19.48166666,-18.2311111,-15.08583333,-18.78027777,-17.70527777,-16.55388888,-14.91277777,-15.52416666,-17.25777777,-17.56166666,-16.3625,-15.31,-15.75222222,-16.57555554,-15.72277777,-16.16027777,-17.78472221,-19.73583333,-22.86083333,-22.98833333,-20.165,-21.31916666,-21.08555555,-21.13305554,-21.85555555,-21.77972221,-22.415,-23.22833332,-23.40694444,-25.69472221,-25.49444444,-25.72194443,-31.40583333,-31.34777777,-28.64944444,-30.3686111,-30.34138888,-32.53749999,-28.22194443,-28.41694443,-28.60361111,-27.39555555,-27.16944443,-28.13333333,-26.0811111,-15.59638888,-16.94583333,-18.15777777,-19.12249999,-21.77472221,-22.85722222,-23.0025,-23.96694443,-23.44944444,-20.98166666,-10.00527777,-12.87194443,-13.06555555,-13.68638888,-13.18472221,-14.92777777,-16.34166666,-17.29722221,-17.81555555,-15.54638888,-15.13583333,-15.25111111,-9.80416666,-10.14527777,-9.28749999,-17.96416666,-9.60277777,-11.32888888,-12.55722222,-14.20805555,-16.38916666,-10.44305555,-11.08472221,-13.15583333,-11.8,-10.72305554,-14.18166666,-13.00944444,-9.8336111,-10.98472221,-15.27999999,-13.90722222,-12.19249999,-11.205,-11.66444444,-10.53722221,-10.455,-5.1861111,-7.07805554,-5.90527777,-3.48388888,-3.74277777,-5.82472221,-2.27083332,-2.59249999,-1.66166666,-4.24305555,-5.50666666,-6.03333333,-9.10805555,-6.65333333,-5.55555555,-4.82138888,-4.32055554,-7.48333333,-6.56083333,-7.83694444,-8.50944444,-7.95361111,-8.5936111,-8.66638888,-7.07083332,-9.03305554,-7.47472221,-6.97416666,-5.16,-10.73749999,-10.39944444,-10.47944443,-9.3575,-9.95777777,-8.77666666,-7.43527777,-7.92277777,-7.21527777,-4.09749999,-3.29472221,-2.05638888,-3.13305554,-3.39888888,-2.64055555,-2.89638888,-2.7211111,-2.08499999,-0.95861111,3.81361111,-3.51083333,-3.8436111,-3.8811111,-4.82749999,-0.6186111,-1.04527777,-0.81111111,-3.82277777,-6.07749999,-4.27638888,-9.3386111,-6.7436111,-2.2486111,-4.23444444,-8.25916666,-12.73472221,-11.44583333,-9.94888888,-11.59416666,-11.98722221,-21.10111111,-18.69527777,-19.88527778,-20.0311111,-22.04166666,-22.37083332,-24.96305555,-21.33833333,-20.35944444,-25.60194444,-22.63388888,-22.49166666,-23.37583332,-23.77305554,-25.51277777,-26.3986111,-26.41722221,-30.00972222,-28.85361111,-27.92166666,-31.24777777,-29.36888888,-28.51361111,-33.74166666,-28.53249999,-28.27555554,-26.40694444,-26.28638888,-26.77666666,-26.9386111,-26.81944443,-27.2886111,-26.93749999,-26.2486111,-27.41833332,-28.60416666,-28.93138888,-13.3436111,-14.17138888,-15.24472221,-16.08805555,-3.12083332,-5.34916666,-5.91111111,-6.39916666,-9.87472221,-8.26694443,-8.95,-8.24194444,-11.0236111,-5.16722221,-5.6436111,-29.19138888,-26.3936111,-16.67694443,-20.44444444,-7.88472221,-8.11777777,-6.22777777,-6.31972221,2.81694443,-20.26361111,-22.33305554,-20.55888888,-31.0025,-26.95083333,-22.10083333,-21.47833332,-17.33944444,-5.81055555,-0.12499999,-1.73472221,-20.10416666,-23.52333332,-24.23833333,-25.83499999,-18.82277777,-17.89638888,-16.07444443,-6.65027777,-5.36583333,-2.0,-10.42999999,-9.57666666,-8.15472222,-21.54694444,-29.45027777,-28.65333333,-16.42305554,-21.75138888,0.03527777,-19.97999999,-29.67444443,-15.93527777,-27.80222222,-9.00138888,-10.08083332,-7.61055555,-2.50277777,-11.04638888,-12.59222221,-20.91,-22.64583333,-22.8711111,-10.00222222,-11.05222222,-13.03888888,-17.00722222,-2.7,-2.93055554,-3.02249999,-4.25055555,0.59944444,-4.52999999,-3.37722221,-0.41444444,-6.63972221,-7.11027777,-4.28999999,-6.23722221,-12.42999999,-12.75055555,-10.78999999,0.94777777,4.47749999,-7.12416666,-8.09277777,-9.16,-10.47694443,-11.28416666,-10.80833333,-15.44805555,-15.80277777,-20.0311111,-19.455,3.35888888,-22.09833333,-22.65361111,-21.45777777,-20.94916666,-24.57083332,-25.36888888,-25.32222221,-29.89388888,-29.70194444,-28.70472222,-29.04888888,-27.6786111,-15.59972221,-16.01111111,-17.33694444,-12.81972221,-10.16583333,-15.57999999,-9.62222221,-7.3186111,-8.05805555,-5.53499999,-10.67166666,-10.20777777,0.56777777,-1.68027777,-18.29166666,-19.40722222,-20.25222222,-20.46694443,-18.52055554,-20.17305554,-16.84888888,-21.68083332,-19.71,-20.71472222,-22.97583332,-22.37388888,-22.93972221,-23.95194444,-22.23527777,-23.84499999,-24.53305554,-23.81083333,-21.92722221,-22.68888888,-13.51444444,-16.39944444,-22.14805555,-22.955,-19.94555555,-21.24666666,-21.29833333,-22.65694444,-19.58749999,-22.30861111,-23.64444444,-22.09277777,-22.57527777,-21.45111111,-22.0786111,-18.07277777,-20.46666666,-21.30583333,-20.35138888,-12.80833333,-11.05861111,-3.73222221,-4.97888888,-10.42916666,-8.33749999,-4.86416666,-4.28055554,-3.27027777,-17.24416666,-22.86749999,-21.9386111,-21.95055555,-23.72472221,-30.54305555,-10.48416666,-11.98777777,-14.82888888,-3.26916666,-6.08944444,-8.0911111,0.69444444,-8.04333333,-21.46111111,-24.15833333,-31.8025,-27.95527777,-27.3886111,-84.0,-8.72972221,-19.23249999,-1.82194443],\"legendgroup\":\"\",\"lon\":[-47.92583332,-38.51666666,-60.01638888,-43.68333333,-51.16666666,-49.21999999,-49.1,-54.6,-55.71638888,-51.71222222,-45.01666666,-49.02888888,-52.1,-53.70361111,-55.61277777,-53.7911111,-56.72944443,-57.41666666,-55.71666666,-57.83333333,-54.88333333,-45.82972221,-39.26666666,-43.76694443,-46.94944444,-43.86666666,-48.25555555,-40.68777777,-43.6,-43.28222221,-41.95,-45.60388888,-47.37999999,-53.82722221,-56.66666666,-54.56666666,-35.77027777,-39.15,-40.11972221,-40.3,-39.1811111,-40.18333333,-38.53777777,-40.34555555,-44.21305555,-40.48944444,-41.78333333,-29.31666666,-35.2,-37.05,-48.43833333,-47.93083332,-51.4,-49.26666666,-48.61999999,-35.68499999,-34.95944444,-37.08333333,-43.01666666,-42.80694444,-48.3,-46.04333333,-47.87194443,-42.86388888,-50.61666666,-47.96638889,-51.18138888,-56.62305554,-55.78388888,-54.73583333,-54.91138888,-56.41666666,-57.88666666,-57.63749999,-52.60277777,-55.17777777,-54.55305555,-52.21222222,-57.3936111,-55.13555555,-59.76277777,-57.52666666,-54.03527777,-55.56583333,-58.73305554,-59.87277777,-35.88888888,-48.55,-49.04972221,-40.3,-40.0686111,-40.74138888,-39.84833333,-41.48888888,-42.62222221,-49.52499999,-43.76944443,-44.97944443,-45.40416666,-46.63388888,-42.37583332,-49.51805554,-48.15138888,-43.96944443,-40.24972221,-46.98583333,-45.45388888,-47.43416666,-41.51666666,-45.45972222,-46.38305554,-45.37277777,-44.45361111,-42.01666666,-41.35,-41.81666667,-44.45,-43.29138888,-43.7,-42.98722221,-44.72666666,-46.61666666,-47.88333333,-47.55,-47.66666666,-48.88527777,-48.16444444,-49.89416666,-50.97416666,-48.94555555,-47.62305554,-49.73416666,-45.52027777,-49.96583333,-50.8711111,-49.99972221,-54.01972221,-49.94638888,-51.96305555,-51.08944444,-53.63472221,-51.91666666,-49.73305554,-57.08249999,-54.48055554,-53.46749999,-52.38249999,-55.5261111,-52.30638888,-50.05833333,-51.83472221,-52.40388888,-51.53472221,-49.26749999,-52.24388888,-50.14138888,-49.53944444,-51.71777777,-46.36638888,-48.99027777,-51.81749999,-47.52305554,-50.98138888,-52.60111111,-46.88972221,-48.28416666,-49.19194444,-47.61166666,-52.19444444,-58.57194443,-50.72777777,-56.1,-37.44777777,-36.62027777,-38.96722221,-40.80138888,-44.52499999,-44.61722221,-43.18416666,-38.19749999,-39.30166666,-39.27027777,-40.28166666,-39.28722221,-38.35638888,-37.77694443,-46.02749999,-47.45972222,-34.81527777,-37.27249999,-38.22749999,-37.11527777,-36.49472221,-39.31388888,-35.98583333,-44.31666666,-41.07999999,-42.25083333,-41.77805554,-43.86472222,-43.32444443,-42.23694444,-37.08888888,-36.57305554,-37.36694443,-37.815,-37.79472221,-47.34305555,-48.36666666,-63.47499999,-48.19416666,-48.20111111,-40.57944443,-43.36416666,-44.01583333,-44.96166666,-41.97666666,-42.94305555,-41.09083333,-45.59388888,-43.64805555,-44.01611111,-40.98583333,-42.38916666,-46.88194443,-42.82972221,-46.43555555,-44.83555555,-47.19944444,-45.12388888,-45.61666666,-41.45833333,-41.48527777,-42.43527777,-42.31027777,-46.11916666,-42.15361111,-43.41111111,-43.19027777,-50.59499999,-50.93027777,-49.92055554,-48.84027777,-48.66666666,-47.07972221,-46.80527777,-45.41722221,-50.57777777,-53.09444444,-48.32583332,-53.74805555,-52.70111111,-54.01333333,-56.01555555,-56.43722221,-54.31083333,-53.37638888,-51.51222222,-54.96222222,-53.6736111,-53.41277777,-51.57555554,-49.48333333,-48.64166666,-47.62583332,-50.42527777,-47.92638888,-51.72083332,-54.52805554,-54.60555555,-55.32944443,-55.02416666,-54.18166666,-54.97194443,-55.79055555,-58.38722221,-57.15611111,-54.95611111,-53.2575,-53.8836111,-53.76611111,-54.83722221,-53.28749999,-57.38166666,-58.115,-59.34666666,-36.61888888,-36.28638888,-35.56583333,-38.6961111,-42.10277777,-41.86444444,-41.38888888,-42.74944444,-39.18249999,-40.14833333,-43.13916666,-41.77416666,-37.59972221,-43.65111111,-41.67222221,-39.61694443,-39.49555555,-39.61694443,-39.0911111,-38.97222221,-43.2125,-40.465,-39.02305554,-38.99666666,-41.20722222,-40.66999999,-40.36305555,-38.62777777,-39.58833333,-43.35194444,-46.15944444,-43.62388888,-42.70722222,-45.37277777,-44.79499999,-45.23694444,-44.23333333,-45.93194443,-47.41833332,-47.45972222,-43.3436111,-46.44972221,-36.28638888,-35.13472221,-35.7961111,-37.71138888,-38.29472221,-38.58388888,-35.56805554,-41.40416666,-42.70055555,-44.34472221,-42.14694444,-35.45416666,-38.10777777,-37.74722221,-36.48194443,-69.92722221,-68.165,-67.33222221,-64.7886111,-63.12138888,-59.8886111,-63.14527777,-60.62833332,-60.02555554,-58.48277777,-57.6736111,-56.75472222,-57.75833333,-59.94333333,-60.04888888,-62.94222221,-51.8625,-52.96361111,-50.63805555,-54.2461111,-48.17333332,-47.35666666,-46.78277777,-48.51583333,-49.67499999,-50.14222221,-55.99305555,-50.35027777,-51.14222221,-49.49305555,-49.94277777,-49.27416666,-60.15777777,-61.43416666,-62.96194444,-46.84722221,-49.60833333,-41.03888888,-40.4075,-44.41694444,-44.01111111,-41.05194444,-48.55722222,-48.41638888,-48.11388888,-47.77499999,-54.48305554,-52.85888888,-52.13444444,-52.93194443,-50.18055554,-48.80861111,-51.35444444,-52.34888888,-50.13527777,-52.55833333,-53.31694443,-50.90555555,-50.82749999,-50.88277777,-53.37138888,-49.31555555,-49.93444444,-52.85055555,-53.63277777,-53.50444444,-52.415,-50.98555555,-50.60416666,-50.14638888,-49.58055554,-49.64666666,-48.81333333,-49.49805555,-39.12666666,-39.69249999,-40.22944443,-39.21555555,-40.08694444,-41.51222222,-42.7186111,-41.73999999,-45.34638888,-72.74777777,-72.78666666,-70.57527777,-68.73499999,-49.37916666,-48.11166666,-54.88555555,-50.36333333,-48.61805554,-52.87555554,-40.10111111,-42.00888888,-36.02638888,-55.78722221,-60.69083333,-42.18277777,-42.67722221,-48.54472221,-54.61805554,-48.76194444,-56.53999999,-56.13694444,-53.22416666,-61.29194444,-67.06111111,-47.0575,-41.10694444,-46.86916666,-50.24555555,-50.3686111,-53.26722221,-54.45361111,-57.69277777,-69.86694443,-49.12527777,-54.07583332,-45.91999999,-49.72333332,-46.63916666,-43.26111111,-51.82416666,-53.11194444,-51.14805555,-52.47055554,-51.0886111,-43.95861111,-51.06416666,-48.13749999,-50.33555555,-39.91277777,-38.34583333,-72.405,-54.72027777,-48.18555555,-49.5286111,-47.11416666,-42.41583333,-42.60916666,-42.47333332,-45.20083333,-42.61722221,-39.55138888,-44.85,-69.69527777,-60.05555555,-69.93499999,-69.19194444,-71.61749999,-64.72305554,-65.01749999,-51.95694444,-49.92583332,-47.55,-57.77499999,-64.41999999,-60.14916666,-65.33277777,-59.74638888,-61.14916666,-48.78138888,-48.4786111,-47.13277777,-49.62944443,-47.21222222,-49.84777777,-44.36638888,-43.29694444,-46.00861111,-44.17333332,-59.82388888,-43.20861111,-44.04083333,-51.55222222,-48.48972221,-52.8025,-52.39194444,-49.1575,-53.82666666,-54.69416666,-51.87055554,-50.14944444,-49.04194444,-48.1311111,-47.5575,-49.91472222,-50.34166666,-59.45111111,-54.3811111,-37.76722221,-38.14083333,-39.0961111,-36.87222221,-37.47138888,-37.43194443,-50.8236111,-50.47805554,-40.73638888,-40.53972221,-41.18999999,-40.40416666,-46.44055555,-44.87472221,-45.03527777,-45.94444444,-47.96166666,-44.86444444,-44.30333333,-44.70305555,-43.40277777,-46.53055554,-49.965,-46.14305555,-47.86416666,-45.4025,-50.49027777,-45.00555555,-49.19833333,-47.62583332,-53.76361111,-55.6261111,-54.3686111,-56.45055555,-52.06888888,-54.81944443,-54.02999999,-54.32583332,-54.57027777,-54.79888888,-55.16027777,-54.34194444,-53.46583333,-54.54888888,-53.76305555,-52.82027777,-51.43027777,-38.49583333,-38.44416666,-41.01194444,-39.05722222,-45.17305554,-45.09472221,-42.14555555,-47.56388888,-52.39472221,-46.88166666,-43.10194444,-42.60083333,-42.01055555,-46.67805554,-52.52472221,-52.37249999,-51.4261111,-56.44194444,-45.65111111,-42.72749999,-60.38055554,-51.40416666,-50.00694444,-47.57944443,-53.03055554,-52.40722222,-52.63555555,-51.21583333,-79.49416666,-49.85638888,-44.96416666,-52.11166666],\"marker\":{\"color\":\"blue\"},\"mode\":\"markers\",\"name\":\"\",\"showlegend\":false,\"subplot\":\"mapbox\",\"type\":\"scattermapbox\"},{\"marker\":{\"color\":\"rgba(152, 0, 0, .8)\"},\"mode\":\"markers\",\"name\":\"farms\",\"x\":[-21.444863288363614,-18.52732198399872,-21.877600079894428,-21.877600079894428,-21.877600079894428,-21.877600079894428,-20.05845833645814,-4.498676298642221,-22.095760723175886,-12.404400112670487,-21.76121880758086,-22.366016295045306,-22.785019797545694,-21.4532483711391,-18.64698614414741,-18.64698614414741,-18.64698614414741,-18.64698614414741,-18.64698614414741,-18.64698614414741,-18.64698614414741,-18.64698614414741,-18.64698614414741,-18.64698614414741,null,-22.09933939187727,-22.09933939187727,null,-17.582654936016926,null,null,-22.094568087843687,-21.76626556295618,-22.094568087843687,-22.629913000779446,-18.676315608302055,-22.099418916815903,-22.099418916815903,-22.099418916815903,-22.099418916815903,-18.63831446703355,-20.312258124962906,-20.312258124962906,-19.560780988980817,-18.631997524421426,null,-22.112480964214626,-22.112480964214626,-22.112480964214626,-22.112480964214626,null,-22.774138613223663,-21.940510105475326,-21.940510105475326,-21.940510105475326,-21.940510105475326,-21.940510105475326,-21.940510105475326,-21.940510105475326,-21.940510105475326,-21.940510105475326,-21.940510105475326,-21.940510105475326,-21.940510105475326,-21.940510105475326,-21.940510105475326,-21.940510105475326,-21.940510105475326,-21.940510105475326,-21.940510105475326,-21.940510105475326,-21.940510105475326,-21.940510105475326,-21.940510105475326,-21.940510105475326,-22.59528143237296,-21.44645605895183,-21.45008093579659,-21.435236392716707,-21.435236392716707,null,-21.40862617568116,-21.0,-20.27591897959779,-20.27591897959779,-21.44237673402853,null,-21.780100162105256,-21.780100162105256,-21.761009557830032,-21.761009557830032,-21.761009557830032,-21.761009557830032,-21.761009557830032,-21.761009557830032,-21.761009557830032,-21.761009557830032,-21.761009557830032,-21.761009557830032,-21.761009557830032,-21.761009557830032,-21.761009557830032,-21.444638601462618,-22.107657064931225],\"y\":[-46.827235570452125,-47.569893903127564,-45.17833587173798,-45.17833587173798,-45.17833587173798,-45.17833587173798,-45.551377369807916,-46.01438009152326,-45.189755175672296,-57.0307320652044,-46.674253002625804,-46.47371725096838,-47.03177457322967,-45.22708818550831,-45.796849953979795,-45.796849953979795,-45.796849953979795,-45.796849953979795,-45.796849953979795,-45.796849953979795,-45.796849953979795,-45.796849953979795,-45.796849953979795,-45.796849953979795,null,-45.18968007378277,-45.18968007378277,null,-47.2198752950817,null,null,-45.155496432162685,-46.702161544954144,-45.155496432162685,-44.601043902591805,-45.70281563093488,-45.18965861611114,-45.18965861611114,-45.18965861611114,-45.18965861611114,-46.952789277527444,-43.28548394936318,-43.28548394936318,-46.579303497451384,-46.82473127385452,null,-45.15508902245408,-45.15508902245408,-45.15508902245408,-45.15508902245408,null,-47.02968245276757,-45.176192869009476,-45.176192869009476,-45.176192869009476,-45.176192869009476,-45.176192869009476,-45.176192869009476,-45.176192869009476,-45.176192869009476,-45.176192869009476,-45.176192869009476,-45.176192869009476,-45.176192869009476,-45.176192869009476,-45.176192869009476,-45.176192869009476,-45.176192869009476,-45.176192869009476,-45.176192869009476,-45.176192869009476,-45.176192869009476,-45.176192869009476,-45.176192869009476,-45.176192869009476,-46.66759241371165,-46.82635044153258,-46.8357381855336,-46.83244978479159,-46.83244978479159,null,-46.80560442679252,-46.674253002625804,-41.876604035124465,-41.876604035124465,-46.818513026788274,null,-46.67880344388111,-46.67880344388111,-46.67507912298348,-46.67507912298348,-46.67507912298348,-46.67507912298348,-46.67507912298348,-46.67507912298348,-46.67507912298348,-46.67507912298348,-46.67507912298348,-46.67507912298348,-46.67507912298348,-46.67507912298348,-46.67507912298348,-46.81747769417689,-48.32067672583973],\"type\":\"scatter\"}],                        {\"template\":{\"data\":{\"bar\":[{\"error_x\":{\"color\":\"#2a3f5f\"},\"error_y\":{\"color\":\"#2a3f5f\"},\"marker\":{\"line\":{\"color\":\"#E5ECF6\",\"width\":0.5},\"pattern\":{\"fillmode\":\"overlay\",\"size\":10,\"solidity\":0.2}},\"type\":\"bar\"}],\"barpolar\":[{\"marker\":{\"line\":{\"color\":\"#E5ECF6\",\"width\":0.5},\"pattern\":{\"fillmode\":\"overlay\",\"size\":10,\"solidity\":0.2}},\"type\":\"barpolar\"}],\"carpet\":[{\"aaxis\":{\"endlinecolor\":\"#2a3f5f\",\"gridcolor\":\"white\",\"linecolor\":\"white\",\"minorgridcolor\":\"white\",\"startlinecolor\":\"#2a3f5f\"},\"baxis\":{\"endlinecolor\":\"#2a3f5f\",\"gridcolor\":\"white\",\"linecolor\":\"white\",\"minorgridcolor\":\"white\",\"startlinecolor\":\"#2a3f5f\"},\"type\":\"carpet\"}],\"choropleth\":[{\"colorbar\":{\"outlinewidth\":0,\"ticks\":\"\"},\"type\":\"choropleth\"}],\"contour\":[{\"colorbar\":{\"outlinewidth\":0,\"ticks\":\"\"},\"colorscale\":[[0.0,\"#0d0887\"],[0.1111111111111111,\"#46039f\"],[0.2222222222222222,\"#7201a8\"],[0.3333333333333333,\"#9c179e\"],[0.4444444444444444,\"#bd3786\"],[0.5555555555555556,\"#d8576b\"],[0.6666666666666666,\"#ed7953\"],[0.7777777777777778,\"#fb9f3a\"],[0.8888888888888888,\"#fdca26\"],[1.0,\"#f0f921\"]],\"type\":\"contour\"}],\"contourcarpet\":[{\"colorbar\":{\"outlinewidth\":0,\"ticks\":\"\"},\"type\":\"contourcarpet\"}],\"heatmap\":[{\"colorbar\":{\"outlinewidth\":0,\"ticks\":\"\"},\"colorscale\":[[0.0,\"#0d0887\"],[0.1111111111111111,\"#46039f\"],[0.2222222222222222,\"#7201a8\"],[0.3333333333333333,\"#9c179e\"],[0.4444444444444444,\"#bd3786\"],[0.5555555555555556,\"#d8576b\"],[0.6666666666666666,\"#ed7953\"],[0.7777777777777778,\"#fb9f3a\"],[0.8888888888888888,\"#fdca26\"],[1.0,\"#f0f921\"]],\"type\":\"heatmap\"}],\"heatmapgl\":[{\"colorbar\":{\"outlinewidth\":0,\"ticks\":\"\"},\"colorscale\":[[0.0,\"#0d0887\"],[0.1111111111111111,\"#46039f\"],[0.2222222222222222,\"#7201a8\"],[0.3333333333333333,\"#9c179e\"],[0.4444444444444444,\"#bd3786\"],[0.5555555555555556,\"#d8576b\"],[0.6666666666666666,\"#ed7953\"],[0.7777777777777778,\"#fb9f3a\"],[0.8888888888888888,\"#fdca26\"],[1.0,\"#f0f921\"]],\"type\":\"heatmapgl\"}],\"histogram\":[{\"marker\":{\"pattern\":{\"fillmode\":\"overlay\",\"size\":10,\"solidity\":0.2}},\"type\":\"histogram\"}],\"histogram2d\":[{\"colorbar\":{\"outlinewidth\":0,\"ticks\":\"\"},\"colorscale\":[[0.0,\"#0d0887\"],[0.1111111111111111,\"#46039f\"],[0.2222222222222222,\"#7201a8\"],[0.3333333333333333,\"#9c179e\"],[0.4444444444444444,\"#bd3786\"],[0.5555555555555556,\"#d8576b\"],[0.6666666666666666,\"#ed7953\"],[0.7777777777777778,\"#fb9f3a\"],[0.8888888888888888,\"#fdca26\"],[1.0,\"#f0f921\"]],\"type\":\"histogram2d\"}],\"histogram2dcontour\":[{\"colorbar\":{\"outlinewidth\":0,\"ticks\":\"\"},\"colorscale\":[[0.0,\"#0d0887\"],[0.1111111111111111,\"#46039f\"],[0.2222222222222222,\"#7201a8\"],[0.3333333333333333,\"#9c179e\"],[0.4444444444444444,\"#bd3786\"],[0.5555555555555556,\"#d8576b\"],[0.6666666666666666,\"#ed7953\"],[0.7777777777777778,\"#fb9f3a\"],[0.8888888888888888,\"#fdca26\"],[1.0,\"#f0f921\"]],\"type\":\"histogram2dcontour\"}],\"mesh3d\":[{\"colorbar\":{\"outlinewidth\":0,\"ticks\":\"\"},\"type\":\"mesh3d\"}],\"parcoords\":[{\"line\":{\"colorbar\":{\"outlinewidth\":0,\"ticks\":\"\"}},\"type\":\"parcoords\"}],\"pie\":[{\"automargin\":true,\"type\":\"pie\"}],\"scatter\":[{\"marker\":{\"colorbar\":{\"outlinewidth\":0,\"ticks\":\"\"}},\"type\":\"scatter\"}],\"scatter3d\":[{\"line\":{\"colorbar\":{\"outlinewidth\":0,\"ticks\":\"\"}},\"marker\":{\"colorbar\":{\"outlinewidth\":0,\"ticks\":\"\"}},\"type\":\"scatter3d\"}],\"scattercarpet\":[{\"marker\":{\"colorbar\":{\"outlinewidth\":0,\"ticks\":\"\"}},\"type\":\"scattercarpet\"}],\"scattergeo\":[{\"marker\":{\"colorbar\":{\"outlinewidth\":0,\"ticks\":\"\"}},\"type\":\"scattergeo\"}],\"scattergl\":[{\"marker\":{\"colorbar\":{\"outlinewidth\":0,\"ticks\":\"\"}},\"type\":\"scattergl\"}],\"scattermapbox\":[{\"marker\":{\"colorbar\":{\"outlinewidth\":0,\"ticks\":\"\"}},\"type\":\"scattermapbox\"}],\"scatterpolar\":[{\"marker\":{\"colorbar\":{\"outlinewidth\":0,\"ticks\":\"\"}},\"type\":\"scatterpolar\"}],\"scatterpolargl\":[{\"marker\":{\"colorbar\":{\"outlinewidth\":0,\"ticks\":\"\"}},\"type\":\"scatterpolargl\"}],\"scatterternary\":[{\"marker\":{\"colorbar\":{\"outlinewidth\":0,\"ticks\":\"\"}},\"type\":\"scatterternary\"}],\"surface\":[{\"colorbar\":{\"outlinewidth\":0,\"ticks\":\"\"},\"colorscale\":[[0.0,\"#0d0887\"],[0.1111111111111111,\"#46039f\"],[0.2222222222222222,\"#7201a8\"],[0.3333333333333333,\"#9c179e\"],[0.4444444444444444,\"#bd3786\"],[0.5555555555555556,\"#d8576b\"],[0.6666666666666666,\"#ed7953\"],[0.7777777777777778,\"#fb9f3a\"],[0.8888888888888888,\"#fdca26\"],[1.0,\"#f0f921\"]],\"type\":\"surface\"}],\"table\":[{\"cells\":{\"fill\":{\"color\":\"#EBF0F8\"},\"line\":{\"color\":\"white\"}},\"header\":{\"fill\":{\"color\":\"#C8D4E3\"},\"line\":{\"color\":\"white\"}},\"type\":\"table\"}]},\"layout\":{\"annotationdefaults\":{\"arrowcolor\":\"#2a3f5f\",\"arrowhead\":0,\"arrowwidth\":1},\"autotypenumbers\":\"strict\",\"coloraxis\":{\"colorbar\":{\"outlinewidth\":0,\"ticks\":\"\"}},\"colorscale\":{\"diverging\":[[0,\"#8e0152\"],[0.1,\"#c51b7d\"],[0.2,\"#de77ae\"],[0.3,\"#f1b6da\"],[0.4,\"#fde0ef\"],[0.5,\"#f7f7f7\"],[0.6,\"#e6f5d0\"],[0.7,\"#b8e186\"],[0.8,\"#7fbc41\"],[0.9,\"#4d9221\"],[1,\"#276419\"]],\"sequential\":[[0.0,\"#0d0887\"],[0.1111111111111111,\"#46039f\"],[0.2222222222222222,\"#7201a8\"],[0.3333333333333333,\"#9c179e\"],[0.4444444444444444,\"#bd3786\"],[0.5555555555555556,\"#d8576b\"],[0.6666666666666666,\"#ed7953\"],[0.7777777777777778,\"#fb9f3a\"],[0.8888888888888888,\"#fdca26\"],[1.0,\"#f0f921\"]],\"sequentialminus\":[[0.0,\"#0d0887\"],[0.1111111111111111,\"#46039f\"],[0.2222222222222222,\"#7201a8\"],[0.3333333333333333,\"#9c179e\"],[0.4444444444444444,\"#bd3786\"],[0.5555555555555556,\"#d8576b\"],[0.6666666666666666,\"#ed7953\"],[0.7777777777777778,\"#fb9f3a\"],[0.8888888888888888,\"#fdca26\"],[1.0,\"#f0f921\"]]},\"colorway\":[\"#636efa\",\"#EF553B\",\"#00cc96\",\"#ab63fa\",\"#FFA15A\",\"#19d3f3\",\"#FF6692\",\"#B6E880\",\"#FF97FF\",\"#FECB52\"],\"font\":{\"color\":\"#2a3f5f\"},\"geo\":{\"bgcolor\":\"white\",\"lakecolor\":\"white\",\"landcolor\":\"#E5ECF6\",\"showlakes\":true,\"showland\":true,\"subunitcolor\":\"white\"},\"hoverlabel\":{\"align\":\"left\"},\"hovermode\":\"closest\",\"mapbox\":{\"style\":\"light\"},\"paper_bgcolor\":\"white\",\"plot_bgcolor\":\"#E5ECF6\",\"polar\":{\"angularaxis\":{\"gridcolor\":\"white\",\"linecolor\":\"white\",\"ticks\":\"\"},\"bgcolor\":\"#E5ECF6\",\"radialaxis\":{\"gridcolor\":\"white\",\"linecolor\":\"white\",\"ticks\":\"\"}},\"scene\":{\"xaxis\":{\"backgroundcolor\":\"#E5ECF6\",\"gridcolor\":\"white\",\"gridwidth\":2,\"linecolor\":\"white\",\"showbackground\":true,\"ticks\":\"\",\"zerolinecolor\":\"white\"},\"yaxis\":{\"backgroundcolor\":\"#E5ECF6\",\"gridcolor\":\"white\",\"gridwidth\":2,\"linecolor\":\"white\",\"showbackground\":true,\"ticks\":\"\",\"zerolinecolor\":\"white\"},\"zaxis\":{\"backgroundcolor\":\"#E5ECF6\",\"gridcolor\":\"white\",\"gridwidth\":2,\"linecolor\":\"white\",\"showbackground\":true,\"ticks\":\"\",\"zerolinecolor\":\"white\"}},\"shapedefaults\":{\"line\":{\"color\":\"#2a3f5f\"}},\"ternary\":{\"aaxis\":{\"gridcolor\":\"white\",\"linecolor\":\"white\",\"ticks\":\"\"},\"baxis\":{\"gridcolor\":\"white\",\"linecolor\":\"white\",\"ticks\":\"\"},\"bgcolor\":\"#E5ECF6\",\"caxis\":{\"gridcolor\":\"white\",\"linecolor\":\"white\",\"ticks\":\"\"}},\"title\":{\"x\":0.05},\"xaxis\":{\"automargin\":true,\"gridcolor\":\"white\",\"linecolor\":\"white\",\"ticks\":\"\",\"title\":{\"standoff\":15},\"zerolinecolor\":\"white\",\"zerolinewidth\":2},\"yaxis\":{\"automargin\":true,\"gridcolor\":\"white\",\"linecolor\":\"white\",\"ticks\":\"\",\"title\":{\"standoff\":15},\"zerolinecolor\":\"white\",\"zerolinewidth\":2}}},\"mapbox\":{\"domain\":{\"x\":[0.0,1.0],\"y\":[0.0,1.0]},\"center\":{\"lat\":-15.765640739706363,\"lon\":-48.3990588106199},\"zoom\":3,\"style\":\"open-street-map\"},\"legend\":{\"tracegroupgap\":0},\"margin\":{\"t\":0,\"r\":0,\"l\":0,\"b\":0},\"height\":300},                        {\"responsive\": true}                    ).then(function(){\n",
              "                            \n",
              "var gd = document.getElementById('01d8c443-6f6e-4f0a-8beb-32cf3baf9933');\n",
              "var x = new MutationObserver(function (mutations, observer) {{\n",
              "        var display = window.getComputedStyle(gd).display;\n",
              "        if (!display || display === 'none') {{\n",
              "            console.log([gd, 'removed!']);\n",
              "            Plotly.purge(gd);\n",
              "            observer.disconnect();\n",
              "        }}\n",
              "}});\n",
              "\n",
              "// Listen for the removal of the full notebook cells\n",
              "var notebookContainer = gd.closest('#notebook-container');\n",
              "if (notebookContainer) {{\n",
              "    x.observe(notebookContainer, {childList: true});\n",
              "}}\n",
              "\n",
              "// Listen for the clearing of the current output cell\n",
              "var outputEl = gd.closest('.output');\n",
              "if (outputEl) {{\n",
              "    x.observe(outputEl, {childList: true});\n",
              "}}\n",
              "\n",
              "                        })                };                            </script>        </div>\n",
              "</body>\n",
              "</html>"
            ]
          },
          "metadata": {}
        }
      ]
    },
    {
      "cell_type": "markdown",
      "source": [
        "####  As most of the farms are located in the southest of brazil, we onely focus on one and analysis its climate changes, this station's id= A530, ie Poços de Caldas "
      ],
      "metadata": {
        "id": "E7nXTo9y6vDp"
      }
    },
    {
      "cell_type": "code",
      "source": [
        "# Brazil's weather 22 year history\n",
        "weather_brazil = pd.read_csv(url+\"weather_sum_all.csv\")"
      ],
      "metadata": {
        "id": "D3xg7iOa-UHN"
      },
      "execution_count": null,
      "outputs": []
    },
    {
      "cell_type": "code",
      "source": [
        "weather_brazil.head()"
      ],
      "metadata": {
        "colab": {
          "base_uri": "https://localhost:8080/",
          "height": 206
        },
        "id": "ufii6Zh-vyJ_",
        "outputId": "6d848392-64e3-4af4-95a4-da8e2912e907"
      },
      "execution_count": null,
      "outputs": [
        {
          "output_type": "execute_result",
          "data": {
            "text/plain": [
              "  ESTACAO DATA (YYYY-MM-DD)  rain_max  rad_max   temp_avg  temp_max  temp_min  \\\n",
              "0    A001        2000-05-07       0.0   2915.0  25.125000      28.3      20.7   \n",
              "1    A001        2000-05-08       0.0   3126.0  22.104167      28.2      16.5   \n",
              "2    A001        2000-05-09       0.0   2901.0  22.041667      28.7      16.6   \n",
              "3    A001        2000-05-10       0.0   2972.0  22.462500      28.9      17.7   \n",
              "4    A001        2000-05-11       0.0   2958.0  21.329167      27.3      16.6   \n",
              "\n",
              "   hum_max  hum_min  wind_max  wind_avg  \n",
              "0     69.0     36.0       6.3  1.766667  \n",
              "1     86.0     33.0       7.1  2.066667  \n",
              "2     79.0     37.0       7.0  1.150000  \n",
              "3     82.0     35.0       6.3  2.008333  \n",
              "4     80.0     35.0       7.3  2.670833  "
            ],
            "text/html": [
              "\n",
              "  <div id=\"df-c8e3d905-ca55-4a85-9e64-30a06d60c2db\">\n",
              "    <div class=\"colab-df-container\">\n",
              "      <div>\n",
              "<style scoped>\n",
              "    .dataframe tbody tr th:only-of-type {\n",
              "        vertical-align: middle;\n",
              "    }\n",
              "\n",
              "    .dataframe tbody tr th {\n",
              "        vertical-align: top;\n",
              "    }\n",
              "\n",
              "    .dataframe thead th {\n",
              "        text-align: right;\n",
              "    }\n",
              "</style>\n",
              "<table border=\"1\" class=\"dataframe\">\n",
              "  <thead>\n",
              "    <tr style=\"text-align: right;\">\n",
              "      <th></th>\n",
              "      <th>ESTACAO</th>\n",
              "      <th>DATA (YYYY-MM-DD)</th>\n",
              "      <th>rain_max</th>\n",
              "      <th>rad_max</th>\n",
              "      <th>temp_avg</th>\n",
              "      <th>temp_max</th>\n",
              "      <th>temp_min</th>\n",
              "      <th>hum_max</th>\n",
              "      <th>hum_min</th>\n",
              "      <th>wind_max</th>\n",
              "      <th>wind_avg</th>\n",
              "    </tr>\n",
              "  </thead>\n",
              "  <tbody>\n",
              "    <tr>\n",
              "      <th>0</th>\n",
              "      <td>A001</td>\n",
              "      <td>2000-05-07</td>\n",
              "      <td>0.0</td>\n",
              "      <td>2915.0</td>\n",
              "      <td>25.125000</td>\n",
              "      <td>28.3</td>\n",
              "      <td>20.7</td>\n",
              "      <td>69.0</td>\n",
              "      <td>36.0</td>\n",
              "      <td>6.3</td>\n",
              "      <td>1.766667</td>\n",
              "    </tr>\n",
              "    <tr>\n",
              "      <th>1</th>\n",
              "      <td>A001</td>\n",
              "      <td>2000-05-08</td>\n",
              "      <td>0.0</td>\n",
              "      <td>3126.0</td>\n",
              "      <td>22.104167</td>\n",
              "      <td>28.2</td>\n",
              "      <td>16.5</td>\n",
              "      <td>86.0</td>\n",
              "      <td>33.0</td>\n",
              "      <td>7.1</td>\n",
              "      <td>2.066667</td>\n",
              "    </tr>\n",
              "    <tr>\n",
              "      <th>2</th>\n",
              "      <td>A001</td>\n",
              "      <td>2000-05-09</td>\n",
              "      <td>0.0</td>\n",
              "      <td>2901.0</td>\n",
              "      <td>22.041667</td>\n",
              "      <td>28.7</td>\n",
              "      <td>16.6</td>\n",
              "      <td>79.0</td>\n",
              "      <td>37.0</td>\n",
              "      <td>7.0</td>\n",
              "      <td>1.150000</td>\n",
              "    </tr>\n",
              "    <tr>\n",
              "      <th>3</th>\n",
              "      <td>A001</td>\n",
              "      <td>2000-05-10</td>\n",
              "      <td>0.0</td>\n",
              "      <td>2972.0</td>\n",
              "      <td>22.462500</td>\n",
              "      <td>28.9</td>\n",
              "      <td>17.7</td>\n",
              "      <td>82.0</td>\n",
              "      <td>35.0</td>\n",
              "      <td>6.3</td>\n",
              "      <td>2.008333</td>\n",
              "    </tr>\n",
              "    <tr>\n",
              "      <th>4</th>\n",
              "      <td>A001</td>\n",
              "      <td>2000-05-11</td>\n",
              "      <td>0.0</td>\n",
              "      <td>2958.0</td>\n",
              "      <td>21.329167</td>\n",
              "      <td>27.3</td>\n",
              "      <td>16.6</td>\n",
              "      <td>80.0</td>\n",
              "      <td>35.0</td>\n",
              "      <td>7.3</td>\n",
              "      <td>2.670833</td>\n",
              "    </tr>\n",
              "  </tbody>\n",
              "</table>\n",
              "</div>\n",
              "      <button class=\"colab-df-convert\" onclick=\"convertToInteractive('df-c8e3d905-ca55-4a85-9e64-30a06d60c2db')\"\n",
              "              title=\"Convert this dataframe to an interactive table.\"\n",
              "              style=\"display:none;\">\n",
              "        \n",
              "  <svg xmlns=\"http://www.w3.org/2000/svg\" height=\"24px\"viewBox=\"0 0 24 24\"\n",
              "       width=\"24px\">\n",
              "    <path d=\"M0 0h24v24H0V0z\" fill=\"none\"/>\n",
              "    <path d=\"M18.56 5.44l.94 2.06.94-2.06 2.06-.94-2.06-.94-.94-2.06-.94 2.06-2.06.94zm-11 1L8.5 8.5l.94-2.06 2.06-.94-2.06-.94L8.5 2.5l-.94 2.06-2.06.94zm10 10l.94 2.06.94-2.06 2.06-.94-2.06-.94-.94-2.06-.94 2.06-2.06.94z\"/><path d=\"M17.41 7.96l-1.37-1.37c-.4-.4-.92-.59-1.43-.59-.52 0-1.04.2-1.43.59L10.3 9.45l-7.72 7.72c-.78.78-.78 2.05 0 2.83L4 21.41c.39.39.9.59 1.41.59.51 0 1.02-.2 1.41-.59l7.78-7.78 2.81-2.81c.8-.78.8-2.07 0-2.86zM5.41 20L4 18.59l7.72-7.72 1.47 1.35L5.41 20z\"/>\n",
              "  </svg>\n",
              "      </button>\n",
              "      \n",
              "  <style>\n",
              "    .colab-df-container {\n",
              "      display:flex;\n",
              "      flex-wrap:wrap;\n",
              "      gap: 12px;\n",
              "    }\n",
              "\n",
              "    .colab-df-convert {\n",
              "      background-color: #E8F0FE;\n",
              "      border: none;\n",
              "      border-radius: 50%;\n",
              "      cursor: pointer;\n",
              "      display: none;\n",
              "      fill: #1967D2;\n",
              "      height: 32px;\n",
              "      padding: 0 0 0 0;\n",
              "      width: 32px;\n",
              "    }\n",
              "\n",
              "    .colab-df-convert:hover {\n",
              "      background-color: #E2EBFA;\n",
              "      box-shadow: 0px 1px 2px rgba(60, 64, 67, 0.3), 0px 1px 3px 1px rgba(60, 64, 67, 0.15);\n",
              "      fill: #174EA6;\n",
              "    }\n",
              "\n",
              "    [theme=dark] .colab-df-convert {\n",
              "      background-color: #3B4455;\n",
              "      fill: #D2E3FC;\n",
              "    }\n",
              "\n",
              "    [theme=dark] .colab-df-convert:hover {\n",
              "      background-color: #434B5C;\n",
              "      box-shadow: 0px 1px 3px 1px rgba(0, 0, 0, 0.15);\n",
              "      filter: drop-shadow(0px 1px 2px rgba(0, 0, 0, 0.3));\n",
              "      fill: #FFFFFF;\n",
              "    }\n",
              "  </style>\n",
              "\n",
              "      <script>\n",
              "        const buttonEl =\n",
              "          document.querySelector('#df-c8e3d905-ca55-4a85-9e64-30a06d60c2db button.colab-df-convert');\n",
              "        buttonEl.style.display =\n",
              "          google.colab.kernel.accessAllowed ? 'block' : 'none';\n",
              "\n",
              "        async function convertToInteractive(key) {\n",
              "          const element = document.querySelector('#df-c8e3d905-ca55-4a85-9e64-30a06d60c2db');\n",
              "          const dataTable =\n",
              "            await google.colab.kernel.invokeFunction('convertToInteractive',\n",
              "                                                     [key], {});\n",
              "          if (!dataTable) return;\n",
              "\n",
              "          const docLinkHtml = 'Like what you see? Visit the ' +\n",
              "            '<a target=\"_blank\" href=https://colab.research.google.com/notebooks/data_table.ipynb>data table notebook</a>'\n",
              "            + ' to learn more about interactive tables.';\n",
              "          element.innerHTML = '';\n",
              "          dataTable['output_type'] = 'display_data';\n",
              "          await google.colab.output.renderOutput(dataTable, element);\n",
              "          const docLink = document.createElement('div');\n",
              "          docLink.innerHTML = docLinkHtml;\n",
              "          element.appendChild(docLink);\n",
              "        }\n",
              "      </script>\n",
              "    </div>\n",
              "  </div>\n",
              "  "
            ]
          },
          "metadata": {},
          "execution_count": 50
        }
      ]
    },
    {
      "cell_type": "code",
      "source": [
        "weather_brazil.info()"
      ],
      "metadata": {
        "colab": {
          "base_uri": "https://localhost:8080/"
        },
        "id": "baVgHE252UVb",
        "outputId": "9215bd45-1918-4e7c-8d64-005c215d8737"
      },
      "execution_count": null,
      "outputs": [
        {
          "output_type": "stream",
          "name": "stdout",
          "text": [
            "<class 'pandas.core.frame.DataFrame'>\n",
            "RangeIndex: 2561825 entries, 0 to 2561824\n",
            "Data columns (total 11 columns):\n",
            " #   Column             Dtype  \n",
            "---  ------             -----  \n",
            " 0   ESTACAO            object \n",
            " 1   DATA (YYYY-MM-DD)  object \n",
            " 2   rain_max           float64\n",
            " 3   rad_max            float64\n",
            " 4   temp_avg           float64\n",
            " 5   temp_max           float64\n",
            " 6   temp_min           float64\n",
            " 7   hum_max            float64\n",
            " 8   hum_min            float64\n",
            " 9   wind_max           float64\n",
            " 10  wind_avg           float64\n",
            "dtypes: float64(9), object(2)\n",
            "memory usage: 215.0+ MB\n"
          ]
        }
      ]
    },
    {
      "cell_type": "code",
      "source": [
        "# fill the missing values with the revious one\n",
        "weather_brazil = weather_brazil.fillna(method='ffill')"
      ],
      "metadata": {
        "id": "jpAL0zhyO11z"
      },
      "execution_count": null,
      "outputs": []
    },
    {
      "cell_type": "code",
      "source": [
        "# new datetime column \n",
        "weather_brazil['datetime'] = pd.to_datetime(weather_brazil['DATA (YYYY-MM-DD)'], format='%Y-%m-%d %H:%M:%S')"
      ],
      "metadata": {
        "id": "H8q5Oahp2uBV"
      },
      "execution_count": null,
      "outputs": []
    },
    {
      "cell_type": "code",
      "source": [
        "# create a year column\n",
        "weather_brazil['year'] = weather_brazil['datetime'].dt.year"
      ],
      "metadata": {
        "id": "xoPYAGdubfvF"
      },
      "execution_count": null,
      "outputs": []
    },
    {
      "cell_type": "code",
      "source": [
        "# convert pandas to spark\n",
        "df_weather = pandas_to_spark(weather_brazil)"
      ],
      "metadata": {
        "id": "7e2RjY2ZClEq"
      },
      "execution_count": null,
      "outputs": []
    },
    {
      "cell_type": "code",
      "source": [
        "# select the station needed\n",
        "df_southeast = df_weather.filter(df_weather[\"ESTACAO\"]=='A530')\n",
        "df_southeast .show(100, 100)"
      ],
      "metadata": {
        "colab": {
          "base_uri": "https://localhost:8080/"
        },
        "id": "GLvD2xvsCkHi",
        "outputId": "83ebd657-fe93-423a-a457-d20985be9823"
      },
      "execution_count": null,
      "outputs": [
        {
          "output_type": "stream",
          "name": "stdout",
          "text": [
            "+-------+-----------------+--------+-------+------------------+--------+--------+-------+-------+--------+------------------+-------------------+----+\n",
            "|ESTACAO|DATA (YYYY-MM-DD)|rain_max|rad_max|          temp_avg|temp_max|temp_min|hum_max|hum_min|wind_max|          wind_avg|           datetime|year|\n",
            "+-------+-----------------+--------+-------+------------------+--------+--------+-------+-------+--------+------------------+-------------------+----+\n",
            "|   A530|       2006-11-28|     3.2| 2161.9| 22.73333333333333|    26.1|    19.9|   94.0|    3.0|     9.4|1.7083333333333333|2006-11-28 00:00:00|2006|\n",
            "|   A530|       2006-11-29|    32.2| 3225.8|            20.025|    26.7|    17.2|  100.0|   58.0|     7.6|0.6958333333333333|2006-11-29 00:00:00|2006|\n",
            "|   A530|       2006-11-30|     0.6| 3525.6| 21.60833333333333|    27.9|    17.8|  100.0|   55.0|    10.3|               1.4|2006-11-30 00:00:00|2006|\n",
            "|   A530|       2006-12-01|     0.0| 3553.4| 21.65416666666667|    27.7|    16.4|   90.0|   47.0|     9.4|            2.5625|2006-12-01 00:00:00|2006|\n",
            "|   A530|       2006-12-02|     0.0| 3491.9|           19.7625|    24.9|    14.3|   97.0|   60.0|     8.5|1.9833333333333332|2006-12-02 00:00:00|2006|\n",
            "|   A530|       2006-12-03|     0.0| 3213.1|21.566666666666663|    27.7|    17.3|   97.0|   48.0|     6.4|              1.55|2006-12-03 00:00:00|2006|\n",
            "|   A530|       2006-12-04|    13.0|  987.0|           19.3625|    22.6|    17.3|   99.0|   80.0|     6.8|0.5708333333333333|2006-12-04 00:00:00|2006|\n",
            "|   A530|       2006-12-05|     0.4| 2627.6|19.778260869565216|    23.9|    17.9|   99.0|   71.0|     9.0|1.2347826086956522|2006-12-05 00:00:00|2006|\n",
            "|   A530|       2006-12-06|     2.0| 1477.2|20.404166666666665|    24.5|    18.1|   99.0|   68.0|     5.8|0.8083333333333332|2006-12-06 00:00:00|2006|\n",
            "|   A530|       2006-12-07|     5.2| 3353.5| 20.08333333333333|    24.9|    16.7|   98.0|   60.0|     8.2|1.3208333333333333|2006-12-07 00:00:00|2006|\n",
            "|   A530|       2006-12-08|     0.2| 3802.2|19.704166666666666|    27.0|    12.6|  100.0|   47.0|     5.3|0.9458333333333332|2006-12-08 00:00:00|2006|\n",
            "|   A530|       2006-12-09|     1.8| 1963.1|19.745833333333334|    23.3|    17.8|   98.0|   69.0|     5.8|             0.875|2006-12-09 00:00:00|2006|\n",
            "|   A530|       2006-12-10|     2.2| 2858.6|           21.1875|    26.7|    18.1|   97.0|   59.0|     5.6|1.2166666666666666|2006-12-10 00:00:00|2006|\n",
            "|   A530|       2006-12-11|    15.8| 2472.4| 20.70416666666667|    25.5|    17.0|   98.0|   61.0|     8.0|1.9041666666666668|2006-12-11 00:00:00|2006|\n",
            "|   A530|       2006-12-12|     2.6| 2611.2|           20.1625|    23.2|    17.5|   97.0|   69.0|     9.2|            1.7625|2006-12-12 00:00:00|2006|\n",
            "|   A530|       2006-12-13|     0.8| 1892.4|20.516666666666666|    25.3|    17.0|   97.0|   64.0|     8.3|1.7291666666666667|2006-12-13 00:00:00|2006|\n",
            "|   A530|       2006-12-14|     1.4| 2532.3|20.129166666666663|    23.9|    18.7|   97.0|   72.0|     8.7|            1.4125|2006-12-14 00:00:00|2006|\n",
            "|   A530|       2006-12-15|    15.0| 2255.7| 19.83333333333333|    23.3|    17.8|   99.0|   80.0|    11.1|1.1166666666666667|2006-12-15 00:00:00|2006|\n",
            "|   A530|       2006-12-16|     0.8| 3837.3|21.004166666666663|    26.9|    17.2|   99.0|   58.0|     6.3|1.1208333333333331|2006-12-16 00:00:00|2006|\n",
            "|   A530|       2006-12-17|     2.2| 3450.9|22.566666666666663|    28.3|    19.5|   97.0|   46.0|     6.4|              1.35|2006-12-17 00:00:00|2006|\n",
            "|   A530|       2006-12-18|    10.6| 4141.3| 21.77083333333333|    28.4|    18.7|   98.0|   52.0|    10.9|1.2541666666666669|2006-12-18 00:00:00|2006|\n",
            "|   A530|       2006-12-19|    15.0| 3609.6|           21.6375|    26.5|    17.1|   98.0|   58.0|     9.1|1.4583333333333333|2006-12-19 00:00:00|2006|\n",
            "|   A530|       2006-12-20|     1.6| 2783.2|            21.025|    25.5|    18.0|   98.0|   68.0|     8.8|            1.0875|2006-12-20 00:00:00|2006|\n",
            "|   A530|       2006-12-21|     5.0| 2569.4|              20.7|    26.1|    17.5|   98.0|   63.0|     9.5|1.1541666666666666|2006-12-21 00:00:00|2006|\n",
            "|   A530|       2006-12-22|     6.8| 3645.5| 21.40416666666667|    27.5|    19.1|   98.0|   53.0|     8.2|0.9708333333333332|2006-12-22 00:00:00|2006|\n",
            "|   A530|       2006-12-23|     0.6| 2466.2|20.561111111111117|    25.3|    18.2|   99.0|   66.0|     5.0|0.5333333333333333|2006-12-23 00:00:00|2006|\n",
            "|   A530|       2006-12-24|     1.4| 2825.9|21.981818181818184|    28.6|    18.2|  100.0|   51.0|     7.6|1.1363636363636365|2006-12-24 00:00:00|2006|\n",
            "|   A530|       2006-12-25|     0.0| 2825.9|              20.1|    20.4|    19.7|   97.0|   94.0|     4.4|              1.05|2006-12-25 00:00:00|2006|\n",
            "|   A530|       2006-12-26|     0.0| 2996.2| 23.79230769230769|    28.2|    17.9|   96.0|   49.0|    10.9|1.9538461538461536|2006-12-26 00:00:00|2006|\n",
            "|   A530|       2006-12-27|    27.8| 3244.7|              19.8|    26.1|    15.9|   99.0|   61.0|    14.7|0.6375000000000001|2006-12-27 00:00:00|2006|\n",
            "|   A530|       2006-12-28|     0.2| 3478.2| 20.90833333333333|    26.6|    17.4|   99.0|   55.0|     8.1|1.0708333333333333|2006-12-28 00:00:00|2006|\n",
            "|   A530|       2006-12-29|     0.0| 3035.3|21.916666666666668|    27.4|    17.4|   96.0|   48.0|     7.4|1.6833333333333331|2006-12-29 00:00:00|2006|\n",
            "|   A530|       2006-12-30|     4.2| 2312.8|20.091666666666665|    24.9|    18.1|   98.0|   67.0|     8.7|1.6166666666666665|2006-12-30 00:00:00|2006|\n",
            "|   A530|       2006-12-31|    16.8|  645.7|18.945833333333333|    19.8|    18.3|   99.0|   90.0|     6.0|1.0833333333333333|2006-12-31 00:00:00|2006|\n",
            "|   A530|       2007-01-01|    32.2| 1186.8|18.379166666666663|    19.9|    17.1|   99.0|   88.0|     7.6|              1.35|2007-01-01 00:00:00|2007|\n",
            "|   A530|       2007-01-02|     3.4| 1056.7|18.866666666666667|    21.7|    17.2|   99.0|   81.0|     7.4|0.9208333333333334|2007-01-02 00:00:00|2007|\n",
            "|   A530|       2007-01-03|     7.4| 1655.3|            19.425|    23.2|    17.6|   99.0|   77.0|     6.9|0.6958333333333333|2007-01-03 00:00:00|2007|\n",
            "|   A530|       2007-01-04|     4.0| 1929.9|20.466666666666665|    24.5|    18.6|   98.0|   69.0|     7.7|0.9791666666666666|2007-01-04 00:00:00|2007|\n",
            "|   A530|       2007-01-05|     9.8| 2231.8| 19.64583333333333|    23.4|    18.5|   99.0|   68.0|     7.8|1.4458333333333335|2007-01-05 00:00:00|2007|\n",
            "|   A530|       2007-01-06|     3.8|  997.4|19.454166666666666|    21.7|    18.3|   98.0|   77.0|    10.5|1.6083333333333334|2007-01-06 00:00:00|2007|\n",
            "|   A530|       2007-01-07|     0.6| 3937.9|            20.825|    26.0|    18.9|   98.0|   62.0|    10.3|1.0291666666666666|2007-01-07 00:00:00|2007|\n",
            "|   A530|       2007-01-08|    20.0| 2097.4|20.491666666666667|    25.6|    18.6|   98.0|   62.0|     7.5|0.7291666666666666|2007-01-08 00:00:00|2007|\n",
            "|   A530|       2007-01-09|     0.4| 3309.7|           21.5875|    27.6|    17.4|   99.0|   55.0|     7.9|              0.95|2007-01-09 00:00:00|2007|\n",
            "|   A530|       2007-01-10|     0.0| 2938.8| 22.67083333333333|    28.2|    19.4|   98.0|   58.0|     8.0|             1.225|2007-01-10 00:00:00|2007|\n",
            "|   A530|       2007-01-11|     0.0| 3726.9|           23.0375|    29.9|    17.9|   99.0|   33.0|     6.4|1.1208333333333331|2007-01-11 00:00:00|2007|\n",
            "|   A530|       2007-01-12|     0.6| 3808.6| 20.90833333333333|    29.3|    14.2|   99.0|   40.0|     7.6|0.8666666666666667|2007-01-12 00:00:00|2007|\n",
            "|   A530|       2007-01-13|     2.2| 1580.9|              21.1|    25.3|    18.8|   97.0|   66.0|     6.6|0.7416666666666667|2007-01-13 00:00:00|2007|\n",
            "|   A530|       2007-01-14|    10.8| 2021.0|20.808333333333334|    25.0|    18.8|   99.0|   68.0|     4.6|0.6458333333333334|2007-01-14 00:00:00|2007|\n",
            "|   A530|       2007-01-15|     6.8| 1054.5|19.529166666666665|    23.7|    16.7|   99.0|   75.0|     5.2|            0.4875|2007-01-15 00:00:00|2007|\n",
            "|   A530|       2007-01-16|     9.8| 1911.7|19.679166666666667|    23.9|    17.2|   98.0|   73.0|     5.4|0.7000000000000001|2007-01-16 00:00:00|2007|\n",
            "|   A530|       2007-01-17|     1.2| 2252.8|19.495833333333334|    25.6|    17.4|   98.0|   71.0|     8.3|1.0458333333333334|2007-01-17 00:00:00|2007|\n",
            "|   A530|       2007-01-18|    11.2| 1698.4|19.495833333333334|    23.0|    17.7|   99.0|   77.0|    10.8|            0.6375|2007-01-18 00:00:00|2007|\n",
            "|   A530|       2007-01-19|     0.4| 2244.8|            21.075|    27.7|    17.3|   99.0|   63.0|     4.9|            0.2625|2007-01-19 00:00:00|2007|\n",
            "|   A530|       2007-01-20|     3.8| 2068.7|20.433333333333334|    27.0|    16.8|  100.0|   65.0|    11.5|0.7374999999999999|2007-01-20 00:00:00|2007|\n",
            "|   A530|       2007-01-21|     0.0| 2618.6| 20.83333333333333|    27.4|    17.0|  100.0|   55.0|     6.8|            0.8125|2007-01-21 00:00:00|2007|\n",
            "|   A530|       2007-01-22|    14.6| 1734.3| 19.82916666666667|    23.5|    18.2|   98.0|   71.0|     5.2|0.7041666666666666|2007-01-22 00:00:00|2007|\n",
            "|   A530|       2007-01-23|     1.6| 1040.3|            19.075|    20.7|    17.5|   98.0|   82.0|     3.9|0.5791666666666667|2007-01-23 00:00:00|2007|\n",
            "|   A530|       2007-01-24|    10.4| 3821.2|           20.0625|    24.9|    17.9|   99.0|   63.0|     8.0|0.7041666666666666|2007-01-24 00:00:00|2007|\n",
            "|   A530|       2007-01-25|     0.4| 3695.8| 20.28333333333333|    26.2|    17.1|   99.0|   60.0|    11.5|0.5708333333333333|2007-01-25 00:00:00|2007|\n",
            "|   A530|       2007-01-26|     0.4| 2757.7|           21.7375|    27.1|    19.0|   97.0|   59.0|     8.3|1.1666666666666667|2007-01-26 00:00:00|2007|\n",
            "|   A530|       2007-01-27|     1.8| 1917.6|20.883333333333333|    24.0|    19.5|   98.0|   71.0|     6.4|0.7208333333333333|2007-01-27 00:00:00|2007|\n",
            "|   A530|       2007-01-28|     9.4| 3519.1|20.766666666666666|    26.5|    18.9|   99.0|   64.0|    12.0|0.9958333333333332|2007-01-28 00:00:00|2007|\n",
            "|   A530|       2007-01-29|     6.6| 3203.7|           20.6125|    26.2|    18.9|   99.0|   66.0|     7.7|1.0458333333333334|2007-01-29 00:00:00|2007|\n",
            "|   A530|       2007-01-30|     0.8| 2373.4| 21.84166666666667|    27.2|    19.3|   99.0|   61.0|     7.7|0.8291666666666666|2007-01-30 00:00:00|2007|\n",
            "|   A530|       2007-01-31|     6.2| 3790.9| 21.95833333333333|    28.5|    18.4|   99.0|   51.0|    10.9|0.6958333333333333|2007-01-31 00:00:00|2007|\n",
            "|   A530|       2007-02-01|     0.0| 3507.0|           22.2375|    28.5|    18.2|   98.0|   52.0|     5.9|0.8166666666666668|2007-02-01 00:00:00|2007|\n",
            "|   A530|       2007-02-02|    15.2| 2459.0|            20.425|    26.2|    18.3|   99.0|   71.0|     7.9|0.8250000000000001|2007-02-02 00:00:00|2007|\n",
            "|   A530|       2007-02-03|     1.8| 4046.8|20.554166666666667|    26.8|    16.8|  100.0|   56.0|     9.0|0.6041666666666666|2007-02-03 00:00:00|2007|\n",
            "|   A530|       2007-02-04|     0.0| 3477.0|              20.9|    26.4|    16.5|  100.0|   54.0|     6.3|             1.025|2007-02-04 00:00:00|2007|\n",
            "|   A530|       2007-02-05|     0.0| 3299.6| 21.90833333333333|    27.3|    17.2|   98.0|   52.0|     6.5|1.2041666666666666|2007-02-05 00:00:00|2007|\n",
            "|   A530|       2007-02-06|    15.6| 2451.5|            20.675|    25.5|    17.9|   99.0|   69.0|     8.9|1.1791666666666667|2007-02-06 00:00:00|2007|\n",
            "|   A530|       2007-02-07|    13.4| 2389.0|21.066666666666663|    24.7|    19.4|   98.0|   75.0|     7.7|0.9333333333333336|2007-02-07 00:00:00|2007|\n",
            "|   A530|       2007-02-08|     3.6| 2426.4|20.683333333333334|    23.8|    19.4|   98.0|   78.0|     7.9|0.7416666666666667|2007-02-08 00:00:00|2007|\n",
            "|   A530|       2007-02-09|     0.2| 3058.6|21.245833333333334|    26.5|    18.5|   99.0|   55.0|     5.5|0.6333333333333333|2007-02-09 00:00:00|2007|\n",
            "|   A530|       2007-02-10|     0.0| 3431.5|           21.0875|    27.9|    14.8|  100.0|   41.0|     6.1|0.6083333333333334|2007-02-10 00:00:00|2007|\n",
            "|   A530|       2007-02-11|     6.4| 2587.8|20.558333333333334|    26.1|    17.5|   98.0|   63.0|     9.1|1.0166666666666668|2007-02-11 00:00:00|2007|\n",
            "|   A530|       2007-02-12|     7.0| 2251.2|18.766666666666666|    22.0|    16.0|   98.0|   62.0|     6.5|1.2916666666666667|2007-02-12 00:00:00|2007|\n",
            "|   A530|       2007-02-13|     0.0| 2954.1|18.008333333333333|    24.5|    12.3|   99.0|   55.0|     5.7|1.3458333333333332|2007-02-13 00:00:00|2007|\n",
            "|   A530|       2007-02-14|     0.0| 3813.2|19.754166666666663|    26.1|    15.5|   97.0|   42.0|     6.1|             1.075|2007-02-14 00:00:00|2007|\n",
            "|   A530|       2007-02-15|     4.2| 3270.4|19.879166666666663|    25.6|    16.7|   97.0|   50.0|     5.2|            1.2375|2007-02-15 00:00:00|2007|\n",
            "|   A530|       2007-02-16|     0.0| 3953.7|           19.7875|    27.1|    14.2|   99.0|   49.0|     7.1|0.9083333333333332|2007-02-16 00:00:00|2007|\n",
            "|   A530|       2007-02-17|     0.0| 3746.5|21.454166666666666|    28.9|    15.7|   99.0|   46.0|     8.6|0.8416666666666667|2007-02-17 00:00:00|2007|\n",
            "|   A530|       2007-02-18|    17.2| 4011.0|21.258333333333333|    29.3|    17.5|   99.0|   47.0|    16.4|0.8541666666666666|2007-02-18 00:00:00|2007|\n",
            "|   A530|       2007-02-19|    11.6| 2906.8|            21.325|    26.5|    16.8|  100.0|   55.0|     8.0|             1.225|2007-02-19 00:00:00|2007|\n",
            "|   A530|       2007-02-20|     4.0| 2497.1|21.445833333333336|    25.6|    19.3|   96.0|   64.0|     9.3|            1.1625|2007-02-20 00:00:00|2007|\n",
            "|   A530|       2007-02-21|     1.0| 3878.9|           22.1125|    27.8|    17.6|   99.0|   35.0|     7.1|1.3666666666666665|2007-02-21 00:00:00|2007|\n",
            "|   A530|       2007-02-22|     0.0| 3868.1|             20.75|    27.7|    14.4|   98.0|   41.0|     7.8|1.2541666666666669|2007-02-22 00:00:00|2007|\n",
            "|   A530|       2007-02-23|     0.0| 3847.7|            20.925|    27.9|    13.5|   99.0|   31.0|     7.1|1.2083333333333333|2007-02-23 00:00:00|2007|\n",
            "|   A530|       2007-02-24|     0.0| 3881.6|             20.15|    28.2|    13.1|   99.0|   42.0|     5.5|0.7708333333333334|2007-02-24 00:00:00|2007|\n",
            "|   A530|       2007-02-25|    12.4| 3630.6|           19.3125|    26.3|    15.0|  100.0|   52.0|     8.7|            1.0875|2007-02-25 00:00:00|2007|\n",
            "|   A530|       2007-02-26|     0.2| 3605.3|           19.8625|    26.4|    14.1|   99.0|   49.0|     8.2|1.4666666666666666|2007-02-26 00:00:00|2007|\n",
            "|   A530|       2007-02-27|     0.6| 1452.4| 20.09583333333333|    24.4|    16.4|   98.0|   65.0|     5.7|0.9833333333333334|2007-02-27 00:00:00|2007|\n",
            "|   A530|       2007-02-28|     3.8| 3140.2|21.070833333333333|    26.6|    18.3|   98.0|   51.0|     7.7|1.2666666666666668|2007-02-28 00:00:00|2007|\n",
            "|   A530|       2007-03-01|     0.0| 3172.1|20.254166666666663|    26.2|    15.4|   97.0|   46.0|     7.1|0.9041666666666668|2007-03-01 00:00:00|2007|\n",
            "|   A530|       2007-03-02|     0.0| 3627.5|19.745833333333334|    28.0|    12.6|  100.0|   38.0|     7.7|0.8541666666666666|2007-03-02 00:00:00|2007|\n",
            "|   A530|       2007-03-03|     0.0| 3720.8|           20.8125|    28.4|    14.2|   99.0|   35.0|     8.4|1.0583333333333331|2007-03-03 00:00:00|2007|\n",
            "|   A530|       2007-03-04|     0.0| 3563.1|20.370833333333334|    27.7|    14.2|   98.0|   35.0|     8.8|             1.225|2007-03-04 00:00:00|2007|\n",
            "|   A530|       2007-03-05|     0.0| 3807.0|           19.6625|    28.3|    12.2|   99.0|   36.0|     6.3|0.7916666666666666|2007-03-05 00:00:00|2007|\n",
            "|   A530|       2007-03-06|     0.0| 3139.6|21.279166666666665|    28.6|    14.1|   98.0|   38.0|     7.5|0.7666666666666666|2007-03-06 00:00:00|2007|\n",
            "|   A530|       2007-03-07|     0.0| 3710.7|           22.0625|    29.3|    15.8|   98.0|   41.0|     6.3|0.9666666666666668|2007-03-07 00:00:00|2007|\n",
            "+-------+-----------------+--------+-------+------------------+--------+--------+-------+-------+--------+------------------+-------------------+----+\n",
            "only showing top 100 rows\n",
            "\n"
          ]
        }
      ]
    },
    {
      "cell_type": "code",
      "source": [
        "var_temp = df_southeast.groupBy(\"year\").mean(\"temp_min\")\n",
        "var_temp.show(10)"
      ],
      "metadata": {
        "id": "sO1qQFVvPMr6"
      },
      "execution_count": null,
      "outputs": []
    },
    {
      "cell_type": "code",
      "source": [
        "plt.figure(figsize=(15,8))\n",
        "sns.set_theme(style=\"darkgrid\")\n",
        "sns.lineplot(x=\"year\", y='avg(temp_avc)', data=var_temp.toPandas()).set_title('Variation tem_avg\")"
      ],
      "metadata": {
        "id": "iuzm6XZpcFUl"
      },
      "execution_count": null,
      "outputs": []
    },
    {
      "cell_type": "code",
      "source": [],
      "metadata": {
        "id": "MSRBUuefClgD"
      },
      "execution_count": null,
      "outputs": []
    },
    {
      "cell_type": "code",
      "source": [],
      "metadata": {
        "id": "lKoXjdfPa2Bn"
      },
      "execution_count": null,
      "outputs": []
    },
    {
      "cell_type": "code",
      "source": [],
      "metadata": {
        "id": "TqKYJYBtYuvf"
      },
      "execution_count": null,
      "outputs": []
    },
    {
      "cell_type": "code",
      "source": [],
      "metadata": {
        "id": "05pTdtPfYu2w"
      },
      "execution_count": null,
      "outputs": []
    },
    {
      "cell_type": "code",
      "source": [
        "!pip install rasterio\n",
        "!pip install pyproj"
      ],
      "metadata": {
        "id": "Tp5GwEMuAH3W"
      },
      "execution_count": null,
      "outputs": []
    },
    {
      "cell_type": "code",
      "source": [
        "import rasterio\n",
        "import rasterio.plot\n",
        "import pyproj\n",
        "import matplotlib.pyplot as plt"
      ],
      "metadata": {
        "id": "jfkKHYbkwesg"
      },
      "execution_count": null,
      "outputs": []
    },
    {
      "cell_type": "code",
      "source": [
        "plt.figure(figsize=(15,8))\n",
        "f, axarr = plt.subplots(2,2)\n",
        "\n",
        "\n",
        "for i,itif in enumerate( [\"avgtemp.tif\", \"prec.tif\", \"srac.tif\", \"vapr.tif\"]) :\n",
        "  with rasterio.open(\"/content/gdrive/MyDrive/donmass_proj/\"+itif) as src:\n",
        "    img = src.read(1)\n",
        "    #print(src.crs)\n",
        "    if(i<2):\n",
        "      a = 0\n",
        "    else:\n",
        "      a = 1\n",
        "      i -=2 \n",
        "    pos = src.index(-52.196283130028455,-13.574677798648072) #long lat \n",
        "    axarr[a][i].imshow(img[pos[0]-2200:pos[0]+2200,pos[1]-2200:pos[1]+2200]) "
      ],
      "metadata": {
        "id": "rV2Pwr6Kvxs6"
      },
      "execution_count": null,
      "outputs": []
    },
    {
      "cell_type": "markdown",
      "source": [
        "We wanted to run a model on our rasters to predict the right atmospheric conditions to grow coffee. This could be further used to predict on a dataset containing the same features, in the case of our study, on a predicted climate influenced by global warming.\n",
        "However after much struggle on rasters, and seeing that these struggle were only on the preprocessing part, we realized that we won't be able to implement a species distribution modelling because of the aforementioned problem, and the extreme specificity of these models, that we never encountered, we decided to go to something closer to our knowledge. \n",
        "We got the idea of bringing the problem to a image classification task, predicting the possible presence of coffee from image composed of all bands of the rasters. We sampled some (100,100) squares on fields growing coffe and on some close proximity of the fields.\n",
        "Unfortunately we encountered two main problems making the model completely bad:\n",
        "  - We need to sampled way more image, which is time consuming. Having such a low number of image makes the training and the ensuing predictions close to a coinflip, while being overly prone to over-fitting.\n",
        "  - Pre-trained models are based on 3 bands images, making them hard (with my limited skills) to adapt them to our 12 bands images. I had to create my own poor CNN with no transfer learning which makes it very inefficient.\n",
        "\n",
        "#### Anyway here's the (poorly written) code "
      ],
      "metadata": {
        "id": "GpSWtGSBTTJD"
      }
    },
    {
      "cell_type": "code",
      "source": [
        "df_farms = pd.DataFrame.from_records(\n",
        "    [\n",
        "        (\"fazenda rio verde\",-21.877600079894428, -45.17833587173798 ),  \n",
        "        (\"fazenda do lobo\", -20.05845833645814, -45.551377369807916),\n",
        "        (\"fazenda grota funda\",-4.498676298642221, -46.01438009152326),\n",
        "        (\"sitio claro\",-12.404400112670487, -57.0307320652044),\n",
        "        (\"santa alina\",-21.76121880758086, -46.674253002625804),\n",
        "        (\"fazenda chamusca\",-21.4532483711391, -45.22708818550831),\n",
        "        (\"santa maria\",-16.609194745742165, -46.98365752985455),\n",
        "        (\"capoeirinha\",-18.64698614414741, -45.796849953979795),\n",
        "        (\"fazenda do sertao\",-22.09933939187727, -45.18968007378277),\n",
        "        (\"santa fé 2\",-17.582654936016926, -47.2198752950817),\n",
        "        (\"café do paraíso\",-22.094568087843687, -45.155496432162685),\n",
        "        (\"cachoeira da grama farm\",-21.76626556295618, -46.702161544954144),\n",
        "        (\"são francisco da serra\",-22.629913000779446, -44.601043902591805),\n",
        "        (\"fazenda jericó\",-18.676315608302055, -45.70281563093488),\n",
        "        (\"sertao farm\",-22.099418916815903, -45.18965861611114),\n",
        "        (\"campo das flores\",-20.312258124962906, -43.28548394936318),\n",
        "        (\"olhos d'agua\",-18.63831446703355, -46.952789277527444),\n",
        "        (\"fazenda serra de três barras\",-19.560780988980817, -46.579303497451384),\n",
        "        (\"fazenda pantano\",-18.631997524421426, -46.82473127385452),\n",
        "        (\"pereira estate coffee\",-22.112480964214626, -45.15508902245408),\n",
        "        (\"rio verde\",-21.940510105475326, -45.176192869009476),\n",
        "        (\"sitío são geraldo\",-22.59528143237296, -46.66759241371165),\n",
        "        (\"fazenda baipendi\",-21.45008093579659, -46.8357381855336),\n",
        "        (\"água limpa\",-21.44645605895183, -46.82635044153258),\n",
        "        (\"fazenda kaquend\",-21.435236392716707, -46.83244978479159),\n",
        "        (\"fazenda santo antonio\",-21.40862617568116, -46.80560442679252),\n",
        "        (\"fazenda vista alegre\",-21.44237673402853, -46.818513026788274),\n",
        "        (\"fazenda recreio\",-21.780100162105256, -46.67880344388111),\n",
        "        (\"fazenda capoeirnha\",-21.761009557830032, -46.67507912298348),\n",
        "        (\"pantano\",-21.444638601462618, -46.81747769417689),\n",
        "        (\"fazenda são sebastião\",-21.444863288363614, -46.827235570452125),\n",
        "        (\"santa bárbara\",-18.52732198399872, -47.569893903127564),\n",
        "        (\"santa mariana\",-23.19046310851501, -50.55948683365515),\n",
        "        (\"sertao\",-22.095760723175886, -45.189755175672296),\n",
        "        (\"são rafael_ ra_ras certified\",-22.784292492565246, -47.032534461666536),\n",
        "        (\"sitío santa luzia\",-22.366016295045306, -46.47371725096838),\n",
        "        (\"fazenda são josé mirante\",-22.785019797545694, -47.03177457322967),\n",
        "        (\"cianorte\",-22.774138613223663, -47.02968245276757),\n",
        "        (\"juliana\",-21.46270024286904, -46.832515362350975),\n",
        "        (\"sitío corrego da olaria_são caetano\",-22.745464486282955, -47.0338567362583),\n",
        "        (\"fazenda serra negra\",-21., -46.674253002625804),\n",
        "        (\"fazendas klem ltda\",-20.27591897959779, -41.876604035124465),\n",
        "        (\"castelhana farm\",-18.922960557030457, -47.45831617257145),\n",
        "        (\"leticia farm\",-19.807319369835636, -42.215697182335234),\n",
        "        (\"helena\",-22.107657064931225, -48.32067672583973),\n",
        "        (\"caxambu\",-21.339808722609096, -45.42201735838091),\n",
        "    ],\n",
        "    columns = [\"Farm_name\", \"lat\",\"long\"]  # add your column names here\n",
        ")"
      ],
      "metadata": {
        "id": "P35w0uCv6c2N"
      },
      "execution_count": null,
      "outputs": []
    },
    {
      "cell_type": "code",
      "source": [
        "! mkdir /content/drive/MyDrive/donmass_proj/images/coffee/\n",
        "! mkdir /content/drive/MyDrive/donmass_proj/images/nocoffee/"
      ],
      "metadata": {
        "id": "vOS_8g6rN3Ue"
      },
      "execution_count": null,
      "outputs": []
    },
    {
      "cell_type": "code",
      "source": [
        "for i,itif in enumerate( [\"avgtemp.tif\", \"prec.tif\", \"srac.tif\", \"vapr.tif\"]) :\n",
        "  print(itif)\n",
        "  with rasterio.open(\"/content/drive/MyDrive/donmass_proj/\"+itif) as src:\n",
        "    img = src.read(1)\n",
        "    print(img.shape)\n",
        "    #center = src.index(-52.196283130028455,-13.574677798648072) #long lat \n",
        "    for index, row in df_farms.iterrows():\n",
        "      farm_name = row[\"Farm_name\"]\n",
        "      pos = src.index(row[\"long\"], row[\"lat\"])\n",
        "      im = img[pos[0]-50:pos[0]+50,pos[1]-50:pos[1]+50]\n",
        "      matplotlib.image.imsave(\"/content/drive/MyDrive/donmass_proj/images/coffee/\"  +str(i) + farm_name + \".png\", im)\n",
        "      im = img[pos[0]+100-50:pos[0]+100+50,pos[1]+100-50:pos[1]+100+50]\n",
        "      matplotlib.image.imsave(\"/content/drive/MyDrive/donmass_proj/images/nocoffee/\"+str(i) + farm_name + \".png\", im)\n",
        "      "
      ],
      "metadata": {
        "id": "ATlJ9RudThe8"
      },
      "execution_count": null,
      "outputs": []
    },
    {
      "cell_type": "code",
      "source": [
        "#! rm -r /content/drive/MyDrive/donmass_proj/images/nocoffee/\n",
        "#! rm -r /content/drive/MyDrive/donmass_proj/images/coffee/"
      ],
      "metadata": {
        "id": "xZFiPqk_Tjsm"
      },
      "execution_count": null,
      "outputs": []
    },
    {
      "cell_type": "markdown",
      "source": [
        "## Merging them into one N-Dimension Image"
      ],
      "metadata": {
        "id": "uk9d-9YtTpIB"
      }
    },
    {
      "cell_type": "code",
      "source": [
        "! mkdir /content/drive/MyDrive/donmass_proj/images/coffee/inone\n",
        "! mkdir /content/drive/MyDrive/donmass_proj/images/nocoffee/inone"
      ],
      "metadata": {
        "id": "_4LWoRbiTpzh"
      },
      "execution_count": null,
      "outputs": []
    },
    {
      "cell_type": "code",
      "source": [
        "import os\n",
        "from os import listdir"
      ],
      "metadata": {
        "id": "Q9vhQE-OTs0s"
      },
      "execution_count": null,
      "outputs": []
    },
    {
      "cell_type": "code",
      "source": [
        "#! rm -r /content/drive/MyDrive/donmass_proj/images/nocoffee/inone\n",
        "#! rm -r /content/drive/MyDrive/donmass_proj/images/coffee/inone"
      ],
      "metadata": {
        "id": "Iscn3BjRTuqs"
      },
      "execution_count": null,
      "outputs": []
    },
    {
      "cell_type": "code",
      "source": [
        "allcoffee = []\n",
        "for index, row in df_farms.iterrows():\n",
        "  farm_name = row[\"Farm_name\"]\n",
        "  allin = [Image.open(\"/content/drive/MyDrive/donmass_proj/images/coffee/\" + str(i) + farm_name + \".png\") for i in range(4)]\n",
        "  allinone = []\n",
        "  #print(allin) #Nos 4 geotifs en img\n",
        "  for image in allin:\n",
        "    r, g, b,t  = image.split() #4 bandes par img dont 1 inutile\n",
        "    allinone.append(np.array(r))\n",
        "    allinone.append(np.array(g))\n",
        "    allinone.append(np.array(b))\n",
        "    \n",
        "  allcoffee.append(np.array(allinone).reshape((100,100,12)))\n",
        "  #print(allinone)"
      ],
      "metadata": {
        "id": "8d0epVAETwZD"
      },
      "execution_count": null,
      "outputs": []
    },
    {
      "cell_type": "code",
      "source": [
        "allnocoffee = []\n",
        "for index, row in df_farms.iterrows():\n",
        "  farm_name = row[\"Farm_name\"]\n",
        "  allin = [Image.open(\"/content/drive/MyDrive/donmass_proj/images/nocoffee/\" + str(i) + farm_name + \".png\") for i in range(4)]\n",
        "  allinone = []\n",
        "  #print(allin) #Nos 4 geotifs en img\n",
        "  for image in allin:\n",
        "    r, g, b,t  = image.split() #4 bandes par img dont 1 inutile\n",
        "    allinone.append(np.array(r))\n",
        "    allinone.append(np.array(g))\n",
        "    allinone.append(np.array(b))\n",
        "    \n",
        "  allnocoffee.append(np.array(allinone).reshape((100,100,12)))"
      ],
      "metadata": {
        "id": "Ql7e_M7wTyX3"
      },
      "execution_count": null,
      "outputs": []
    },
    {
      "cell_type": "code",
      "source": [
        "print(np.array(allnocoffee).shape)\n",
        "print(np.array(allcoffee).shape)"
      ],
      "metadata": {
        "id": "W8OSi1vIT4Yg"
      },
      "execution_count": null,
      "outputs": []
    },
    {
      "cell_type": "code",
      "source": [
        "allnocoffee = [(0,np.array(allnocoffee)[i]) for i in range(len(np.array(allnocoffee)))]\n",
        "allcoffee = [(1,np.array(allcoffee)[i]) for i in range(len((allcoffee)))]"
      ],
      "metadata": {
        "id": "dm0HA5YMT0OJ"
      },
      "execution_count": null,
      "outputs": []
    },
    {
      "cell_type": "code",
      "source": [
        "all = allcoffee+allnocoffee"
      ],
      "metadata": {
        "id": "6Qn9f2SKT3Mk"
      },
      "execution_count": null,
      "outputs": []
    },
    {
      "cell_type": "code",
      "source": [
        "len(all)"
      ],
      "metadata": {
        "id": "Wwsj-8qXT8op"
      },
      "execution_count": null,
      "outputs": []
    },
    {
      "cell_type": "markdown",
      "source": [
        "## Could train/test split but..."
      ],
      "metadata": {
        "id": "QvQOjPy5T_hB"
      }
    },
    {
      "cell_type": "markdown",
      "source": [
        "# CNN"
      ],
      "metadata": {
        "id": "zu17e44bUF4C"
      }
    },
    {
      "cell_type": "markdown",
      "source": [
        "## Models\n"
      ],
      "metadata": {
        "id": "ueqKpgJwUGwi"
      }
    },
    {
      "cell_type": "code",
      "source": [
        "import tensorflow as tf"
      ],
      "metadata": {
        "id": "Bp268-i2UMTk"
      },
      "execution_count": null,
      "outputs": []
    },
    {
      "cell_type": "code",
      "source": [
        "model = tf.keras.models.Sequential([\n",
        "    tf.keras.layers.Input((100,100,12)),\n",
        "    tf.keras.layers.RandomFlip(\"horizontal_and_vertical\"),\n",
        "    tf.keras.layers.RandomContrast(0.2),\n",
        "    tf.keras.layers.RandomBrightness([-0.5,0.5]),\n",
        "    tf.keras.layers.RandomRotation(0.2),\n",
        "    tf.keras.layers.Conv2D(32, kernel_size=1, padding='valid', activation='relu'),\n",
        "    tf.keras.layers.Dropout(0.25),\n",
        "    tf.keras.layers.Conv2D(48, kernel_size=1, padding='valid', activation='relu'),\n",
        "    tf.keras.layers.Dropout(0.25),\n",
        "    tf.keras.layers.Flatten(),\n",
        "    tf.keras.layers.Dense(64, activation='relu'),\n",
        "    tf.keras.layers.Dropout(0.5),\n",
        "    tf.keras.layers.Dense(2, activation='sigmoid')"
      ],
      "metadata": {
        "id": "PneI0SOnUOzR"
      },
      "execution_count": null,
      "outputs": []
    },
    {
      "cell_type": "code",
      "source": [
        "model2 = tf.keras.models.Sequential([\n",
        "    tf.keras.layers.Input(shape=(100, 100, 12)),\n",
        "    tf.keras.layers.RandomFlip(\"horizontal_and_vertical\"),\n",
        "    tf.keras.layers.RandomContrast(0.2),\n",
        "    tf.keras.layers.RandomBrightness([-0.5,0.5]),\n",
        "    tf.keras.layers.RandomRotation(0.2),\n",
        "    tf.keras.layers.Conv2D(filters=32, kernel_size=3, strides=1),\n",
        "    tf.keras.layers.Dropout(0.2),\n",
        "    tf.keras.layers.BatchNormalization(),\n",
        "    tf.keras.layers.Activation('relu'),\n",
        "    tf.keras.layers.Conv2D(filters=64, kernel_size=1, strides=1),\n",
        "    tf.keras.layers.Dropout(0.2),\n",
        "    tf.keras.layers.BatchNormalization(),\n",
        "    tf.keras.layers.Activation('relu'),\n",
        "    tf.keras.layers.Conv2D(filters=64, kernel_size=1, strides=1),\n",
        "    tf.keras.layers.Dropout(0.2),\n",
        "    tf.keras.layers.BatchNormalization(),\n",
        "    tf.keras.layers.GlobalMaxPooling2D(),\n",
        "    tf.keras.layers.Dense(2, activation='sigmoid')\n",
        "])\n"
      ],
      "metadata": {
        "id": "rUkUmrSJURFO"
      },
      "execution_count": null,
      "outputs": []
    },
    {
      "cell_type": "markdown",
      "source": [
        "## Data Generator"
      ],
      "metadata": {
        "id": "hgU0KmvlUTSO"
      }
    },
    {
      "cell_type": "markdown",
      "source": [
        "### there might be a problem here also"
      ],
      "metadata": {
        "id": "z8ee4SavUWcT"
      }
    },
    {
      "cell_type": "code",
      "source": [
        "class DataGenerator(tf.keras.utils.Sequence):\n",
        "    def __init__(self, size, data, batch_size=32,  dataaug=True, shuffle=True):\n",
        "        self.batch_size = batch_size\n",
        "        self.data = data    \n",
        "        self.dataaug=dataaug\n",
        "        self.indices = range(len(data[:][:]))\n",
        "        self.shuffle = shuffle\n",
        "        self.on_epoch_end()\n",
        "        self.size = size\n",
        "\n",
        "    def __len__(self):\n",
        "        return len(self.indices) // self.batch_size\n",
        "\n",
        "    def __getitem__(self, index):\n",
        "        index = self.index[index * self.batch_size:(index + 1) * self.batch_size]\n",
        "        keys = [self.indices[k] for k in index]\n",
        "        return self.__get_data(keys)\n",
        "\n",
        "    def on_epoch_end(self):\n",
        "        self.index = np.arange(len(self.indices))\n",
        "        if self.shuffle == True:\n",
        "            np.random.shuffle(self.index)\n",
        "\n",
        "            \n",
        "    def __get_data(self, keys):        \n",
        "        X = np.zeros((self.batch_size, self.size, self.size, 12))\n",
        "        y = np.zeros((self.batch_size,1))\n",
        "\n",
        "        for i, id in enumerate(keys):\n",
        "          X[i] = self.data[id][1]\n",
        "          y[i] = self.data[id][0]\n",
        "\n",
        "        return X,y\n",
        "                \n"
      ],
      "metadata": {
        "id": "W-XMB694T-4H"
      },
      "execution_count": null,
      "outputs": []
    },
    {
      "cell_type": "code",
      "source": [
        "BATCH_SIZE = 16\n",
        "EPOCHS = 10\n",
        "IMN_EPOCHS = 1000\n",
        "IMG_SIZE = 100"
      ],
      "metadata": {
        "id": "ag3XnJjQUZSq"
      },
      "execution_count": null,
      "outputs": []
    },
    {
      "cell_type": "code",
      "source": [
        "train = DataGenerator(data = all, size = IMG_SIZE, batch_size = BATCH_SIZE)"
      ],
      "metadata": {
        "id": "g3-evctoUc-4"
      },
      "execution_count": null,
      "outputs": []
    },
    {
      "cell_type": "markdown",
      "source": [
        "## Trainning "
      ],
      "metadata": {
        "id": "IHlbJds7UfUn"
      }
    },
    {
      "cell_type": "code",
      "source": [
        "model2.compile(optimizer='adam', loss = tf.keras.losses.BinaryCrossentropy(), metrics = \"accuracy\")"
      ],
      "metadata": {
        "id": "87l7eTrqUhWz"
      },
      "execution_count": null,
      "outputs": []
    },
    {
      "cell_type": "code",
      "source": [
        "history = model2.fit(train, epochs = EPOCHS)"
      ],
      "metadata": {
        "id": "AI3QvfATUjFM"
      },
      "execution_count": null,
      "outputs": []
    },
    {
      "cell_type": "code",
      "source": [
        "import matplotlib.pyplot as plt"
      ],
      "metadata": {
        "id": "eDmYw4KGUlRG"
      },
      "execution_count": null,
      "outputs": []
    },
    {
      "cell_type": "code",
      "source": [
        "plt.plot(history.history['accuracy'])"
      ],
      "metadata": {
        "id": "HcgjU69BUnHR"
      },
      "execution_count": null,
      "outputs": []
    },
    {
      "cell_type": "code",
      "source": [
        "model2.predict(DataGenerator(data = allcoffee,size = IMG_SIZE,batch_size=1))"
      ],
      "metadata": {
        "id": "gFHJpFQRUo9w"
      },
      "execution_count": null,
      "outputs": []
    }
  ]
}