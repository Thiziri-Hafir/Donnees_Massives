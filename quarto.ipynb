{
  "nbformat": 4,
  "nbformat_minor": 0,
  "metadata": {
    "colab": {
      "provenance": [],
      "toc_visible": true,
      "collapsed_sections": [
        "PA6mxGR3fSIK",
        "2_p6cn1BoM3y"
      ],
      "include_colab_link": true
    },
    "kernelspec": {
      "name": "python3",
      "display_name": "Python 3"
    },
    "language_info": {
      "name": "python"
    }
  },
  "cells": [
    {
      "cell_type": "markdown",
      "metadata": {
        "id": "view-in-github",
        "colab_type": "text"
      },
      "source": [
        "<a href=\"https://colab.research.google.com/github/Thiziri-Hafir/Donnees_Massives/blob/main/quarto.ipynb\" target=\"_parent\"><img src=\"https://colab.research.google.com/assets/colab-badge.svg\" alt=\"Open In Colab\"/></a>"
      ]
    },
    {
      "cell_type": "code",
      "source": [
        "!pip install pyspark"
      ],
      "metadata": {
        "colab": {
          "base_uri": "https://localhost:8080/"
        },
        "id": "HWInYt5nT7vZ",
        "outputId": "9fb9b6c3-f7eb-4ed4-b386-d2bac2c5bfcc"
      },
      "execution_count": null,
      "outputs": [
        {
          "output_type": "stream",
          "name": "stdout",
          "text": [
            "Looking in indexes: https://pypi.org/simple, https://us-python.pkg.dev/colab-wheels/public/simple/\n",
            "Collecting pyspark\n",
            "  Downloading pyspark-3.3.1.tar.gz (281.4 MB)\n",
            "\u001b[K     |████████████████████████████████| 281.4 MB 41 kB/s \n",
            "\u001b[?25hCollecting py4j==0.10.9.5\n",
            "  Downloading py4j-0.10.9.5-py2.py3-none-any.whl (199 kB)\n",
            "\u001b[K     |████████████████████████████████| 199 kB 70.7 MB/s \n",
            "\u001b[?25hBuilding wheels for collected packages: pyspark\n",
            "  Building wheel for pyspark (setup.py) ... \u001b[?25l\u001b[?25hdone\n",
            "  Created wheel for pyspark: filename=pyspark-3.3.1-py2.py3-none-any.whl size=281845513 sha256=da082dddba3ade76f465a3dd1dae7c04fadcd8e806537528c9a9c1b12f9f1b06\n",
            "  Stored in directory: /root/.cache/pip/wheels/42/59/f5/79a5bf931714dcd201b26025347785f087370a10a3329a899c\n",
            "Successfully built pyspark\n",
            "Installing collected packages: py4j, pyspark\n",
            "Successfully installed py4j-0.10.9.5 pyspark-3.3.1\n"
          ]
        }
      ]
    },
    {
      "cell_type": "markdown",
      "source": [
        "# Importing the data"
      ],
      "metadata": {
        "id": "zVBfQxoCVXdB"
      }
    },
    {
      "cell_type": "code",
      "execution_count": null,
      "metadata": {
        "id": "nB1xk38dTrBN"
      },
      "outputs": [],
      "source": [
        "import pyspark\n",
        "import pandas as pd\n",
        "from pyspark import SparkContext\n",
        "from pyspark.sql import SparkSession\n",
        "\n",
        "SparkContext.setSystemProperty('spark.executor.memory', '8g')\n",
        "SparkContext.setSystemProperty('spark.driver.memory', '45G')\n",
        "\n",
        "sc = SparkContext.getOrCreate()\n",
        "spark = SparkSession.builder.appName(\"Python Spark\").getOrCreate()"
      ]
    },
    {
      "cell_type": "code",
      "source": [
        "url = \"https://raw.githubusercontent.com/jldbc/coffee-quality-database/master/data/arabica_data_cleaned.csv\"\n",
        "raw_arabica = pd.read_csv(url)"
      ],
      "metadata": {
        "id": "l9lkq3ObU7gE"
      },
      "execution_count": null,
      "outputs": []
    },
    {
      "cell_type": "code",
      "source": [
        "from pyspark.sql.types import *\n",
        "\n",
        "# Auxiliar functions\n",
        "def equivalent_type(f):\n",
        "    if f == 'datetime64[ns]': return TimestampType()\n",
        "    elif f == 'int64': return LongType()\n",
        "    elif f == 'int32': return IntegerType()\n",
        "    elif f == 'float64': return DoubleType()\n",
        "    elif f == 'float32': return FloatType()\n",
        "    else: return StringType()\n",
        "\n",
        "def define_structure(string, format_type):\n",
        "    try: typo = equivalent_type(format_type)\n",
        "    except: typo = StringType()\n",
        "    return StructField(string, typo)\n",
        "\n",
        "# Given pandas dataframe, it will return a spark's dataframe.\n",
        "def pandas_to_spark(pandas_df):\n",
        "    columns = list(pandas_df.columns)\n",
        "    types = list(pandas_df.dtypes)\n",
        "    struct_list = []\n",
        "    for column, typo in zip(columns, types): \n",
        "      struct_list.append(define_structure(column, typo))\n",
        "    p_schema = StructType(struct_list)\n",
        "    return spark.createDataFrame(pandas_df, p_schema)"
      ],
      "metadata": {
        "id": "JT1QNG7yU_S3"
      },
      "execution_count": null,
      "outputs": []
    },
    {
      "cell_type": "code",
      "source": [
        "df_arabica = pandas_to_spark(raw_arabica)"
      ],
      "metadata": {
        "id": "u2Gds8tjVCkj"
      },
      "execution_count": null,
      "outputs": []
    },
    {
      "cell_type": "markdown",
      "source": [
        "# Basic structural transformations and harmonization"
      ],
      "metadata": {
        "id": "x_-mzrIgVcQC"
      }
    },
    {
      "cell_type": "markdown",
      "source": [
        "## Renaming columns and selecting the columns and rows of interest"
      ],
      "metadata": {
        "id": "KE1RpgPaV8YR"
      }
    },
    {
      "cell_type": "code",
      "source": [
        "tempList = [] #Edit01\n",
        "for col in df_arabica.columns:\n",
        "        new_name = col.strip()\n",
        "        new_name = \"\".join(new_name.split())\n",
        "        new_name = new_name.replace('.','_') # EDIT\n",
        "        tempList.append(new_name) #Edit02\n",
        "print(tempList) #Just for the sake of it #Edit03\n",
        "\n",
        "df_arabica = df_arabica.toDF(*tempList) #Edit04"
      ],
      "metadata": {
        "colab": {
          "base_uri": "https://localhost:8080/"
        },
        "id": "42Ntf6-3VE90",
        "outputId": "43066bb6-a385-4bb7-e632-0355a9939c17"
      },
      "execution_count": null,
      "outputs": [
        {
          "output_type": "stream",
          "name": "stdout",
          "text": [
            "['Unnamed:0', 'Species', 'Owner', 'Country_of_Origin', 'Farm_Name', 'Lot_Number', 'Mill', 'ICO_Number', 'Company', 'Altitude', 'Region', 'Producer', 'Number_of_Bags', 'Bag_Weight', 'In_Country_Partner', 'Harvest_Year', 'Grading_Date', 'Owner_1', 'Variety', 'Processing_Method', 'Aroma', 'Flavor', 'Aftertaste', 'Acidity', 'Body', 'Balance', 'Uniformity', 'Clean_Cup', 'Sweetness', 'Cupper_Points', 'Total_Cup_Points', 'Moisture', 'Category_One_Defects', 'Quakers', 'Color', 'Category_Two_Defects', 'Expiration', 'Certification_Body', 'Certification_Address', 'Certification_Contact', 'unit_of_measurement', 'altitude_low_meters', 'altitude_high_meters', 'altitude_mean_meters']\n"
          ]
        }
      ]
    },
    {
      "cell_type": "markdown",
      "source": [
        "#### We decided to focus on Brazil as it's on of the biggest coffee producer and presents interesting geoclimatic features and diversity"
      ],
      "metadata": {
        "id": "VcAZCNvSYQsL"
      }
    },
    {
      "cell_type": "code",
      "source": [
        "df_arabica = df_arabica.filter(df_arabica[\"Country_of_Origin\"]=='Brazil')\\\n",
        "          .distinct()\\\n",
        "          .select([\"Farm_name\",\"Altitude\",\"Variety\",\"Aroma\",\"Flavor\",\"Aftertaste\",\\\n",
        "                   \"Acidity\",\"Body\",\"Balance\",\"Uniformity\",\"Clean_Cup\",\"Sweetness\",\"Total_Cup_Points\",\"altitude_mean_meters\"])\n",
        "df_arabica.show(100, 100)"
      ],
      "metadata": {
        "colab": {
          "base_uri": "https://localhost:8080/"
        },
        "id": "8bupiicSVOGU",
        "outputId": "2ac5fb9c-f6a7-4461-8d91-e9b9c1802313"
      },
      "execution_count": null,
      "outputs": [
        {
          "output_type": "stream",
          "name": "stdout",
          "text": [
            "+-----------------------------------+--------------+--------------+-----+------+----------+-------+----+-------+----------+---------+---------+----------------+--------------------+\n",
            "|                          Farm_name|      Altitude|       Variety|Aroma|Flavor|Aftertaste|Acidity|Body|Balance|Uniformity|Clean_Cup|Sweetness|Total_Cup_Points|altitude_mean_meters|\n",
            "+-----------------------------------+--------------+--------------+-----+------+----------+-------+----+-------+----------+---------+---------+----------------+--------------------+\n",
            "|                 fazenda capoeirnha|           890|       Bourbon| 7.67|  7.58|       7.5|   7.58|7.58|    7.5|      10.0|     10.0|     10.0|           82.92|               890.0|\n",
            "|                       olhos d'agua|          900m|           NaN| 7.58|  7.75|      7.67|    7.5|7.67|   7.58|      10.0|     10.0|     10.0|           83.17|               900.0|\n",
            "|                        capoeirinha|           905|Yellow Bourbon| 7.58|  7.58|      7.58|    7.5|7.67|   7.58|      10.0|     10.0|     10.0|           83.08|               905.0|\n",
            "|                        capoeirinha|           905|Yellow Bourbon|  7.5|   7.5|      7.58|    7.5|7.58|   7.58|      10.0|     10.0|     10.0|           82.75|               905.0|\n",
            "|                  sitío são geraldo|         1100m|    Mundo Novo|  8.0|   8.0|      7.83|   7.83|7.67|   7.67|      10.0|     10.0|     10.0|            85.0|              1100.0|\n",
            "|                    fazenda kaquend|         1250m|       Bourbon|  8.5|   8.5|       8.0|    8.0| 8.0|    8.0|      10.0|     10.0|     10.0|           86.92|              1250.0|\n",
            "|                          rio verde|          1227|        Catuai|  7.5|  7.83|      7.33|   7.58|7.58|   7.92|      10.0|     10.0|     10.0|           83.33|              1227.0|\n",
            "|                  fazenda rio verde|          1260|Yellow Bourbon| 7.58|  7.83|      7.67|   7.25| 8.0|   7.75|      10.0|     10.0|     10.0|            84.0|              1260.0|\n",
            "|                fazenda grota funda|         1200m|       Bourbon|  8.0|  7.92|      7.75|   7.75| 8.0|   7.75|      10.0|     10.0|     10.0|           84.92|              1200.0|\n",
            "|              fazenda santo antonio|      900-1100|        Catuai| 7.67|  7.67|      7.67|    7.5|7.42|    7.5|      10.0|     10.0|     10.0|            83.0|              1000.0|\n",
            "|                    café do paraíso|  894m - 1183m|    Mundo Novo| 7.58|  7.83|      7.75|   7.67|7.67|    8.0|      10.0|     10.0|     10.0|           84.17|              1038.5|\n",
            "|                                NaN|           NaN|           NaN| 7.42|  7.42|       7.5|   7.33|7.25|   7.67|      10.0|     10.0|     10.0|           82.58|                 NaN|\n",
            "|                        capoeirinha|           934|       Bourbon| 7.58|  7.67|      7.67|   7.75|7.58|   7.83|      10.0|     10.0|     10.0|           83.92|               934.0|\n",
            "|                         água limpa|         1200m|Yellow Bourbon| 7.75|  7.67|       7.5|   7.58|7.58|   7.58|      10.0|     10.0|     10.0|           83.25|              1200.0|\n",
            "|               fazenda vista alegre|         1100m|        Catuai|  8.5|   8.0|       7.5|   7.75| 7.5|   7.83|      10.0|     10.0|     10.0|           84.58|              1100.0|\n",
            "|                          rio verde|          1200|       Bourbon| 7.58|  7.83|      7.67|   7.42|7.42|    7.5|      10.0|     10.0|     10.0|           83.08|              1200.0|\n",
            "|                 fazenda capoeirnha|           894|       Bourbon|  7.5|  7.58|      7.58|   7.67|7.58|    7.5|      10.0|     10.0|     10.0|            83.0|               894.0|\n",
            "|                          rio verde|             1|Yellow Bourbon| 7.25|  7.58|      7.42|    8.0|7.75|   7.83|      10.0|     10.0|     10.0|           83.83|                 1.0|\n",
            "|                    fazenda kaquend|         1250m|       Bourbon| 8.33|   8.0|       8.0|    8.0|7.75|    8.0|      10.0|     10.0|     10.0|           86.08|              1250.0|\n",
            "|                        capoeirinha|           934|       Bourbon|  7.5|  7.58|       7.5|   7.67| 7.5|   7.42|      10.0|     10.0|     10.0|           82.67|               934.0|\n",
            "|                     fazenda jericó|         1100m|        Catuai| 7.83|  7.75|       7.5|   7.75| 7.5|   7.58|      10.0|     10.0|     10.0|           83.58|              1100.0|\n",
            "|                          rio verde|          1200|       Bourbon| 7.67|  7.67|      7.58|    7.5|7.83|   8.17|      10.0|     10.0|     9.33|           83.83|              1200.0|\n",
            "|                        santa maria|           NaN|        Catuai| 7.33|   7.5|      7.58|   7.58|7.67|    7.5|      10.0|     10.0|     10.0|           82.67|                 NaN|\n",
            "|                  fazenda rio verde|          1260|Yellow Bourbon| 7.92|   7.5|      7.33|   7.67|8.17|    7.5|      10.0|     10.0|     10.0|           83.83|              1260.0|\n",
            "|                        capoeirinha|           872|       Bourbon|  7.5|  7.67|      7.58|   7.67|7.58|   7.42|      10.0|     10.0|     10.0|            83.0|               872.0|\n",
            "|                    fazenda recreio|         1300m|       Bourbon|  8.0|   8.0|      7.75|   7.75|7.58|   7.75|      10.0|     10.0|     10.0|           84.58|              1300.0|\n",
            "|                                NaN|           NaN|           NaN| 7.58|  7.67|      7.42|    7.5|7.67|   7.42|      10.0|     10.0|     10.0|           83.25|                 NaN|\n",
            "|       fazenda serra de três barras|         1250m|       Bourbon|  8.0|   8.0|       8.0|   7.67|7.75|    8.0|      10.0|     10.0|     10.0|           85.42|              1250.0|\n",
            "|            cachoeira da grama farm|           NaN|Yellow Bourbon| 7.33|  7.83|      7.75|    7.5|7.42|   7.83|      10.0|     10.0|     10.0|           83.42|                 NaN|\n",
            "|                 fazenda capoeirnha|           890|       Bourbon| 7.58|  7.67|      7.58|   7.58|7.67|   7.58|      10.0|     10.0|     10.0|           83.58|               890.0|\n",
            "|             são francisco da serra|          950m|    Mundo Novo| 7.92|  7.58|       7.5|   7.58|7.42|    7.5|      10.0|     10.0|     10.0|           83.17|               950.0|\n",
            "|                        capoeirinha|           905|Yellow Bourbon| 7.67|  7.58|      7.58|    7.5| 7.5|   7.42|      10.0|     10.0|     10.0|           82.83|               905.0|\n",
            "|                        capoeirinha|           934|       Bourbon| 7.58|  7.75|      7.58|   7.75|7.58|   7.58|      10.0|     10.0|     10.0|           83.67|               934.0|\n",
            "|                                NaN|           NaN|    Mundo Novo| 7.42|  7.67|      7.58|    7.5|7.75|   7.67|      10.0|     10.0|     10.0|           83.08|                 NaN|\n",
            "|                 fazenda capoeirnha|           890|       Bourbon|  7.5|  7.75|      7.58|    7.5|7.58|    7.5|      10.0|     10.0|     10.0|           83.92|               890.0|\n",
            "|                 fazenda capoeirnha|           890|       Bourbon| 7.58|   7.5|       7.5|   7.75|7.67|    7.5|      10.0|     10.0|     10.0|            83.0|               890.0|\n",
            "|                   campo das flores|         1000m|    Mundo Novo| 7.75|  7.67|      7.58|    7.5|7.58|   7.58|      10.0|     10.0|     10.0|           83.17|              1000.0|\n",
            "|                 fazenda capoeirnha|           890|       Bourbon|  7.5|   7.5|       7.5|    7.5|7.58|    7.5|      10.0|     10.0|     10.0|            82.5|               890.0|\n",
            "|                    fazenda recreio|          1300|       Bourbon|  8.5|  8.17|       8.0|   7.75| 8.0|    8.0|      10.0|     10.0|     10.0|           86.42|              1300.0|\n",
            "|                  fazenda do sertao|       1.250 m|Yellow Bourbon| 7.83|  7.83|      7.58|   7.67| 7.5|   7.58|      10.0|     10.0|     10.0|           83.83|              1250.0|\n",
            "|                                NaN|           NaN|           NaN|  7.5|  7.58|      7.42|    7.5|7.75|   7.33|      10.0|     10.0|     10.0|           82.58|                 NaN|\n",
            "|                 fazenda capoeirnha|           890|       Bourbon| 7.67|  7.67|      7.58|   7.75|7.67|   7.67|      10.0|     10.0|     10.0|           83.75|               890.0|\n",
            "|                          rio verde|             1|Yellow Bourbon| 7.33|  7.67|      7.67|   7.33|7.75|   7.42|      10.0|     10.0|     10.0|           83.08|                 1.0|\n",
            "|              pereira estate coffee|           1.2|Yellow Bourbon| 8.42|  7.92|       8.0|   7.75|7.92|    8.0|      10.0|     10.0|     10.0|           86.17|                12.0|\n",
            "|                        sitio claro|        1000 m|        Catuai|  8.0|   8.0|      7.75|    8.0| 7.5|   7.75|      10.0|     10.0|     10.0|           84.92|              1000.0|\n",
            "|                                NaN|           NaN|           NaN| 8.58|  8.42|      8.42|    8.5|8.25|   8.33|      10.0|     10.0|     10.0|           88.83|                 NaN|\n",
            "|                                NaN|          test|           NaN| 8.17|  7.67|      7.75|   7.75|7.67|   7.75|      10.0|     10.0|     10.0|            84.5|                 NaN|\n",
            "|                         santa fé 2|           900|        Catuai| 7.58|  7.83|      7.33|   7.67|7.42|   7.33|      10.0|     10.0|     10.0|           82.83|               900.0|\n",
            "|                            pantano|          1150|        Catuai| 7.67|  7.75|      7.75|   7.67|7.83|   7.75|      10.0|     10.0|     10.0|           84.17|              1150.0|\n",
            "|                   fazenda chamusca|     900-1050m|    Mundo Novo| 7.58|   7.5|      7.33|   7.75| 7.5|    7.5|      10.0|     10.0|     10.0|           82.58|               975.0|\n",
            "|              pereira estate coffee|           1.2|Yellow Bourbon| 8.17|  7.92|      7.92|   7.75|8.33|    8.0|      10.0|     10.0|     10.0|           86.17|                12.0|\n",
            "|                                NaN|           mmm|           NaN| 7.81|  7.81|      7.88|   7.75|7.38|   8.25|       9.5|     10.0|     10.0|            84.5|                 NaN|\n",
            "|                          rio verde|             1|Yellow Bourbon| 7.58|   7.5|      7.42|   7.67| 7.5|    7.5|      10.0|     10.0|     10.0|           82.67|                 1.0|\n",
            "|                    fazenda pantano|  11000 metros| Moka Peaberry| 7.08|   7.5|       7.5|   7.83|7.75|   7.67|      10.0|     10.0|     10.0|           82.92|             11000.0|\n",
            "|                        capoeirinha|           890|       Bourbon|  7.5|  7.58|      7.25|   7.75|7.58|    7.5|      10.0|     10.0|     10.0|           82.67|               890.0|\n",
            "|                        sertao farm|          1250|Yellow Bourbon| 7.75|  7.58|      7.42|   7.67|7.42|   7.67|      10.0|     10.0|     10.0|            83.0|              1250.0|\n",
            "|                 fazenda capoeirnha|           890|       Bourbon| 7.67|  7.42|       7.5|   7.58|7.67|   7.58|      10.0|     10.0|     10.0|           83.17|               890.0|\n",
            "|                        santa alina|1200m to 1350m|Yellow Bourbon| 8.17|   8.0|       7.5|   7.75| 7.5|   7.67|      10.0|     10.0|     10.0|           84.33|              1275.0|\n",
            "|                 fazenda capoeirnha|           890|       Bourbon| 7.67|  7.83|       7.5|   7.67|7.67|    7.5|      10.0|     10.0|     10.0|           83.67|               890.0|\n",
            "|                    fazenda do lobo|         1000m|    Mundo Novo| 7.75|   7.5|      7.58|    7.5|7.75|    7.5|      10.0|     10.0|     10.0|           83.17|              1000.0|\n",
            "|                   fazenda baipendi|     900-1200m|           NaN|  8.0|   8.0|       7.5|    7.5|7.67|   7.75|      10.0|     10.0|     10.0|           84.33|              1050.0|\n",
            "|                                NaN|           NaN|           NaN| 7.42|  7.42|      7.42|    7.5| 7.5|   7.58|      10.0|     10.0|     10.0|           82.33|                 NaN|\n",
            "|                 fazenda capoeirnha|           934|       Bourbon| 7.42|  7.42|       7.5|   7.42|7.42|    7.5|      10.0|     10.0|     10.0|           82.17|               934.0|\n",
            "|                 fazenda capoeirnha|           894|       Bourbon| 7.42|  7.58|      7.42|    7.5|7.42|   7.25|      10.0|     10.0|     10.0|           82.08|               894.0|\n",
            "|       são rafael_ ra/ras certified|           995|        Catuai| 7.17|  7.33|      7.42|   7.08| 7.0|    7.0|      10.0|     10.0|     10.0|           80.25|               995.0|\n",
            "|                        capoeirinha|           934|       Bourbon|  7.5|   7.5|      7.42|    7.5|7.42|    7.5|      10.0|     10.0|     10.0|           82.33|               934.0|\n",
            "|                          rio verde|             1|Yellow Bourbon| 7.17|  7.83|      7.33|    7.5|7.75|   7.42|      10.0|     10.0|     10.0|           82.42|                 1.0|\n",
            "|                                NaN|           NaN|           NaN| 7.17|  7.25|      7.17|   7.25|7.42|   8.25|      10.0|     10.0|     10.0|           81.75|                 NaN|\n",
            "|                        sertao farm|          1200|Yellow Bourbon| 7.17|  7.33|      7.42|   7.25|7.42|   7.33|      10.0|     10.0|     10.0|           81.33|              1200.0|\n",
            "|                             sertao|          1.25|       Bourbon|  7.5|  7.42|      7.17|   7.42| 7.5|   7.33|      10.0|     10.0|     10.0|            81.5|               125.0|\n",
            "|                           cianorte|      900-950m|    Mundo Novo| 7.33|  7.67|      7.25|    7.5| 7.5|   7.25|      10.0|     10.0|     10.0|           81.83|               925.0|\n",
            "|                                NaN|           NaN|    Mundo Novo| 7.42|   7.5|       7.5|   7.42| 7.5|   7.58|      10.0|     10.0|     10.0|           82.33|                 NaN|\n",
            "|                          rio verde|          1100|       Bourbon| 7.75|  7.58|      7.42|   7.42|7.33|   7.33|      10.0|     10.0|     10.0|           82.25|              1100.0|\n",
            "|                fazenda serra negra|         1000m|        Catuai| 7.58|  7.67|      7.33|    7.5| 7.5|   7.42|      10.0|     10.0|     10.0|           82.42|              1000.0|\n",
            "|                        sertao farm|          1250|       Bourbon| 7.75|  7.75|       7.5|   7.42|7.83|   7.75|      9.33|     9.33|     9.33|           81.83|              1250.0|\n",
            "|            cachoeira da grama farm|        1250 m|Yellow Bourbon| 7.25|  7.33|      7.17|    7.5|7.33|   7.25|      9.33|     10.0|     10.0|            80.5|              1250.0|\n",
            "|                          rio verde|          1100|       Bourbon| 7.33|  7.58|      7.25|   7.17|7.83|   7.33|      10.0|     10.0|     10.0|           81.83|              1100.0|\n",
            "|                                NaN|           NaN|           NaN| 7.42|   7.5|      7.33|    7.5|7.25|   7.42|      10.0|     10.0|     10.0|           82.42|                 NaN|\n",
            "|                          rio verde|             1|Yellow Bourbon| 6.92|  7.58|      7.42|   7.33|7.83|    7.5|      10.0|     10.0|     10.0|           82.17|                 1.0|\n",
            "|                  fazenda são pedro|           982|        Catuai| 7.33|   7.5|       7.5|   7.33| 7.5|    7.5|      10.0|     10.0|     10.0|           82.33|               982.0|\n",
            "|                 fazendas klem ltda|          1100|        Catuai| 7.58|   7.5|      7.25|   7.42|7.67|   7.33|      10.0|     10.0|     10.0|           82.25|              1100.0|\n",
            "|sitío corrego da olaria/são caetano|         1100m|    Mundo Novo| 7.42|  7.58|      7.25|    7.5|7.33|    7.5|      10.0|     10.0|     10.0|           81.92|              1100.0|\n",
            "|          santa mariana/são vicente|          950m|    Mundo Novo| 7.58|   7.5|      7.17|    7.5| 7.5|   7.42|      10.0|     10.0|     10.0|            82.0|               950.0|\n",
            "|            cachoeira da grama farm|           NaN|       Bourbon| 7.25|  7.25|      7.17|    7.5|7.33|   7.17|      10.0|     10.0|     10.0|            81.0|                 NaN|\n",
            "|                                NaN|           NaN|           NaN| 7.17|   7.0|      6.83|    7.5|7.17|    7.0|       8.0|      8.0|     10.0|           75.67|                 NaN|\n",
            "|                            juliana|           NaN|        Catuai| 7.42|  7.42|      7.17|   7.42|7.33|   7.25|      10.0|     10.0|     10.0|           81.17|                 NaN|\n",
            "|                          rio verde|          1100|       Bourbon| 7.17|  7.42|      7.17|   7.25|7.25|   7.33|      10.0|     10.0|     10.0|           80.92|              1100.0|\n",
            "|                  fazenda rio verde|          1260|Yellow Bourbon| 7.42|   7.5|      7.67|   7.33|7.42|   7.67|      10.0|     10.0|     10.0|            82.5|              1260.0|\n",
            "|                      santa mariana|           NaN|        Arusha| 7.75|   7.5|      7.42|   7.42| 7.5|   7.42|      10.0|     10.0|     10.0|           82.42|                 NaN|\n",
            "|                  sitío santa luzia|         1100m|    Mundo Novo| 7.58|   7.5|      7.42|    7.5| 7.5|   7.42|      10.0|     10.0|     10.0|           82.33|              1100.0|\n",
            "|              fazenda rio brilhante|          1100|        Catuai| 7.33|   7.5|       7.5|   7.33|6.83|   7.42|      10.0|     10.0|     10.0|           81.42|              1100.0|\n",
            "|                          rio verde|             1|Yellow Bourbon| 7.42|  7.67|       7.5|   7.08| 7.5|   7.42|      10.0|     10.0|     10.0|           82.25|                 1.0|\n",
            "|                          rio verde|          1200|       Bourbon| 7.42|  7.25|      7.33|    7.0|7.08|   7.25|      10.0|     10.0|     10.0|           80.58|              1200.0|\n",
            "|                        café citrus|          950m|    Mundo Novo| 7.58|  7.58|      7.25|   7.58|7.42|    7.5|      10.0|     10.0|     10.0|           82.33|               950.0|\n",
            "|                          rio verde|          1268|       Bourbon| 8.25|  7.83|      7.25|   8.33|8.17|   8.08|      10.0|     6.67|     10.0|           82.33|              1268.0|\n",
            "|           fazenda são josé mirante|           695|    Mundo Novo| 7.58|  7.42|       7.5|   7.25|7.75|   7.58|      9.33|     10.0|     9.33|           81.08|               695.0|\n",
            "|                        sertao farm|          1200|Yellow Bourbon| 7.25|  7.33|      7.25|   7.25|7.25|   7.33|      10.0|     10.0|     10.0|           80.92|              1200.0|\n",
            "|                        santa maria|           NaN|        Catuai| 6.83|   7.0|      6.92|   7.08|6.92|   6.83|      10.0|     10.0|     10.0|           78.42|                 NaN|\n",
            "|                                NaN|           NaN|    Mundo Novo| 7.58|   7.5|      7.42|   7.25| 7.5|   7.42|      10.0|     10.0|     10.0|           82.17|                 NaN|\n",
            "|                    castelhana farm|           NaN|           NaN| 7.17|  7.25|      7.08|   7.17|7.25|   7.58|      10.0|     10.0|     10.0|           80.75|                 NaN|\n",
            "+-----------------------------------+--------------+--------------+-----+------+----------+-------+----+-------+----------+---------+---------+----------------+--------------------+\n",
            "only showing top 100 rows\n",
            "\n"
          ]
        }
      ]
    },
    {
      "cell_type": "code",
      "source": [
        "df_arabica = df_arabica.na.drop(subset=[\"altitude_mean_meters\"]) "
      ],
      "metadata": {
        "id": "aYw5eX0GDYOh"
      },
      "execution_count": null,
      "outputs": []
    },
    {
      "cell_type": "code",
      "source": [
        "df_arabica.show(10,10)"
      ],
      "metadata": {
        "colab": {
          "base_uri": "https://localhost:8080/"
        },
        "id": "wYlLw3A0MNHt",
        "outputId": "c3659eea-27b4-454b-bc94-a985c558495a"
      },
      "execution_count": null,
      "outputs": [
        {
          "output_type": "stream",
          "name": "stdout",
          "text": [
            "+----------+--------+----------+-----+------+----------+-------+----+-------+----------+---------+---------+----------------+--------------------+\n",
            "| Farm_name|Altitude|   Variety|Aroma|Flavor|Aftertaste|Acidity|Body|Balance|Uniformity|Clean_Cup|Sweetness|Total_Cup_Points|altitude_mean_meters|\n",
            "+----------+--------+----------+-----+------+----------+-------+----+-------+----------+---------+---------+----------------+--------------------+\n",
            "|fazenda...|     890|   Bourbon| 7.67|  7.58|       7.5|   7.58|7.58|    7.5|      10.0|     10.0|     10.0|           82.92|               890.0|\n",
            "|olhos d...|    900m|       NaN| 7.58|  7.75|      7.67|    7.5|7.67|   7.58|      10.0|     10.0|     10.0|           83.17|               900.0|\n",
            "|capoeir...|     905|Yellow ...| 7.58|  7.58|      7.58|    7.5|7.67|   7.58|      10.0|     10.0|     10.0|           83.08|               905.0|\n",
            "|capoeir...|     905|Yellow ...|  7.5|   7.5|      7.58|    7.5|7.58|   7.58|      10.0|     10.0|     10.0|           82.75|               905.0|\n",
            "|sitío s...|   1100m|Mundo Novo|  8.0|   8.0|      7.83|   7.83|7.67|   7.67|      10.0|     10.0|     10.0|            85.0|              1100.0|\n",
            "|fazenda...|   1250m|   Bourbon|  8.5|   8.5|       8.0|    8.0| 8.0|    8.0|      10.0|     10.0|     10.0|           86.92|              1250.0|\n",
            "| rio verde|    1227|    Catuai|  7.5|  7.83|      7.33|   7.58|7.58|   7.92|      10.0|     10.0|     10.0|           83.33|              1227.0|\n",
            "|fazenda...|    1260|Yellow ...| 7.58|  7.83|      7.67|   7.25| 8.0|   7.75|      10.0|     10.0|     10.0|            84.0|              1260.0|\n",
            "|fazenda...|   1200m|   Bourbon|  8.0|  7.92|      7.75|   7.75| 8.0|   7.75|      10.0|     10.0|     10.0|           84.92|              1200.0|\n",
            "|fazenda...|900-1100|    Catuai| 7.67|  7.67|      7.67|    7.5|7.42|    7.5|      10.0|     10.0|     10.0|            83.0|              1000.0|\n",
            "+----------+--------+----------+-----+------+----------+-------+----+-------+----------+---------+---------+----------------+--------------------+\n",
            "only showing top 10 rows\n",
            "\n"
          ]
        }
      ]
    },
    {
      "cell_type": "markdown",
      "source": [
        "We can se that we need to harmonize the Altitude column and link the Farm_name to spatial positions"
      ],
      "metadata": {
        "id": "wvMFtbhxW7PG"
      }
    },
    {
      "cell_type": "markdown",
      "source": [
        "## Harmonizing the altitude column"
      ],
      "metadata": {
        "id": "iLx9HyzwXRto"
      }
    },
    {
      "cell_type": "code",
      "source": [],
      "metadata": {
        "id": "HZIYqUlFXY7m"
      },
      "execution_count": null,
      "outputs": []
    },
    {
      "cell_type": "markdown",
      "source": [
        "## Linking Farm_names to actual longitudes and latitudes"
      ],
      "metadata": {
        "id": "cCoucEK9Xgxz"
      }
    },
    {
      "cell_type": "markdown",
      "source": [
        "We created by hand a dataset with the position of the fields of each Farm_name and performed a simple outer_join"
      ],
      "metadata": {
        "id": "9Vz3Us9hXmN-"
      }
    },
    {
      "cell_type": "code",
      "source": [
        "df_farms = spark.createDataFrame(\n",
        "    [\n",
        "        (\"fazenda rio verde\",-21.877600079894428, -45.17833587173798 ),  # create your data here, be consistent in the types.\n",
        "        (\"fazenda do lobo\", -20.05845833645814, -45.551377369807916),\n",
        "        (\"fazenda grota funda\",-4.498676298642221, -46.01438009152326),\n",
        "        (\"sitio claro\",-12.404400112670487, -57.0307320652044),\n",
        "        (\"santa alina\",-21.76121880758086, -46.674253002625804),\n",
        "        (\"fazenda chamusca\",-21.4532483711391, -45.22708818550831),\n",
        "        (\"santa maria\",-16.609194745742165, -46.98365752985455),\n",
        "        (\"capoeirinha\",-18.64698614414741, -45.796849953979795),\n",
        "        (\"fazenda do sertao\",-22.09933939187727, -45.18968007378277),\n",
        "        (\"santa fé 2\",-17.582654936016926, -47.2198752950817),\n",
        "        (\"café do paraíso\",-22.094568087843687, -45.155496432162685),\n",
        "        (\"cachoeira da grama farm\",-21.76626556295618, -46.702161544954144),\n",
        "        (\"são francisco da serra\",-22.629913000779446, -44.601043902591805),\n",
        "        (\"fazenda jericó\",-18.676315608302055, -45.70281563093488),\n",
        "        (\"sertao farm\",-22.099418916815903, -45.18965861611114),\n",
        "        (\"campo das flores\",-20.312258124962906, -43.28548394936318),\n",
        "        (\"olhos d'agua\",-18.63831446703355, -46.952789277527444),\n",
        "        (\"fazenda serra de três barras\",-19.560780988980817, -46.579303497451384),\n",
        "        (\"fazenda pantano\",-18.631997524421426, -46.82473127385452),\n",
        "        (\"pereira estate coffee\",-22.112480964214626, -45.15508902245408),\n",
        "        (\"rio verde\",-21.940510105475326, -45.176192869009476),\n",
        "        (\"sitío são geraldo\",-22.59528143237296, -46.66759241371165),\n",
        "        (\"fazenda baipendi\",-21.45008093579659, -46.8357381855336),\n",
        "        (\"água limpa\",-21.44645605895183, -46.82635044153258),\n",
        "        (\"fazenda kaquend\",-21.435236392716707, -46.83244978479159),\n",
        "        (\"fazenda santo antonio\",-21.40862617568116, -46.80560442679252),\n",
        "        (\"fazenda vista alegre\",-21.44237673402853, -46.818513026788274),\n",
        "        (\"fazenda recreio\",-21.780100162105256, -46.67880344388111),\n",
        "        (\"fazenda capoeirnha\",-21.761009557830032, -46.67507912298348),\n",
        "        (\"pantano\",-21.444638601462618, -46.81747769417689),\n",
        "        (\"fazenda são sebastião\",-21.444863288363614, -46.827235570452125),\n",
        "        (\"santa bárbara\",-18.52732198399872, -47.569893903127564),\n",
        "        (\"santa mariana\",-23.19046310851501, -50.55948683365515),\n",
        "        (\"sertao\",-22.095760723175886, -45.189755175672296),\n",
        "        (\"são rafael_ ra/ras certified\",-22.784292492565246, -47.032534461666536),\n",
        "        (\"sitío santa luzia\",-22.366016295045306, -46.47371725096838),\n",
        "        (\"fazenda são josé mirante\",-22.785019797545694, -47.03177457322967),\n",
        "        (\"cianorte\",-22.774138613223663, -47.02968245276757),\n",
        "        (\"juliana\",-21.46270024286904, -46.832515362350975),\n",
        "        (\"sitío corrego da olaria/são caetano\",-22.745464486282955, -47.0338567362583),\n",
        "        (\"fazenda serra negra\",-21., -46.674253002625804),\n",
        "        (\"fazendas klem ltda\",-20.27591897959779, -41.876604035124465),\n",
        "        (\"castelhana farm\",-18.922960557030457, -47.45831617257145),\n",
        "        (\"leticia farm\",-19.807319369835636, -42.215697182335234),\n",
        "        (\"helena\",-22.107657064931225, -48.32067672583973),\n",
        "        (\"caxambu\",-21.339808722609096, -45.42201735838091),\n",
        "    ],\n",
        "    [\"Farm_name\", \"lat\",\"long\"]  # add your column names here\n",
        ")"
      ],
      "metadata": {
        "id": "OEVstVcWXvKM"
      },
      "execution_count": null,
      "outputs": []
    },
    {
      "cell_type": "code",
      "source": [
        "df_arabica = df_arabica.join(df_farms, on=['Farm_name'], how='left_outer')"
      ],
      "metadata": {
        "id": "yfpoxlabXwzG"
      },
      "execution_count": null,
      "outputs": []
    },
    {
      "cell_type": "code",
      "source": [
        "df_arabica.show(10)"
      ],
      "metadata": {
        "colab": {
          "base_uri": "https://localhost:8080/"
        },
        "id": "kdU0wnUtYjcS",
        "outputId": "f485e989-8ac9-44a4-8518-ec0ef5b7e43e"
      },
      "execution_count": null,
      "outputs": [
        {
          "output_type": "stream",
          "name": "stdout",
          "text": [
            "+--------------------+------------+--------------+-----+------+----------+-------+----+-------+----------+---------+---------+----------------+--------------------+-------------------+-------------------+\n",
            "|           Farm_name|    Altitude|       Variety|Aroma|Flavor|Aftertaste|Acidity|Body|Balance|Uniformity|Clean_Cup|Sweetness|Total_Cup_Points|altitude_mean_meters|                lat|               long|\n",
            "+--------------------+------------+--------------+-----+------+----------+-------+----+-------+----------+---------+---------+----------------+--------------------+-------------------+-------------------+\n",
            "|   fazenda rio verde|        1260|Yellow Bourbon| 7.58|  7.83|      7.67|   7.25| 8.0|   7.75|      10.0|     10.0|     10.0|            84.0|              1260.0|-21.877600079894428| -45.17833587173798|\n",
            "| fazenda grota funda|       1200m|       Bourbon|  8.0|  7.92|      7.75|   7.75| 8.0|   7.75|      10.0|     10.0|     10.0|           84.92|              1200.0| -4.498676298642221| -46.01438009152326|\n",
            "|         capoeirinha|         905|Yellow Bourbon| 7.58|  7.58|      7.58|    7.5|7.67|   7.58|      10.0|     10.0|     10.0|           83.08|               905.0| -18.64698614414741|-45.796849953979795|\n",
            "|         capoeirinha|         905|Yellow Bourbon|  7.5|   7.5|      7.58|    7.5|7.58|   7.58|      10.0|     10.0|     10.0|           82.75|               905.0| -18.64698614414741|-45.796849953979795|\n",
            "|     café do paraíso|894m - 1183m|    Mundo Novo| 7.58|  7.83|      7.75|   7.67|7.67|    8.0|      10.0|     10.0|     10.0|           84.17|              1038.5|-22.094568087843687|-45.155496432162685|\n",
            "|        olhos d'agua|        900m|           NaN| 7.58|  7.75|      7.67|    7.5|7.67|   7.58|      10.0|     10.0|     10.0|           83.17|               900.0| -18.63831446703355|-46.952789277527444|\n",
            "|           rio verde|        1227|        Catuai|  7.5|  7.83|      7.33|   7.58|7.58|   7.92|      10.0|     10.0|     10.0|           83.33|              1227.0|-21.940510105475326|-45.176192869009476|\n",
            "|   sitío são geraldo|       1100m|    Mundo Novo|  8.0|   8.0|      7.83|   7.83|7.67|   7.67|      10.0|     10.0|     10.0|            85.0|              1100.0| -22.59528143237296| -46.66759241371165|\n",
            "|     fazenda kaquend|       1250m|       Bourbon|  8.5|   8.5|       8.0|    8.0| 8.0|    8.0|      10.0|     10.0|     10.0|           86.92|              1250.0|-21.435236392716707| -46.83244978479159|\n",
            "|fazenda santo ant...|    900-1100|        Catuai| 7.67|  7.67|      7.67|    7.5|7.42|    7.5|      10.0|     10.0|     10.0|            83.0|              1000.0| -21.40862617568116| -46.80560442679252|\n",
            "+--------------------+------------+--------------+-----+------+----------+-------+----+-------+----------+---------+---------+----------------+--------------------+-------------------+-------------------+\n",
            "only showing top 10 rows\n",
            "\n"
          ]
        }
      ]
    },
    {
      "cell_type": "markdown",
      "source": [
        "### We then filter the coffee where we don't know where it came from"
      ],
      "metadata": {
        "id": "U4tG1Tj4aSMv"
      }
    },
    {
      "cell_type": "code",
      "source": [
        "df_arabica = df_arabica.filter(df_arabica.Farm_name != \"NaN\")\n",
        "df_arabica.show(10)"
      ],
      "metadata": {
        "colab": {
          "base_uri": "https://localhost:8080/"
        },
        "id": "LNX4DwUXahX3",
        "outputId": "959a5191-a256-4142-b0ec-e76795a10f09"
      },
      "execution_count": null,
      "outputs": [
        {
          "output_type": "stream",
          "name": "stdout",
          "text": [
            "+--------------------+------------+--------------+-----+------+----------+-------+----+-------+----------+---------+---------+----------------+--------------------+-------------------+-------------------+\n",
            "|           Farm_name|    Altitude|       Variety|Aroma|Flavor|Aftertaste|Acidity|Body|Balance|Uniformity|Clean_Cup|Sweetness|Total_Cup_Points|altitude_mean_meters|                lat|               long|\n",
            "+--------------------+------------+--------------+-----+------+----------+-------+----+-------+----------+---------+---------+----------------+--------------------+-------------------+-------------------+\n",
            "|   fazenda rio verde|        1260|Yellow Bourbon| 7.58|  7.83|      7.67|   7.25| 8.0|   7.75|      10.0|     10.0|     10.0|            84.0|              1260.0|-21.877600079894428| -45.17833587173798|\n",
            "| fazenda grota funda|       1200m|       Bourbon|  8.0|  7.92|      7.75|   7.75| 8.0|   7.75|      10.0|     10.0|     10.0|           84.92|              1200.0| -4.498676298642221| -46.01438009152326|\n",
            "|         capoeirinha|         905|Yellow Bourbon| 7.58|  7.58|      7.58|    7.5|7.67|   7.58|      10.0|     10.0|     10.0|           83.08|               905.0| -18.64698614414741|-45.796849953979795|\n",
            "|         capoeirinha|         905|Yellow Bourbon|  7.5|   7.5|      7.58|    7.5|7.58|   7.58|      10.0|     10.0|     10.0|           82.75|               905.0| -18.64698614414741|-45.796849953979795|\n",
            "|     café do paraíso|894m - 1183m|    Mundo Novo| 7.58|  7.83|      7.75|   7.67|7.67|    8.0|      10.0|     10.0|     10.0|           84.17|              1038.5|-22.094568087843687|-45.155496432162685|\n",
            "|        olhos d'agua|        900m|           NaN| 7.58|  7.75|      7.67|    7.5|7.67|   7.58|      10.0|     10.0|     10.0|           83.17|               900.0| -18.63831446703355|-46.952789277527444|\n",
            "|           rio verde|        1227|        Catuai|  7.5|  7.83|      7.33|   7.58|7.58|   7.92|      10.0|     10.0|     10.0|           83.33|              1227.0|-21.940510105475326|-45.176192869009476|\n",
            "|   sitío são geraldo|       1100m|    Mundo Novo|  8.0|   8.0|      7.83|   7.83|7.67|   7.67|      10.0|     10.0|     10.0|            85.0|              1100.0| -22.59528143237296| -46.66759241371165|\n",
            "|     fazenda kaquend|       1250m|       Bourbon|  8.5|   8.5|       8.0|    8.0| 8.0|    8.0|      10.0|     10.0|     10.0|           86.92|              1250.0|-21.435236392716707| -46.83244978479159|\n",
            "|fazenda santo ant...|    900-1100|        Catuai| 7.67|  7.67|      7.67|    7.5|7.42|    7.5|      10.0|     10.0|     10.0|            83.0|              1000.0| -21.40862617568116| -46.80560442679252|\n",
            "+--------------------+------------+--------------+-----+------+----------+-------+----+-------+----------+---------+---------+----------------+--------------------+-------------------+-------------------+\n",
            "only showing top 10 rows\n",
            "\n"
          ]
        }
      ]
    },
    {
      "cell_type": "code",
      "source": [
        "df_arabica = df_arabica.replace(float('nan'), None)\n",
        "#\n",
        "\n",
        "df_arabica.show(10)"
      ],
      "metadata": {
        "colab": {
          "base_uri": "https://localhost:8080/"
        },
        "id": "8lOqDuy2alSe",
        "outputId": "c9d23868-c5cf-4af8-c20e-f698a83719ff"
      },
      "execution_count": null,
      "outputs": [
        {
          "output_type": "stream",
          "name": "stdout",
          "text": [
            "+--------------------+--------+--------------+-----+------+----------+-------+----+-------+----------+---------+---------+----------------+--------------------+-------------------+-------------------+\n",
            "|           Farm_name|Altitude|       Variety|Aroma|Flavor|Aftertaste|Acidity|Body|Balance|Uniformity|Clean_Cup|Sweetness|Total_Cup_Points|altitude_mean_meters|                lat|               long|\n",
            "+--------------------+--------+--------------+-----+------+----------+-------+----+-------+----------+---------+---------+----------------+--------------------+-------------------+-------------------+\n",
            "|fazenda são sebas...|   1000m|    Mundo Novo| 7.42|  7.33|      7.25|   7.42| 7.5|   7.17|      10.0|     10.0|     10.0|           81.17|              1000.0|-21.444863288363614|-46.827235570452125|\n",
            "|       santa bárbara|    1020|        Catuai| 7.42|  7.33|      7.33|    7.5| 7.5|   7.33|      10.0|     10.0|     10.0|           81.92|              1020.0| -18.52732198399872|-47.569893903127564|\n",
            "|   fazenda rio verde|    1260|Yellow Bourbon| 7.58|  7.83|      7.67|   7.25| 8.0|   7.75|      10.0|     10.0|     10.0|            84.0|              1260.0|-21.877600079894428| -45.17833587173798|\n",
            "|   fazenda rio verde|    1260|Yellow Bourbon| 7.92|   7.5|      7.33|   7.67|8.17|    7.5|      10.0|     10.0|     10.0|           83.83|              1260.0|-21.877600079894428| -45.17833587173798|\n",
            "|   fazenda rio verde|    1260|Yellow Bourbon| 7.42|   7.5|      7.67|   7.33|7.42|   7.67|      10.0|     10.0|     10.0|            82.5|              1260.0|-21.877600079894428| -45.17833587173798|\n",
            "|   fazenda rio verde|    1260|Yellow Bourbon| 7.25|  7.33|      7.25|    7.5|7.42|    7.5|      10.0|     10.0|     10.0|           82.42|              1260.0|-21.877600079894428| -45.17833587173798|\n",
            "|     fazenda do lobo|   1000m|    Mundo Novo| 7.75|   7.5|      7.58|    7.5|7.75|    7.5|      10.0|     10.0|     10.0|           83.17|              1000.0| -20.05845833645814|-45.551377369807916|\n",
            "| fazenda grota funda|   1200m|       Bourbon|  8.0|  7.92|      7.75|   7.75| 8.0|   7.75|      10.0|     10.0|     10.0|           84.92|              1200.0| -4.498676298642221| -46.01438009152326|\n",
            "|              sertao|    1.25|       Bourbon|  7.5|  7.42|      7.17|   7.42| 7.5|   7.33|      10.0|     10.0|     10.0|            81.5|               125.0|-22.095760723175886|-45.189755175672296|\n",
            "|         sitio claro|  1000 m|        Catuai|  8.0|   8.0|      7.75|    8.0| 7.5|   7.75|      10.0|     10.0|     10.0|           84.92|              1000.0|-12.404400112670487|  -57.0307320652044|\n",
            "+--------------------+--------+--------------+-----+------+----------+-------+----+-------+----------+---------+---------+----------------+--------------------+-------------------+-------------------+\n",
            "only showing top 10 rows\n",
            "\n"
          ]
        }
      ]
    },
    {
      "cell_type": "code",
      "source": [
        "df_arabica = df_arabica.na.fill(value='unknown',subset=[\"Variety\"])"
      ],
      "metadata": {
        "id": "P9UULFrYNmy6"
      },
      "execution_count": null,
      "outputs": []
    },
    {
      "cell_type": "markdown",
      "source": [
        "# Data Exploration and plotting"
      ],
      "metadata": {
        "id": "B56DhNgJYtod"
      }
    },
    {
      "cell_type": "code",
      "source": [
        "import plotly.express as px\n",
        "\n",
        "fig = px.scatter_mapbox(df_arabica.toPandas(), lat=\"lat\", lon=\"long\", hover_name=\"Farm_name\", hover_data=[\"altitude_mean_meters\",], color_discrete_sequence=[\"fuchsia\"], zoom=3, height=300)\n",
        "fig.update_layout(mapbox_style=\"open-street-map\")\n",
        "fig.update_layout(margin={\"r\":0,\"t\":0,\"l\":0,\"b\":0})\n",
        "fig.show()"
      ],
      "metadata": {
        "colab": {
          "base_uri": "https://localhost:8080/",
          "height": 317
        },
        "id": "_rXD9XPk82c1",
        "outputId": "75d0b1db-8e68-4734-853b-ed6961401c27"
      },
      "execution_count": null,
      "outputs": [
        {
          "output_type": "display_data",
          "data": {
            "text/html": [
              "<html>\n",
              "<head><meta charset=\"utf-8\" /></head>\n",
              "<body>\n",
              "    <div>            <script src=\"https://cdnjs.cloudflare.com/ajax/libs/mathjax/2.7.5/MathJax.js?config=TeX-AMS-MML_SVG\"></script><script type=\"text/javascript\">if (window.MathJax) {MathJax.Hub.Config({SVG: {font: \"STIX-Web\"}});}</script>                <script type=\"text/javascript\">window.PlotlyConfig = {MathJaxConfig: 'local'};</script>\n",
              "        <script src=\"https://cdn.plot.ly/plotly-2.8.3.min.js\"></script>                <div id=\"39966674-3e64-46c7-a271-76073427edfa\" class=\"plotly-graph-div\" style=\"height:300px; width:100%;\"></div>            <script type=\"text/javascript\">                                    window.PLOTLYENV=window.PLOTLYENV || {};                                    if (document.getElementById(\"39966674-3e64-46c7-a271-76073427edfa\")) {                    Plotly.newPlot(                        \"39966674-3e64-46c7-a271-76073427edfa\",                        [{\"customdata\":[[1000.0],[1020.0],[1260.0],[1260.0],[1260.0],[1260.0],[1000.0],[1200.0],[125.0],[1000.0],[995.0],[1275.0],[1100.0],[695.0],[975.0],[905.0],[905.0],[934.0],[934.0],[872.0],[905.0],[934.0],[890.0],[934.0],[944.0],[1050.0],[1250.0],[1250.0],[1100.0],[900.0],[982.0],[1038.5],[1250.0],[1038.5],[950.0],[1100.0],[1250.0],[1200.0],[1250.0],[1200.0],[900.0],[1000.0],[1000.0],[1250.0],[11000.0],[1100.0],[12.0],[12.0],[1200.0],[1250.0],[950.0],[950.0],[925.0],[1227.0],[1200.0],[1.0],[1200.0],[1.0],[1.0],[1.0],[1100.0],[1100.0],[1.0],[1100.0],[1.0],[1200.0],[1268.0],[1.0],[1.0],[1.0],[1.0],[1260.0],[1.0],[1100.0],[1260.0],[1100.0],[1100.0],[1200.0],[1050.0],[1250.0],[1250.0],[1000.0],[1100.0],[1000.0],[1100.0],[1100.0],[1100.0],[1300.0],[1300.0],[890.0],[894.0],[890.0],[890.0],[890.0],[890.0],[890.0],[890.0],[890.0],[934.0],[894.0],[890.0],[890.0],[1150.0],[973.0]],\"hovertemplate\":\"<b>%{hovertext}</b><br><br>lat=%{lat}<br>long=%{lon}<br>altitude_mean_meters=%{customdata[0]}<extra></extra>\",\"hovertext\":[\"fazenda s\\u00e3o sebasti\\u00e3o\",\"santa b\\u00e1rbara\",\"fazenda rio verde\",\"fazenda rio verde\",\"fazenda rio verde\",\"fazenda rio verde\",\"fazenda do lobo\",\"fazenda grota funda\",\"sertao\",\"sitio claro\",\"s\\u00e3o rafael_ ra/ras certified\",\"santa alina\",\"sit\\u00edo santa luzia\",\"fazenda s\\u00e3o jos\\u00e9 mirante\",\"fazenda chamusca\",\"capoeirinha\",\"capoeirinha\",\"capoeirinha\",\"capoeirinha\",\"capoeirinha\",\"capoeirinha\",\"capoeirinha\",\"capoeirinha\",\"capoeirinha\",\"capoeirinha\",\"s\\u00e3o jos\\u00e9 da lagoa\",\"fazenda do sertao\",\"fazenda do sertao\",\"fazenda rio brilhante\",\"santa f\\u00e9 2\",\"fazenda s\\u00e3o pedro\",\"caf\\u00e9 do para\\u00edso\",\"cachoeira da grama farm\",\"caf\\u00e9 do para\\u00edso\",\"s\\u00e3o francisco da serra\",\"fazenda jeric\\u00f3\",\"sertao farm\",\"sertao farm\",\"sertao farm\",\"sertao farm\",\"olhos d'agua\",\"campo das flores\",\"campo das flores\",\"fazenda serra de tr\\u00eas barras\",\"fazenda pantano\",\"fazenda sacramento\",\"pereira estate coffee\",\"pereira estate coffee\",\"pereira estate coffee\",\"pereira estate coffee\",\"caf\\u00e9 citrus\",\"santa mariana/s\\u00e3o vicente\",\"cianorte\",\"rio verde\",\"rio verde\",\"rio verde\",\"rio verde\",\"rio verde\",\"rio verde\",\"rio verde\",\"rio verde\",\"rio verde\",\"rio verde\",\"rio verde\",\"rio verde\",\"rio verde\",\"rio verde\",\"rio verde\",\"rio verde\",\"rio verde\",\"rio verde\",\"rio verde\",\"rio verde\",\"rio verde\",\"rio verde\",\"rio verde\",\"sit\\u00edo s\\u00e3o geraldo\",\"\\u00e1gua limpa\",\"fazenda baipendi\",\"fazenda kaquend\",\"fazenda kaquend\",\"fazenda santo antonio\",\"sit\\u00edo corrego da olaria/s\\u00e3o caetano\",\"fazenda serra negra\",\"fazendas klem ltda\",\"fazendas klem ltda\",\"fazenda vista alegre\",\"fazenda recreio\",\"fazenda recreio\",\"fazenda capoeirnha\",\"fazenda capoeirnha\",\"fazenda capoeirnha\",\"fazenda capoeirnha\",\"fazenda capoeirnha\",\"fazenda capoeirnha\",\"fazenda capoeirnha\",\"fazenda capoeirnha\",\"fazenda capoeirnha\",\"fazenda capoeirnha\",\"fazenda capoeirnha\",\"fazenda capoeirnha\",\"fazenda capoeirnha\",\"pantano\",\"helena\"],\"lat\":[-21.444863288363614,-18.52732198399872,-21.877600079894428,-21.877600079894428,-21.877600079894428,-21.877600079894428,-20.05845833645814,-4.498676298642221,-22.095760723175886,-12.404400112670487,-22.784292492565246,-21.76121880758086,-22.366016295045306,-22.785019797545694,-21.4532483711391,-18.64698614414741,-18.64698614414741,-18.64698614414741,-18.64698614414741,-18.64698614414741,-18.64698614414741,-18.64698614414741,-18.64698614414741,-18.64698614414741,-18.64698614414741,null,-22.09933939187727,-22.09933939187727,null,-17.582654936016926,null,-22.094568087843687,-21.76626556295618,-22.094568087843687,-22.629913000779446,-18.676315608302055,-22.099418916815903,-22.099418916815903,-22.099418916815903,-22.099418916815903,-18.63831446703355,-20.312258124962906,-20.312258124962906,-19.560780988980817,-18.631997524421426,null,-22.112480964214626,-22.112480964214626,-22.112480964214626,-22.112480964214626,null,null,-22.774138613223663,-21.940510105475326,-21.940510105475326,-21.940510105475326,-21.940510105475326,-21.940510105475326,-21.940510105475326,-21.940510105475326,-21.940510105475326,-21.940510105475326,-21.940510105475326,-21.940510105475326,-21.940510105475326,-21.940510105475326,-21.940510105475326,-21.940510105475326,-21.940510105475326,-21.940510105475326,-21.940510105475326,-21.940510105475326,-21.940510105475326,-21.940510105475326,-21.940510105475326,-21.940510105475326,-22.59528143237296,-21.44645605895183,-21.45008093579659,-21.435236392716707,-21.435236392716707,-21.40862617568116,-22.745464486282955,-21.0,-20.27591897959779,-20.27591897959779,-21.44237673402853,-21.780100162105256,-21.780100162105256,-21.761009557830032,-21.761009557830032,-21.761009557830032,-21.761009557830032,-21.761009557830032,-21.761009557830032,-21.761009557830032,-21.761009557830032,-21.761009557830032,-21.761009557830032,-21.761009557830032,-21.761009557830032,-21.761009557830032,-21.444638601462618,-22.107657064931225],\"legendgroup\":\"\",\"lon\":[-46.827235570452125,-47.569893903127564,-45.17833587173798,-45.17833587173798,-45.17833587173798,-45.17833587173798,-45.551377369807916,-46.01438009152326,-45.189755175672296,-57.0307320652044,-47.032534461666536,-46.674253002625804,-46.47371725096838,-47.03177457322967,-45.22708818550831,-45.796849953979795,-45.796849953979795,-45.796849953979795,-45.796849953979795,-45.796849953979795,-45.796849953979795,-45.796849953979795,-45.796849953979795,-45.796849953979795,-45.796849953979795,null,-45.18968007378277,-45.18968007378277,null,-47.2198752950817,null,-45.155496432162685,-46.702161544954144,-45.155496432162685,-44.601043902591805,-45.70281563093488,-45.18965861611114,-45.18965861611114,-45.18965861611114,-45.18965861611114,-46.952789277527444,-43.28548394936318,-43.28548394936318,-46.579303497451384,-46.82473127385452,null,-45.15508902245408,-45.15508902245408,-45.15508902245408,-45.15508902245408,null,null,-47.02968245276757,-45.176192869009476,-45.176192869009476,-45.176192869009476,-45.176192869009476,-45.176192869009476,-45.176192869009476,-45.176192869009476,-45.176192869009476,-45.176192869009476,-45.176192869009476,-45.176192869009476,-45.176192869009476,-45.176192869009476,-45.176192869009476,-45.176192869009476,-45.176192869009476,-45.176192869009476,-45.176192869009476,-45.176192869009476,-45.176192869009476,-45.176192869009476,-45.176192869009476,-45.176192869009476,-46.66759241371165,-46.82635044153258,-46.8357381855336,-46.83244978479159,-46.83244978479159,-46.80560442679252,-47.0338567362583,-46.674253002625804,-41.876604035124465,-41.876604035124465,-46.818513026788274,-46.67880344388111,-46.67880344388111,-46.67507912298348,-46.67507912298348,-46.67507912298348,-46.67507912298348,-46.67507912298348,-46.67507912298348,-46.67507912298348,-46.67507912298348,-46.67507912298348,-46.67507912298348,-46.67507912298348,-46.67507912298348,-46.67507912298348,-46.81747769417689,-48.32067672583973],\"marker\":{\"color\":\"fuchsia\"},\"mode\":\"markers\",\"name\":\"\",\"showlegend\":false,\"subplot\":\"mapbox\",\"type\":\"scattermapbox\"}],                        {\"template\":{\"data\":{\"bar\":[{\"error_x\":{\"color\":\"#2a3f5f\"},\"error_y\":{\"color\":\"#2a3f5f\"},\"marker\":{\"line\":{\"color\":\"#E5ECF6\",\"width\":0.5},\"pattern\":{\"fillmode\":\"overlay\",\"size\":10,\"solidity\":0.2}},\"type\":\"bar\"}],\"barpolar\":[{\"marker\":{\"line\":{\"color\":\"#E5ECF6\",\"width\":0.5},\"pattern\":{\"fillmode\":\"overlay\",\"size\":10,\"solidity\":0.2}},\"type\":\"barpolar\"}],\"carpet\":[{\"aaxis\":{\"endlinecolor\":\"#2a3f5f\",\"gridcolor\":\"white\",\"linecolor\":\"white\",\"minorgridcolor\":\"white\",\"startlinecolor\":\"#2a3f5f\"},\"baxis\":{\"endlinecolor\":\"#2a3f5f\",\"gridcolor\":\"white\",\"linecolor\":\"white\",\"minorgridcolor\":\"white\",\"startlinecolor\":\"#2a3f5f\"},\"type\":\"carpet\"}],\"choropleth\":[{\"colorbar\":{\"outlinewidth\":0,\"ticks\":\"\"},\"type\":\"choropleth\"}],\"contour\":[{\"colorbar\":{\"outlinewidth\":0,\"ticks\":\"\"},\"colorscale\":[[0.0,\"#0d0887\"],[0.1111111111111111,\"#46039f\"],[0.2222222222222222,\"#7201a8\"],[0.3333333333333333,\"#9c179e\"],[0.4444444444444444,\"#bd3786\"],[0.5555555555555556,\"#d8576b\"],[0.6666666666666666,\"#ed7953\"],[0.7777777777777778,\"#fb9f3a\"],[0.8888888888888888,\"#fdca26\"],[1.0,\"#f0f921\"]],\"type\":\"contour\"}],\"contourcarpet\":[{\"colorbar\":{\"outlinewidth\":0,\"ticks\":\"\"},\"type\":\"contourcarpet\"}],\"heatmap\":[{\"colorbar\":{\"outlinewidth\":0,\"ticks\":\"\"},\"colorscale\":[[0.0,\"#0d0887\"],[0.1111111111111111,\"#46039f\"],[0.2222222222222222,\"#7201a8\"],[0.3333333333333333,\"#9c179e\"],[0.4444444444444444,\"#bd3786\"],[0.5555555555555556,\"#d8576b\"],[0.6666666666666666,\"#ed7953\"],[0.7777777777777778,\"#fb9f3a\"],[0.8888888888888888,\"#fdca26\"],[1.0,\"#f0f921\"]],\"type\":\"heatmap\"}],\"heatmapgl\":[{\"colorbar\":{\"outlinewidth\":0,\"ticks\":\"\"},\"colorscale\":[[0.0,\"#0d0887\"],[0.1111111111111111,\"#46039f\"],[0.2222222222222222,\"#7201a8\"],[0.3333333333333333,\"#9c179e\"],[0.4444444444444444,\"#bd3786\"],[0.5555555555555556,\"#d8576b\"],[0.6666666666666666,\"#ed7953\"],[0.7777777777777778,\"#fb9f3a\"],[0.8888888888888888,\"#fdca26\"],[1.0,\"#f0f921\"]],\"type\":\"heatmapgl\"}],\"histogram\":[{\"marker\":{\"pattern\":{\"fillmode\":\"overlay\",\"size\":10,\"solidity\":0.2}},\"type\":\"histogram\"}],\"histogram2d\":[{\"colorbar\":{\"outlinewidth\":0,\"ticks\":\"\"},\"colorscale\":[[0.0,\"#0d0887\"],[0.1111111111111111,\"#46039f\"],[0.2222222222222222,\"#7201a8\"],[0.3333333333333333,\"#9c179e\"],[0.4444444444444444,\"#bd3786\"],[0.5555555555555556,\"#d8576b\"],[0.6666666666666666,\"#ed7953\"],[0.7777777777777778,\"#fb9f3a\"],[0.8888888888888888,\"#fdca26\"],[1.0,\"#f0f921\"]],\"type\":\"histogram2d\"}],\"histogram2dcontour\":[{\"colorbar\":{\"outlinewidth\":0,\"ticks\":\"\"},\"colorscale\":[[0.0,\"#0d0887\"],[0.1111111111111111,\"#46039f\"],[0.2222222222222222,\"#7201a8\"],[0.3333333333333333,\"#9c179e\"],[0.4444444444444444,\"#bd3786\"],[0.5555555555555556,\"#d8576b\"],[0.6666666666666666,\"#ed7953\"],[0.7777777777777778,\"#fb9f3a\"],[0.8888888888888888,\"#fdca26\"],[1.0,\"#f0f921\"]],\"type\":\"histogram2dcontour\"}],\"mesh3d\":[{\"colorbar\":{\"outlinewidth\":0,\"ticks\":\"\"},\"type\":\"mesh3d\"}],\"parcoords\":[{\"line\":{\"colorbar\":{\"outlinewidth\":0,\"ticks\":\"\"}},\"type\":\"parcoords\"}],\"pie\":[{\"automargin\":true,\"type\":\"pie\"}],\"scatter\":[{\"marker\":{\"colorbar\":{\"outlinewidth\":0,\"ticks\":\"\"}},\"type\":\"scatter\"}],\"scatter3d\":[{\"line\":{\"colorbar\":{\"outlinewidth\":0,\"ticks\":\"\"}},\"marker\":{\"colorbar\":{\"outlinewidth\":0,\"ticks\":\"\"}},\"type\":\"scatter3d\"}],\"scattercarpet\":[{\"marker\":{\"colorbar\":{\"outlinewidth\":0,\"ticks\":\"\"}},\"type\":\"scattercarpet\"}],\"scattergeo\":[{\"marker\":{\"colorbar\":{\"outlinewidth\":0,\"ticks\":\"\"}},\"type\":\"scattergeo\"}],\"scattergl\":[{\"marker\":{\"colorbar\":{\"outlinewidth\":0,\"ticks\":\"\"}},\"type\":\"scattergl\"}],\"scattermapbox\":[{\"marker\":{\"colorbar\":{\"outlinewidth\":0,\"ticks\":\"\"}},\"type\":\"scattermapbox\"}],\"scatterpolar\":[{\"marker\":{\"colorbar\":{\"outlinewidth\":0,\"ticks\":\"\"}},\"type\":\"scatterpolar\"}],\"scatterpolargl\":[{\"marker\":{\"colorbar\":{\"outlinewidth\":0,\"ticks\":\"\"}},\"type\":\"scatterpolargl\"}],\"scatterternary\":[{\"marker\":{\"colorbar\":{\"outlinewidth\":0,\"ticks\":\"\"}},\"type\":\"scatterternary\"}],\"surface\":[{\"colorbar\":{\"outlinewidth\":0,\"ticks\":\"\"},\"colorscale\":[[0.0,\"#0d0887\"],[0.1111111111111111,\"#46039f\"],[0.2222222222222222,\"#7201a8\"],[0.3333333333333333,\"#9c179e\"],[0.4444444444444444,\"#bd3786\"],[0.5555555555555556,\"#d8576b\"],[0.6666666666666666,\"#ed7953\"],[0.7777777777777778,\"#fb9f3a\"],[0.8888888888888888,\"#fdca26\"],[1.0,\"#f0f921\"]],\"type\":\"surface\"}],\"table\":[{\"cells\":{\"fill\":{\"color\":\"#EBF0F8\"},\"line\":{\"color\":\"white\"}},\"header\":{\"fill\":{\"color\":\"#C8D4E3\"},\"line\":{\"color\":\"white\"}},\"type\":\"table\"}]},\"layout\":{\"annotationdefaults\":{\"arrowcolor\":\"#2a3f5f\",\"arrowhead\":0,\"arrowwidth\":1},\"autotypenumbers\":\"strict\",\"coloraxis\":{\"colorbar\":{\"outlinewidth\":0,\"ticks\":\"\"}},\"colorscale\":{\"diverging\":[[0,\"#8e0152\"],[0.1,\"#c51b7d\"],[0.2,\"#de77ae\"],[0.3,\"#f1b6da\"],[0.4,\"#fde0ef\"],[0.5,\"#f7f7f7\"],[0.6,\"#e6f5d0\"],[0.7,\"#b8e186\"],[0.8,\"#7fbc41\"],[0.9,\"#4d9221\"],[1,\"#276419\"]],\"sequential\":[[0.0,\"#0d0887\"],[0.1111111111111111,\"#46039f\"],[0.2222222222222222,\"#7201a8\"],[0.3333333333333333,\"#9c179e\"],[0.4444444444444444,\"#bd3786\"],[0.5555555555555556,\"#d8576b\"],[0.6666666666666666,\"#ed7953\"],[0.7777777777777778,\"#fb9f3a\"],[0.8888888888888888,\"#fdca26\"],[1.0,\"#f0f921\"]],\"sequentialminus\":[[0.0,\"#0d0887\"],[0.1111111111111111,\"#46039f\"],[0.2222222222222222,\"#7201a8\"],[0.3333333333333333,\"#9c179e\"],[0.4444444444444444,\"#bd3786\"],[0.5555555555555556,\"#d8576b\"],[0.6666666666666666,\"#ed7953\"],[0.7777777777777778,\"#fb9f3a\"],[0.8888888888888888,\"#fdca26\"],[1.0,\"#f0f921\"]]},\"colorway\":[\"#636efa\",\"#EF553B\",\"#00cc96\",\"#ab63fa\",\"#FFA15A\",\"#19d3f3\",\"#FF6692\",\"#B6E880\",\"#FF97FF\",\"#FECB52\"],\"font\":{\"color\":\"#2a3f5f\"},\"geo\":{\"bgcolor\":\"white\",\"lakecolor\":\"white\",\"landcolor\":\"#E5ECF6\",\"showlakes\":true,\"showland\":true,\"subunitcolor\":\"white\"},\"hoverlabel\":{\"align\":\"left\"},\"hovermode\":\"closest\",\"mapbox\":{\"style\":\"light\"},\"paper_bgcolor\":\"white\",\"plot_bgcolor\":\"#E5ECF6\",\"polar\":{\"angularaxis\":{\"gridcolor\":\"white\",\"linecolor\":\"white\",\"ticks\":\"\"},\"bgcolor\":\"#E5ECF6\",\"radialaxis\":{\"gridcolor\":\"white\",\"linecolor\":\"white\",\"ticks\":\"\"}},\"scene\":{\"xaxis\":{\"backgroundcolor\":\"#E5ECF6\",\"gridcolor\":\"white\",\"gridwidth\":2,\"linecolor\":\"white\",\"showbackground\":true,\"ticks\":\"\",\"zerolinecolor\":\"white\"},\"yaxis\":{\"backgroundcolor\":\"#E5ECF6\",\"gridcolor\":\"white\",\"gridwidth\":2,\"linecolor\":\"white\",\"showbackground\":true,\"ticks\":\"\",\"zerolinecolor\":\"white\"},\"zaxis\":{\"backgroundcolor\":\"#E5ECF6\",\"gridcolor\":\"white\",\"gridwidth\":2,\"linecolor\":\"white\",\"showbackground\":true,\"ticks\":\"\",\"zerolinecolor\":\"white\"}},\"shapedefaults\":{\"line\":{\"color\":\"#2a3f5f\"}},\"ternary\":{\"aaxis\":{\"gridcolor\":\"white\",\"linecolor\":\"white\",\"ticks\":\"\"},\"baxis\":{\"gridcolor\":\"white\",\"linecolor\":\"white\",\"ticks\":\"\"},\"bgcolor\":\"#E5ECF6\",\"caxis\":{\"gridcolor\":\"white\",\"linecolor\":\"white\",\"ticks\":\"\"}},\"title\":{\"x\":0.05},\"xaxis\":{\"automargin\":true,\"gridcolor\":\"white\",\"linecolor\":\"white\",\"ticks\":\"\",\"title\":{\"standoff\":15},\"zerolinecolor\":\"white\",\"zerolinewidth\":2},\"yaxis\":{\"automargin\":true,\"gridcolor\":\"white\",\"linecolor\":\"white\",\"ticks\":\"\",\"title\":{\"standoff\":15},\"zerolinecolor\":\"white\",\"zerolinewidth\":2}}},\"mapbox\":{\"domain\":{\"x\":[0.0,1.0],\"y\":[0.0,1.0]},\"center\":{\"lat\":-21.02477345856644,\"lon\":-45.90777082432076},\"zoom\":3,\"style\":\"open-street-map\"},\"legend\":{\"tracegroupgap\":0},\"margin\":{\"t\":0,\"r\":0,\"l\":0,\"b\":0},\"height\":300},                        {\"responsive\": true}                    ).then(function(){\n",
              "                            \n",
              "var gd = document.getElementById('39966674-3e64-46c7-a271-76073427edfa');\n",
              "var x = new MutationObserver(function (mutations, observer) {{\n",
              "        var display = window.getComputedStyle(gd).display;\n",
              "        if (!display || display === 'none') {{\n",
              "            console.log([gd, 'removed!']);\n",
              "            Plotly.purge(gd);\n",
              "            observer.disconnect();\n",
              "        }}\n",
              "}});\n",
              "\n",
              "// Listen for the removal of the full notebook cells\n",
              "var notebookContainer = gd.closest('#notebook-container');\n",
              "if (notebookContainer) {{\n",
              "    x.observe(notebookContainer, {childList: true});\n",
              "}}\n",
              "\n",
              "// Listen for the clearing of the current output cell\n",
              "var outputEl = gd.closest('.output');\n",
              "if (outputEl) {{\n",
              "    x.observe(outputEl, {childList: true});\n",
              "}}\n",
              "\n",
              "                        })                };                            </script>        </div>\n",
              "</body>\n",
              "</html>"
            ]
          },
          "metadata": {}
        }
      ]
    },
    {
      "cell_type": "code",
      "source": [
        "import seaborn as sns\n",
        "import matplotlib.pyplot as plt\n",
        "g = sns.PairGrid(df_arabica.toPandas(), vars=['Aroma','Flavor','Aftertaste','Acidity','Sweetness'],\n",
        "                 hue='Variety', palette='RdBu_r')\n",
        "g.map(plt.scatter, alpha=0.99)\n",
        "g.add_legend();"
      ],
      "metadata": {
        "colab": {
          "base_uri": "https://localhost:8080/",
          "height": 899
        },
        "id": "VVIjr9GzUJgz",
        "outputId": "bcacb7df-9f05-4d96-b217-1041840e069e"
      },
      "execution_count": null,
      "outputs": [
        {
          "output_type": "display_data",
          "data": {
            "text/plain": [
              "<Figure size 1011.75x900 with 25 Axes>"
            ],
            "image/png": "[encoded data removed]"
          },
          "metadata": {
            "needs_background": "light"
          }
        }
      ]
    },
    {
      "cell_type": "code",
      "source": [],
      "metadata": {
        "id": "v3O050B7PEkf"
      },
      "execution_count": null,
      "outputs": []
    },
    {
      "cell_type": "markdown",
      "source": [
        "## Taste profile and scoring relation "
      ],
      "metadata": {
        "id": "DVAzLN2GYxVr"
      }
    },
    {
      "cell_type": "markdown",
      "source": [
        "### With a simple linear regression we can find how the multiple taste variables influence the Total_Cup_Score"
      ],
      "metadata": {
        "id": "xnwnNbS-bfIF"
      }
    },
    {
      "cell_type": "markdown",
      "source": [
        "#### Creating the features vector"
      ],
      "metadata": {
        "id": "pCXx2cCUdTVx"
      }
    },
    {
      "cell_type": "code",
      "source": [
        "from pyspark.ml.feature import VectorAssembler\n",
        "vectorAssembler = VectorAssembler(inputCols = [\"Aroma\",\"Flavor\",\"Aftertaste\",\\\n",
        "                   \"Acidity\",\"Body\",\"Balance\",\"Uniformity\",\"Clean_Cup\",\"Sweetness\"], outputCol = 'features')\n",
        "vec_df_arabica = vectorAssembler.transform(df_arabica)"
      ],
      "metadata": {
        "id": "9B70pLp0bd6-"
      },
      "execution_count": null,
      "outputs": []
    },
    {
      "cell_type": "markdown",
      "source": [
        "#### Train test splitting"
      ],
      "metadata": {
        "id": "MeVxFFA5dQaR"
      }
    },
    {
      "cell_type": "code",
      "source": [
        "train_taste,test_taste  = vec_df_arabica.randomSplit([0.7, 0.3])"
      ],
      "metadata": {
        "id": "8Dnb45XwdPoL"
      },
      "execution_count": null,
      "outputs": []
    },
    {
      "cell_type": "markdown",
      "source": [
        "(pun intended)"
      ],
      "metadata": {
        "id": "ZDjMHxfXdj1d"
      }
    },
    {
      "cell_type": "code",
      "source": [
        "from pyspark.ml.regression import LinearRegression\n",
        "lr = LinearRegression(featuresCol = 'features', labelCol='Total_Cup_Points', maxIter=10)\n",
        "lr_model = lr.fit(train_taste)\n",
        "print(\"Coefficients: \" + str(lr_model.coefficients[:5])+ \"\\n\"+ str(lr_model.coefficients[5:]))\n",
        "print(\"Intercept: \" + str(lr_model.intercept))"
      ],
      "metadata": {
        "colab": {
          "base_uri": "https://localhost:8080/"
        },
        "id": "U_W6uJA5dAgN",
        "outputId": "1fec9e94-08cf-49e6-ff6d-9b5cc98d2116"
      },
      "execution_count": null,
      "outputs": [
        {
          "output_type": "stream",
          "name": "stdout",
          "text": [
            "Coefficients: [1.05635594 1.28773544 1.33618124 0.82773426 1.36568876]\n",
            "[1.15611252 1.30309993 0.87730216 0.98438806]\n",
            "Intercept: -1.8148061947722982\n"
          ]
        }
      ]
    },
    {
      "cell_type": "markdown",
      "source": [
        "#### Predicting and evaluating the model"
      ],
      "metadata": {
        "id": "Uzmm7PSCealT"
      }
    },
    {
      "cell_type": "code",
      "source": [
        "lr_predictions = lr_model.transform(test_taste)\n",
        "lr_predictions.select(\"prediction\",\"Total_Cup_Points\",\"features\").show(5)"
      ],
      "metadata": {
        "colab": {
          "base_uri": "https://localhost:8080/"
        },
        "id": "dvHB_lD0eiD5",
        "outputId": "22ddebf0-504a-4d6f-f082-6f549d0f0965"
      },
      "execution_count": null,
      "outputs": [
        {
          "output_type": "stream",
          "name": "stdout",
          "text": [
            "+-----------------+----------------+--------------------+\n",
            "|       prediction|Total_Cup_Points|            features|\n",
            "+-----------------+----------------+--------------------+\n",
            "|  80.238440625615|            80.5|[7.25,7.33,7.17,7...|\n",
            "| 80.9160097447618|            81.0|[7.25,7.25,7.17,7...|\n",
            "|81.89128824016232|            82.0|[7.33,7.67,7.42,7...|\n",
            "| 83.3482992356964|           83.17|[7.75,7.67,7.58,7...|\n",
            "|  83.039947071551|            83.0|[7.5,7.67,7.58,7....|\n",
            "+-----------------+----------------+--------------------+\n",
            "only showing top 5 rows\n",
            "\n"
          ]
        }
      ]
    },
    {
      "cell_type": "code",
      "source": [
        "from pyspark.ml.evaluation import RegressionEvaluator\n",
        "lr_evaluator = RegressionEvaluator(predictionCol=\"prediction\", \\\n",
        "                 labelCol=\"Total_Cup_Points\",metricName=\"r2\")\n",
        "print(\"R Squared (R2) on test data = %g\" % lr_evaluator.evaluate(lr_predictions))"
      ],
      "metadata": {
        "colab": {
          "base_uri": "https://localhost:8080/"
        },
        "id": "eKrAhrZIfB3P",
        "outputId": "299edf72-71ed-4272-f322-aafb242eb1af"
      },
      "execution_count": null,
      "outputs": [
        {
          "output_type": "stream",
          "name": "stdout",
          "text": [
            "R Squared (R2) on test data = 0.974851\n"
          ]
        }
      ]
    },
    {
      "cell_type": "markdown",
      "source": [
        "#### Our model fits quite well we can proceed to interpretation"
      ],
      "metadata": {
        "id": "PA6mxGR3fSIK"
      }
    },
    {
      "cell_type": "markdown",
      "source": [
        "#### Interpretation of taste A FAIRE"
      ],
      "metadata": {
        "id": "oL1aDj-MflxA"
      }
    },
    {
      "cell_type": "code",
      "source": [
        "####Franchement jsp"
      ],
      "metadata": {
        "id": "NU5WAyvJfpwM"
      },
      "execution_count": null,
      "outputs": []
    },
    {
      "cell_type": "code",
      "source": [],
      "metadata": {
        "id": "fxcTNPl4ZiIM"
      },
      "execution_count": null,
      "outputs": []
    },
    {
      "cell_type": "code",
      "source": [],
      "metadata": {
        "id": "cB7uZMJlYsk5"
      },
      "execution_count": null,
      "outputs": []
    },
    {
      "cell_type": "markdown",
      "source": [
        "## Variety and scoring relation"
      ],
      "metadata": {
        "id": "_0VWZKVTY8kL"
      }
    },
    {
      "cell_type": "markdown",
      "source": [
        "#### For this one we will just use visualizations"
      ],
      "metadata": {
        "id": "xNQaoih5f07i"
      }
    },
    {
      "cell_type": "code",
      "source": [
        "var = df_arabica.groupBy(\"Variety\").mean(\"Total_Cup_Points\")\n",
        "var.show()"
      ],
      "metadata": {
        "colab": {
          "base_uri": "https://localhost:8080/"
        },
        "id": "gBcQiNAFZAEF",
        "outputId": "98f33085-8887-48f5-afd5-8210ef3e384a"
      },
      "execution_count": null,
      "outputs": [
        {
          "output_type": "stream",
          "name": "stdout",
          "text": [
            "+--------------+---------------------+\n",
            "|       Variety|avg(Total_Cup_Points)|\n",
            "+--------------+---------------------+\n",
            "|Yellow Bourbon|           82.6246875|\n",
            "|    Mundo Novo|            82.484375|\n",
            "|        Catuai|    82.31157894736843|\n",
            "|        Arusha|    82.33500000000001|\n",
            "|       Bourbon|    82.86075000000001|\n",
            "|           NaN|              82.2075|\n",
            "| Moka Peaberry|                82.92|\n",
            "+--------------+---------------------+\n",
            "\n"
          ]
        }
      ]
    },
    {
      "cell_type": "code",
      "source": [
        "px.bar(var.toPandas(), x='Variety', y='avg(Total_Cup_Points)')"
      ],
      "metadata": {
        "colab": {
          "base_uri": "https://localhost:8080/",
          "height": 542
        },
        "id": "-vMKe5E3ivs0",
        "outputId": "35baa762-fff5-497b-8c78-2a411473b0b0"
      },
      "execution_count": null,
      "outputs": [
        {
          "output_type": "display_data",
          "data": {
            "text/html": [
              "<html>\n",
              "<head><meta charset=\"utf-8\" /></head>\n",
              "<body>\n",
              "    <div>            <script src=\"https://cdnjs.cloudflare.com/ajax/libs/mathjax/2.7.5/MathJax.js?config=TeX-AMS-MML_SVG\"></script><script type=\"text/javascript\">if (window.MathJax) {MathJax.Hub.Config({SVG: {font: \"STIX-Web\"}});}</script>                <script type=\"text/javascript\">window.PlotlyConfig = {MathJaxConfig: 'local'};</script>\n",
              "        <script src=\"https://cdn.plot.ly/plotly-2.8.3.min.js\"></script>                <div id=\"ce71f24c-55cb-4456-93e1-67d92ac0ec7a\" class=\"plotly-graph-div\" style=\"height:525px; width:100%;\"></div>            <script type=\"text/javascript\">                                    window.PLOTLYENV=window.PLOTLYENV || {};                                    if (document.getElementById(\"ce71f24c-55cb-4456-93e1-67d92ac0ec7a\")) {                    Plotly.newPlot(                        \"ce71f24c-55cb-4456-93e1-67d92ac0ec7a\",                        [{\"alignmentgroup\":\"True\",\"hovertemplate\":\"Variety=%{x}<br>avg(Total_Cup_Points)=%{y}<extra></extra>\",\"legendgroup\":\"\",\"marker\":{\"color\":\"#636efa\",\"pattern\":{\"shape\":\"\"}},\"name\":\"\",\"offsetgroup\":\"\",\"orientation\":\"v\",\"showlegend\":false,\"textposition\":\"auto\",\"x\":[\"Yellow Bourbon\",\"Mundo Novo\",\"Catuai\",\"Arusha\",\"Bourbon\",\"NaN\",\"Moka Peaberry\"],\"xaxis\":\"x\",\"y\":[82.6246875,82.484375,82.31157894736843,82.33500000000001,82.86075000000001,82.2075,82.92],\"yaxis\":\"y\",\"type\":\"bar\"}],                        {\"template\":{\"data\":{\"bar\":[{\"error_x\":{\"color\":\"#2a3f5f\"},\"error_y\":{\"color\":\"#2a3f5f\"},\"marker\":{\"line\":{\"color\":\"#E5ECF6\",\"width\":0.5},\"pattern\":{\"fillmode\":\"overlay\",\"size\":10,\"solidity\":0.2}},\"type\":\"bar\"}],\"barpolar\":[{\"marker\":{\"line\":{\"color\":\"#E5ECF6\",\"width\":0.5},\"pattern\":{\"fillmode\":\"overlay\",\"size\":10,\"solidity\":0.2}},\"type\":\"barpolar\"}],\"carpet\":[{\"aaxis\":{\"endlinecolor\":\"#2a3f5f\",\"gridcolor\":\"white\",\"linecolor\":\"white\",\"minorgridcolor\":\"white\",\"startlinecolor\":\"#2a3f5f\"},\"baxis\":{\"endlinecolor\":\"#2a3f5f\",\"gridcolor\":\"white\",\"linecolor\":\"white\",\"minorgridcolor\":\"white\",\"startlinecolor\":\"#2a3f5f\"},\"type\":\"carpet\"}],\"choropleth\":[{\"colorbar\":{\"outlinewidth\":0,\"ticks\":\"\"},\"type\":\"choropleth\"}],\"contour\":[{\"colorbar\":{\"outlinewidth\":0,\"ticks\":\"\"},\"colorscale\":[[0.0,\"#0d0887\"],[0.1111111111111111,\"#46039f\"],[0.2222222222222222,\"#7201a8\"],[0.3333333333333333,\"#9c179e\"],[0.4444444444444444,\"#bd3786\"],[0.5555555555555556,\"#d8576b\"],[0.6666666666666666,\"#ed7953\"],[0.7777777777777778,\"#fb9f3a\"],[0.8888888888888888,\"#fdca26\"],[1.0,\"#f0f921\"]],\"type\":\"contour\"}],\"contourcarpet\":[{\"colorbar\":{\"outlinewidth\":0,\"ticks\":\"\"},\"type\":\"contourcarpet\"}],\"heatmap\":[{\"colorbar\":{\"outlinewidth\":0,\"ticks\":\"\"},\"colorscale\":[[0.0,\"#0d0887\"],[0.1111111111111111,\"#46039f\"],[0.2222222222222222,\"#7201a8\"],[0.3333333333333333,\"#9c179e\"],[0.4444444444444444,\"#bd3786\"],[0.5555555555555556,\"#d8576b\"],[0.6666666666666666,\"#ed7953\"],[0.7777777777777778,\"#fb9f3a\"],[0.8888888888888888,\"#fdca26\"],[1.0,\"#f0f921\"]],\"type\":\"heatmap\"}],\"heatmapgl\":[{\"colorbar\":{\"outlinewidth\":0,\"ticks\":\"\"},\"colorscale\":[[0.0,\"#0d0887\"],[0.1111111111111111,\"#46039f\"],[0.2222222222222222,\"#7201a8\"],[0.3333333333333333,\"#9c179e\"],[0.4444444444444444,\"#bd3786\"],[0.5555555555555556,\"#d8576b\"],[0.6666666666666666,\"#ed7953\"],[0.7777777777777778,\"#fb9f3a\"],[0.8888888888888888,\"#fdca26\"],[1.0,\"#f0f921\"]],\"type\":\"heatmapgl\"}],\"histogram\":[{\"marker\":{\"pattern\":{\"fillmode\":\"overlay\",\"size\":10,\"solidity\":0.2}},\"type\":\"histogram\"}],\"histogram2d\":[{\"colorbar\":{\"outlinewidth\":0,\"ticks\":\"\"},\"colorscale\":[[0.0,\"#0d0887\"],[0.1111111111111111,\"#46039f\"],[0.2222222222222222,\"#7201a8\"],[0.3333333333333333,\"#9c179e\"],[0.4444444444444444,\"#bd3786\"],[0.5555555555555556,\"#d8576b\"],[0.6666666666666666,\"#ed7953\"],[0.7777777777777778,\"#fb9f3a\"],[0.8888888888888888,\"#fdca26\"],[1.0,\"#f0f921\"]],\"type\":\"histogram2d\"}],\"histogram2dcontour\":[{\"colorbar\":{\"outlinewidth\":0,\"ticks\":\"\"},\"colorscale\":[[0.0,\"#0d0887\"],[0.1111111111111111,\"#46039f\"],[0.2222222222222222,\"#7201a8\"],[0.3333333333333333,\"#9c179e\"],[0.4444444444444444,\"#bd3786\"],[0.5555555555555556,\"#d8576b\"],[0.6666666666666666,\"#ed7953\"],[0.7777777777777778,\"#fb9f3a\"],[0.8888888888888888,\"#fdca26\"],[1.0,\"#f0f921\"]],\"type\":\"histogram2dcontour\"}],\"mesh3d\":[{\"colorbar\":{\"outlinewidth\":0,\"ticks\":\"\"},\"type\":\"mesh3d\"}],\"parcoords\":[{\"line\":{\"colorbar\":{\"outlinewidth\":0,\"ticks\":\"\"}},\"type\":\"parcoords\"}],\"pie\":[{\"automargin\":true,\"type\":\"pie\"}],\"scatter\":[{\"marker\":{\"colorbar\":{\"outlinewidth\":0,\"ticks\":\"\"}},\"type\":\"scatter\"}],\"scatter3d\":[{\"line\":{\"colorbar\":{\"outlinewidth\":0,\"ticks\":\"\"}},\"marker\":{\"colorbar\":{\"outlinewidth\":0,\"ticks\":\"\"}},\"type\":\"scatter3d\"}],\"scattercarpet\":[{\"marker\":{\"colorbar\":{\"outlinewidth\":0,\"ticks\":\"\"}},\"type\":\"scattercarpet\"}],\"scattergeo\":[{\"marker\":{\"colorbar\":{\"outlinewidth\":0,\"ticks\":\"\"}},\"type\":\"scattergeo\"}],\"scattergl\":[{\"marker\":{\"colorbar\":{\"outlinewidth\":0,\"ticks\":\"\"}},\"type\":\"scattergl\"}],\"scattermapbox\":[{\"marker\":{\"colorbar\":{\"outlinewidth\":0,\"ticks\":\"\"}},\"type\":\"scattermapbox\"}],\"scatterpolar\":[{\"marker\":{\"colorbar\":{\"outlinewidth\":0,\"ticks\":\"\"}},\"type\":\"scatterpolar\"}],\"scatterpolargl\":[{\"marker\":{\"colorbar\":{\"outlinewidth\":0,\"ticks\":\"\"}},\"type\":\"scatterpolargl\"}],\"scatterternary\":[{\"marker\":{\"colorbar\":{\"outlinewidth\":0,\"ticks\":\"\"}},\"type\":\"scatterternary\"}],\"surface\":[{\"colorbar\":{\"outlinewidth\":0,\"ticks\":\"\"},\"colorscale\":[[0.0,\"#0d0887\"],[0.1111111111111111,\"#46039f\"],[0.2222222222222222,\"#7201a8\"],[0.3333333333333333,\"#9c179e\"],[0.4444444444444444,\"#bd3786\"],[0.5555555555555556,\"#d8576b\"],[0.6666666666666666,\"#ed7953\"],[0.7777777777777778,\"#fb9f3a\"],[0.8888888888888888,\"#fdca26\"],[1.0,\"#f0f921\"]],\"type\":\"surface\"}],\"table\":[{\"cells\":{\"fill\":{\"color\":\"#EBF0F8\"},\"line\":{\"color\":\"white\"}},\"header\":{\"fill\":{\"color\":\"#C8D4E3\"},\"line\":{\"color\":\"white\"}},\"type\":\"table\"}]},\"layout\":{\"annotationdefaults\":{\"arrowcolor\":\"#2a3f5f\",\"arrowhead\":0,\"arrowwidth\":1},\"autotypenumbers\":\"strict\",\"coloraxis\":{\"colorbar\":{\"outlinewidth\":0,\"ticks\":\"\"}},\"colorscale\":{\"diverging\":[[0,\"#8e0152\"],[0.1,\"#c51b7d\"],[0.2,\"#de77ae\"],[0.3,\"#f1b6da\"],[0.4,\"#fde0ef\"],[0.5,\"#f7f7f7\"],[0.6,\"#e6f5d0\"],[0.7,\"#b8e186\"],[0.8,\"#7fbc41\"],[0.9,\"#4d9221\"],[1,\"#276419\"]],\"sequential\":[[0.0,\"#0d0887\"],[0.1111111111111111,\"#46039f\"],[0.2222222222222222,\"#7201a8\"],[0.3333333333333333,\"#9c179e\"],[0.4444444444444444,\"#bd3786\"],[0.5555555555555556,\"#d8576b\"],[0.6666666666666666,\"#ed7953\"],[0.7777777777777778,\"#fb9f3a\"],[0.8888888888888888,\"#fdca26\"],[1.0,\"#f0f921\"]],\"sequentialminus\":[[0.0,\"#0d0887\"],[0.1111111111111111,\"#46039f\"],[0.2222222222222222,\"#7201a8\"],[0.3333333333333333,\"#9c179e\"],[0.4444444444444444,\"#bd3786\"],[0.5555555555555556,\"#d8576b\"],[0.6666666666666666,\"#ed7953\"],[0.7777777777777778,\"#fb9f3a\"],[0.8888888888888888,\"#fdca26\"],[1.0,\"#f0f921\"]]},\"colorway\":[\"#636efa\",\"#EF553B\",\"#00cc96\",\"#ab63fa\",\"#FFA15A\",\"#19d3f3\",\"#FF6692\",\"#B6E880\",\"#FF97FF\",\"#FECB52\"],\"font\":{\"color\":\"#2a3f5f\"},\"geo\":{\"bgcolor\":\"white\",\"lakecolor\":\"white\",\"landcolor\":\"#E5ECF6\",\"showlakes\":true,\"showland\":true,\"subunitcolor\":\"white\"},\"hoverlabel\":{\"align\":\"left\"},\"hovermode\":\"closest\",\"mapbox\":{\"style\":\"light\"},\"paper_bgcolor\":\"white\",\"plot_bgcolor\":\"#E5ECF6\",\"polar\":{\"angularaxis\":{\"gridcolor\":\"white\",\"linecolor\":\"white\",\"ticks\":\"\"},\"bgcolor\":\"#E5ECF6\",\"radialaxis\":{\"gridcolor\":\"white\",\"linecolor\":\"white\",\"ticks\":\"\"}},\"scene\":{\"xaxis\":{\"backgroundcolor\":\"#E5ECF6\",\"gridcolor\":\"white\",\"gridwidth\":2,\"linecolor\":\"white\",\"showbackground\":true,\"ticks\":\"\",\"zerolinecolor\":\"white\"},\"yaxis\":{\"backgroundcolor\":\"#E5ECF6\",\"gridcolor\":\"white\",\"gridwidth\":2,\"linecolor\":\"white\",\"showbackground\":true,\"ticks\":\"\",\"zerolinecolor\":\"white\"},\"zaxis\":{\"backgroundcolor\":\"#E5ECF6\",\"gridcolor\":\"white\",\"gridwidth\":2,\"linecolor\":\"white\",\"showbackground\":true,\"ticks\":\"\",\"zerolinecolor\":\"white\"}},\"shapedefaults\":{\"line\":{\"color\":\"#2a3f5f\"}},\"ternary\":{\"aaxis\":{\"gridcolor\":\"white\",\"linecolor\":\"white\",\"ticks\":\"\"},\"baxis\":{\"gridcolor\":\"white\",\"linecolor\":\"white\",\"ticks\":\"\"},\"bgcolor\":\"#E5ECF6\",\"caxis\":{\"gridcolor\":\"white\",\"linecolor\":\"white\",\"ticks\":\"\"}},\"title\":{\"x\":0.05},\"xaxis\":{\"automargin\":true,\"gridcolor\":\"white\",\"linecolor\":\"white\",\"ticks\":\"\",\"title\":{\"standoff\":15},\"zerolinecolor\":\"white\",\"zerolinewidth\":2},\"yaxis\":{\"automargin\":true,\"gridcolor\":\"white\",\"linecolor\":\"white\",\"ticks\":\"\",\"title\":{\"standoff\":15},\"zerolinecolor\":\"white\",\"zerolinewidth\":2}}},\"xaxis\":{\"anchor\":\"y\",\"domain\":[0.0,1.0],\"title\":{\"text\":\"Variety\"}},\"yaxis\":{\"anchor\":\"x\",\"domain\":[0.0,1.0],\"title\":{\"text\":\"avg(Total_Cup_Points)\"}},\"legend\":{\"tracegroupgap\":0},\"margin\":{\"t\":60},\"barmode\":\"relative\"},                        {\"responsive\": true}                    ).then(function(){\n",
              "                            \n",
              "var gd = document.getElementById('ce71f24c-55cb-4456-93e1-67d92ac0ec7a');\n",
              "var x = new MutationObserver(function (mutations, observer) {{\n",
              "        var display = window.getComputedStyle(gd).display;\n",
              "        if (!display || display === 'none') {{\n",
              "            console.log([gd, 'removed!']);\n",
              "            Plotly.purge(gd);\n",
              "            observer.disconnect();\n",
              "        }}\n",
              "}});\n",
              "\n",
              "// Listen for the removal of the full notebook cells\n",
              "var notebookContainer = gd.closest('#notebook-container');\n",
              "if (notebookContainer) {{\n",
              "    x.observe(notebookContainer, {childList: true});\n",
              "}}\n",
              "\n",
              "// Listen for the clearing of the current output cell\n",
              "var outputEl = gd.closest('.output');\n",
              "if (outputEl) {{\n",
              "    x.observe(outputEl, {childList: true});\n",
              "}}\n",
              "\n",
              "                        })                };                            </script>        </div>\n",
              "</body>\n",
              "</html>"
            ]
          },
          "metadata": {}
        }
      ]
    },
    {
      "cell_type": "markdown",
      "source": [
        "Not a very convincing plot, the Total_Cup_Points are very close (in the 80-90 range) and variety doesn't seem to matter that much"
      ],
      "metadata": {
        "id": "YV1Wp3-qkD9y"
      }
    },
    {
      "cell_type": "markdown",
      "source": [
        "## Farm and scoring relation"
      ],
      "metadata": {
        "id": "kcQRu2pwZAPk"
      }
    },
    {
      "cell_type": "markdown",
      "source": [
        "# Nouvelle section"
      ],
      "metadata": {
        "id": "v64B_2_2D_yK"
      }
    },
    {
      "cell_type": "code",
      "source": [
        "farmr = df_arabica.groupBy(\"Farm_name\").mean(\"Total_Cup_Points\")\n",
        "farmr.show()"
      ],
      "metadata": {
        "colab": {
          "base_uri": "https://localhost:8080/"
        },
        "id": "a1qhNoYzmJRX",
        "outputId": "68ee1f46-747c-4cd6-de91-d0e6de3e2e4c"
      },
      "execution_count": null,
      "outputs": [
        {
          "output_type": "stream",
          "name": "stdout",
          "text": [
            "+--------------------+---------------------+\n",
            "|           Farm_name|avg(Total_Cup_Points)|\n",
            "+--------------------+---------------------+\n",
            "|fazenda são sebas...|                81.17|\n",
            "|       santa bárbara|                81.92|\n",
            "|   fazenda rio verde|              83.1875|\n",
            "|     fazenda do lobo|                83.17|\n",
            "|       santa mariana|                82.42|\n",
            "| fazenda grota funda|                84.92|\n",
            "|              sertao|                 81.5|\n",
            "|         sitio claro|                84.92|\n",
            "|são rafael_ ra/ra...|                80.25|\n",
            "|         santa alina|                84.33|\n",
            "|   sitío santa luzia|                82.33|\n",
            "|fazenda são josé ...|                81.08|\n",
            "|    fazenda chamusca|                82.58|\n",
            "|         santa maria|               80.545|\n",
            "|         capoeirinha|               82.892|\n",
            "|   são josé da lagoa|                 82.0|\n",
            "|   fazenda do sertao|    83.16499999999999|\n",
            "|fazenda rio brilh...|                81.42|\n",
            "|          santa fé 2|                82.83|\n",
            "|   fazenda são pedro|                82.33|\n",
            "+--------------------+---------------------+\n",
            "only showing top 20 rows\n",
            "\n"
          ]
        }
      ]
    },
    {
      "cell_type": "code",
      "source": [
        "px.bar(farmr.toPandas().sort_values(by=['avg(Total_Cup_Points)']), x='Farm_name', y='avg(Total_Cup_Points)')"
      ],
      "metadata": {
        "colab": {
          "base_uri": "https://localhost:8080/",
          "height": 542
        },
        "id": "Uk1abBQCmakC",
        "outputId": "00cf15fb-9c41-4a2b-e00b-e7d52f2889ce"
      },
      "execution_count": null,
      "outputs": [
        {
          "output_type": "display_data",
          "data": {
            "text/html": [
              "<html>\n",
              "<head><meta charset=\"utf-8\" /></head>\n",
              "<body>\n",
              "    <div>            <script src=\"https://cdnjs.cloudflare.com/ajax/libs/mathjax/2.7.5/MathJax.js?config=TeX-AMS-MML_SVG\"></script><script type=\"text/javascript\">if (window.MathJax) {MathJax.Hub.Config({SVG: {font: \"STIX-Web\"}});}</script>                <script type=\"text/javascript\">window.PlotlyConfig = {MathJaxConfig: 'local'};</script>\n",
              "        <script src=\"https://cdn.plot.ly/plotly-2.8.3.min.js\"></script>                <div id=\"e63d29f4-f9c8-412f-adf9-524f27fcf6a3\" class=\"plotly-graph-div\" style=\"height:525px; width:100%;\"></div>            <script type=\"text/javascript\">                                    window.PLOTLYENV=window.PLOTLYENV || {};                                    if (document.getElementById(\"e63d29f4-f9c8-412f-adf9-524f27fcf6a3\")) {                    Plotly.newPlot(                        \"e63d29f4-f9c8-412f-adf9-524f27fcf6a3\",                        [{\"alignmentgroup\":\"True\",\"hovertemplate\":\"Farm_name=%{x}<br>avg(Total_Cup_Points)=%{y}<extra></extra>\",\"legendgroup\":\"\",\"marker\":{\"color\":\"#636efa\",\"pattern\":{\"shape\":\"\"}},\"name\":\"\",\"offsetgroup\":\"\",\"orientation\":\"v\",\"showlegend\":false,\"textposition\":\"auto\",\"x\":[\"s\\u00e3o rafael_ ra/ras certified\",\"santa maria\",\"leticia farm\",\"castelhana farm\",\"fazenda s\\u00e3o jos\\u00e9 mirante\",\"fazenda s\\u00e3o sebasti\\u00e3o\",\"juliana\",\"fazenda sacramento\",\"fazenda rio brilhante\",\"cachoeira da grama farm\",\"sertao\",\"sertao farm\",\"fazendas klem ltda\",\"cianorte\",\"helena\",\"sit\\u00edo corrego da olaria/s\\u00e3o caetano\",\"santa b\\u00e1rbara\",\"santa mariana/s\\u00e3o vicente\",\"s\\u00e3o jos\\u00e9 da lagoa\",\"rio verde\",\"caxambu\",\"fazenda s\\u00e3o pedro\",\"caf\\u00e9 citrus\",\"sit\\u00edo santa luzia\",\"santa mariana\",\"fazenda serra negra\",\"fazenda capoeirnha\",\"fazenda chamusca\",\"campo das flores\",\"santa f\\u00e9 2\",\"capoeirinha\",\"fazenda pantano\",\"fazenda santo antonio\",\"caf\\u00e9 do para\\u00edso\",\"fazenda do sertao\",\"fazenda do lobo\",\"olhos d'agua\",\"s\\u00e3o francisco da serra\",\"fazenda rio verde\",\"\\u00e1gua limpa\",\"fazenda jeric\\u00f3\",\"pereira estate coffee\",\"pantano\",\"fazenda baipendi\",\"santa alina\",\"fazenda vista alegre\",\"sitio claro\",\"fazenda grota funda\",\"sit\\u00edo s\\u00e3o geraldo\",\"fazenda serra de tr\\u00eas barras\",\"fazenda recreio\",\"fazenda kaquend\"],\"xaxis\":\"x\",\"y\":[80.25,80.545,80.58,80.75,81.08,81.17,81.17,81.33,81.42,81.48,81.5,81.77,81.78999999999999,81.83,81.83,81.92,81.92,82.0,82.0,82.18391304347826,82.25,82.33,82.33,82.33,82.42,82.42,82.52,82.58,82.58500000000001,82.83,82.892,82.92,83.0,83.08500000000001,83.16499999999999,83.17,83.17,83.17,83.1875,83.25,83.58,83.58500000000001,84.17,84.33,84.33,84.58,84.92,84.92,85.0,85.42,85.5,86.5],\"yaxis\":\"y\",\"type\":\"bar\"}],                        {\"template\":{\"data\":{\"bar\":[{\"error_x\":{\"color\":\"#2a3f5f\"},\"error_y\":{\"color\":\"#2a3f5f\"},\"marker\":{\"line\":{\"color\":\"#E5ECF6\",\"width\":0.5},\"pattern\":{\"fillmode\":\"overlay\",\"size\":10,\"solidity\":0.2}},\"type\":\"bar\"}],\"barpolar\":[{\"marker\":{\"line\":{\"color\":\"#E5ECF6\",\"width\":0.5},\"pattern\":{\"fillmode\":\"overlay\",\"size\":10,\"solidity\":0.2}},\"type\":\"barpolar\"}],\"carpet\":[{\"aaxis\":{\"endlinecolor\":\"#2a3f5f\",\"gridcolor\":\"white\",\"linecolor\":\"white\",\"minorgridcolor\":\"white\",\"startlinecolor\":\"#2a3f5f\"},\"baxis\":{\"endlinecolor\":\"#2a3f5f\",\"gridcolor\":\"white\",\"linecolor\":\"white\",\"minorgridcolor\":\"white\",\"startlinecolor\":\"#2a3f5f\"},\"type\":\"carpet\"}],\"choropleth\":[{\"colorbar\":{\"outlinewidth\":0,\"ticks\":\"\"},\"type\":\"choropleth\"}],\"contour\":[{\"colorbar\":{\"outlinewidth\":0,\"ticks\":\"\"},\"colorscale\":[[0.0,\"#0d0887\"],[0.1111111111111111,\"#46039f\"],[0.2222222222222222,\"#7201a8\"],[0.3333333333333333,\"#9c179e\"],[0.4444444444444444,\"#bd3786\"],[0.5555555555555556,\"#d8576b\"],[0.6666666666666666,\"#ed7953\"],[0.7777777777777778,\"#fb9f3a\"],[0.8888888888888888,\"#fdca26\"],[1.0,\"#f0f921\"]],\"type\":\"contour\"}],\"contourcarpet\":[{\"colorbar\":{\"outlinewidth\":0,\"ticks\":\"\"},\"type\":\"contourcarpet\"}],\"heatmap\":[{\"colorbar\":{\"outlinewidth\":0,\"ticks\":\"\"},\"colorscale\":[[0.0,\"#0d0887\"],[0.1111111111111111,\"#46039f\"],[0.2222222222222222,\"#7201a8\"],[0.3333333333333333,\"#9c179e\"],[0.4444444444444444,\"#bd3786\"],[0.5555555555555556,\"#d8576b\"],[0.6666666666666666,\"#ed7953\"],[0.7777777777777778,\"#fb9f3a\"],[0.8888888888888888,\"#fdca26\"],[1.0,\"#f0f921\"]],\"type\":\"heatmap\"}],\"heatmapgl\":[{\"colorbar\":{\"outlinewidth\":0,\"ticks\":\"\"},\"colorscale\":[[0.0,\"#0d0887\"],[0.1111111111111111,\"#46039f\"],[0.2222222222222222,\"#7201a8\"],[0.3333333333333333,\"#9c179e\"],[0.4444444444444444,\"#bd3786\"],[0.5555555555555556,\"#d8576b\"],[0.6666666666666666,\"#ed7953\"],[0.7777777777777778,\"#fb9f3a\"],[0.8888888888888888,\"#fdca26\"],[1.0,\"#f0f921\"]],\"type\":\"heatmapgl\"}],\"histogram\":[{\"marker\":{\"pattern\":{\"fillmode\":\"overlay\",\"size\":10,\"solidity\":0.2}},\"type\":\"histogram\"}],\"histogram2d\":[{\"colorbar\":{\"outlinewidth\":0,\"ticks\":\"\"},\"colorscale\":[[0.0,\"#0d0887\"],[0.1111111111111111,\"#46039f\"],[0.2222222222222222,\"#7201a8\"],[0.3333333333333333,\"#9c179e\"],[0.4444444444444444,\"#bd3786\"],[0.5555555555555556,\"#d8576b\"],[0.6666666666666666,\"#ed7953\"],[0.7777777777777778,\"#fb9f3a\"],[0.8888888888888888,\"#fdca26\"],[1.0,\"#f0f921\"]],\"type\":\"histogram2d\"}],\"histogram2dcontour\":[{\"colorbar\":{\"outlinewidth\":0,\"ticks\":\"\"},\"colorscale\":[[0.0,\"#0d0887\"],[0.1111111111111111,\"#46039f\"],[0.2222222222222222,\"#7201a8\"],[0.3333333333333333,\"#9c179e\"],[0.4444444444444444,\"#bd3786\"],[0.5555555555555556,\"#d8576b\"],[0.6666666666666666,\"#ed7953\"],[0.7777777777777778,\"#fb9f3a\"],[0.8888888888888888,\"#fdca26\"],[1.0,\"#f0f921\"]],\"type\":\"histogram2dcontour\"}],\"mesh3d\":[{\"colorbar\":{\"outlinewidth\":0,\"ticks\":\"\"},\"type\":\"mesh3d\"}],\"parcoords\":[{\"line\":{\"colorbar\":{\"outlinewidth\":0,\"ticks\":\"\"}},\"type\":\"parcoords\"}],\"pie\":[{\"automargin\":true,\"type\":\"pie\"}],\"scatter\":[{\"marker\":{\"colorbar\":{\"outlinewidth\":0,\"ticks\":\"\"}},\"type\":\"scatter\"}],\"scatter3d\":[{\"line\":{\"colorbar\":{\"outlinewidth\":0,\"ticks\":\"\"}},\"marker\":{\"colorbar\":{\"outlinewidth\":0,\"ticks\":\"\"}},\"type\":\"scatter3d\"}],\"scattercarpet\":[{\"marker\":{\"colorbar\":{\"outlinewidth\":0,\"ticks\":\"\"}},\"type\":\"scattercarpet\"}],\"scattergeo\":[{\"marker\":{\"colorbar\":{\"outlinewidth\":0,\"ticks\":\"\"}},\"type\":\"scattergeo\"}],\"scattergl\":[{\"marker\":{\"colorbar\":{\"outlinewidth\":0,\"ticks\":\"\"}},\"type\":\"scattergl\"}],\"scattermapbox\":[{\"marker\":{\"colorbar\":{\"outlinewidth\":0,\"ticks\":\"\"}},\"type\":\"scattermapbox\"}],\"scatterpolar\":[{\"marker\":{\"colorbar\":{\"outlinewidth\":0,\"ticks\":\"\"}},\"type\":\"scatterpolar\"}],\"scatterpolargl\":[{\"marker\":{\"colorbar\":{\"outlinewidth\":0,\"ticks\":\"\"}},\"type\":\"scatterpolargl\"}],\"scatterternary\":[{\"marker\":{\"colorbar\":{\"outlinewidth\":0,\"ticks\":\"\"}},\"type\":\"scatterternary\"}],\"surface\":[{\"colorbar\":{\"outlinewidth\":0,\"ticks\":\"\"},\"colorscale\":[[0.0,\"#0d0887\"],[0.1111111111111111,\"#46039f\"],[0.2222222222222222,\"#7201a8\"],[0.3333333333333333,\"#9c179e\"],[0.4444444444444444,\"#bd3786\"],[0.5555555555555556,\"#d8576b\"],[0.6666666666666666,\"#ed7953\"],[0.7777777777777778,\"#fb9f3a\"],[0.8888888888888888,\"#fdca26\"],[1.0,\"#f0f921\"]],\"type\":\"surface\"}],\"table\":[{\"cells\":{\"fill\":{\"color\":\"#EBF0F8\"},\"line\":{\"color\":\"white\"}},\"header\":{\"fill\":{\"color\":\"#C8D4E3\"},\"line\":{\"color\":\"white\"}},\"type\":\"table\"}]},\"layout\":{\"annotationdefaults\":{\"arrowcolor\":\"#2a3f5f\",\"arrowhead\":0,\"arrowwidth\":1},\"autotypenumbers\":\"strict\",\"coloraxis\":{\"colorbar\":{\"outlinewidth\":0,\"ticks\":\"\"}},\"colorscale\":{\"diverging\":[[0,\"#8e0152\"],[0.1,\"#c51b7d\"],[0.2,\"#de77ae\"],[0.3,\"#f1b6da\"],[0.4,\"#fde0ef\"],[0.5,\"#f7f7f7\"],[0.6,\"#e6f5d0\"],[0.7,\"#b8e186\"],[0.8,\"#7fbc41\"],[0.9,\"#4d9221\"],[1,\"#276419\"]],\"sequential\":[[0.0,\"#0d0887\"],[0.1111111111111111,\"#46039f\"],[0.2222222222222222,\"#7201a8\"],[0.3333333333333333,\"#9c179e\"],[0.4444444444444444,\"#bd3786\"],[0.5555555555555556,\"#d8576b\"],[0.6666666666666666,\"#ed7953\"],[0.7777777777777778,\"#fb9f3a\"],[0.8888888888888888,\"#fdca26\"],[1.0,\"#f0f921\"]],\"sequentialminus\":[[0.0,\"#0d0887\"],[0.1111111111111111,\"#46039f\"],[0.2222222222222222,\"#7201a8\"],[0.3333333333333333,\"#9c179e\"],[0.4444444444444444,\"#bd3786\"],[0.5555555555555556,\"#d8576b\"],[0.6666666666666666,\"#ed7953\"],[0.7777777777777778,\"#fb9f3a\"],[0.8888888888888888,\"#fdca26\"],[1.0,\"#f0f921\"]]},\"colorway\":[\"#636efa\",\"#EF553B\",\"#00cc96\",\"#ab63fa\",\"#FFA15A\",\"#19d3f3\",\"#FF6692\",\"#B6E880\",\"#FF97FF\",\"#FECB52\"],\"font\":{\"color\":\"#2a3f5f\"},\"geo\":{\"bgcolor\":\"white\",\"lakecolor\":\"white\",\"landcolor\":\"#E5ECF6\",\"showlakes\":true,\"showland\":true,\"subunitcolor\":\"white\"},\"hoverlabel\":{\"align\":\"left\"},\"hovermode\":\"closest\",\"mapbox\":{\"style\":\"light\"},\"paper_bgcolor\":\"white\",\"plot_bgcolor\":\"#E5ECF6\",\"polar\":{\"angularaxis\":{\"gridcolor\":\"white\",\"linecolor\":\"white\",\"ticks\":\"\"},\"bgcolor\":\"#E5ECF6\",\"radialaxis\":{\"gridcolor\":\"white\",\"linecolor\":\"white\",\"ticks\":\"\"}},\"scene\":{\"xaxis\":{\"backgroundcolor\":\"#E5ECF6\",\"gridcolor\":\"white\",\"gridwidth\":2,\"linecolor\":\"white\",\"showbackground\":true,\"ticks\":\"\",\"zerolinecolor\":\"white\"},\"yaxis\":{\"backgroundcolor\":\"#E5ECF6\",\"gridcolor\":\"white\",\"gridwidth\":2,\"linecolor\":\"white\",\"showbackground\":true,\"ticks\":\"\",\"zerolinecolor\":\"white\"},\"zaxis\":{\"backgroundcolor\":\"#E5ECF6\",\"gridcolor\":\"white\",\"gridwidth\":2,\"linecolor\":\"white\",\"showbackground\":true,\"ticks\":\"\",\"zerolinecolor\":\"white\"}},\"shapedefaults\":{\"line\":{\"color\":\"#2a3f5f\"}},\"ternary\":{\"aaxis\":{\"gridcolor\":\"white\",\"linecolor\":\"white\",\"ticks\":\"\"},\"baxis\":{\"gridcolor\":\"white\",\"linecolor\":\"white\",\"ticks\":\"\"},\"bgcolor\":\"#E5ECF6\",\"caxis\":{\"gridcolor\":\"white\",\"linecolor\":\"white\",\"ticks\":\"\"}},\"title\":{\"x\":0.05},\"xaxis\":{\"automargin\":true,\"gridcolor\":\"white\",\"linecolor\":\"white\",\"ticks\":\"\",\"title\":{\"standoff\":15},\"zerolinecolor\":\"white\",\"zerolinewidth\":2},\"yaxis\":{\"automargin\":true,\"gridcolor\":\"white\",\"linecolor\":\"white\",\"ticks\":\"\",\"title\":{\"standoff\":15},\"zerolinecolor\":\"white\",\"zerolinewidth\":2}}},\"xaxis\":{\"anchor\":\"y\",\"domain\":[0.0,1.0],\"title\":{\"text\":\"Farm_name\"}},\"yaxis\":{\"anchor\":\"x\",\"domain\":[0.0,1.0],\"title\":{\"text\":\"avg(Total_Cup_Points)\"}},\"legend\":{\"tracegroupgap\":0},\"margin\":{\"t\":60},\"barmode\":\"relative\"},                        {\"responsive\": true}                    ).then(function(){\n",
              "                            \n",
              "var gd = document.getElementById('e63d29f4-f9c8-412f-adf9-524f27fcf6a3');\n",
              "var x = new MutationObserver(function (mutations, observer) {{\n",
              "        var display = window.getComputedStyle(gd).display;\n",
              "        if (!display || display === 'none') {{\n",
              "            console.log([gd, 'removed!']);\n",
              "            Plotly.purge(gd);\n",
              "            observer.disconnect();\n",
              "        }}\n",
              "}});\n",
              "\n",
              "// Listen for the removal of the full notebook cells\n",
              "var notebookContainer = gd.closest('#notebook-container');\n",
              "if (notebookContainer) {{\n",
              "    x.observe(notebookContainer, {childList: true});\n",
              "}}\n",
              "\n",
              "// Listen for the clearing of the current output cell\n",
              "var outputEl = gd.closest('.output');\n",
              "if (outputEl) {{\n",
              "    x.observe(outputEl, {childList: true});\n",
              "}}\n",
              "\n",
              "                        })                };                            </script>        </div>\n",
              "</body>\n",
              "</html>"
            ]
          },
          "metadata": {}
        }
      ]
    },
    {
      "cell_type": "markdown",
      "source": [
        "#### Once again the plot is uninteresting, we can try to scale Total_Cup_Points to see more clearly (and with it let's do it on the tastes column since they suffer the same problem)"
      ],
      "metadata": {
        "id": "2_p6cn1BoM3y"
      }
    },
    {
      "cell_type": "markdown",
      "source": [
        "## Normalizing"
      ],
      "metadata": {
        "id": "I0paRqsloYsG"
      }
    },
    {
      "cell_type": "code",
      "source": [
        "from pyspark.ml.feature import MinMaxScaler\n",
        "from pyspark.ml import Pipeline\n",
        "from pyspark.sql.functions import udf"
      ],
      "metadata": {
        "id": "eFnnRJcooas7"
      },
      "execution_count": null,
      "outputs": []
    },
    {
      "cell_type": "code",
      "source": [
        "unlist = udf(lambda x: round(float(list(x)[0]),3), DoubleType())\n",
        "df_arabica_scaled = df_arabica\n",
        "\n",
        "for i in [\"Aroma\",\"Flavor\",\"Aftertaste\",\\\n",
        "                   \"Acidity\",\"Body\",\"Balance\",\"Total_Cup_Points\"]:\n",
        "    # VectorAssembler Transformation - Converting column to vector type\n",
        "    assembler = VectorAssembler(inputCols=[i],outputCol=i+\"_Vect\")\n",
        "\n",
        "    # MinMaxScaler Transformation\n",
        "    scaler = MinMaxScaler(inputCol=i+\"_Vect\", outputCol=i+\"_Scaled\")\n",
        "\n",
        "    # Pipeline of VectorAssembler and MinMaxScaler\n",
        "    pipeline = Pipeline(stages=[assembler, scaler])\n",
        "\n",
        "    # Fitting pipeline on dataframe\n",
        "    df_arabica_scaled = pipeline.fit(df_arabica_scaled).transform(df_arabica_scaled).withColumn(i+\"_Scaled\", unlist(i+\"_Scaled\")).drop(i+\"_Vect\")\n",
        "\n",
        "print(\"After Scaling :\")\n",
        "df_arabica_scaled.show(5)"
      ],
      "metadata": {
        "colab": {
          "base_uri": "https://localhost:8080/"
        },
        "id": "6jyses5EoLxk",
        "outputId": "658f15f7-886a-4729-e6f8-7e9a9143ac0c"
      },
      "execution_count": null,
      "outputs": [
        {
          "output_type": "stream",
          "name": "stdout",
          "text": [
            "After Scaling :\n",
            "+--------------------+--------+--------------+-----+------+----------+-------+----+-------+----------+---------+---------+----------------+-------------------+-------------------+------------+-------------+-----------------+--------------+-----------+--------------+-----------------------+\n",
            "|           Farm_name|Altitude|       Variety|Aroma|Flavor|Aftertaste|Acidity|Body|Balance|Uniformity|Clean_Cup|Sweetness|Total_Cup_Points|               long|                lat|Aroma_Scaled|Flavor_Scaled|Aftertaste_Scaled|Acidity_Scaled|Body_Scaled|Balance_Scaled|Total_Cup_Points_Scaled|\n",
            "+--------------------+--------+--------------+-----+------+----------+-------+----+-------+----------+---------+---------+----------------+-------------------+-------------------+------------+-------------+-----------------+--------------+-----------+--------------+-----------------------+\n",
            "|fazenda são sebas...|   1000m|    Mundo Novo| 7.42|  7.33|      7.25|   7.42| 7.5|   7.17|      10.0|     10.0|     10.0|           81.17|-21.444863288363614|-46.827235570452125|       0.353|         0.22|            0.359|         0.355|      0.447|         0.254|                    0.4|\n",
            "|       santa bárbara|    1020|        Catuai| 7.42|  7.33|      7.33|    7.5| 7.5|   7.33|      10.0|     10.0|     10.0|           81.92| -18.52732198399872|-47.569893903127564|       0.353|         0.22|            0.427|         0.411|      0.447|         0.373|                  0.479|\n",
            "|   fazenda rio verde|    1260|Yellow Bourbon| 7.58|  7.83|      7.67|   7.25| 8.0|   7.75|      10.0|     10.0|     10.0|            84.0|-21.877600079894428| -45.17833587173798|       0.449|        0.553|            0.718|         0.234|       0.78|         0.687|                  0.696|\n",
            "|   fazenda rio verde|    1260|Yellow Bourbon| 7.92|   7.5|      7.33|   7.67|8.17|    7.5|      10.0|     10.0|     10.0|           83.83|-21.877600079894428| -45.17833587173798|       0.653|        0.333|            0.427|         0.532|      0.893|           0.5|                  0.678|\n",
            "|   fazenda rio verde|    1260|Yellow Bourbon| 7.42|   7.5|      7.67|   7.33|7.42|   7.67|      10.0|     10.0|     10.0|            82.5|-21.877600079894428| -45.17833587173798|       0.353|        0.333|            0.718|         0.291|      0.393|         0.627|                  0.539|\n",
            "+--------------------+--------+--------------+-----+------+----------+-------+----+-------+----------+---------+---------+----------------+-------------------+-------------------+------------+-------------+-----------------+--------------+-----------+--------------+-----------------------+\n",
            "only showing top 5 rows\n",
            "\n"
          ]
        }
      ]
    },
    {
      "cell_type": "markdown",
      "source": [
        "source : https://stackoverflow.com/questions/40337744/scalenormalise-a-column-in-spark-dataframe-pyspark"
      ],
      "metadata": {
        "id": "QrPiRf-nqVMh"
      }
    },
    {
      "cell_type": "markdown",
      "source": [
        "# Back to Exploration"
      ],
      "metadata": {
        "id": "rVBT1T4vsNub"
      }
    },
    {
      "cell_type": "markdown",
      "source": [
        "## Let's try again the previous plots"
      ],
      "metadata": {
        "id": "Gb_aMJwxsZsr"
      }
    },
    {
      "cell_type": "markdown",
      "source": [
        "## Variety"
      ],
      "metadata": {
        "id": "-qD3fjJJspzq"
      }
    },
    {
      "cell_type": "code",
      "source": [
        "var = df_arabica_scaled.groupBy(\"Variety\").mean(\"Total_Cup_Points_Scaled\")\n",
        "px.bar(var.toPandas(), x='Variety', y='avg(Total_Cup_Points_Scaled)')"
      ],
      "metadata": {
        "colab": {
          "base_uri": "https://localhost:8080/",
          "height": 542
        },
        "id": "tb6jmXElsePZ",
        "outputId": "850caf9a-a645-4fbe-edf2-8d0300446996"
      },
      "execution_count": null,
      "outputs": [
        {
          "output_type": "display_data",
          "data": {
            "text/html": [
              "<html>\n",
              "<head><meta charset=\"utf-8\" /></head>\n",
              "<body>\n",
              "    <div>            <script src=\"https://cdnjs.cloudflare.com/ajax/libs/mathjax/2.7.5/MathJax.js?config=TeX-AMS-MML_SVG\"></script><script type=\"text/javascript\">if (window.MathJax) {MathJax.Hub.Config({SVG: {font: \"STIX-Web\"}});}</script>                <script type=\"text/javascript\">window.PlotlyConfig = {MathJaxConfig: 'local'};</script>\n",
              "        <script src=\"https://cdn.plot.ly/plotly-2.8.3.min.js\"></script>                <div id=\"bfaa0962-a6d7-4214-a48a-4d1382d6294f\" class=\"plotly-graph-div\" style=\"height:525px; width:100%;\"></div>            <script type=\"text/javascript\">                                    window.PLOTLYENV=window.PLOTLYENV || {};                                    if (document.getElementById(\"bfaa0962-a6d7-4214-a48a-4d1382d6294f\")) {                    Plotly.newPlot(                        \"bfaa0962-a6d7-4214-a48a-4d1382d6294f\",                        [{\"alignmentgroup\":\"True\",\"hovertemplate\":\"Variety=%{x}<br>avg(Total_Cup_Points_Scaled)=%{y}<extra></extra>\",\"legendgroup\":\"\",\"marker\":{\"color\":\"#636efa\",\"pattern\":{\"shape\":\"\"}},\"name\":\"\",\"offsetgroup\":\"\",\"orientation\":\"v\",\"showlegend\":false,\"textposition\":\"auto\",\"x\":[\"Yellow Bourbon\",\"Mundo Novo\",\"Catuai\",\"Arusha\",\"Bourbon\",\"NaN\",\"Moka Peaberry\"],\"xaxis\":\"x\",\"y\":[0.5522187500000001,0.5373749999999999,0.5194210526315789,0.522,0.5766750000000003,0.50875,0.583],\"yaxis\":\"y\",\"type\":\"bar\"}],                        {\"template\":{\"data\":{\"bar\":[{\"error_x\":{\"color\":\"#2a3f5f\"},\"error_y\":{\"color\":\"#2a3f5f\"},\"marker\":{\"line\":{\"color\":\"#E5ECF6\",\"width\":0.5},\"pattern\":{\"fillmode\":\"overlay\",\"size\":10,\"solidity\":0.2}},\"type\":\"bar\"}],\"barpolar\":[{\"marker\":{\"line\":{\"color\":\"#E5ECF6\",\"width\":0.5},\"pattern\":{\"fillmode\":\"overlay\",\"size\":10,\"solidity\":0.2}},\"type\":\"barpolar\"}],\"carpet\":[{\"aaxis\":{\"endlinecolor\":\"#2a3f5f\",\"gridcolor\":\"white\",\"linecolor\":\"white\",\"minorgridcolor\":\"white\",\"startlinecolor\":\"#2a3f5f\"},\"baxis\":{\"endlinecolor\":\"#2a3f5f\",\"gridcolor\":\"white\",\"linecolor\":\"white\",\"minorgridcolor\":\"white\",\"startlinecolor\":\"#2a3f5f\"},\"type\":\"carpet\"}],\"choropleth\":[{\"colorbar\":{\"outlinewidth\":0,\"ticks\":\"\"},\"type\":\"choropleth\"}],\"contour\":[{\"colorbar\":{\"outlinewidth\":0,\"ticks\":\"\"},\"colorscale\":[[0.0,\"#0d0887\"],[0.1111111111111111,\"#46039f\"],[0.2222222222222222,\"#7201a8\"],[0.3333333333333333,\"#9c179e\"],[0.4444444444444444,\"#bd3786\"],[0.5555555555555556,\"#d8576b\"],[0.6666666666666666,\"#ed7953\"],[0.7777777777777778,\"#fb9f3a\"],[0.8888888888888888,\"#fdca26\"],[1.0,\"#f0f921\"]],\"type\":\"contour\"}],\"contourcarpet\":[{\"colorbar\":{\"outlinewidth\":0,\"ticks\":\"\"},\"type\":\"contourcarpet\"}],\"heatmap\":[{\"colorbar\":{\"outlinewidth\":0,\"ticks\":\"\"},\"colorscale\":[[0.0,\"#0d0887\"],[0.1111111111111111,\"#46039f\"],[0.2222222222222222,\"#7201a8\"],[0.3333333333333333,\"#9c179e\"],[0.4444444444444444,\"#bd3786\"],[0.5555555555555556,\"#d8576b\"],[0.6666666666666666,\"#ed7953\"],[0.7777777777777778,\"#fb9f3a\"],[0.8888888888888888,\"#fdca26\"],[1.0,\"#f0f921\"]],\"type\":\"heatmap\"}],\"heatmapgl\":[{\"colorbar\":{\"outlinewidth\":0,\"ticks\":\"\"},\"colorscale\":[[0.0,\"#0d0887\"],[0.1111111111111111,\"#46039f\"],[0.2222222222222222,\"#7201a8\"],[0.3333333333333333,\"#9c179e\"],[0.4444444444444444,\"#bd3786\"],[0.5555555555555556,\"#d8576b\"],[0.6666666666666666,\"#ed7953\"],[0.7777777777777778,\"#fb9f3a\"],[0.8888888888888888,\"#fdca26\"],[1.0,\"#f0f921\"]],\"type\":\"heatmapgl\"}],\"histogram\":[{\"marker\":{\"pattern\":{\"fillmode\":\"overlay\",\"size\":10,\"solidity\":0.2}},\"type\":\"histogram\"}],\"histogram2d\":[{\"colorbar\":{\"outlinewidth\":0,\"ticks\":\"\"},\"colorscale\":[[0.0,\"#0d0887\"],[0.1111111111111111,\"#46039f\"],[0.2222222222222222,\"#7201a8\"],[0.3333333333333333,\"#9c179e\"],[0.4444444444444444,\"#bd3786\"],[0.5555555555555556,\"#d8576b\"],[0.6666666666666666,\"#ed7953\"],[0.7777777777777778,\"#fb9f3a\"],[0.8888888888888888,\"#fdca26\"],[1.0,\"#f0f921\"]],\"type\":\"histogram2d\"}],\"histogram2dcontour\":[{\"colorbar\":{\"outlinewidth\":0,\"ticks\":\"\"},\"colorscale\":[[0.0,\"#0d0887\"],[0.1111111111111111,\"#46039f\"],[0.2222222222222222,\"#7201a8\"],[0.3333333333333333,\"#9c179e\"],[0.4444444444444444,\"#bd3786\"],[0.5555555555555556,\"#d8576b\"],[0.6666666666666666,\"#ed7953\"],[0.7777777777777778,\"#fb9f3a\"],[0.8888888888888888,\"#fdca26\"],[1.0,\"#f0f921\"]],\"type\":\"histogram2dcontour\"}],\"mesh3d\":[{\"colorbar\":{\"outlinewidth\":0,\"ticks\":\"\"},\"type\":\"mesh3d\"}],\"parcoords\":[{\"line\":{\"colorbar\":{\"outlinewidth\":0,\"ticks\":\"\"}},\"type\":\"parcoords\"}],\"pie\":[{\"automargin\":true,\"type\":\"pie\"}],\"scatter\":[{\"marker\":{\"colorbar\":{\"outlinewidth\":0,\"ticks\":\"\"}},\"type\":\"scatter\"}],\"scatter3d\":[{\"line\":{\"colorbar\":{\"outlinewidth\":0,\"ticks\":\"\"}},\"marker\":{\"colorbar\":{\"outlinewidth\":0,\"ticks\":\"\"}},\"type\":\"scatter3d\"}],\"scattercarpet\":[{\"marker\":{\"colorbar\":{\"outlinewidth\":0,\"ticks\":\"\"}},\"type\":\"scattercarpet\"}],\"scattergeo\":[{\"marker\":{\"colorbar\":{\"outlinewidth\":0,\"ticks\":\"\"}},\"type\":\"scattergeo\"}],\"scattergl\":[{\"marker\":{\"colorbar\":{\"outlinewidth\":0,\"ticks\":\"\"}},\"type\":\"scattergl\"}],\"scattermapbox\":[{\"marker\":{\"colorbar\":{\"outlinewidth\":0,\"ticks\":\"\"}},\"type\":\"scattermapbox\"}],\"scatterpolar\":[{\"marker\":{\"colorbar\":{\"outlinewidth\":0,\"ticks\":\"\"}},\"type\":\"scatterpolar\"}],\"scatterpolargl\":[{\"marker\":{\"colorbar\":{\"outlinewidth\":0,\"ticks\":\"\"}},\"type\":\"scatterpolargl\"}],\"scatterternary\":[{\"marker\":{\"colorbar\":{\"outlinewidth\":0,\"ticks\":\"\"}},\"type\":\"scatterternary\"}],\"surface\":[{\"colorbar\":{\"outlinewidth\":0,\"ticks\":\"\"},\"colorscale\":[[0.0,\"#0d0887\"],[0.1111111111111111,\"#46039f\"],[0.2222222222222222,\"#7201a8\"],[0.3333333333333333,\"#9c179e\"],[0.4444444444444444,\"#bd3786\"],[0.5555555555555556,\"#d8576b\"],[0.6666666666666666,\"#ed7953\"],[0.7777777777777778,\"#fb9f3a\"],[0.8888888888888888,\"#fdca26\"],[1.0,\"#f0f921\"]],\"type\":\"surface\"}],\"table\":[{\"cells\":{\"fill\":{\"color\":\"#EBF0F8\"},\"line\":{\"color\":\"white\"}},\"header\":{\"fill\":{\"color\":\"#C8D4E3\"},\"line\":{\"color\":\"white\"}},\"type\":\"table\"}]},\"layout\":{\"annotationdefaults\":{\"arrowcolor\":\"#2a3f5f\",\"arrowhead\":0,\"arrowwidth\":1},\"autotypenumbers\":\"strict\",\"coloraxis\":{\"colorbar\":{\"outlinewidth\":0,\"ticks\":\"\"}},\"colorscale\":{\"diverging\":[[0,\"#8e0152\"],[0.1,\"#c51b7d\"],[0.2,\"#de77ae\"],[0.3,\"#f1b6da\"],[0.4,\"#fde0ef\"],[0.5,\"#f7f7f7\"],[0.6,\"#e6f5d0\"],[0.7,\"#b8e186\"],[0.8,\"#7fbc41\"],[0.9,\"#4d9221\"],[1,\"#276419\"]],\"sequential\":[[0.0,\"#0d0887\"],[0.1111111111111111,\"#46039f\"],[0.2222222222222222,\"#7201a8\"],[0.3333333333333333,\"#9c179e\"],[0.4444444444444444,\"#bd3786\"],[0.5555555555555556,\"#d8576b\"],[0.6666666666666666,\"#ed7953\"],[0.7777777777777778,\"#fb9f3a\"],[0.8888888888888888,\"#fdca26\"],[1.0,\"#f0f921\"]],\"sequentialminus\":[[0.0,\"#0d0887\"],[0.1111111111111111,\"#46039f\"],[0.2222222222222222,\"#7201a8\"],[0.3333333333333333,\"#9c179e\"],[0.4444444444444444,\"#bd3786\"],[0.5555555555555556,\"#d8576b\"],[0.6666666666666666,\"#ed7953\"],[0.7777777777777778,\"#fb9f3a\"],[0.8888888888888888,\"#fdca26\"],[1.0,\"#f0f921\"]]},\"colorway\":[\"#636efa\",\"#EF553B\",\"#00cc96\",\"#ab63fa\",\"#FFA15A\",\"#19d3f3\",\"#FF6692\",\"#B6E880\",\"#FF97FF\",\"#FECB52\"],\"font\":{\"color\":\"#2a3f5f\"},\"geo\":{\"bgcolor\":\"white\",\"lakecolor\":\"white\",\"landcolor\":\"#E5ECF6\",\"showlakes\":true,\"showland\":true,\"subunitcolor\":\"white\"},\"hoverlabel\":{\"align\":\"left\"},\"hovermode\":\"closest\",\"mapbox\":{\"style\":\"light\"},\"paper_bgcolor\":\"white\",\"plot_bgcolor\":\"#E5ECF6\",\"polar\":{\"angularaxis\":{\"gridcolor\":\"white\",\"linecolor\":\"white\",\"ticks\":\"\"},\"bgcolor\":\"#E5ECF6\",\"radialaxis\":{\"gridcolor\":\"white\",\"linecolor\":\"white\",\"ticks\":\"\"}},\"scene\":{\"xaxis\":{\"backgroundcolor\":\"#E5ECF6\",\"gridcolor\":\"white\",\"gridwidth\":2,\"linecolor\":\"white\",\"showbackground\":true,\"ticks\":\"\",\"zerolinecolor\":\"white\"},\"yaxis\":{\"backgroundcolor\":\"#E5ECF6\",\"gridcolor\":\"white\",\"gridwidth\":2,\"linecolor\":\"white\",\"showbackground\":true,\"ticks\":\"\",\"zerolinecolor\":\"white\"},\"zaxis\":{\"backgroundcolor\":\"#E5ECF6\",\"gridcolor\":\"white\",\"gridwidth\":2,\"linecolor\":\"white\",\"showbackground\":true,\"ticks\":\"\",\"zerolinecolor\":\"white\"}},\"shapedefaults\":{\"line\":{\"color\":\"#2a3f5f\"}},\"ternary\":{\"aaxis\":{\"gridcolor\":\"white\",\"linecolor\":\"white\",\"ticks\":\"\"},\"baxis\":{\"gridcolor\":\"white\",\"linecolor\":\"white\",\"ticks\":\"\"},\"bgcolor\":\"#E5ECF6\",\"caxis\":{\"gridcolor\":\"white\",\"linecolor\":\"white\",\"ticks\":\"\"}},\"title\":{\"x\":0.05},\"xaxis\":{\"automargin\":true,\"gridcolor\":\"white\",\"linecolor\":\"white\",\"ticks\":\"\",\"title\":{\"standoff\":15},\"zerolinecolor\":\"white\",\"zerolinewidth\":2},\"yaxis\":{\"automargin\":true,\"gridcolor\":\"white\",\"linecolor\":\"white\",\"ticks\":\"\",\"title\":{\"standoff\":15},\"zerolinecolor\":\"white\",\"zerolinewidth\":2}}},\"xaxis\":{\"anchor\":\"y\",\"domain\":[0.0,1.0],\"title\":{\"text\":\"Variety\"}},\"yaxis\":{\"anchor\":\"x\",\"domain\":[0.0,1.0],\"title\":{\"text\":\"avg(Total_Cup_Points_Scaled)\"}},\"legend\":{\"tracegroupgap\":0},\"margin\":{\"t\":60},\"barmode\":\"relative\"},                        {\"responsive\": true}                    ).then(function(){\n",
              "                            \n",
              "var gd = document.getElementById('bfaa0962-a6d7-4214-a48a-4d1382d6294f');\n",
              "var x = new MutationObserver(function (mutations, observer) {{\n",
              "        var display = window.getComputedStyle(gd).display;\n",
              "        if (!display || display === 'none') {{\n",
              "            console.log([gd, 'removed!']);\n",
              "            Plotly.purge(gd);\n",
              "            observer.disconnect();\n",
              "        }}\n",
              "}});\n",
              "\n",
              "// Listen for the removal of the full notebook cells\n",
              "var notebookContainer = gd.closest('#notebook-container');\n",
              "if (notebookContainer) {{\n",
              "    x.observe(notebookContainer, {childList: true});\n",
              "}}\n",
              "\n",
              "// Listen for the clearing of the current output cell\n",
              "var outputEl = gd.closest('.output');\n",
              "if (outputEl) {{\n",
              "    x.observe(outputEl, {childList: true});\n",
              "}}\n",
              "\n",
              "                        })                };                            </script>        </div>\n",
              "</body>\n",
              "</html>"
            ]
          },
          "metadata": {}
        }
      ]
    },
    {
      "cell_type": "markdown",
      "source": [
        "Still not great"
      ],
      "metadata": {
        "id": "mAHj_A4ItRGm"
      }
    },
    {
      "cell_type": "markdown",
      "source": [
        "## Farms"
      ],
      "metadata": {
        "id": "KQ_GJ3HWsnqs"
      }
    },
    {
      "cell_type": "code",
      "source": [
        "farmr = df_arabica_scaled.groupBy(\"Farm_name\").mean(\"Total_Cup_Points_Scaled\")\n",
        "px.bar(farmr.toPandas().sort_values(by=['avg(Total_Cup_Points_Scaled)']), x='Farm_name', y='avg(Total_Cup_Points_Scaled)')"
      ],
      "metadata": {
        "colab": {
          "base_uri": "https://localhost:8080/",
          "height": 542
        },
        "id": "yK10qWfnshxv",
        "outputId": "0b9c3853-5429-4a3c-ffd3-147794628dfb"
      },
      "execution_count": null,
      "outputs": [
        {
          "output_type": "display_data",
          "data": {
            "text/html": [
              "<html>\n",
              "<head><meta charset=\"utf-8\" /></head>\n",
              "<body>\n",
              "    <div>            <script src=\"https://cdnjs.cloudflare.com/ajax/libs/mathjax/2.7.5/MathJax.js?config=TeX-AMS-MML_SVG\"></script><script type=\"text/javascript\">if (window.MathJax) {MathJax.Hub.Config({SVG: {font: \"STIX-Web\"}});}</script>                <script type=\"text/javascript\">window.PlotlyConfig = {MathJaxConfig: 'local'};</script>\n",
              "        <script src=\"https://cdn.plot.ly/plotly-2.8.3.min.js\"></script>                <div id=\"0a120b8f-4680-4d15-bfc7-35ce2ef81e97\" class=\"plotly-graph-div\" style=\"height:525px; width:100%;\"></div>            <script type=\"text/javascript\">                                    window.PLOTLYENV=window.PLOTLYENV || {};                                    if (document.getElementById(\"0a120b8f-4680-4d15-bfc7-35ce2ef81e97\")) {                    Plotly.newPlot(                        \"0a120b8f-4680-4d15-bfc7-35ce2ef81e97\",                        [{\"alignmentgroup\":\"True\",\"hovertemplate\":\"Farm_name=%{x}<br>avg(Total_Cup_Points_Scaled)=%{y}<extra></extra>\",\"legendgroup\":\"\",\"marker\":{\"color\":\"#636efa\",\"pattern\":{\"shape\":\"\"}},\"name\":\"\",\"offsetgroup\":\"\",\"orientation\":\"v\",\"showlegend\":false,\"textposition\":\"auto\",\"x\":[\"s\\u00e3o rafael_ ra/ras certified\",\"santa maria\",\"leticia farm\",\"castelhana farm\",\"fazenda s\\u00e3o jos\\u00e9 mirante\",\"fazenda s\\u00e3o sebasti\\u00e3o\",\"juliana\",\"fazenda sacramento\",\"fazenda rio brilhante\",\"cachoeira da grama farm\",\"sertao\",\"sertao farm\",\"fazendas klem ltda\",\"cianorte\",\"helena\",\"sit\\u00edo corrego da olaria/s\\u00e3o caetano\",\"santa b\\u00e1rbara\",\"santa mariana/s\\u00e3o vicente\",\"s\\u00e3o jos\\u00e9 da lagoa\",\"rio verde\",\"caxambu\",\"fazenda s\\u00e3o pedro\",\"caf\\u00e9 citrus\",\"sit\\u00edo santa luzia\",\"santa mariana\",\"fazenda serra negra\",\"fazenda capoeirnha\",\"fazenda chamusca\",\"campo das flores\",\"santa f\\u00e9 2\",\"capoeirinha\",\"fazenda pantano\",\"fazenda santo antonio\",\"caf\\u00e9 do para\\u00edso\",\"fazenda do sertao\",\"fazenda do lobo\",\"olhos d'agua\",\"s\\u00e3o francisco da serra\",\"fazenda rio verde\",\"\\u00e1gua limpa\",\"fazenda jeric\\u00f3\",\"pereira estate coffee\",\"pantano\",\"fazenda baipendi\",\"santa alina\",\"fazenda vista alegre\",\"sitio claro\",\"fazenda grota funda\",\"sit\\u00edo s\\u00e3o geraldo\",\"fazenda serra de tr\\u00eas barras\",\"fazenda recreio\",\"fazenda kaquend\"],\"xaxis\":\"x\",\"y\":[0.304,0.3355,0.339,0.357,0.391,0.4,0.4,0.417,0.426,0.433,0.435,0.46275,0.46499999999999997,0.469,0.469,0.479,0.479,0.487,0.487,0.5061739130434783,0.513,0.521,0.521,0.521,0.531,0.531,0.5411538461538462,0.547,0.548,0.574,0.58,0.583,0.591,0.6,0.6085,0.609,0.609,0.609,0.6110000000000001,0.617,0.652,0.6525,0.713,0.73,0.73,0.756,0.791,0.791,0.8,0.844,0.852,0.956],\"yaxis\":\"y\",\"type\":\"bar\"}],                        {\"template\":{\"data\":{\"bar\":[{\"error_x\":{\"color\":\"#2a3f5f\"},\"error_y\":{\"color\":\"#2a3f5f\"},\"marker\":{\"line\":{\"color\":\"#E5ECF6\",\"width\":0.5},\"pattern\":{\"fillmode\":\"overlay\",\"size\":10,\"solidity\":0.2}},\"type\":\"bar\"}],\"barpolar\":[{\"marker\":{\"line\":{\"color\":\"#E5ECF6\",\"width\":0.5},\"pattern\":{\"fillmode\":\"overlay\",\"size\":10,\"solidity\":0.2}},\"type\":\"barpolar\"}],\"carpet\":[{\"aaxis\":{\"endlinecolor\":\"#2a3f5f\",\"gridcolor\":\"white\",\"linecolor\":\"white\",\"minorgridcolor\":\"white\",\"startlinecolor\":\"#2a3f5f\"},\"baxis\":{\"endlinecolor\":\"#2a3f5f\",\"gridcolor\":\"white\",\"linecolor\":\"white\",\"minorgridcolor\":\"white\",\"startlinecolor\":\"#2a3f5f\"},\"type\":\"carpet\"}],\"choropleth\":[{\"colorbar\":{\"outlinewidth\":0,\"ticks\":\"\"},\"type\":\"choropleth\"}],\"contour\":[{\"colorbar\":{\"outlinewidth\":0,\"ticks\":\"\"},\"colorscale\":[[0.0,\"#0d0887\"],[0.1111111111111111,\"#46039f\"],[0.2222222222222222,\"#7201a8\"],[0.3333333333333333,\"#9c179e\"],[0.4444444444444444,\"#bd3786\"],[0.5555555555555556,\"#d8576b\"],[0.6666666666666666,\"#ed7953\"],[0.7777777777777778,\"#fb9f3a\"],[0.8888888888888888,\"#fdca26\"],[1.0,\"#f0f921\"]],\"type\":\"contour\"}],\"contourcarpet\":[{\"colorbar\":{\"outlinewidth\":0,\"ticks\":\"\"},\"type\":\"contourcarpet\"}],\"heatmap\":[{\"colorbar\":{\"outlinewidth\":0,\"ticks\":\"\"},\"colorscale\":[[0.0,\"#0d0887\"],[0.1111111111111111,\"#46039f\"],[0.2222222222222222,\"#7201a8\"],[0.3333333333333333,\"#9c179e\"],[0.4444444444444444,\"#bd3786\"],[0.5555555555555556,\"#d8576b\"],[0.6666666666666666,\"#ed7953\"],[0.7777777777777778,\"#fb9f3a\"],[0.8888888888888888,\"#fdca26\"],[1.0,\"#f0f921\"]],\"type\":\"heatmap\"}],\"heatmapgl\":[{\"colorbar\":{\"outlinewidth\":0,\"ticks\":\"\"},\"colorscale\":[[0.0,\"#0d0887\"],[0.1111111111111111,\"#46039f\"],[0.2222222222222222,\"#7201a8\"],[0.3333333333333333,\"#9c179e\"],[0.4444444444444444,\"#bd3786\"],[0.5555555555555556,\"#d8576b\"],[0.6666666666666666,\"#ed7953\"],[0.7777777777777778,\"#fb9f3a\"],[0.8888888888888888,\"#fdca26\"],[1.0,\"#f0f921\"]],\"type\":\"heatmapgl\"}],\"histogram\":[{\"marker\":{\"pattern\":{\"fillmode\":\"overlay\",\"size\":10,\"solidity\":0.2}},\"type\":\"histogram\"}],\"histogram2d\":[{\"colorbar\":{\"outlinewidth\":0,\"ticks\":\"\"},\"colorscale\":[[0.0,\"#0d0887\"],[0.1111111111111111,\"#46039f\"],[0.2222222222222222,\"#7201a8\"],[0.3333333333333333,\"#9c179e\"],[0.4444444444444444,\"#bd3786\"],[0.5555555555555556,\"#d8576b\"],[0.6666666666666666,\"#ed7953\"],[0.7777777777777778,\"#fb9f3a\"],[0.8888888888888888,\"#fdca26\"],[1.0,\"#f0f921\"]],\"type\":\"histogram2d\"}],\"histogram2dcontour\":[{\"colorbar\":{\"outlinewidth\":0,\"ticks\":\"\"},\"colorscale\":[[0.0,\"#0d0887\"],[0.1111111111111111,\"#46039f\"],[0.2222222222222222,\"#7201a8\"],[0.3333333333333333,\"#9c179e\"],[0.4444444444444444,\"#bd3786\"],[0.5555555555555556,\"#d8576b\"],[0.6666666666666666,\"#ed7953\"],[0.7777777777777778,\"#fb9f3a\"],[0.8888888888888888,\"#fdca26\"],[1.0,\"#f0f921\"]],\"type\":\"histogram2dcontour\"}],\"mesh3d\":[{\"colorbar\":{\"outlinewidth\":0,\"ticks\":\"\"},\"type\":\"mesh3d\"}],\"parcoords\":[{\"line\":{\"colorbar\":{\"outlinewidth\":0,\"ticks\":\"\"}},\"type\":\"parcoords\"}],\"pie\":[{\"automargin\":true,\"type\":\"pie\"}],\"scatter\":[{\"marker\":{\"colorbar\":{\"outlinewidth\":0,\"ticks\":\"\"}},\"type\":\"scatter\"}],\"scatter3d\":[{\"line\":{\"colorbar\":{\"outlinewidth\":0,\"ticks\":\"\"}},\"marker\":{\"colorbar\":{\"outlinewidth\":0,\"ticks\":\"\"}},\"type\":\"scatter3d\"}],\"scattercarpet\":[{\"marker\":{\"colorbar\":{\"outlinewidth\":0,\"ticks\":\"\"}},\"type\":\"scattercarpet\"}],\"scattergeo\":[{\"marker\":{\"colorbar\":{\"outlinewidth\":0,\"ticks\":\"\"}},\"type\":\"scattergeo\"}],\"scattergl\":[{\"marker\":{\"colorbar\":{\"outlinewidth\":0,\"ticks\":\"\"}},\"type\":\"scattergl\"}],\"scattermapbox\":[{\"marker\":{\"colorbar\":{\"outlinewidth\":0,\"ticks\":\"\"}},\"type\":\"scattermapbox\"}],\"scatterpolar\":[{\"marker\":{\"colorbar\":{\"outlinewidth\":0,\"ticks\":\"\"}},\"type\":\"scatterpolar\"}],\"scatterpolargl\":[{\"marker\":{\"colorbar\":{\"outlinewidth\":0,\"ticks\":\"\"}},\"type\":\"scatterpolargl\"}],\"scatterternary\":[{\"marker\":{\"colorbar\":{\"outlinewidth\":0,\"ticks\":\"\"}},\"type\":\"scatterternary\"}],\"surface\":[{\"colorbar\":{\"outlinewidth\":0,\"ticks\":\"\"},\"colorscale\":[[0.0,\"#0d0887\"],[0.1111111111111111,\"#46039f\"],[0.2222222222222222,\"#7201a8\"],[0.3333333333333333,\"#9c179e\"],[0.4444444444444444,\"#bd3786\"],[0.5555555555555556,\"#d8576b\"],[0.6666666666666666,\"#ed7953\"],[0.7777777777777778,\"#fb9f3a\"],[0.8888888888888888,\"#fdca26\"],[1.0,\"#f0f921\"]],\"type\":\"surface\"}],\"table\":[{\"cells\":{\"fill\":{\"color\":\"#EBF0F8\"},\"line\":{\"color\":\"white\"}},\"header\":{\"fill\":{\"color\":\"#C8D4E3\"},\"line\":{\"color\":\"white\"}},\"type\":\"table\"}]},\"layout\":{\"annotationdefaults\":{\"arrowcolor\":\"#2a3f5f\",\"arrowhead\":0,\"arrowwidth\":1},\"autotypenumbers\":\"strict\",\"coloraxis\":{\"colorbar\":{\"outlinewidth\":0,\"ticks\":\"\"}},\"colorscale\":{\"diverging\":[[0,\"#8e0152\"],[0.1,\"#c51b7d\"],[0.2,\"#de77ae\"],[0.3,\"#f1b6da\"],[0.4,\"#fde0ef\"],[0.5,\"#f7f7f7\"],[0.6,\"#e6f5d0\"],[0.7,\"#b8e186\"],[0.8,\"#7fbc41\"],[0.9,\"#4d9221\"],[1,\"#276419\"]],\"sequential\":[[0.0,\"#0d0887\"],[0.1111111111111111,\"#46039f\"],[0.2222222222222222,\"#7201a8\"],[0.3333333333333333,\"#9c179e\"],[0.4444444444444444,\"#bd3786\"],[0.5555555555555556,\"#d8576b\"],[0.6666666666666666,\"#ed7953\"],[0.7777777777777778,\"#fb9f3a\"],[0.8888888888888888,\"#fdca26\"],[1.0,\"#f0f921\"]],\"sequentialminus\":[[0.0,\"#0d0887\"],[0.1111111111111111,\"#46039f\"],[0.2222222222222222,\"#7201a8\"],[0.3333333333333333,\"#9c179e\"],[0.4444444444444444,\"#bd3786\"],[0.5555555555555556,\"#d8576b\"],[0.6666666666666666,\"#ed7953\"],[0.7777777777777778,\"#fb9f3a\"],[0.8888888888888888,\"#fdca26\"],[1.0,\"#f0f921\"]]},\"colorway\":[\"#636efa\",\"#EF553B\",\"#00cc96\",\"#ab63fa\",\"#FFA15A\",\"#19d3f3\",\"#FF6692\",\"#B6E880\",\"#FF97FF\",\"#FECB52\"],\"font\":{\"color\":\"#2a3f5f\"},\"geo\":{\"bgcolor\":\"white\",\"lakecolor\":\"white\",\"landcolor\":\"#E5ECF6\",\"showlakes\":true,\"showland\":true,\"subunitcolor\":\"white\"},\"hoverlabel\":{\"align\":\"left\"},\"hovermode\":\"closest\",\"mapbox\":{\"style\":\"light\"},\"paper_bgcolor\":\"white\",\"plot_bgcolor\":\"#E5ECF6\",\"polar\":{\"angularaxis\":{\"gridcolor\":\"white\",\"linecolor\":\"white\",\"ticks\":\"\"},\"bgcolor\":\"#E5ECF6\",\"radialaxis\":{\"gridcolor\":\"white\",\"linecolor\":\"white\",\"ticks\":\"\"}},\"scene\":{\"xaxis\":{\"backgroundcolor\":\"#E5ECF6\",\"gridcolor\":\"white\",\"gridwidth\":2,\"linecolor\":\"white\",\"showbackground\":true,\"ticks\":\"\",\"zerolinecolor\":\"white\"},\"yaxis\":{\"backgroundcolor\":\"#E5ECF6\",\"gridcolor\":\"white\",\"gridwidth\":2,\"linecolor\":\"white\",\"showbackground\":true,\"ticks\":\"\",\"zerolinecolor\":\"white\"},\"zaxis\":{\"backgroundcolor\":\"#E5ECF6\",\"gridcolor\":\"white\",\"gridwidth\":2,\"linecolor\":\"white\",\"showbackground\":true,\"ticks\":\"\",\"zerolinecolor\":\"white\"}},\"shapedefaults\":{\"line\":{\"color\":\"#2a3f5f\"}},\"ternary\":{\"aaxis\":{\"gridcolor\":\"white\",\"linecolor\":\"white\",\"ticks\":\"\"},\"baxis\":{\"gridcolor\":\"white\",\"linecolor\":\"white\",\"ticks\":\"\"},\"bgcolor\":\"#E5ECF6\",\"caxis\":{\"gridcolor\":\"white\",\"linecolor\":\"white\",\"ticks\":\"\"}},\"title\":{\"x\":0.05},\"xaxis\":{\"automargin\":true,\"gridcolor\":\"white\",\"linecolor\":\"white\",\"ticks\":\"\",\"title\":{\"standoff\":15},\"zerolinecolor\":\"white\",\"zerolinewidth\":2},\"yaxis\":{\"automargin\":true,\"gridcolor\":\"white\",\"linecolor\":\"white\",\"ticks\":\"\",\"title\":{\"standoff\":15},\"zerolinecolor\":\"white\",\"zerolinewidth\":2}}},\"xaxis\":{\"anchor\":\"y\",\"domain\":[0.0,1.0],\"title\":{\"text\":\"Farm_name\"}},\"yaxis\":{\"anchor\":\"x\",\"domain\":[0.0,1.0],\"title\":{\"text\":\"avg(Total_Cup_Points_Scaled)\"}},\"legend\":{\"tracegroupgap\":0},\"margin\":{\"t\":60},\"barmode\":\"relative\"},                        {\"responsive\": true}                    ).then(function(){\n",
              "                            \n",
              "var gd = document.getElementById('0a120b8f-4680-4d15-bfc7-35ce2ef81e97');\n",
              "var x = new MutationObserver(function (mutations, observer) {{\n",
              "        var display = window.getComputedStyle(gd).display;\n",
              "        if (!display || display === 'none') {{\n",
              "            console.log([gd, 'removed!']);\n",
              "            Plotly.purge(gd);\n",
              "            observer.disconnect();\n",
              "        }}\n",
              "}});\n",
              "\n",
              "// Listen for the removal of the full notebook cells\n",
              "var notebookContainer = gd.closest('#notebook-container');\n",
              "if (notebookContainer) {{\n",
              "    x.observe(notebookContainer, {childList: true});\n",
              "}}\n",
              "\n",
              "// Listen for the clearing of the current output cell\n",
              "var outputEl = gd.closest('.output');\n",
              "if (outputEl) {{\n",
              "    x.observe(outputEl, {childList: true});\n",
              "}}\n",
              "\n",
              "                        })                };                            </script>        </div>\n",
              "</body>\n",
              "</html>"
            ]
          },
          "metadata": {}
        }
      ]
    },
    {
      "cell_type": "markdown",
      "source": [
        "### Way clearer"
      ],
      "metadata": {
        "id": "P6wQhh1Gs9N_"
      }
    },
    {
      "cell_type": "markdown",
      "source": [
        "We can see that farms are more important than / offer more distinction than variety, we will se furthermore"
      ],
      "metadata": {
        "id": "naGA7j8YwcFt"
      }
    },
    {
      "cell_type": "markdown",
      "source": [
        "## From now on we will use only the scaled version"
      ],
      "metadata": {
        "id": "CyhKDPdEtYwY"
      }
    },
    {
      "cell_type": "code",
      "source": [
        "df_arabica = df_arabica_scaled\n",
        "\n",
        "cols = (\"Aroma\",\"Flavor\",\"Aftertaste\",\\\n",
        "                   \"Acidity\",\"Body\",\"Balance\",\"Total_Cup_Points\")\n",
        "df_arabica = df_arabica.drop(*cols)\n",
        "for i in [\"Aroma\",\"Flavor\",\"Aftertaste\",\\\n",
        "                   \"Acidity\",\"Body\",\"Balance\",\"Total_Cup_Points\"]:\n",
        "                   df_arabica = df_arabica.withColumnRenamed(i+\"_Scaled\", i)\n",
        "\n",
        "df_arabica.show()\n",
        "df_arabica.printSchema()"
      ],
      "metadata": {
        "colab": {
          "base_uri": "https://localhost:8080/"
        },
        "id": "0uzHwEqgtfng",
        "outputId": "7962462c-1ed5-4dd8-b791-e3e80076b57d"
      },
      "execution_count": null,
      "outputs": [
        {
          "output_type": "stream",
          "name": "stdout",
          "text": [
            "+--------------------+--------------+--------------+----------+---------+---------+-------------------+-------------------+-----+------+----------+-------+-----+-------+----------------+\n",
            "|           Farm_name|      Altitude|       Variety|Uniformity|Clean_Cup|Sweetness|               long|                lat|Aroma|Flavor|Aftertaste|Acidity| Body|Balance|Total_Cup_Points|\n",
            "+--------------------+--------------+--------------+----------+---------+---------+-------------------+-------------------+-----+------+----------+-------+-----+-------+----------------+\n",
            "|fazenda são sebas...|         1000m|    Mundo Novo|      10.0|     10.0|     10.0|-21.444863288363614|-46.827235570452125|0.353|  0.22|     0.359|  0.355|0.447|  0.254|             0.4|\n",
            "|       santa bárbara|          1020|        Catuai|      10.0|     10.0|     10.0| -18.52732198399872|-47.569893903127564|0.353|  0.22|     0.427|  0.411|0.447|  0.373|           0.479|\n",
            "|   fazenda rio verde|          1260|Yellow Bourbon|      10.0|     10.0|     10.0|-21.877600079894428| -45.17833587173798|0.449| 0.553|     0.718|  0.234| 0.78|  0.687|           0.696|\n",
            "|   fazenda rio verde|          1260|Yellow Bourbon|      10.0|     10.0|     10.0|-21.877600079894428| -45.17833587173798|0.653| 0.333|     0.427|  0.532|0.893|    0.5|           0.678|\n",
            "|   fazenda rio verde|          1260|Yellow Bourbon|      10.0|     10.0|     10.0|-21.877600079894428| -45.17833587173798|0.353| 0.333|     0.718|  0.291|0.393|  0.627|           0.539|\n",
            "|   fazenda rio verde|          1260|Yellow Bourbon|      10.0|     10.0|     10.0|-21.877600079894428| -45.17833587173798|0.251|  0.22|     0.359|  0.411|0.393|    0.5|           0.531|\n",
            "|     fazenda do lobo|         1000m|    Mundo Novo|      10.0|     10.0|     10.0| -20.05845833645814|-45.551377369807916|0.551| 0.333|     0.641|  0.411|0.613|    0.5|           0.609|\n",
            "|       santa mariana|           NaN|        Arusha|      10.0|     10.0|     10.0| -23.19046310851501| -50.55948683365515|0.551| 0.333|     0.504|  0.355|0.447|   0.44|           0.531|\n",
            "| fazenda grota funda|         1200m|       Bourbon|      10.0|     10.0|     10.0| -4.498676298642221| -46.01438009152326|0.701| 0.613|     0.786|  0.589| 0.78|  0.687|           0.791|\n",
            "|              sertao|          1.25|       Bourbon|      10.0|     10.0|     10.0|-22.095760723175886|-45.189755175672296|0.401|  0.28|     0.291|  0.355|0.447|  0.373|           0.435|\n",
            "|         sitio claro|        1000 m|        Catuai|      10.0|     10.0|     10.0|-12.404400112670487|  -57.0307320652044|0.701| 0.667|     0.786|  0.766|0.447|  0.687|           0.791|\n",
            "|são rafael_ ra/ra...|           995|        Catuai|      10.0|     10.0|     10.0|-22.784292492565246|-47.032534461666536|0.204|  0.22|     0.504|  0.113|0.113|  0.127|           0.304|\n",
            "|         santa alina|1200m to 1350m|Yellow Bourbon|      10.0|     10.0|     10.0| -21.76121880758086|-46.674253002625804|0.802| 0.667|     0.573|  0.589|0.447|  0.627|            0.73|\n",
            "|   sitío santa luzia|         1100m|    Mundo Novo|      10.0|     10.0|     10.0|-22.366016295045306| -46.47371725096838|0.449| 0.333|     0.504|  0.411|0.447|   0.44|           0.521|\n",
            "|fazenda são josé ...|           695|    Mundo Novo|      9.33|     10.0|     9.33|-22.785019797545694| -47.03177457322967|0.449|  0.28|     0.573|  0.234|0.613|   0.56|           0.391|\n",
            "|    fazenda chamusca|     900-1050m|    Mundo Novo|      10.0|     10.0|     10.0|  -21.4532483711391| -45.22708818550831|0.449| 0.333|     0.427|  0.589|0.447|    0.5|           0.547|\n",
            "|         santa maria|           NaN|        Catuai|      10.0|     10.0|     10.0|-16.609194745742165| -46.98365752985455|0.299| 0.333|     0.641|  0.468| 0.56|    0.5|           0.557|\n",
            "|         santa maria|           NaN|        Catuai|      10.0|     10.0|     10.0|-16.609194745742165| -46.98365752985455|  0.0|   0.0|     0.077|  0.113| 0.06|    0.0|           0.114|\n",
            "|         capoeirinha|           905|Yellow Bourbon|      10.0|     10.0|     10.0| -18.64698614414741|-45.796849953979795|0.449| 0.387|     0.641|  0.411| 0.56|   0.56|             0.6|\n",
            "|         capoeirinha|           905|Yellow Bourbon|      10.0|     10.0|     10.0| -18.64698614414741|-45.796849953979795|0.401| 0.333|     0.641|  0.411|  0.5|   0.56|           0.565|\n",
            "+--------------------+--------------+--------------+----------+---------+---------+-------------------+-------------------+-----+------+----------+-------+-----+-------+----------------+\n",
            "only showing top 20 rows\n",
            "\n",
            "root\n",
            " |-- Farm_name: string (nullable = true)\n",
            " |-- Altitude: string (nullable = true)\n",
            " |-- Variety: string (nullable = true)\n",
            " |-- Uniformity: double (nullable = true)\n",
            " |-- Clean_Cup: double (nullable = true)\n",
            " |-- Sweetness: double (nullable = true)\n",
            " |-- long: double (nullable = true)\n",
            " |-- lat: double (nullable = true)\n",
            " |-- Aroma: double (nullable = true)\n",
            " |-- Flavor: double (nullable = true)\n",
            " |-- Aftertaste: double (nullable = true)\n",
            " |-- Acidity: double (nullable = true)\n",
            " |-- Body: double (nullable = true)\n",
            " |-- Balance: double (nullable = true)\n",
            " |-- Total_Cup_Points: double (nullable = true)\n",
            "\n"
          ]
        }
      ]
    },
    {
      "cell_type": "markdown",
      "source": [
        "## Farms all of fame and their strengths"
      ],
      "metadata": {
        "id": "QIjCRSP9mJb9"
      }
    },
    {
      "cell_type": "markdown",
      "source": [
        "### Since farms seem interesting we can plot radar plots of the taste they offer (meaned).\n",
        "We will focus on the most renowed farms"
      ],
      "metadata": {
        "id": "JvBejSPCwtd6"
      }
    },
    {
      "cell_type": "code",
      "source": [
        "from pyspark.sql.functions import desc\n",
        "hof = df_arabica.groupBy(\"Farm_name\").mean(\"Total_Cup_Points\").sort(desc(\"avg(Total_Cup_Points)\"))\n",
        "hof.show(6)"
      ],
      "metadata": {
        "colab": {
          "base_uri": "https://localhost:8080/"
        },
        "id": "kZ_f6k13ZGM-",
        "outputId": "b040873b-d917-41ea-d805-1810c1ef398e"
      },
      "execution_count": null,
      "outputs": [
        {
          "output_type": "stream",
          "name": "stdout",
          "text": [
            "+--------------------+---------------------+\n",
            "|           Farm_name|avg(Total_Cup_Points)|\n",
            "+--------------------+---------------------+\n",
            "|     fazenda kaquend|                0.956|\n",
            "|     fazenda recreio|                0.852|\n",
            "|fazenda serra de ...|                0.844|\n",
            "|   sitío são geraldo|                  0.8|\n",
            "|         sitio claro|                0.791|\n",
            "| fazenda grota funda|                0.791|\n",
            "+--------------------+---------------------+\n",
            "only showing top 6 rows\n",
            "\n"
          ]
        }
      ]
    },
    {
      "cell_type": "markdown",
      "source": [
        "We will take the top 3"
      ],
      "metadata": {
        "id": "I-YXFI_OyLFl"
      }
    },
    {
      "cell_type": "markdown",
      "source": [
        "# FAIIIIIIIIIRE"
      ],
      "metadata": {
        "id": "sOfl1Fdp2gWA"
      }
    },
    {
      "cell_type": "code",
      "source": [
        "li = hof.select(\"Farm_name\").take(3)[:3]"
      ],
      "metadata": {
        "id": "LdnW7A0KysHP"
      },
      "execution_count": null,
      "outputs": []
    },
    {
      "cell_type": "code",
      "source": [
        "li"
      ],
      "metadata": {
        "id": "5hAG3CRQ0swA",
        "colab": {
          "base_uri": "https://localhost:8080/"
        },
        "outputId": "91fb7ea7-1d41-4063-9e7f-735607758d92"
      },
      "execution_count": null,
      "outputs": [
        {
          "output_type": "execute_result",
          "data": {
            "text/plain": [
              "[Row(Farm_name='fazenda kaquend'),\n",
              " Row(Farm_name='fazenda recreio'),\n",
              " Row(Farm_name='fazenda serra de três barras')]"
            ]
          },
          "metadata": {},
          "execution_count": 30
        }
      ]
    },
    {
      "cell_type": "code",
      "source": [
        "li = [\"fazenda kaquend\",\"fazenda recreio\",\"sitío são geraldo\",\"sitio claro\",\"fazenda grota funda\"]"
      ],
      "metadata": {
        "id": "uPOW_b_60ZpO"
      },
      "execution_count": null,
      "outputs": []
    },
    {
      "cell_type": "markdown",
      "source": [
        "Meaner par farm"
      ],
      "metadata": {
        "id": "tMuzaC6gBLiN"
      }
    },
    {
      "cell_type": "code",
      "source": [
        "df_hof = df_arabica.filter(df_arabica.Farm_name.isin(li))\n",
        "df_hof.show()"
      ],
      "metadata": {
        "colab": {
          "base_uri": "https://localhost:8080/"
        },
        "id": "05RgOmqDxgCS",
        "outputId": "e2ea9bfd-f01b-45b3-8afd-8708ffe28f90"
      },
      "execution_count": null,
      "outputs": [
        {
          "output_type": "stream",
          "name": "stdout",
          "text": [
            "+-------------------+--------+----------+----------+---------+---------+-------------------+------------------+-----+------+----------+-------+-----+-------+----------------+\n",
            "|          Farm_name|Altitude|   Variety|Uniformity|Clean_Cup|Sweetness|               long|               lat|Aroma|Flavor|Aftertaste|Acidity| Body|Balance|Total_Cup_Points|\n",
            "+-------------------+--------+----------+----------+---------+---------+-------------------+------------------+-----+------+----------+-------+-----+-------+----------------+\n",
            "|fazenda grota funda|   1200m|   Bourbon|      10.0|     10.0|     10.0| -4.498676298642221|-46.01438009152326|0.701| 0.613|     0.786|  0.589| 0.78|  0.687|           0.791|\n",
            "|        sitio claro|  1000 m|    Catuai|      10.0|     10.0|     10.0|-12.404400112670487| -57.0307320652044|0.701| 0.667|     0.786|  0.766|0.447|  0.687|           0.791|\n",
            "|  sitío são geraldo|   1100m|Mundo Novo|      10.0|     10.0|     10.0| -22.59528143237296|-46.66759241371165|0.701| 0.667|     0.855|  0.645| 0.56|  0.627|             0.8|\n",
            "|    fazenda kaquend|   1250m|   Bourbon|      10.0|     10.0|     10.0|-21.435236392716707|-46.83244978479159|  1.0|   1.0|       1.0|  0.766| 0.78|  0.873|             1.0|\n",
            "|    fazenda kaquend|   1250m|   Bourbon|      10.0|     10.0|     10.0|-21.435236392716707|-46.83244978479159|0.898| 0.667|       1.0|  0.766|0.613|  0.873|           0.912|\n",
            "|    fazenda recreio|   1300m|   Bourbon|      10.0|     10.0|     10.0|-21.780100162105256|-46.67880344388111|0.701| 0.667|     0.786|  0.589|  0.5|  0.687|           0.756|\n",
            "|    fazenda recreio|    1300|   Bourbon|      10.0|     10.0|     10.0|-21.780100162105256|-46.67880344388111|  1.0|  0.78|       1.0|  0.589| 0.78|  0.873|           0.948|\n",
            "+-------------------+--------+----------+----------+---------+---------+-------------------+------------------+-----+------+----------+-------+-----+-------+----------------+\n",
            "\n"
          ]
        }
      ]
    },
    {
      "cell_type": "code",
      "source": [
        "import plotly.graph_objects as go\n",
        "from pyspark.sql.functions import mean\n",
        "\n",
        "categories = [\"Aroma\",\"Flavor\",\"Aftertaste\",\\\n",
        "                   \"Acidity\",\"Body\",\"Balance\"]\n",
        "\n",
        "df_hof_pd = df_hof.select([\"Farm_name\",\"Aroma\",\"Flavor\",\"Aftertaste\",\\\n",
        "                   \"Acidity\",\"Body\",\"Balance\"]).toPandas().set_index('Farm_name')\n",
        "\n",
        "\n",
        "df_mean_pd = df_arabica.select(mean(\"Aroma\"), mean(\"Flavor\")\\\n",
        "                               , mean(\"Aftertaste\"), mean(\"Acidity\"), mean(\"Body\"), mean(\"Balance\"))\\\n",
        "                               .toPandas()\n",
        "\n",
        "fig = go.Figure()\n",
        "\n",
        "for g in df_hof_pd.index:\n",
        "    fig.add_trace(go.Scatterpolar(\n",
        "        r = df_hof_pd.loc[g].values,\n",
        "        theta = categories,\n",
        "        fill = \"toself\",\n",
        "        name = f'{g}'\n",
        "    ))\n",
        "\n",
        "\n",
        "fig.add_trace(go.Scatterpolar(\n",
        "        r = df_mean_pd.values,\n",
        "        theta = categories,\n",
        "        fill = \"toself\",\n",
        "        name = f'MEAN'\n",
        "    ))\n",
        "\n",
        "fig.update_layout(\n",
        "  polar=dict(\n",
        "    radialaxis=dict(\n",
        "      visible=False,\n",
        "      range=[0, 1]\n",
        "    )),\n",
        "  showlegend=False\n",
        ")\n",
        "\n",
        "fig.show()"
      ],
      "metadata": {
        "colab": {
          "base_uri": "https://localhost:8080/",
          "height": 542
        },
        "id": "TAukSS8o3I3H",
        "outputId": "0182c889-8d0c-4d97-967d-6698bb3fddb6"
      },
      "execution_count": null,
      "outputs": [
        {
          "output_type": "display_data",
          "data": {
            "text/html": [
              "<html>\n",
              "<head><meta charset=\"utf-8\" /></head>\n",
              "<body>\n",
              "    <div>            <script src=\"https://cdnjs.cloudflare.com/ajax/libs/mathjax/2.7.5/MathJax.js?config=TeX-AMS-MML_SVG\"></script><script type=\"text/javascript\">if (window.MathJax) {MathJax.Hub.Config({SVG: {font: \"STIX-Web\"}});}</script>                <script type=\"text/javascript\">window.PlotlyConfig = {MathJaxConfig: 'local'};</script>\n",
              "        <script src=\"https://cdn.plot.ly/plotly-2.8.3.min.js\"></script>                <div id=\"70027223-290f-4f76-bc1d-93149fce6779\" class=\"plotly-graph-div\" style=\"height:525px; width:100%;\"></div>            <script type=\"text/javascript\">                                    window.PLOTLYENV=window.PLOTLYENV || {};                                    if (document.getElementById(\"70027223-290f-4f76-bc1d-93149fce6779\")) {                    Plotly.newPlot(                        \"70027223-290f-4f76-bc1d-93149fce6779\",                        [{\"fill\":\"toself\",\"name\":\"fazenda grota funda\",\"r\":[0.701,0.613,0.786,0.589,0.78,0.687],\"theta\":[\"Aroma\",\"Flavor\",\"Aftertaste\",\"Acidity\",\"Body\",\"Balance\"],\"type\":\"scatterpolar\"},{\"fill\":\"toself\",\"name\":\"sitio claro\",\"r\":[0.701,0.667,0.786,0.766,0.447,0.687],\"theta\":[\"Aroma\",\"Flavor\",\"Aftertaste\",\"Acidity\",\"Body\",\"Balance\"],\"type\":\"scatterpolar\"},{\"fill\":\"toself\",\"name\":\"sit\\u00edo s\\u00e3o geraldo\",\"r\":[0.701,0.667,0.855,0.645,0.56,0.627],\"theta\":[\"Aroma\",\"Flavor\",\"Aftertaste\",\"Acidity\",\"Body\",\"Balance\"],\"type\":\"scatterpolar\"},{\"fill\":\"toself\",\"name\":\"fazenda kaquend\",\"r\":[[1.0,1.0,1.0,0.766,0.78,0.873],[0.898,0.667,1.0,0.766,0.613,0.873]],\"theta\":[\"Aroma\",\"Flavor\",\"Aftertaste\",\"Acidity\",\"Body\",\"Balance\"],\"type\":\"scatterpolar\"},{\"fill\":\"toself\",\"name\":\"fazenda kaquend\",\"r\":[[1.0,1.0,1.0,0.766,0.78,0.873],[0.898,0.667,1.0,0.766,0.613,0.873]],\"theta\":[\"Aroma\",\"Flavor\",\"Aftertaste\",\"Acidity\",\"Body\",\"Balance\"],\"type\":\"scatterpolar\"},{\"fill\":\"toself\",\"name\":\"fazenda recreio\",\"r\":[[0.701,0.667,0.786,0.589,0.5,0.687],[1.0,0.78,1.0,0.589,0.78,0.873]],\"theta\":[\"Aroma\",\"Flavor\",\"Aftertaste\",\"Acidity\",\"Body\",\"Balance\"],\"type\":\"scatterpolar\"},{\"fill\":\"toself\",\"name\":\"fazenda recreio\",\"r\":[[0.701,0.667,0.786,0.589,0.5,0.687],[1.0,0.78,1.0,0.589,0.78,0.873]],\"theta\":[\"Aroma\",\"Flavor\",\"Aftertaste\",\"Acidity\",\"Body\",\"Balance\"],\"type\":\"scatterpolar\"},{\"fill\":\"toself\",\"name\":\"MEAN\",\"r\":[[0.4392280701754389,0.3979736842105265,0.532175438596491,0.42692982456140377,0.48366666666666697,0.5288245614035089]],\"theta\":[\"Aroma\",\"Flavor\",\"Aftertaste\",\"Acidity\",\"Body\",\"Balance\"],\"type\":\"scatterpolar\"}],                        {\"template\":{\"data\":{\"bar\":[{\"error_x\":{\"color\":\"#2a3f5f\"},\"error_y\":{\"color\":\"#2a3f5f\"},\"marker\":{\"line\":{\"color\":\"#E5ECF6\",\"width\":0.5},\"pattern\":{\"fillmode\":\"overlay\",\"size\":10,\"solidity\":0.2}},\"type\":\"bar\"}],\"barpolar\":[{\"marker\":{\"line\":{\"color\":\"#E5ECF6\",\"width\":0.5},\"pattern\":{\"fillmode\":\"overlay\",\"size\":10,\"solidity\":0.2}},\"type\":\"barpolar\"}],\"carpet\":[{\"aaxis\":{\"endlinecolor\":\"#2a3f5f\",\"gridcolor\":\"white\",\"linecolor\":\"white\",\"minorgridcolor\":\"white\",\"startlinecolor\":\"#2a3f5f\"},\"baxis\":{\"endlinecolor\":\"#2a3f5f\",\"gridcolor\":\"white\",\"linecolor\":\"white\",\"minorgridcolor\":\"white\",\"startlinecolor\":\"#2a3f5f\"},\"type\":\"carpet\"}],\"choropleth\":[{\"colorbar\":{\"outlinewidth\":0,\"ticks\":\"\"},\"type\":\"choropleth\"}],\"contour\":[{\"colorbar\":{\"outlinewidth\":0,\"ticks\":\"\"},\"colorscale\":[[0.0,\"#0d0887\"],[0.1111111111111111,\"#46039f\"],[0.2222222222222222,\"#7201a8\"],[0.3333333333333333,\"#9c179e\"],[0.4444444444444444,\"#bd3786\"],[0.5555555555555556,\"#d8576b\"],[0.6666666666666666,\"#ed7953\"],[0.7777777777777778,\"#fb9f3a\"],[0.8888888888888888,\"#fdca26\"],[1.0,\"#f0f921\"]],\"type\":\"contour\"}],\"contourcarpet\":[{\"colorbar\":{\"outlinewidth\":0,\"ticks\":\"\"},\"type\":\"contourcarpet\"}],\"heatmap\":[{\"colorbar\":{\"outlinewidth\":0,\"ticks\":\"\"},\"colorscale\":[[0.0,\"#0d0887\"],[0.1111111111111111,\"#46039f\"],[0.2222222222222222,\"#7201a8\"],[0.3333333333333333,\"#9c179e\"],[0.4444444444444444,\"#bd3786\"],[0.5555555555555556,\"#d8576b\"],[0.6666666666666666,\"#ed7953\"],[0.7777777777777778,\"#fb9f3a\"],[0.8888888888888888,\"#fdca26\"],[1.0,\"#f0f921\"]],\"type\":\"heatmap\"}],\"heatmapgl\":[{\"colorbar\":{\"outlinewidth\":0,\"ticks\":\"\"},\"colorscale\":[[0.0,\"#0d0887\"],[0.1111111111111111,\"#46039f\"],[0.2222222222222222,\"#7201a8\"],[0.3333333333333333,\"#9c179e\"],[0.4444444444444444,\"#bd3786\"],[0.5555555555555556,\"#d8576b\"],[0.6666666666666666,\"#ed7953\"],[0.7777777777777778,\"#fb9f3a\"],[0.8888888888888888,\"#fdca26\"],[1.0,\"#f0f921\"]],\"type\":\"heatmapgl\"}],\"histogram\":[{\"marker\":{\"pattern\":{\"fillmode\":\"overlay\",\"size\":10,\"solidity\":0.2}},\"type\":\"histogram\"}],\"histogram2d\":[{\"colorbar\":{\"outlinewidth\":0,\"ticks\":\"\"},\"colorscale\":[[0.0,\"#0d0887\"],[0.1111111111111111,\"#46039f\"],[0.2222222222222222,\"#7201a8\"],[0.3333333333333333,\"#9c179e\"],[0.4444444444444444,\"#bd3786\"],[0.5555555555555556,\"#d8576b\"],[0.6666666666666666,\"#ed7953\"],[0.7777777777777778,\"#fb9f3a\"],[0.8888888888888888,\"#fdca26\"],[1.0,\"#f0f921\"]],\"type\":\"histogram2d\"}],\"histogram2dcontour\":[{\"colorbar\":{\"outlinewidth\":0,\"ticks\":\"\"},\"colorscale\":[[0.0,\"#0d0887\"],[0.1111111111111111,\"#46039f\"],[0.2222222222222222,\"#7201a8\"],[0.3333333333333333,\"#9c179e\"],[0.4444444444444444,\"#bd3786\"],[0.5555555555555556,\"#d8576b\"],[0.6666666666666666,\"#ed7953\"],[0.7777777777777778,\"#fb9f3a\"],[0.8888888888888888,\"#fdca26\"],[1.0,\"#f0f921\"]],\"type\":\"histogram2dcontour\"}],\"mesh3d\":[{\"colorbar\":{\"outlinewidth\":0,\"ticks\":\"\"},\"type\":\"mesh3d\"}],\"parcoords\":[{\"line\":{\"colorbar\":{\"outlinewidth\":0,\"ticks\":\"\"}},\"type\":\"parcoords\"}],\"pie\":[{\"automargin\":true,\"type\":\"pie\"}],\"scatter\":[{\"marker\":{\"colorbar\":{\"outlinewidth\":0,\"ticks\":\"\"}},\"type\":\"scatter\"}],\"scatter3d\":[{\"line\":{\"colorbar\":{\"outlinewidth\":0,\"ticks\":\"\"}},\"marker\":{\"colorbar\":{\"outlinewidth\":0,\"ticks\":\"\"}},\"type\":\"scatter3d\"}],\"scattercarpet\":[{\"marker\":{\"colorbar\":{\"outlinewidth\":0,\"ticks\":\"\"}},\"type\":\"scattercarpet\"}],\"scattergeo\":[{\"marker\":{\"colorbar\":{\"outlinewidth\":0,\"ticks\":\"\"}},\"type\":\"scattergeo\"}],\"scattergl\":[{\"marker\":{\"colorbar\":{\"outlinewidth\":0,\"ticks\":\"\"}},\"type\":\"scattergl\"}],\"scattermapbox\":[{\"marker\":{\"colorbar\":{\"outlinewidth\":0,\"ticks\":\"\"}},\"type\":\"scattermapbox\"}],\"scatterpolar\":[{\"marker\":{\"colorbar\":{\"outlinewidth\":0,\"ticks\":\"\"}},\"type\":\"scatterpolar\"}],\"scatterpolargl\":[{\"marker\":{\"colorbar\":{\"outlinewidth\":0,\"ticks\":\"\"}},\"type\":\"scatterpolargl\"}],\"scatterternary\":[{\"marker\":{\"colorbar\":{\"outlinewidth\":0,\"ticks\":\"\"}},\"type\":\"scatterternary\"}],\"surface\":[{\"colorbar\":{\"outlinewidth\":0,\"ticks\":\"\"},\"colorscale\":[[0.0,\"#0d0887\"],[0.1111111111111111,\"#46039f\"],[0.2222222222222222,\"#7201a8\"],[0.3333333333333333,\"#9c179e\"],[0.4444444444444444,\"#bd3786\"],[0.5555555555555556,\"#d8576b\"],[0.6666666666666666,\"#ed7953\"],[0.7777777777777778,\"#fb9f3a\"],[0.8888888888888888,\"#fdca26\"],[1.0,\"#f0f921\"]],\"type\":\"surface\"}],\"table\":[{\"cells\":{\"fill\":{\"color\":\"#EBF0F8\"},\"line\":{\"color\":\"white\"}},\"header\":{\"fill\":{\"color\":\"#C8D4E3\"},\"line\":{\"color\":\"white\"}},\"type\":\"table\"}]},\"layout\":{\"annotationdefaults\":{\"arrowcolor\":\"#2a3f5f\",\"arrowhead\":0,\"arrowwidth\":1},\"autotypenumbers\":\"strict\",\"coloraxis\":{\"colorbar\":{\"outlinewidth\":0,\"ticks\":\"\"}},\"colorscale\":{\"diverging\":[[0,\"#8e0152\"],[0.1,\"#c51b7d\"],[0.2,\"#de77ae\"],[0.3,\"#f1b6da\"],[0.4,\"#fde0ef\"],[0.5,\"#f7f7f7\"],[0.6,\"#e6f5d0\"],[0.7,\"#b8e186\"],[0.8,\"#7fbc41\"],[0.9,\"#4d9221\"],[1,\"#276419\"]],\"sequential\":[[0.0,\"#0d0887\"],[0.1111111111111111,\"#46039f\"],[0.2222222222222222,\"#7201a8\"],[0.3333333333333333,\"#9c179e\"],[0.4444444444444444,\"#bd3786\"],[0.5555555555555556,\"#d8576b\"],[0.6666666666666666,\"#ed7953\"],[0.7777777777777778,\"#fb9f3a\"],[0.8888888888888888,\"#fdca26\"],[1.0,\"#f0f921\"]],\"sequentialminus\":[[0.0,\"#0d0887\"],[0.1111111111111111,\"#46039f\"],[0.2222222222222222,\"#7201a8\"],[0.3333333333333333,\"#9c179e\"],[0.4444444444444444,\"#bd3786\"],[0.5555555555555556,\"#d8576b\"],[0.6666666666666666,\"#ed7953\"],[0.7777777777777778,\"#fb9f3a\"],[0.8888888888888888,\"#fdca26\"],[1.0,\"#f0f921\"]]},\"colorway\":[\"#636efa\",\"#EF553B\",\"#00cc96\",\"#ab63fa\",\"#FFA15A\",\"#19d3f3\",\"#FF6692\",\"#B6E880\",\"#FF97FF\",\"#FECB52\"],\"font\":{\"color\":\"#2a3f5f\"},\"geo\":{\"bgcolor\":\"white\",\"lakecolor\":\"white\",\"landcolor\":\"#E5ECF6\",\"showlakes\":true,\"showland\":true,\"subunitcolor\":\"white\"},\"hoverlabel\":{\"align\":\"left\"},\"hovermode\":\"closest\",\"mapbox\":{\"style\":\"light\"},\"paper_bgcolor\":\"white\",\"plot_bgcolor\":\"#E5ECF6\",\"polar\":{\"angularaxis\":{\"gridcolor\":\"white\",\"linecolor\":\"white\",\"ticks\":\"\"},\"bgcolor\":\"#E5ECF6\",\"radialaxis\":{\"gridcolor\":\"white\",\"linecolor\":\"white\",\"ticks\":\"\"}},\"scene\":{\"xaxis\":{\"backgroundcolor\":\"#E5ECF6\",\"gridcolor\":\"white\",\"gridwidth\":2,\"linecolor\":\"white\",\"showbackground\":true,\"ticks\":\"\",\"zerolinecolor\":\"white\"},\"yaxis\":{\"backgroundcolor\":\"#E5ECF6\",\"gridcolor\":\"white\",\"gridwidth\":2,\"linecolor\":\"white\",\"showbackground\":true,\"ticks\":\"\",\"zerolinecolor\":\"white\"},\"zaxis\":{\"backgroundcolor\":\"#E5ECF6\",\"gridcolor\":\"white\",\"gridwidth\":2,\"linecolor\":\"white\",\"showbackground\":true,\"ticks\":\"\",\"zerolinecolor\":\"white\"}},\"shapedefaults\":{\"line\":{\"color\":\"#2a3f5f\"}},\"ternary\":{\"aaxis\":{\"gridcolor\":\"white\",\"linecolor\":\"white\",\"ticks\":\"\"},\"baxis\":{\"gridcolor\":\"white\",\"linecolor\":\"white\",\"ticks\":\"\"},\"bgcolor\":\"#E5ECF6\",\"caxis\":{\"gridcolor\":\"white\",\"linecolor\":\"white\",\"ticks\":\"\"}},\"title\":{\"x\":0.05},\"xaxis\":{\"automargin\":true,\"gridcolor\":\"white\",\"linecolor\":\"white\",\"ticks\":\"\",\"title\":{\"standoff\":15},\"zerolinecolor\":\"white\",\"zerolinewidth\":2},\"yaxis\":{\"automargin\":true,\"gridcolor\":\"white\",\"linecolor\":\"white\",\"ticks\":\"\",\"title\":{\"standoff\":15},\"zerolinecolor\":\"white\",\"zerolinewidth\":2}}},\"polar\":{\"radialaxis\":{\"visible\":false,\"range\":[0,1]}},\"showlegend\":false},                        {\"responsive\": true}                    ).then(function(){\n",
              "                            \n",
              "var gd = document.getElementById('70027223-290f-4f76-bc1d-93149fce6779');\n",
              "var x = new MutationObserver(function (mutations, observer) {{\n",
              "        var display = window.getComputedStyle(gd).display;\n",
              "        if (!display || display === 'none') {{\n",
              "            console.log([gd, 'removed!']);\n",
              "            Plotly.purge(gd);\n",
              "            observer.disconnect();\n",
              "        }}\n",
              "}});\n",
              "\n",
              "// Listen for the removal of the full notebook cells\n",
              "var notebookContainer = gd.closest('#notebook-container');\n",
              "if (notebookContainer) {{\n",
              "    x.observe(notebookContainer, {childList: true});\n",
              "}}\n",
              "\n",
              "// Listen for the clearing of the current output cell\n",
              "var outputEl = gd.closest('.output');\n",
              "if (outputEl) {{\n",
              "    x.observe(outputEl, {childList: true});\n",
              "}}\n",
              "\n",
              "                        })                };                            </script>        </div>\n",
              "</body>\n",
              "</html>"
            ]
          },
          "metadata": {}
        }
      ]
    },
    {
      "cell_type": "code",
      "source": [],
      "metadata": {
        "id": "D3xg7iOa-UHN"
      },
      "execution_count": null,
      "outputs": []
    }
  ]
}