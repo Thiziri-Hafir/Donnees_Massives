{
  "nbformat": 4,
  "nbformat_minor": 0,
  "metadata": {
    "colab": {
      "provenance": []
    },
    "kernelspec": {
      "name": "python3",
      "display_name": "Python 3"
    },
    "language_info": {
      "name": "python"
    }
  },
  "cells": [
    {
      "cell_type": "code",
      "source": [
        "pip install pyspark"
      ],
      "metadata": {
        "colab": {
          "base_uri": "https://localhost:8080/"
        },
        "id": "1DxLDXMisoIp",
        "outputId": "fe2c6d63-7818-484a-e99d-d3bffbdb7312"
      },
      "execution_count": null,
      "outputs": [
        {
          "output_type": "stream",
          "name": "stdout",
          "text": [
            "Looking in indexes: https://pypi.org/simple, https://us-python.pkg.dev/colab-wheels/public/simple/\n",
            "Requirement already satisfied: pyspark in /usr/local/lib/python3.7/dist-packages (3.3.1)\n",
            "Requirement already satisfied: py4j==0.10.9.5 in /usr/local/lib/python3.7/dist-packages (from pyspark) (0.10.9.5)\n"
          ]
        }
      ]
    },
    {
      "cell_type": "code",
      "source": [
        "import pyspark\n",
        "\n",
        "from pyspark import SparkContext\n",
        "from pyspark.sql import SparkSession\n",
        "\n",
        "SparkContext.setSystemProperty('spark.executor.memory', '8g')\n",
        "SparkContext.setSystemProperty('spark.driver.memory', '45G')\n",
        "\n",
        "sc = SparkContext.getOrCreate()\n",
        "spark = SparkSession.builder.appName(\"Python Spark\").getOrCreate()"
      ],
      "metadata": {
        "id": "U03MDpTdr0rM"
      },
      "execution_count": null,
      "outputs": []
    },
    {
      "cell_type": "code",
      "source": [
        "import pandas as pd"
      ],
      "metadata": {
        "id": "-xXSKz5Esukq"
      },
      "execution_count": null,
      "outputs": []
    },
    {
      "cell_type": "code",
      "source": [
        "url = \"https://raw.githubusercontent.com/jldbc/coffee-quality-database/master/data/arabica_data_cleaned.csv\"\n",
        "raw_arabica = pd.read_csv(url)"
      ],
      "metadata": {
        "id": "klSgFYFu-xT9"
      },
      "execution_count": null,
      "outputs": []
    },
    {
      "cell_type": "code",
      "source": [
        "raw_arabica"
      ],
      "metadata": {
        "id": "7OBnu_pQD09I",
        "colab": {
          "base_uri": "https://localhost:8080/",
          "height": 1000
        },
        "outputId": "a3a6cb28-db3e-4ad3-9171-45f8e26ebb41"
      },
      "execution_count": null,
      "outputs": [
        {
          "output_type": "execute_result",
          "data": {
            "text/plain": [
              "      Unnamed: 0  Species                       Owner Country.of.Origin  \\\n",
              "0              1  Arabica                   metad plc          Ethiopia   \n",
              "1              2  Arabica                   metad plc          Ethiopia   \n",
              "2              3  Arabica    grounds for health admin         Guatemala   \n",
              "3              4  Arabica         yidnekachew dabessa          Ethiopia   \n",
              "4              5  Arabica                   metad plc          Ethiopia   \n",
              "...          ...      ...                         ...               ...   \n",
              "1306        1307  Arabica    juan carlos garcia lopez            Mexico   \n",
              "1307        1308  Arabica     myriam kaplan-pasternak             Haiti   \n",
              "1308        1309  Arabica  exportadora atlantic, s.a.         Nicaragua   \n",
              "1309        1310  Arabica   juan luis alvarado romero         Guatemala   \n",
              "1310        1312  Arabica             bismarck castro          Honduras   \n",
              "\n",
              "                                     Farm.Name                  Lot.Number  \\\n",
              "0                                    metad plc                         NaN   \n",
              "1                                    metad plc                         NaN   \n",
              "2     san marcos barrancas \"san cristobal cuch                         NaN   \n",
              "3        yidnekachew dabessa coffee plantation                         NaN   \n",
              "4                                    metad plc                         NaN   \n",
              "...                                        ...                         ...   \n",
              "1306                             el centenario                         NaN   \n",
              "1307                                 200 farms                         NaN   \n",
              "1308                          finca las marías  017-053-0211/ 017-053-0212   \n",
              "1309                            finca el limon                         NaN   \n",
              "1310                              los hicaques                         103   \n",
              "\n",
              "                                                   Mill  \\\n",
              "0                                             metad plc   \n",
              "1                                             metad plc   \n",
              "2                                                   NaN   \n",
              "3                                               wolensu   \n",
              "4                                             metad plc   \n",
              "...                                                 ...   \n",
              "1306  la esperanza, municipio juchique de ferrer, ve...   \n",
              "1307        coeb koperativ ekselsyo basen (350 members)   \n",
              "1308                         beneficio atlantic condega   \n",
              "1309                                   beneficio serben   \n",
              "1310                                 cigrah s.a de c.v.   \n",
              "\n",
              "                      ICO.Number                                Company  \\\n",
              "0                      2014/2015      metad agricultural developmet plc   \n",
              "1                      2014/2015      metad agricultural developmet plc   \n",
              "2                            NaN                                    NaN   \n",
              "3                            NaN  yidnekachew debessa coffee plantation   \n",
              "4                      2014/2015      metad agricultural developmet plc   \n",
              "...                          ...                                    ...   \n",
              "1306                  1104328663                              terra mia   \n",
              "1307                         NaN                           haiti coffee   \n",
              "1308  017-053-0211/ 017-053-0212               exportadora atlantic s.a   \n",
              "1309                  11/853/165                                unicafe   \n",
              "1310                  13-111-053                      cigrah s.a de c.v   \n",
              "\n",
              "           Altitude  ...       Color Category.Two.Defects  \\\n",
              "0         1950-2200  ...       Green                    0   \n",
              "1         1950-2200  ...       Green                    1   \n",
              "2     1600 - 1800 m  ...         NaN                    0   \n",
              "3         1800-2200  ...       Green                    2   \n",
              "4         1950-2200  ...       Green                    2   \n",
              "...             ...  ...         ...                  ...   \n",
              "1306            900  ...        None                   20   \n",
              "1307          ~350m  ...  Blue-Green                   16   \n",
              "1308           1100  ...       Green                    5   \n",
              "1309           4650  ...       Green                    4   \n",
              "1310           1400  ...       Green                    2   \n",
              "\n",
              "                Expiration                  Certification.Body  \\\n",
              "0          April 3rd, 2016  METAD Agricultural Development plc   \n",
              "1          April 3rd, 2016  METAD Agricultural Development plc   \n",
              "2           May 31st, 2011        Specialty Coffee Association   \n",
              "3         March 25th, 2016  METAD Agricultural Development plc   \n",
              "4          April 3rd, 2016  METAD Agricultural Development plc   \n",
              "...                    ...                                 ...   \n",
              "1306  September 17th, 2013                             AMECAFE   \n",
              "1307        May 24th, 2013        Specialty Coffee Association   \n",
              "1308        June 6th, 2018        Instituto Hondureño del Café   \n",
              "1309        May 24th, 2013        Asociacion Nacional Del Café   \n",
              "1310      April 28th, 2018        Instituto Hondureño del Café   \n",
              "\n",
              "                         Certification.Address  \\\n",
              "0     309fcf77415a3661ae83e027f7e5f05dad786e44   \n",
              "1     309fcf77415a3661ae83e027f7e5f05dad786e44   \n",
              "2     36d0d00a3724338ba7937c52a378d085f2172daa   \n",
              "3     309fcf77415a3661ae83e027f7e5f05dad786e44   \n",
              "4     309fcf77415a3661ae83e027f7e5f05dad786e44   \n",
              "...                                        ...   \n",
              "1306  59e396ad6e22a1c22b248f958e1da2bd8af85272   \n",
              "1307  36d0d00a3724338ba7937c52a378d085f2172daa   \n",
              "1308  b4660a57e9f8cc613ae5b8f02bfce8634c763ab4   \n",
              "1309  b1f20fe3a819fd6b2ee0eb8fdc3da256604f1e53   \n",
              "1310  b4660a57e9f8cc613ae5b8f02bfce8634c763ab4   \n",
              "\n",
              "                         Certification.Contact unit_of_measurement  \\\n",
              "0     19fef5a731de2db57d16da10287413f5f99bc2dd                   m   \n",
              "1     19fef5a731de2db57d16da10287413f5f99bc2dd                   m   \n",
              "2     0878a7d4b9d35ddbf0fe2ce69a2062cceb45a660                   m   \n",
              "3     19fef5a731de2db57d16da10287413f5f99bc2dd                   m   \n",
              "4     19fef5a731de2db57d16da10287413f5f99bc2dd                   m   \n",
              "...                                        ...                 ...   \n",
              "1306  0eb4ee5b3f47b20b049548a2fd1e7d4a2b70d0a7                   m   \n",
              "1307  0878a7d4b9d35ddbf0fe2ce69a2062cceb45a660                   m   \n",
              "1308  7f521ca403540f81ec99daec7da19c2788393880                   m   \n",
              "1309  724f04ad10ed31dbb9d260f0dfd221ba48be8a95                  ft   \n",
              "1310  7f521ca403540f81ec99daec7da19c2788393880                   m   \n",
              "\n",
              "     altitude_low_meters altitude_high_meters altitude_mean_meters  \n",
              "0                1950.00              2200.00              2075.00  \n",
              "1                1950.00              2200.00              2075.00  \n",
              "2                1600.00              1800.00              1700.00  \n",
              "3                1800.00              2200.00              2000.00  \n",
              "4                1950.00              2200.00              2075.00  \n",
              "...                  ...                  ...                  ...  \n",
              "1306              900.00               900.00               900.00  \n",
              "1307              350.00               350.00               350.00  \n",
              "1308             1100.00              1100.00              1100.00  \n",
              "1309             1417.32              1417.32              1417.32  \n",
              "1310             1400.00              1400.00              1400.00  \n",
              "\n",
              "[1311 rows x 44 columns]"
            ],
            "text/html": [
              "\n",
              "  <div id=\"df-c1920570-77ad-4bc2-8ffc-d7b30d757c61\">\n",
              "    <div class=\"colab-df-container\">\n",
              "      <div>\n",
              "<style scoped>\n",
              "    .dataframe tbody tr th:only-of-type {\n",
              "        vertical-align: middle;\n",
              "    }\n",
              "\n",
              "    .dataframe tbody tr th {\n",
              "        vertical-align: top;\n",
              "    }\n",
              "\n",
              "    .dataframe thead th {\n",
              "        text-align: right;\n",
              "    }\n",
              "</style>\n",
              "<table border=\"1\" class=\"dataframe\">\n",
              "  <thead>\n",
              "    <tr style=\"text-align: right;\">\n",
              "      <th></th>\n",
              "      <th>Unnamed: 0</th>\n",
              "      <th>Species</th>\n",
              "      <th>Owner</th>\n",
              "      <th>Country.of.Origin</th>\n",
              "      <th>Farm.Name</th>\n",
              "      <th>Lot.Number</th>\n",
              "      <th>Mill</th>\n",
              "      <th>ICO.Number</th>\n",
              "      <th>Company</th>\n",
              "      <th>Altitude</th>\n",
              "      <th>...</th>\n",
              "      <th>Color</th>\n",
              "      <th>Category.Two.Defects</th>\n",
              "      <th>Expiration</th>\n",
              "      <th>Certification.Body</th>\n",
              "      <th>Certification.Address</th>\n",
              "      <th>Certification.Contact</th>\n",
              "      <th>unit_of_measurement</th>\n",
              "      <th>altitude_low_meters</th>\n",
              "      <th>altitude_high_meters</th>\n",
              "      <th>altitude_mean_meters</th>\n",
              "    </tr>\n",
              "  </thead>\n",
              "  <tbody>\n",
              "    <tr>\n",
              "      <th>0</th>\n",
              "      <td>1</td>\n",
              "      <td>Arabica</td>\n",
              "      <td>metad plc</td>\n",
              "      <td>Ethiopia</td>\n",
              "      <td>metad plc</td>\n",
              "      <td>NaN</td>\n",
              "      <td>metad plc</td>\n",
              "      <td>2014/2015</td>\n",
              "      <td>metad agricultural developmet plc</td>\n",
              "      <td>1950-2200</td>\n",
              "      <td>...</td>\n",
              "      <td>Green</td>\n",
              "      <td>0</td>\n",
              "      <td>April 3rd, 2016</td>\n",
              "      <td>METAD Agricultural Development plc</td>\n",
              "      <td>309fcf77415a3661ae83e027f7e5f05dad786e44</td>\n",
              "      <td>19fef5a731de2db57d16da10287413f5f99bc2dd</td>\n",
              "      <td>m</td>\n",
              "      <td>1950.00</td>\n",
              "      <td>2200.00</td>\n",
              "      <td>2075.00</td>\n",
              "    </tr>\n",
              "    <tr>\n",
              "      <th>1</th>\n",
              "      <td>2</td>\n",
              "      <td>Arabica</td>\n",
              "      <td>metad plc</td>\n",
              "      <td>Ethiopia</td>\n",
              "      <td>metad plc</td>\n",
              "      <td>NaN</td>\n",
              "      <td>metad plc</td>\n",
              "      <td>2014/2015</td>\n",
              "      <td>metad agricultural developmet plc</td>\n",
              "      <td>1950-2200</td>\n",
              "      <td>...</td>\n",
              "      <td>Green</td>\n",
              "      <td>1</td>\n",
              "      <td>April 3rd, 2016</td>\n",
              "      <td>METAD Agricultural Development plc</td>\n",
              "      <td>309fcf77415a3661ae83e027f7e5f05dad786e44</td>\n",
              "      <td>19fef5a731de2db57d16da10287413f5f99bc2dd</td>\n",
              "      <td>m</td>\n",
              "      <td>1950.00</td>\n",
              "      <td>2200.00</td>\n",
              "      <td>2075.00</td>\n",
              "    </tr>\n",
              "    <tr>\n",
              "      <th>2</th>\n",
              "      <td>3</td>\n",
              "      <td>Arabica</td>\n",
              "      <td>grounds for health admin</td>\n",
              "      <td>Guatemala</td>\n",
              "      <td>san marcos barrancas \"san cristobal cuch</td>\n",
              "      <td>NaN</td>\n",
              "      <td>NaN</td>\n",
              "      <td>NaN</td>\n",
              "      <td>NaN</td>\n",
              "      <td>1600 - 1800 m</td>\n",
              "      <td>...</td>\n",
              "      <td>NaN</td>\n",
              "      <td>0</td>\n",
              "      <td>May 31st, 2011</td>\n",
              "      <td>Specialty Coffee Association</td>\n",
              "      <td>36d0d00a3724338ba7937c52a378d085f2172daa</td>\n",
              "      <td>0878a7d4b9d35ddbf0fe2ce69a2062cceb45a660</td>\n",
              "      <td>m</td>\n",
              "      <td>1600.00</td>\n",
              "      <td>1800.00</td>\n",
              "      <td>1700.00</td>\n",
              "    </tr>\n",
              "    <tr>\n",
              "      <th>3</th>\n",
              "      <td>4</td>\n",
              "      <td>Arabica</td>\n",
              "      <td>yidnekachew dabessa</td>\n",
              "      <td>Ethiopia</td>\n",
              "      <td>yidnekachew dabessa coffee plantation</td>\n",
              "      <td>NaN</td>\n",
              "      <td>wolensu</td>\n",
              "      <td>NaN</td>\n",
              "      <td>yidnekachew debessa coffee plantation</td>\n",
              "      <td>1800-2200</td>\n",
              "      <td>...</td>\n",
              "      <td>Green</td>\n",
              "      <td>2</td>\n",
              "      <td>March 25th, 2016</td>\n",
              "      <td>METAD Agricultural Development plc</td>\n",
              "      <td>309fcf77415a3661ae83e027f7e5f05dad786e44</td>\n",
              "      <td>19fef5a731de2db57d16da10287413f5f99bc2dd</td>\n",
              "      <td>m</td>\n",
              "      <td>1800.00</td>\n",
              "      <td>2200.00</td>\n",
              "      <td>2000.00</td>\n",
              "    </tr>\n",
              "    <tr>\n",
              "      <th>4</th>\n",
              "      <td>5</td>\n",
              "      <td>Arabica</td>\n",
              "      <td>metad plc</td>\n",
              "      <td>Ethiopia</td>\n",
              "      <td>metad plc</td>\n",
              "      <td>NaN</td>\n",
              "      <td>metad plc</td>\n",
              "      <td>2014/2015</td>\n",
              "      <td>metad agricultural developmet plc</td>\n",
              "      <td>1950-2200</td>\n",
              "      <td>...</td>\n",
              "      <td>Green</td>\n",
              "      <td>2</td>\n",
              "      <td>April 3rd, 2016</td>\n",
              "      <td>METAD Agricultural Development plc</td>\n",
              "      <td>309fcf77415a3661ae83e027f7e5f05dad786e44</td>\n",
              "      <td>19fef5a731de2db57d16da10287413f5f99bc2dd</td>\n",
              "      <td>m</td>\n",
              "      <td>1950.00</td>\n",
              "      <td>2200.00</td>\n",
              "      <td>2075.00</td>\n",
              "    </tr>\n",
              "    <tr>\n",
              "      <th>...</th>\n",
              "      <td>...</td>\n",
              "      <td>...</td>\n",
              "      <td>...</td>\n",
              "      <td>...</td>\n",
              "      <td>...</td>\n",
              "      <td>...</td>\n",
              "      <td>...</td>\n",
              "      <td>...</td>\n",
              "      <td>...</td>\n",
              "      <td>...</td>\n",
              "      <td>...</td>\n",
              "      <td>...</td>\n",
              "      <td>...</td>\n",
              "      <td>...</td>\n",
              "      <td>...</td>\n",
              "      <td>...</td>\n",
              "      <td>...</td>\n",
              "      <td>...</td>\n",
              "      <td>...</td>\n",
              "      <td>...</td>\n",
              "      <td>...</td>\n",
              "    </tr>\n",
              "    <tr>\n",
              "      <th>1306</th>\n",
              "      <td>1307</td>\n",
              "      <td>Arabica</td>\n",
              "      <td>juan carlos garcia lopez</td>\n",
              "      <td>Mexico</td>\n",
              "      <td>el centenario</td>\n",
              "      <td>NaN</td>\n",
              "      <td>la esperanza, municipio juchique de ferrer, ve...</td>\n",
              "      <td>1104328663</td>\n",
              "      <td>terra mia</td>\n",
              "      <td>900</td>\n",
              "      <td>...</td>\n",
              "      <td>None</td>\n",
              "      <td>20</td>\n",
              "      <td>September 17th, 2013</td>\n",
              "      <td>AMECAFE</td>\n",
              "      <td>59e396ad6e22a1c22b248f958e1da2bd8af85272</td>\n",
              "      <td>0eb4ee5b3f47b20b049548a2fd1e7d4a2b70d0a7</td>\n",
              "      <td>m</td>\n",
              "      <td>900.00</td>\n",
              "      <td>900.00</td>\n",
              "      <td>900.00</td>\n",
              "    </tr>\n",
              "    <tr>\n",
              "      <th>1307</th>\n",
              "      <td>1308</td>\n",
              "      <td>Arabica</td>\n",
              "      <td>myriam kaplan-pasternak</td>\n",
              "      <td>Haiti</td>\n",
              "      <td>200 farms</td>\n",
              "      <td>NaN</td>\n",
              "      <td>coeb koperativ ekselsyo basen (350 members)</td>\n",
              "      <td>NaN</td>\n",
              "      <td>haiti coffee</td>\n",
              "      <td>~350m</td>\n",
              "      <td>...</td>\n",
              "      <td>Blue-Green</td>\n",
              "      <td>16</td>\n",
              "      <td>May 24th, 2013</td>\n",
              "      <td>Specialty Coffee Association</td>\n",
              "      <td>36d0d00a3724338ba7937c52a378d085f2172daa</td>\n",
              "      <td>0878a7d4b9d35ddbf0fe2ce69a2062cceb45a660</td>\n",
              "      <td>m</td>\n",
              "      <td>350.00</td>\n",
              "      <td>350.00</td>\n",
              "      <td>350.00</td>\n",
              "    </tr>\n",
              "    <tr>\n",
              "      <th>1308</th>\n",
              "      <td>1309</td>\n",
              "      <td>Arabica</td>\n",
              "      <td>exportadora atlantic, s.a.</td>\n",
              "      <td>Nicaragua</td>\n",
              "      <td>finca las marías</td>\n",
              "      <td>017-053-0211/ 017-053-0212</td>\n",
              "      <td>beneficio atlantic condega</td>\n",
              "      <td>017-053-0211/ 017-053-0212</td>\n",
              "      <td>exportadora atlantic s.a</td>\n",
              "      <td>1100</td>\n",
              "      <td>...</td>\n",
              "      <td>Green</td>\n",
              "      <td>5</td>\n",
              "      <td>June 6th, 2018</td>\n",
              "      <td>Instituto Hondureño del Café</td>\n",
              "      <td>b4660a57e9f8cc613ae5b8f02bfce8634c763ab4</td>\n",
              "      <td>7f521ca403540f81ec99daec7da19c2788393880</td>\n",
              "      <td>m</td>\n",
              "      <td>1100.00</td>\n",
              "      <td>1100.00</td>\n",
              "      <td>1100.00</td>\n",
              "    </tr>\n",
              "    <tr>\n",
              "      <th>1309</th>\n",
              "      <td>1310</td>\n",
              "      <td>Arabica</td>\n",
              "      <td>juan luis alvarado romero</td>\n",
              "      <td>Guatemala</td>\n",
              "      <td>finca el limon</td>\n",
              "      <td>NaN</td>\n",
              "      <td>beneficio serben</td>\n",
              "      <td>11/853/165</td>\n",
              "      <td>unicafe</td>\n",
              "      <td>4650</td>\n",
              "      <td>...</td>\n",
              "      <td>Green</td>\n",
              "      <td>4</td>\n",
              "      <td>May 24th, 2013</td>\n",
              "      <td>Asociacion Nacional Del Café</td>\n",
              "      <td>b1f20fe3a819fd6b2ee0eb8fdc3da256604f1e53</td>\n",
              "      <td>724f04ad10ed31dbb9d260f0dfd221ba48be8a95</td>\n",
              "      <td>ft</td>\n",
              "      <td>1417.32</td>\n",
              "      <td>1417.32</td>\n",
              "      <td>1417.32</td>\n",
              "    </tr>\n",
              "    <tr>\n",
              "      <th>1310</th>\n",
              "      <td>1312</td>\n",
              "      <td>Arabica</td>\n",
              "      <td>bismarck castro</td>\n",
              "      <td>Honduras</td>\n",
              "      <td>los hicaques</td>\n",
              "      <td>103</td>\n",
              "      <td>cigrah s.a de c.v.</td>\n",
              "      <td>13-111-053</td>\n",
              "      <td>cigrah s.a de c.v</td>\n",
              "      <td>1400</td>\n",
              "      <td>...</td>\n",
              "      <td>Green</td>\n",
              "      <td>2</td>\n",
              "      <td>April 28th, 2018</td>\n",
              "      <td>Instituto Hondureño del Café</td>\n",
              "      <td>b4660a57e9f8cc613ae5b8f02bfce8634c763ab4</td>\n",
              "      <td>7f521ca403540f81ec99daec7da19c2788393880</td>\n",
              "      <td>m</td>\n",
              "      <td>1400.00</td>\n",
              "      <td>1400.00</td>\n",
              "      <td>1400.00</td>\n",
              "    </tr>\n",
              "  </tbody>\n",
              "</table>\n",
              "<p>1311 rows × 44 columns</p>\n",
              "</div>\n",
              "      <button class=\"colab-df-convert\" onclick=\"convertToInteractive('df-c1920570-77ad-4bc2-8ffc-d7b30d757c61')\"\n",
              "              title=\"Convert this dataframe to an interactive table.\"\n",
              "              style=\"display:none;\">\n",
              "        \n",
              "  <svg xmlns=\"http://www.w3.org/2000/svg\" height=\"24px\"viewBox=\"0 0 24 24\"\n",
              "       width=\"24px\">\n",
              "    <path d=\"M0 0h24v24H0V0z\" fill=\"none\"/>\n",
              "    <path d=\"M18.56 5.44l.94 2.06.94-2.06 2.06-.94-2.06-.94-.94-2.06-.94 2.06-2.06.94zm-11 1L8.5 8.5l.94-2.06 2.06-.94-2.06-.94L8.5 2.5l-.94 2.06-2.06.94zm10 10l.94 2.06.94-2.06 2.06-.94-2.06-.94-.94-2.06-.94 2.06-2.06.94z\"/><path d=\"M17.41 7.96l-1.37-1.37c-.4-.4-.92-.59-1.43-.59-.52 0-1.04.2-1.43.59L10.3 9.45l-7.72 7.72c-.78.78-.78 2.05 0 2.83L4 21.41c.39.39.9.59 1.41.59.51 0 1.02-.2 1.41-.59l7.78-7.78 2.81-2.81c.8-.78.8-2.07 0-2.86zM5.41 20L4 18.59l7.72-7.72 1.47 1.35L5.41 20z\"/>\n",
              "  </svg>\n",
              "      </button>\n",
              "      \n",
              "  <style>\n",
              "    .colab-df-container {\n",
              "      display:flex;\n",
              "      flex-wrap:wrap;\n",
              "      gap: 12px;\n",
              "    }\n",
              "\n",
              "    .colab-df-convert {\n",
              "      background-color: #E8F0FE;\n",
              "      border: none;\n",
              "      border-radius: 50%;\n",
              "      cursor: pointer;\n",
              "      display: none;\n",
              "      fill: #1967D2;\n",
              "      height: 32px;\n",
              "      padding: 0 0 0 0;\n",
              "      width: 32px;\n",
              "    }\n",
              "\n",
              "    .colab-df-convert:hover {\n",
              "      background-color: #E2EBFA;\n",
              "      box-shadow: 0px 1px 2px rgba(60, 64, 67, 0.3), 0px 1px 3px 1px rgba(60, 64, 67, 0.15);\n",
              "      fill: #174EA6;\n",
              "    }\n",
              "\n",
              "    [theme=dark] .colab-df-convert {\n",
              "      background-color: #3B4455;\n",
              "      fill: #D2E3FC;\n",
              "    }\n",
              "\n",
              "    [theme=dark] .colab-df-convert:hover {\n",
              "      background-color: #434B5C;\n",
              "      box-shadow: 0px 1px 3px 1px rgba(0, 0, 0, 0.15);\n",
              "      filter: drop-shadow(0px 1px 2px rgba(0, 0, 0, 0.3));\n",
              "      fill: #FFFFFF;\n",
              "    }\n",
              "  </style>\n",
              "\n",
              "      <script>\n",
              "        const buttonEl =\n",
              "          document.querySelector('#df-c1920570-77ad-4bc2-8ffc-d7b30d757c61 button.colab-df-convert');\n",
              "        buttonEl.style.display =\n",
              "          google.colab.kernel.accessAllowed ? 'block' : 'none';\n",
              "\n",
              "        async function convertToInteractive(key) {\n",
              "          const element = document.querySelector('#df-c1920570-77ad-4bc2-8ffc-d7b30d757c61');\n",
              "          const dataTable =\n",
              "            await google.colab.kernel.invokeFunction('convertToInteractive',\n",
              "                                                     [key], {});\n",
              "          if (!dataTable) return;\n",
              "\n",
              "          const docLinkHtml = 'Like what you see? Visit the ' +\n",
              "            '<a target=\"_blank\" href=https://colab.research.google.com/notebooks/data_table.ipynb>data table notebook</a>'\n",
              "            + ' to learn more about interactive tables.';\n",
              "          element.innerHTML = '';\n",
              "          dataTable['output_type'] = 'display_data';\n",
              "          await google.colab.output.renderOutput(dataTable, element);\n",
              "          const docLink = document.createElement('div');\n",
              "          docLink.innerHTML = docLinkHtml;\n",
              "          element.appendChild(docLink);\n",
              "        }\n",
              "      </script>\n",
              "    </div>\n",
              "  </div>\n",
              "  "
            ]
          },
          "metadata": {},
          "execution_count": 5
        }
      ]
    },
    {
      "cell_type": "code",
      "source": [
        "from pyspark.sql.types import *\n",
        "\n",
        "# Auxiliar functions\n",
        "def equivalent_type(f):\n",
        "    if f == 'datetime64[ns]': return TimestampType()\n",
        "    elif f == 'int64': return LongType()\n",
        "    elif f == 'int32': return IntegerType()\n",
        "    elif f == 'float64': return DoubleType()\n",
        "    elif f == 'float32': return FloatType()\n",
        "    else: return StringType()\n",
        "\n",
        "def define_structure(string, format_type):\n",
        "    try: typo = equivalent_type(format_type)\n",
        "    except: typo = StringType()\n",
        "    return StructField(string, typo)\n",
        "\n",
        "# Given pandas dataframe, it will return a spark's dataframe.\n",
        "def pandas_to_spark(pandas_df):\n",
        "    columns = list(pandas_df.columns)\n",
        "    types = list(pandas_df.dtypes)\n",
        "    struct_list = []\n",
        "    for column, typo in zip(columns, types): \n",
        "      struct_list.append(define_structure(column, typo))\n",
        "    p_schema = StructType(struct_list)\n",
        "    return spark.createDataFrame(pandas_df, p_schema)"
      ],
      "metadata": {
        "id": "RJHm_MAzSY57"
      },
      "execution_count": null,
      "outputs": []
    },
    {
      "cell_type": "code",
      "source": [
        "df_arabica = pandas_to_spark(raw_arabica)"
      ],
      "metadata": {
        "id": "Au2ZseQqSdAK"
      },
      "execution_count": null,
      "outputs": []
    },
    {
      "cell_type": "code",
      "source": [
        "df_arabica.show(10)"
      ],
      "metadata": {
        "id": "M_zELbsSNvQR",
        "colab": {
          "base_uri": "https://localhost:8080/"
        },
        "outputId": "71ab47fa-a31e-411d-bd61-22499b00ea57"
      },
      "execution_count": null,
      "outputs": [
        {
          "output_type": "stream",
          "name": "stdout",
          "text": [
            "+----------+-------+--------------------+-----------------+--------------------+----------+-----------------+----------+--------------------+-------------+--------------------+--------------------+--------------+----------+--------------------+------------+--------------------+--------------------+-------+-----------------+-----+------+----------+-------+----+-------+----------+---------+---------+-------------+----------------+--------+--------------------+-------+------------+--------------------+--------------------+--------------------+---------------------+---------------------+-------------------+-------------------+--------------------+--------------------+\n",
            "|Unnamed: 0|Species|               Owner|Country.of.Origin|           Farm.Name|Lot.Number|             Mill|ICO.Number|             Company|     Altitude|              Region|            Producer|Number.of.Bags|Bag.Weight|  In.Country.Partner|Harvest.Year|        Grading.Date|             Owner.1|Variety|Processing.Method|Aroma|Flavor|Aftertaste|Acidity|Body|Balance|Uniformity|Clean.Cup|Sweetness|Cupper.Points|Total.Cup.Points|Moisture|Category.One.Defects|Quakers|       Color|Category.Two.Defects|          Expiration|  Certification.Body|Certification.Address|Certification.Contact|unit_of_measurement|altitude_low_meters|altitude_high_meters|altitude_mean_meters|\n",
            "+----------+-------+--------------------+-----------------+--------------------+----------+-----------------+----------+--------------------+-------------+--------------------+--------------------+--------------+----------+--------------------+------------+--------------------+--------------------+-------+-----------------+-----+------+----------+-------+----+-------+----------+---------+---------+-------------+----------------+--------+--------------------+-------+------------+--------------------+--------------------+--------------------+---------------------+---------------------+-------------------+-------------------+--------------------+--------------------+\n",
            "|         1|Arabica|           metad plc|         Ethiopia|           metad plc|       NaN|        metad plc| 2014/2015|metad agricultura...|    1950-2200|        guji-hambela|           METAD PLC|           300|     60 kg|METAD Agricultura...|        2014|     April 4th, 2015|           metad plc|    NaN|     Washed / Wet| 8.67|  8.83|      8.67|   8.75| 8.5|   8.42|      10.0|     10.0|     10.0|         8.75|           90.58|    0.12|                   0|    0.0|       Green|                   0|     April 3rd, 2016|METAD Agricultura...| 309fcf77415a3661a...| 19fef5a731de2db57...|                  m|             1950.0|              2200.0|              2075.0|\n",
            "|         2|Arabica|           metad plc|         Ethiopia|           metad plc|       NaN|        metad plc| 2014/2015|metad agricultura...|    1950-2200|        guji-hambela|           METAD PLC|           300|     60 kg|METAD Agricultura...|        2014|     April 4th, 2015|           metad plc|  Other|     Washed / Wet| 8.75|  8.67|       8.5|   8.58|8.42|   8.42|      10.0|     10.0|     10.0|         8.58|           89.92|    0.12|                   0|    0.0|       Green|                   1|     April 3rd, 2016|METAD Agricultura...| 309fcf77415a3661a...| 19fef5a731de2db57...|                  m|             1950.0|              2200.0|              2075.0|\n",
            "|         3|Arabica|grounds for healt...|        Guatemala|san marcos barran...|       NaN|              NaN|       NaN|                 NaN|1600 - 1800 m|                 NaN|                 NaN|             5|         1|Specialty Coffee ...|         NaN|      May 31st, 2010|Grounds for Healt...|Bourbon|              NaN| 8.42|   8.5|      8.42|   8.42|8.33|   8.42|      10.0|     10.0|     10.0|         9.25|           89.75|     0.0|                   0|    0.0|         NaN|                   0|      May 31st, 2011|Specialty Coffee ...| 36d0d00a3724338ba...| 0878a7d4b9d35ddbf...|                  m|             1600.0|              1800.0|              1700.0|\n",
            "|         4|Arabica| yidnekachew dabessa|         Ethiopia|yidnekachew dabes...|       NaN|          wolensu|       NaN|yidnekachew debes...|    1800-2200|              oromia|Yidnekachew Dabes...|           320|     60 kg|METAD Agricultura...|        2014|    March 26th, 2015| Yidnekachew Dabessa|    NaN|    Natural / Dry| 8.17|  8.58|      8.42|   8.42| 8.5|   8.25|      10.0|     10.0|     10.0|         8.67|            89.0|    0.11|                   0|    0.0|       Green|                   2|    March 25th, 2016|METAD Agricultura...| 309fcf77415a3661a...| 19fef5a731de2db57...|                  m|             1800.0|              2200.0|              2000.0|\n",
            "|         5|Arabica|           metad plc|         Ethiopia|           metad plc|       NaN|        metad plc| 2014/2015|metad agricultura...|    1950-2200|        guji-hambela|           METAD PLC|           300|     60 kg|METAD Agricultura...|        2014|     April 4th, 2015|           metad plc|  Other|     Washed / Wet| 8.25|   8.5|      8.25|    8.5|8.42|   8.33|      10.0|     10.0|     10.0|         8.58|           88.83|    0.12|                   0|    0.0|       Green|                   2|     April 3rd, 2016|METAD Agricultura...| 309fcf77415a3661a...| 19fef5a731de2db57...|                  m|             1950.0|              2200.0|              2075.0|\n",
            "|         6|Arabica|           ji-ae ahn|           Brazil|                 NaN|       NaN|              NaN|       NaN|                 NaN|          NaN|                 NaN|                 NaN|           100|     30 kg|Specialty Coffee ...|        2013| September 3rd, 2013|           Ji-Ae Ahn|    NaN|    Natural / Dry| 8.58|  8.42|      8.42|    8.5|8.25|   8.33|      10.0|     10.0|     10.0|         8.33|           88.83|    0.11|                   0|    0.0|Bluish-Green|                   1| September 3rd, 2014|Specialty Coffee ...| 726e4891cf2c9a484...| b70da261fcc84831e...|                  m|                NaN|                 NaN|                 NaN|\n",
            "|         7|Arabica|       hugo valdivia|             Peru|                 NaN|       NaN|              hvc|       NaN|richmond investme...|          NaN|                 NaN|                 HVC|           100|     69 kg|Specialty Coffee ...|        2012|September 17th, 2012|       Hugo Valdivia|  Other|     Washed / Wet| 8.42|   8.5|      8.33|    8.5|8.25|   8.25|      10.0|     10.0|     10.0|          8.5|           88.75|    0.11|                   0|    0.0|Bluish-Green|                   0|September 17th, 2013|Specialty Coffee ...| 726e4891cf2c9a484...| b70da261fcc84831e...|                  m|                NaN|                 NaN|                 NaN|\n",
            "|         8|Arabica|ethiopia commodit...|         Ethiopia|               aolme|       NaN|          c.p.w.e|  010/0338|                 NaN|    1570-1700|              oromia|Bazen Agricultura...|           300|     60 kg|Ethiopia Commodit...|  March 2010| September 2nd, 2010|Ethiopia Commodit...|    NaN|              NaN| 8.25|  8.33|       8.5|   8.42|8.33|    8.5|      10.0|     10.0|     9.33|          9.0|           88.67|    0.03|                   0|    0.0|         NaN|                   0| September 2nd, 2011|Ethiopia Commodit...| a176532400aebdc34...| 61bbaf6a9f341e578...|                  m|             1570.0|              1700.0|              1635.0|\n",
            "|         9|Arabica|ethiopia commodit...|         Ethiopia|               aolme|       NaN|          c.p.w.e|  010/0338|                 NaN|    1570-1700|             oromiya|Bazen Agricultura...|           300|     60 kg|Ethiopia Commodit...|  March 2010| September 2nd, 2010|Ethiopia Commodit...|    NaN|              NaN| 8.67|  8.67|      8.58|   8.42|8.33|   8.42|      9.33|     10.0|     9.33|         8.67|           88.42|    0.03|                   0|    0.0|         NaN|                   0| September 2nd, 2011|Ethiopia Commodit...| a176532400aebdc34...| 61bbaf6a9f341e578...|                  m|             1570.0|              1700.0|              1635.0|\n",
            "|        10|Arabica|diamond enterpris...|         Ethiopia|   tulla coffee farm|       NaN|tulla coffee farm|   2014/15|diamond enterpris...|    1795-1850|snnp/kaffa zone,g...|Diamond Enterpris...|            50|     60 kg|METAD Agricultura...|        2014|    March 30th, 2015|Diamond Enterpris...|  Other|    Natural / Dry| 8.08|  8.58|       8.5|    8.5|7.67|   8.42|      10.0|     10.0|     10.0|          8.5|           88.25|     0.1|                   0|    0.0|       Green|                   4|    March 29th, 2016|METAD Agricultura...| 309fcf77415a3661a...| 19fef5a731de2db57...|                  m|             1795.0|              1850.0|              1822.5|\n",
            "+----------+-------+--------------------+-----------------+--------------------+----------+-----------------+----------+--------------------+-------------+--------------------+--------------------+--------------+----------+--------------------+------------+--------------------+--------------------+-------+-----------------+-----+------+----------+-------+----+-------+----------+---------+---------+-------------+----------------+--------+--------------------+-------+------------+--------------------+--------------------+--------------------+---------------------+---------------------+-------------------+-------------------+--------------------+--------------------+\n",
            "only showing top 10 rows\n",
            "\n"
          ]
        }
      ]
    },
    {
      "cell_type": "code",
      "source": [
        "tempList = [] #Edit01\n",
        "for col in df_arabica.columns:\n",
        "        new_name = col.strip()\n",
        "        new_name = \"\".join(new_name.split())\n",
        "        new_name = new_name.replace('.','_') # EDIT\n",
        "        tempList.append(new_name) #Edit02\n",
        "print(tempList) #Just for the sake of it #Edit03\n",
        "\n",
        "df_arabica = df_arabica.toDF(*tempList) #Edit04"
      ],
      "metadata": {
        "id": "P_Lzm4nic28s",
        "colab": {
          "base_uri": "https://localhost:8080/"
        },
        "outputId": "5e4f1cd9-5f62-49cd-bc91-97b035b1f7cd"
      },
      "execution_count": null,
      "outputs": [
        {
          "output_type": "stream",
          "name": "stdout",
          "text": [
            "['Unnamed:0', 'Species', 'Owner', 'Country_of_Origin', 'Farm_Name', 'Lot_Number', 'Mill', 'ICO_Number', 'Company', 'Altitude', 'Region', 'Producer', 'Number_of_Bags', 'Bag_Weight', 'In_Country_Partner', 'Harvest_Year', 'Grading_Date', 'Owner_1', 'Variety', 'Processing_Method', 'Aroma', 'Flavor', 'Aftertaste', 'Acidity', 'Body', 'Balance', 'Uniformity', 'Clean_Cup', 'Sweetness', 'Cupper_Points', 'Total_Cup_Points', 'Moisture', 'Category_One_Defects', 'Quakers', 'Color', 'Category_Two_Defects', 'Expiration', 'Certification_Body', 'Certification_Address', 'Certification_Contact', 'unit_of_measurement', 'altitude_low_meters', 'altitude_high_meters', 'altitude_mean_meters']\n"
          ]
        }
      ]
    },
    {
      "cell_type": "code",
      "source": [
        "df_arabica.filter(df_arabica[\"Country_of_Origin\"]=='Brazil')\\\n",
        "          .select('Farm_name')\\\n",
        "          .distinct()\\\n",
        "          .show(100, 100)"
      ],
      "metadata": {
        "colab": {
          "base_uri": "https://localhost:8080/"
        },
        "id": "s7g2MTjibnWr",
        "outputId": "46e7364d-7980-4871-f912-1ee37556ee69"
      },
      "execution_count": null,
      "outputs": [
        {
          "output_type": "stream",
          "name": "stdout",
          "text": [
            "+-----------------------------------+\n",
            "|                          Farm_name|\n",
            "+-----------------------------------+\n",
            "|                  fazenda rio verde|\n",
            "|                    fazenda do lobo|\n",
            "|                fazenda grota funda|\n",
            "|                        sitio claro|\n",
            "|                        santa alina|\n",
            "|                   fazenda chamusca|\n",
            "|                        santa maria|\n",
            "|                        capoeirinha|\n",
            "|                  fazenda do sertao|\n",
            "|                         santa fé 2|\n",
            "|                    café do paraíso|\n",
            "|            cachoeira da grama farm|\n",
            "|             são francisco da serra|\n",
            "|                     fazenda jericó|\n",
            "|                        sertao farm|\n",
            "|                   campo das flores|\n",
            "|                       olhos d'agua|\n",
            "|       fazenda serra de três barras|\n",
            "|                    fazenda pantano|\n",
            "|              pereira estate coffee|\n",
            "|                          rio verde|\n",
            "|                  sitío são geraldo|\n",
            "|                   fazenda baipendi|\n",
            "|                         água limpa|\n",
            "|                    fazenda kaquend|\n",
            "|                                NaN|\n",
            "|              fazenda santo antonio|\n",
            "|               fazenda vista alegre|\n",
            "|                    fazenda recreio|\n",
            "|                 fazenda capoeirnha|\n",
            "|                            pantano|\n",
            "|              fazenda são sebastião|\n",
            "|                      santa bárbara|\n",
            "|                      santa mariana|\n",
            "|                             sertao|\n",
            "|       são rafael_ ra/ras certified|\n",
            "|                  sitío santa luzia|\n",
            "|           fazenda são josé mirante|\n",
            "|                  são josé da lagoa|\n",
            "|              fazenda rio brilhante|\n",
            "|                  fazenda são pedro|\n",
            "|                 fazenda sacramento|\n",
            "|                        café citrus|\n",
            "|          santa mariana/são vicente|\n",
            "|                           cianorte|\n",
            "|                            juliana|\n",
            "|sitío corrego da olaria/são caetano|\n",
            "|                fazenda serra negra|\n",
            "|                 fazendas klem ltda|\n",
            "|                    castelhana farm|\n",
            "|                       leticia farm|\n",
            "|                             helena|\n",
            "|                            caxambu|\n",
            "+-----------------------------------+\n",
            "\n"
          ]
        }
      ]
    },
    {
      "cell_type": "code",
      "source": [
        "df_farms = spark.createDataFrame(\n",
        "    [\n",
        "        (\"fazenda rio verde\",-21.877600079894428, -45.17833587173798 ),  # create your data here, be consistent in the types.\n",
        "        (\"fazenda do lobo\", -20.05845833645814, -45.551377369807916),\n",
        "        (\"fazenda grota funda\",-4.498676298642221, -46.01438009152326),\n",
        "        (\"sitio claro\",-12.404400112670487, -57.0307320652044),\n",
        "        (\"santa alina\",-21.76121880758086, -46.674253002625804),\n",
        "        (\"fazenda chamusca\",-21.4532483711391, -45.22708818550831),\n",
        "        (\"santa maria\",-16.609194745742165, -46.98365752985455),\n",
        "        (\"capoeirinha\",-18.64698614414741, -45.796849953979795),\n",
        "        (\"fazenda do sertao\",-22.09933939187727, -45.18968007378277),\n",
        "        (\"santa fé 2\",-17.582654936016926, -47.2198752950817),\n",
        "        (\"café do paraíso\",-22.094568087843687, -45.155496432162685),\n",
        "        (\"cachoeira da grama farm\",-21.76626556295618, -46.702161544954144),\n",
        "        (\"são francisco da serra\",-22.629913000779446, -44.601043902591805),\n",
        "        (\"fazenda jericó\",-18.676315608302055, -45.70281563093488),\n",
        "        (\"sertao farm\",-22.099418916815903, -45.18965861611114),\n",
        "        (\"campo das flores\",-20.312258124962906, -43.28548394936318),\n",
        "        (\"olhos d'agua\",-18.63831446703355, -46.952789277527444),\n",
        "        (\"fazenda serra de três barras\",-19.560780988980817, -46.579303497451384),\n",
        "        (\"fazenda pantano\",-18.631997524421426, -46.82473127385452),\n",
        "        (\"pereira estate coffee\",-22.112480964214626, -45.15508902245408),\n",
        "        (\"rio verde\",-21.940510105475326, -45.176192869009476),\n",
        "        (\"sitío são geraldo\",-22.59528143237296, -46.66759241371165),\n",
        "        (\"fazenda baipendi\",-21.45008093579659, -46.8357381855336),\n",
        "        (\"água limpa\",-21.44645605895183, -46.82635044153258),\n",
        "        (\"fazenda kaquend\",-21.435236392716707, -46.83244978479159),\n",
        "        (\"fazenda santo antonio\",-21.40862617568116, -46.80560442679252),\n",
        "        (\"fazenda vista alegre\",-21.44237673402853, -46.818513026788274),\n",
        "        (\"fazenda recreio\",-21.780100162105256, -46.67880344388111),\n",
        "        (\"fazenda capoeirnha\",-21.761009557830032, -46.67507912298348),\n",
        "        (\"pantano\",-21.444638601462618, -46.81747769417689),\n",
        "        (\"fazenda são sebastião\",-21.444863288363614, -46.827235570452125),\n",
        "        (\"santa bárbara\",-18.52732198399872, -47.569893903127564),\n",
        "        (\"santa mariana\",-23.19046310851501, -50.55948683365515),\n",
        "        (\"sertao\",-22.095760723175886, -45.189755175672296),\n",
        "        (\"são rafael_ ra/ras certified\",-22.784292492565246, -47.032534461666536),\n",
        "        (\"sitío santa luzia\",-22.366016295045306, -46.47371725096838),\n",
        "        (\"fazenda são josé mirante\",-22.785019797545694, -47.03177457322967),\n",
        "        (\"cianorte\",-22.774138613223663, -47.02968245276757),\n",
        "        (\"juliana\",-21.46270024286904, -46.832515362350975),\n",
        "        (\"sitío corrego da olaria/são caetano\",-22.745464486282955, -47.0338567362583),\n",
        "        (\"fazenda serra negra\",-21., -46.674253002625804),\n",
        "        (\"fazendas klem ltda\",-20.27591897959779, -41.876604035124465),\n",
        "        (\"castelhana farm\",-18.922960557030457, -47.45831617257145),\n",
        "        (\"leticia farm\",-19.807319369835636, -42.215697182335234),\n",
        "        (\"helena\",-22.107657064931225, -48.32067672583973),\n",
        "        (\"caxambu\",-21.339808722609096, -45.42201735838091),\n",
        "    ],\n",
        "    [\"Farm_name\", \"long\",\"lat\"]  # add your column names here\n",
        ")"
      ],
      "metadata": {
        "id": "v-zjcLdpdT-O"
      },
      "execution_count": null,
      "outputs": []
    },
    {
      "cell_type": "code",
      "source": [
        "df_arabica = df_arabica.join(df_farms, on=['Farm_name'], how='left_outer')"
      ],
      "metadata": {
        "id": "o3nRDSNLsd3X"
      },
      "execution_count": null,
      "outputs": []
    },
    {
      "cell_type": "code",
      "source": [
        "df_arabica.filter(df_arabica[\"Country_of_Origin\"]=='Brazil')\\\n",
        "          .select(['Farm_name',\"long\",\"lat\",\"Total_Cup_Points\", \"Aroma\",\"Altitude\"])\\\n",
        "          .show(100, 100)"
      ],
      "metadata": {
        "colab": {
          "base_uri": "https://localhost:8080/"
        },
        "id": "dWOcGCMMughI",
        "outputId": "c6adda8a-c933-4b55-8800-f47604f5ed03"
      },
      "execution_count": null,
      "outputs": [
        {
          "output_type": "stream",
          "name": "stdout",
          "text": [
            "+----------------------------+-------------------+-------------------+----------------+-----+--------------+\n",
            "|                   Farm_name|               long|                lat|Total_Cup_Points|Aroma|      Altitude|\n",
            "+----------------------------+-------------------+-------------------+----------------+-----+--------------+\n",
            "|           fazenda rio verde|-21.877600079894428| -45.17833587173798|            84.0| 7.58|          1260|\n",
            "|           fazenda rio verde|-21.877600079894428| -45.17833587173798|           83.83| 7.92|          1260|\n",
            "|             fazenda do lobo| -20.05845833645814|-45.551377369807916|           83.17| 7.75|         1000m|\n",
            "|         fazenda grota funda| -4.498676298642221| -46.01438009152326|           84.92|  8.0|         1200m|\n",
            "|                 sitio claro|-12.404400112670487|  -57.0307320652044|           84.92|  8.0|        1000 m|\n",
            "|                 santa alina| -21.76121880758086|-46.674253002625804|           84.33| 8.17|1200m to 1350m|\n",
            "|            fazenda chamusca|  -21.4532483711391| -45.22708818550831|           82.58| 7.58|     900-1050m|\n",
            "|                 santa maria|-16.609194745742165| -46.98365752985455|           82.67| 7.33|           NaN|\n",
            "|                 capoeirinha| -18.64698614414741|-45.796849953979795|           83.92| 7.58|           934|\n",
            "|                 capoeirinha| -18.64698614414741|-45.796849953979795|           83.67| 7.58|           934|\n",
            "|                 capoeirinha| -18.64698614414741|-45.796849953979795|           83.08| 7.58|           905|\n",
            "|                 capoeirinha| -18.64698614414741|-45.796849953979795|            83.0|  7.5|           872|\n",
            "|                 capoeirinha| -18.64698614414741|-45.796849953979795|           82.83| 7.67|           905|\n",
            "|                 capoeirinha| -18.64698614414741|-45.796849953979795|           82.75|  7.5|           905|\n",
            "|                 capoeirinha| -18.64698614414741|-45.796849953979795|           82.67|  7.5|           890|\n",
            "|                 capoeirinha| -18.64698614414741|-45.796849953979795|           82.67|  7.5|           934|\n",
            "|           fazenda do sertao| -22.09933939187727| -45.18968007378277|           83.83| 7.83|       1.250 m|\n",
            "|                  santa fé 2|-17.582654936016926|  -47.2198752950817|           82.83| 7.58|           900|\n",
            "|             café do paraíso|-22.094568087843687|-45.155496432162685|           84.17| 7.58|  894m - 1183m|\n",
            "|     cachoeira da grama farm| -21.76626556295618|-46.702161544954144|           83.42| 7.33|           NaN|\n",
            "|      são francisco da serra|-22.629913000779446|-44.601043902591805|           83.17| 7.92|          950m|\n",
            "|              fazenda jericó|-18.676315608302055| -45.70281563093488|           83.58| 7.83|         1100m|\n",
            "|                 sertao farm|-22.099418916815903| -45.18965861611114|            83.0| 7.75|          1250|\n",
            "|            campo das flores|-20.312258124962906| -43.28548394936318|           83.17| 7.75|         1000m|\n",
            "|                olhos d'agua| -18.63831446703355|-46.952789277527444|           83.17| 7.58|          900m|\n",
            "|fazenda serra de três barras|-19.560780988980817|-46.579303497451384|           85.42|  8.0|         1250m|\n",
            "|             fazenda pantano|-18.631997524421426| -46.82473127385452|           82.92| 7.08|  11000 metros|\n",
            "|       pereira estate coffee|-22.112480964214626| -45.15508902245408|           86.17| 8.17|           1.2|\n",
            "|       pereira estate coffee|-22.112480964214626| -45.15508902245408|           86.17| 8.42|           1.2|\n",
            "|                   rio verde|-21.940510105475326|-45.176192869009476|           83.83| 7.25|             1|\n",
            "|                   rio verde|-21.940510105475326|-45.176192869009476|           83.83| 7.67|          1200|\n",
            "|                   rio verde|-21.940510105475326|-45.176192869009476|           83.33|  7.5|          1227|\n",
            "|                   rio verde|-21.940510105475326|-45.176192869009476|           83.08| 7.33|             1|\n",
            "|                   rio verde|-21.940510105475326|-45.176192869009476|           83.08| 7.58|          1200|\n",
            "|                   rio verde|-21.940510105475326|-45.176192869009476|           82.67| 7.58|             1|\n",
            "|           sitío são geraldo| -22.59528143237296| -46.66759241371165|            85.0|  8.0|         1100m|\n",
            "|            fazenda baipendi| -21.45008093579659|  -46.8357381855336|           84.33|  8.0|     900-1200m|\n",
            "|                  água limpa| -21.44645605895183| -46.82635044153258|           83.25| 7.75|         1200m|\n",
            "|             fazenda kaquend|-21.435236392716707| -46.83244978479159|           86.92|  8.5|         1250m|\n",
            "|             fazenda kaquend|-21.435236392716707| -46.83244978479159|           86.08| 8.33|         1250m|\n",
            "|                         NaN|               null|               null|           88.83| 8.58|           NaN|\n",
            "|                         NaN|               null|               null|            84.5| 7.81|           mmm|\n",
            "|                         NaN|               null|               null|            84.5| 8.17|          test|\n",
            "|                         NaN|               null|               null|           83.25| 7.58|           NaN|\n",
            "|                         NaN|               null|               null|           83.08| 7.42|           NaN|\n",
            "|                         NaN|               null|               null|           82.58|  7.5|           NaN|\n",
            "|                         NaN|               null|               null|           82.58| 7.42|           NaN|\n",
            "|       fazenda santo antonio| -21.40862617568116| -46.80560442679252|            83.0| 7.67|      900-1100|\n",
            "|        fazenda vista alegre| -21.44237673402853|-46.818513026788274|           84.58|  8.5|         1100m|\n",
            "|             fazenda recreio|-21.780100162105256| -46.67880344388111|           86.42|  8.5|          1300|\n",
            "|             fazenda recreio|-21.780100162105256| -46.67880344388111|           84.58|  8.0|         1300m|\n",
            "|          fazenda capoeirnha|-21.761009557830032| -46.67507912298348|           83.92|  7.5|           890|\n",
            "|          fazenda capoeirnha|-21.761009557830032| -46.67507912298348|           83.75| 7.67|           890|\n",
            "|          fazenda capoeirnha|-21.761009557830032| -46.67507912298348|           83.67| 7.67|           890|\n",
            "|          fazenda capoeirnha|-21.761009557830032| -46.67507912298348|           83.58| 7.58|           890|\n",
            "|          fazenda capoeirnha|-21.761009557830032| -46.67507912298348|           83.17| 7.67|           890|\n",
            "|          fazenda capoeirnha|-21.761009557830032| -46.67507912298348|            83.0| 7.58|           890|\n",
            "|          fazenda capoeirnha|-21.761009557830032| -46.67507912298348|            83.0|  7.5|           894|\n",
            "|          fazenda capoeirnha|-21.761009557830032| -46.67507912298348|           82.92| 7.67|           890|\n",
            "|          fazenda capoeirnha|-21.761009557830032| -46.67507912298348|            82.5|  7.5|           890|\n",
            "|                     pantano|-21.444638601462618| -46.81747769417689|           84.17| 7.67|          1150|\n",
            "|       fazenda são sebastião|-21.444863288363614|-46.827235570452125|           81.17| 7.42|         1000m|\n",
            "|               santa bárbara| -18.52732198399872|-47.569893903127564|           81.92| 7.42|          1020|\n",
            "|           fazenda rio verde|-21.877600079894428| -45.17833587173798|            82.5| 7.42|          1260|\n",
            "|           fazenda rio verde|-21.877600079894428| -45.17833587173798|           82.42| 7.25|          1260|\n",
            "|               santa mariana| -23.19046310851501| -50.55948683365515|           82.42| 7.75|           NaN|\n",
            "|                      sertao|-22.095760723175886|-45.189755175672296|            81.5|  7.5|          1.25|\n",
            "|são rafael_ ra/ras certified|-22.784292492565246|-47.032534461666536|           80.25| 7.17|           995|\n",
            "|           sitío santa luzia|-22.366016295045306| -46.47371725096838|           82.33| 7.58|         1100m|\n",
            "|    fazenda são josé mirante|-22.785019797545694| -47.03177457322967|           81.08| 7.58|           695|\n",
            "|                 santa maria|-16.609194745742165| -46.98365752985455|           78.42| 6.83|           NaN|\n",
            "|                 capoeirinha| -18.64698614414741|-45.796849953979795|           82.33|  7.5|           934|\n",
            "|                 capoeirinha| -18.64698614414741|-45.796849953979795|            82.0|  7.5|           944|\n",
            "|           são josé da lagoa|               null|               null|            82.0| 7.42|         1050m|\n",
            "|           fazenda do sertao| -22.09933939187727| -45.18968007378277|            82.5| 7.67|       1.250 m|\n",
            "|       fazenda rio brilhante|               null|               null|           81.42| 7.33|          1100|\n",
            "|           fazenda são pedro|               null|               null|           82.33| 7.33|           982|\n",
            "|             café do paraíso|-22.094568087843687|-45.155496432162685|            82.0| 7.33|  894m - 1183m|\n",
            "|     cachoeira da grama farm| -21.76626556295618|-46.702161544954144|            81.0| 7.25|           NaN|\n",
            "|     cachoeira da grama farm| -21.76626556295618|-46.702161544954144|            81.0| 7.33|           NaN|\n",
            "|     cachoeira da grama farm| -21.76626556295618|-46.702161544954144|            80.5| 7.25|        1250 m|\n",
            "|                 sertao farm|-22.099418916815903| -45.18965861611114|           81.83| 7.75|          1250|\n",
            "|                 sertao farm|-22.099418916815903| -45.18965861611114|           81.33| 7.17|          1200|\n",
            "|                 sertao farm|-22.099418916815903| -45.18965861611114|           80.92| 7.25|          1200|\n",
            "|            campo das flores|-20.312258124962906| -43.28548394936318|            82.0| 7.42|         1000m|\n",
            "|          fazenda sacramento|               null|               null|           81.33| 7.25|          1100|\n",
            "|       pereira estate coffee|-22.112480964214626| -45.15508902245408|            81.5| 7.58|          1200|\n",
            "|       pereira estate coffee|-22.112480964214626| -45.15508902245408|            80.5| 7.42|          1250|\n",
            "|                 café citrus|               null|               null|           82.33| 7.58|          950m|\n",
            "|   santa mariana/são vicente|               null|               null|            82.0| 7.58|          950m|\n",
            "|                    cianorte|-22.774138613223663| -47.02968245276757|           81.83| 7.33|      900-950m|\n",
            "|                   rio verde|-21.940510105475326|-45.176192869009476|           82.42| 7.17|             1|\n",
            "|                   rio verde|-21.940510105475326|-45.176192869009476|           82.33| 8.25|          1268|\n",
            "|                   rio verde|-21.940510105475326|-45.176192869009476|           82.33| 7.75|          1100|\n",
            "|                   rio verde|-21.940510105475326|-45.176192869009476|           82.25| 7.42|             1|\n",
            "|                   rio verde|-21.940510105475326|-45.176192869009476|           82.25| 7.75|          1100|\n",
            "|                   rio verde|-21.940510105475326|-45.176192869009476|           82.17| 6.92|             1|\n",
            "|                   rio verde|-21.940510105475326|-45.176192869009476|           82.08| 7.25|             1|\n",
            "|                   rio verde|-21.940510105475326|-45.176192869009476|           81.83| 7.17|             1|\n",
            "|                   rio verde|-21.940510105475326|-45.176192869009476|           81.83| 7.58|             1|\n",
            "+----------------------------+-------------------+-------------------+----------------+-----+--------------+\n",
            "only showing top 100 rows\n",
            "\n"
          ]
        }
      ]
    },
    {
      "cell_type": "code",
      "source": [],
      "metadata": {
        "id": "FhPqc0fG7ipF"
      },
      "execution_count": null,
      "outputs": []
    },
    {
      "cell_type": "code",
      "source": [
        "from pyspark.sql.functions import regexp_extract\n",
        "from pyspark.sql.functions import when\n",
        "from pyspark.sql.functions import col\n",
        "import pyspark.sql.functions as func"
      ],
      "metadata": {
        "id": "LWIDsI_1Ngx3"
      },
      "execution_count": null,
      "outputs": []
    },
    {
      "cell_type": "markdown",
      "source": [
        "Création d'un dataframe contenant uniquement les dermes présentes au Brésil"
      ],
      "metadata": {
        "id": "DMEiPtlYjj4Z"
      }
    },
    {
      "cell_type": "code",
      "source": [
        "df_brazil = df_arabica.filter(df_arabica[\"Country_of_Origin\"]=='Brazil')"
      ],
      "metadata": {
        "id": "6ZtVsXbC8v-f"
      },
      "execution_count": null,
      "outputs": []
    },
    {
      "cell_type": "code",
      "source": [
        "df_brazil.groupBy('Farm_name')\\\n",
        "          .count().alias(\"count\")\\\n",
        "          .sort(col(\"count\").desc())\\\n",
        "          .show()"
      ],
      "metadata": {
        "colab": {
          "base_uri": "https://localhost:8080/"
        },
        "id": "su1mGKVv8OjD",
        "outputId": "0def70ac-c596-4dfc-816c-a3d901cd6925"
      },
      "execution_count": null,
      "outputs": [
        {
          "output_type": "stream",
          "name": "stdout",
          "text": [
            "+--------------------+-----+\n",
            "|           Farm_name|count|\n",
            "+--------------------+-----+\n",
            "|           rio verde|   23|\n",
            "|                 NaN|   18|\n",
            "|  fazenda capoeirnha|   13|\n",
            "|         capoeirinha|   10|\n",
            "|   fazenda rio verde|    4|\n",
            "|cachoeira da gram...|    4|\n",
            "|         sertao farm|    4|\n",
            "|pereira estate co...|    4|\n",
            "|    campo das flores|    2|\n",
            "|     fazenda kaquend|    2|\n",
            "|     fazenda recreio|    2|\n",
            "|   fazenda do sertao|    2|\n",
            "|  fazendas klem ltda|    2|\n",
            "|         santa maria|    2|\n",
            "|     café do paraíso|    2|\n",
            "|     fazenda do lobo|    1|\n",
            "| fazenda grota funda|    1|\n",
            "|         sitio claro|    1|\n",
            "|    fazenda chamusca|    1|\n",
            "|         santa alina|    1|\n",
            "+--------------------+-----+\n",
            "only showing top 20 rows\n",
            "\n"
          ]
        }
      ]
    },
    {
      "cell_type": "markdown",
      "source": [
        "- Supression des symboles non numériques\n",
        "- Même système de mesure appliqué à toutes les données (mètres)\n",
        "- Changement du type des données : de string à int"
      ],
      "metadata": {
        "id": "61uemMEBiTAf"
      }
    },
    {
      "cell_type": "code",
      "source": [
        "#https://spark.apache.org/docs/3.1.2/api/python/reference/api/pyspark.sql.functions.regexp_extract.html\n",
        "df_brazil = df_brazil.withColumn('Altitude_2', regexp_extract(col('Altitude'), '[0-9]+\\.?[0-9]*', 0))\n",
        "\n",
        "#https://sparkbyexamples.com/pyspark/pyspark-when-otherwise/\n",
        "df_brazil = df_brazil.withColumn(\"Altitude_3\", when(df_brazil.Altitude_2 < 10, df_brazil.Altitude_2 * 1000)\n",
        "                                          .when(df_brazil.Altitude_2 > 10000, df_brazil.Altitude_2 / 10)\n",
        "                                          .otherwise(df_brazil.Altitude_2))\n",
        "\n",
        "\n",
        "df_brazil = df_brazil.withColumn(\"Altitude_int\",df_brazil.Altitude_3.cast('int'))\n",
        "\n",
        "df_brazil.drop(col(\"Altitude\"))\n",
        "\n",
        "df_brazil.filter(df_arabica[\"Country_of_Origin\"]=='Brazil')\\\n",
        "       .select(['Farm_name', \"Altitude_int\"])\\\n",
        "       .show()"
      ],
      "metadata": {
        "colab": {
          "base_uri": "https://localhost:8080/"
        },
        "id": "b42cUW2xNypP",
        "outputId": "c61c94a6-d523-4231-a406-cf873f00ed5c"
      },
      "execution_count": null,
      "outputs": [
        {
          "output_type": "stream",
          "name": "stdout",
          "text": [
            "+--------------------+------------+\n",
            "|           Farm_name|Altitude_int|\n",
            "+--------------------+------------+\n",
            "|   fazenda rio verde|        1260|\n",
            "|   fazenda rio verde|        1260|\n",
            "|     fazenda do lobo|        1000|\n",
            "| fazenda grota funda|        1200|\n",
            "|         sitio claro|        1000|\n",
            "|         santa alina|        1200|\n",
            "|    fazenda chamusca|         900|\n",
            "|         santa maria|        null|\n",
            "|         capoeirinha|         934|\n",
            "|         capoeirinha|         934|\n",
            "|         capoeirinha|         905|\n",
            "|         capoeirinha|         872|\n",
            "|         capoeirinha|         905|\n",
            "|         capoeirinha|         905|\n",
            "|         capoeirinha|         890|\n",
            "|         capoeirinha|         934|\n",
            "|   fazenda do sertao|        1250|\n",
            "|          santa fé 2|         900|\n",
            "|     café do paraíso|         894|\n",
            "|cachoeira da gram...|        null|\n",
            "+--------------------+------------+\n",
            "only showing top 20 rows\n",
            "\n"
          ]
        }
      ]
    },
    {
      "cell_type": "markdown",
      "source": [
        "Création de 2 dataframes, l'un contenant l'altitude moyenne de l'ensemble des fermes, l'autre contenant les altitudes moyennes de chaque ferme"
      ],
      "metadata": {
        "id": "ZOoSsY4hjvGF"
      }
    },
    {
      "cell_type": "code",
      "source": [
        "mean_alt = df_brazil.groupBy('Farm_name')\\\n",
        "                  .mean('Altitude_int')\n",
        "\n",
        "mean_alt = mean_alt.withColumn(\"avg(Altitude_int)\",mean_alt[\"avg(Altitude_int)\"].cast('int'))\n",
        "\n",
        "mean_alt_all = df_brazil.agg({'Altitude_int': 'mean'})\n",
        "\n",
        "mean_alt_all.show()\n",
        "mean_alt.show()"
      ],
      "metadata": {
        "colab": {
          "base_uri": "https://localhost:8080/"
        },
        "id": "foav42UjqqIf",
        "outputId": "55449a1f-a30c-453e-96ae-e2983d7f12a1"
      },
      "execution_count": null,
      "outputs": [
        {
          "output_type": "stream",
          "name": "stdout",
          "text": [
            "+------------------+\n",
            "| avg(Altitude_int)|\n",
            "+------------------+\n",
            "|1053.6857142857143|\n",
            "+------------------+\n",
            "\n",
            "+--------------------+-----------------+\n",
            "|           Farm_name|avg(Altitude_int)|\n",
            "+--------------------+-----------------+\n",
            "|   fazenda rio verde|             1260|\n",
            "|     fazenda do lobo|             1000|\n",
            "| fazenda grota funda|             1200|\n",
            "|         sitio claro|             1000|\n",
            "|         santa alina|             1200|\n",
            "|    fazenda chamusca|              900|\n",
            "|         santa maria|             null|\n",
            "|         capoeirinha|              915|\n",
            "|   fazenda do sertao|             1250|\n",
            "|          santa fé 2|              900|\n",
            "|     café do paraíso|              894|\n",
            "|cachoeira da gram...|             1250|\n",
            "|são francisco da ...|              950|\n",
            "|      fazenda jericó|             1100|\n",
            "|         sertao farm|             1225|\n",
            "|    campo das flores|             1000|\n",
            "|        olhos d'agua|              900|\n",
            "|fazenda serra de ...|             1250|\n",
            "|     fazenda pantano|             1100|\n",
            "|pereira estate co...|             1212|\n",
            "+--------------------+-----------------+\n",
            "only showing top 20 rows\n",
            "\n"
          ]
        }
      ]
    },
    {
      "cell_type": "markdown",
      "source": [
        "Altitude moyenne de l'ensemble des fermes arrondie"
      ],
      "metadata": {
        "id": "qCNIfemwkTfs"
      }
    },
    {
      "cell_type": "code",
      "source": [
        "mean_alt_all = round(mean_alt_all.head()[0])"
      ],
      "metadata": {
        "id": "rSRq7qigzbJi"
      },
      "execution_count": null,
      "outputs": []
    },
    {
      "cell_type": "code",
      "source": [
        "df_brazil = df_brazil.replace(float('nan'), None)"
      ],
      "metadata": {
        "id": "q2_bL8sf2HYk"
      },
      "execution_count": null,
      "outputs": []
    },
    {
      "cell_type": "markdown",
      "source": [
        "Si une ligne n'a ni ferme ni altitude, on lui attribue l'altitude moyenne de l'ensemble des fermes"
      ],
      "metadata": {
        "id": "H9ujkCDvlTQo"
      }
    },
    {
      "cell_type": "code",
      "source": [
        "df_brazil = df_brazil.withColumn(\"Altitude_int\", when((df_brazil[\"Farm_name\"].isNull()) & (df_brazil[\"Altitude_int\"].isNull()), mean_alt_all)\\\n",
        "                                            .otherwise(df_brazil.Altitude_int))\n",
        "\n",
        "df_brazil = df_brazil.withColumn(\"Altitude_int\",df_brazil.Altitude_int.cast('int'))       \n",
        "\n",
        "df_brazil.select(['Farm_name', \"Altitude_int\"])\\\n",
        "       .show()"
      ],
      "metadata": {
        "colab": {
          "base_uri": "https://localhost:8080/"
        },
        "id": "9q9bIXcTtuF0",
        "outputId": "f60279d2-4d8d-42b9-fbaf-99870aa9981c"
      },
      "execution_count": null,
      "outputs": [
        {
          "output_type": "stream",
          "name": "stdout",
          "text": [
            "+--------------------+------------+\n",
            "|           Farm_name|Altitude_int|\n",
            "+--------------------+------------+\n",
            "|   fazenda rio verde|        1260|\n",
            "|   fazenda rio verde|        1260|\n",
            "|     fazenda do lobo|        1000|\n",
            "| fazenda grota funda|        1200|\n",
            "|         sitio claro|        1000|\n",
            "|         santa alina|        1200|\n",
            "|    fazenda chamusca|         900|\n",
            "|         santa maria|        null|\n",
            "|         capoeirinha|         934|\n",
            "|         capoeirinha|         934|\n",
            "|         capoeirinha|         905|\n",
            "|         capoeirinha|         872|\n",
            "|         capoeirinha|         905|\n",
            "|         capoeirinha|         905|\n",
            "|         capoeirinha|         890|\n",
            "|         capoeirinha|         934|\n",
            "|   fazenda do sertao|        1250|\n",
            "|          santa fé 2|         900|\n",
            "|     café do paraíso|         894|\n",
            "|cachoeira da gram...|        null|\n",
            "+--------------------+------------+\n",
            "only showing top 20 rows\n",
            "\n"
          ]
        }
      ]
    },
    {
      "cell_type": "markdown",
      "source": [
        "Si une ligne a une ferme mais pas d'altitude, on lui attribue l'altitude moyenne de cette ferme"
      ],
      "metadata": {
        "id": "YhqCNsd6liu7"
      }
    },
    {
      "cell_type": "code",
      "source": [
        "df_brazil = df_brazil.join(mean_alt, on=\"Farm_name\")\\\n",
        "       .withColumn(\n",
        "        \"Altitude_int\",\n",
        "        when(\n",
        "            (df_brazil[\"Altitude_int\"].isNull()), \n",
        "            mean_alt[\"avg(Altitude_int)\"]\n",
        "        ).otherwise(df_brazil[\"Altitude_int\"])\n",
        "    )\n",
        "       \n",
        "df_brazil.select(['Farm_name', \"Altitude_int\"])\\\n",
        "       .show()"
      ],
      "metadata": {
        "colab": {
          "base_uri": "https://localhost:8080/"
        },
        "id": "gYuuCkE13LIq",
        "outputId": "333120ea-3d8d-417e-8d6e-3a0eb5bc55fd"
      },
      "execution_count": null,
      "outputs": [
        {
          "output_type": "stream",
          "name": "stdout",
          "text": [
            "+--------------------+------------+\n",
            "|           Farm_name|Altitude_int|\n",
            "+--------------------+------------+\n",
            "|                 NaN|        1100|\n",
            "|                 NaN|        1100|\n",
            "|                 NaN|        1100|\n",
            "|                 NaN|        1100|\n",
            "|                 NaN|        1100|\n",
            "|                 NaN|        1100|\n",
            "|                 NaN|        1100|\n",
            "|                 NaN|        1100|\n",
            "|                 NaN|        1100|\n",
            "|                 NaN|        1100|\n",
            "|                 NaN|        1100|\n",
            "|                 NaN|        1100|\n",
            "|                 NaN|        1100|\n",
            "|                 NaN|        1100|\n",
            "|                 NaN|        1100|\n",
            "|                 NaN|        1100|\n",
            "|                 NaN|        1100|\n",
            "|                 NaN|        1100|\n",
            "|cachoeira da gram...|        1250|\n",
            "|cachoeira da gram...|        1250|\n",
            "+--------------------+------------+\n",
            "only showing top 20 rows\n",
            "\n"
          ]
        }
      ]
    },
    {
      "cell_type": "markdown",
      "source": [
        "Si après cela, il y a toujours des lignes sans altitude, on leur attribue l'altitude moyenne de l'ensemble des fermes"
      ],
      "metadata": {
        "id": "ynve4JjimKna"
      }
    },
    {
      "cell_type": "code",
      "source": [
        "df_brazil = df_brazil.withColumn(\"Altitude_int\", when(df_brazil[\"Altitude_int\"].isNull(), mean_alt_all)\\\n",
        "                                            .otherwise(df_brazil.Altitude_int))\n",
        "\n",
        "df_brazil = df_brazil.withColumn(\"Altitude_int\",df_brazil.Altitude_int.cast('int'))       \n",
        "\n",
        "df_brazil.select(['Farm_name', \"Altitude_int\"])\\\n",
        "       .show()"
      ],
      "metadata": {
        "colab": {
          "base_uri": "https://localhost:8080/"
        },
        "id": "EltxQl_D6oAw",
        "outputId": "9e7b0cce-b8e9-402a-a186-b14fbbe27de8"
      },
      "execution_count": null,
      "outputs": [
        {
          "output_type": "stream",
          "name": "stdout",
          "text": [
            "+--------------------+------------+\n",
            "|           Farm_name|Altitude_int|\n",
            "+--------------------+------------+\n",
            "|                 NaN|        1100|\n",
            "|                 NaN|        1100|\n",
            "|                 NaN|        1100|\n",
            "|                 NaN|        1100|\n",
            "|                 NaN|        1100|\n",
            "|                 NaN|        1100|\n",
            "|                 NaN|        1100|\n",
            "|                 NaN|        1100|\n",
            "|                 NaN|        1100|\n",
            "|                 NaN|        1100|\n",
            "|                 NaN|        1100|\n",
            "|                 NaN|        1100|\n",
            "|                 NaN|        1100|\n",
            "|                 NaN|        1100|\n",
            "|                 NaN|        1100|\n",
            "|                 NaN|        1100|\n",
            "|                 NaN|        1100|\n",
            "|                 NaN|        1100|\n",
            "|cachoeira da gram...|        1250|\n",
            "|cachoeira da gram...|        1250|\n",
            "+--------------------+------------+\n",
            "only showing top 20 rows\n",
            "\n"
          ]
        }
      ]
    },
    {
      "cell_type": "code",
      "source": [
        "df_brazil.select(['Farm_name', \"Altitude_int\"])\\\n",
        "         .filter(df_brazil[\"Altitude_int\"]\\\n",
        "         .isNull()).show()"
      ],
      "metadata": {
        "colab": {
          "base_uri": "https://localhost:8080/"
        },
        "id": "GRfeFMmToPLv",
        "outputId": "6c73a379-cc1f-4bd8-ec57-888e62a0a997"
      },
      "execution_count": null,
      "outputs": [
        {
          "output_type": "stream",
          "name": "stdout",
          "text": [
            "+---------+------------+\n",
            "|Farm_name|Altitude_int|\n",
            "+---------+------------+\n",
            "+---------+------------+\n",
            "\n"
          ]
        }
      ]
    }
  ]
}