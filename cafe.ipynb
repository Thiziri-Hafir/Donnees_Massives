{
  "nbformat": 4,
  "nbformat_minor": 0,
  "metadata": {
    "colab": {
      "provenance": [],
      "collapsed_sections": []
    },
    "kernelspec": {
      "name": "python3",
      "display_name": "Python 3"
    },
    "language_info": {
      "name": "python"
    }
  },
  "cells": [
    {
      "cell_type": "code",
      "source": [
        "pip install pyspark"
      ],
      "metadata": {
        "colab": {
          "base_uri": "https://localhost:8080/"
        },
        "id": "1DxLDXMisoIp",
        "outputId": "e33cb123-3f33-4942-bcfe-a58381debad6"
      },
      "execution_count": null,
      "outputs": [
        {
          "output_type": "stream",
          "name": "stdout",
          "text": [
            "Looking in indexes: https://pypi.org/simple, https://us-python.pkg.dev/colab-wheels/public/simple/\n",
            "Collecting pyspark\n",
            "  Downloading pyspark-3.3.0.tar.gz (281.3 MB)\n",
            "\u001b[K     |████████████████████████████████| 281.3 MB 45 kB/s \n",
            "\u001b[?25hCollecting py4j==0.10.9.5\n",
            "  Downloading py4j-0.10.9.5-py2.py3-none-any.whl (199 kB)\n",
            "\u001b[K     |████████████████████████████████| 199 kB 41.9 MB/s \n",
            "\u001b[?25hBuilding wheels for collected packages: pyspark\n",
            "  Building wheel for pyspark (setup.py) ... \u001b[?25l\u001b[?25hdone\n",
            "  Created wheel for pyspark: filename=pyspark-3.3.0-py2.py3-none-any.whl size=281764026 sha256=1277077d11ad34027f9b1d8abb2c6ea76952bcb8450b6922db028122c5c79b51\n",
            "  Stored in directory: /root/.cache/pip/wheels/7a/8e/1b/f73a52650d2e5f337708d9f6a1750d451a7349a867f928b885\n",
            "Successfully built pyspark\n",
            "Installing collected packages: py4j, pyspark\n",
            "Successfully installed py4j-0.10.9.5 pyspark-3.3.0\n"
          ]
        }
      ]
    },
    {
      "cell_type": "code",
      "execution_count": null,
      "metadata": {
        "id": "ROTledS3q817"
      },
      "outputs": [],
      "source": [
        "import xarray as xr"
      ]
    },
    {
      "cell_type": "code",
      "source": [
        "import pyspark\n",
        "\n",
        "from pyspark import SparkContext\n",
        "from pyspark.sql import SparkSession\n",
        "\n",
        "SparkContext.setSystemProperty('spark.executor.memory', '8g')\n",
        "SparkContext.setSystemProperty('spark.driver.memory', '45G')\n",
        "\n",
        "sc = SparkContext.getOrCreate()\n",
        "spark = SparkSession.builder.appName(\"Python Spark\").getOrCreate()"
      ],
      "metadata": {
        "id": "U03MDpTdr0rM"
      },
      "execution_count": null,
      "outputs": []
    },
    {
      "cell_type": "code",
      "source": [
        "import urllib.request\n",
        "\n",
        "path_test = \"https://dap.ceda.ac.uk/neodc/esacci/land_surface_temperature/data/MULTISENSOR_IRCDR/L3S/0.01/v2.00/monthly/2020/01/ESACCI-LST-L3S-LST-IRCDR_-0.01deg_1MONTHLY_DAY-20200101000000-fv2.00.nc?download=1\""
      ],
      "metadata": {
        "id": "qiaUxwyHsnkm"
      },
      "execution_count": null,
      "outputs": []
    },
    {
      "cell_type": "code",
      "source": [
        "with urllib.request.urlretrieve(path_test) as f:\n",
        "  df = xr.open_dataset(f.read())"
      ],
      "metadata": {
        "id": "uQ55gcahs753",
        "colab": {
          "base_uri": "https://localhost:8080/",
          "height": 183
        },
        "outputId": "5c4b884a-a9e6-4223-c4c9-64529ecdaa01"
      },
      "execution_count": null,
      "outputs": [
        {
          "output_type": "error",
          "ename": "AttributeError",
          "evalue": "ignored",
          "traceback": [
            "\u001b[0;31m---------------------------------------------------------------------------\u001b[0m",
            "\u001b[0;31mAttributeError\u001b[0m                            Traceback (most recent call last)",
            "\u001b[0;32m<ipython-input-4-521544bb5ad5>\u001b[0m in \u001b[0;36m<module>\u001b[0;34m\u001b[0m\n\u001b[0;32m----> 1\u001b[0;31m \u001b[0;32mwith\u001b[0m \u001b[0murllib\u001b[0m\u001b[0;34m.\u001b[0m\u001b[0mrequest\u001b[0m\u001b[0;34m.\u001b[0m\u001b[0murlretrieve\u001b[0m\u001b[0;34m(\u001b[0m\u001b[0mpath_test\u001b[0m\u001b[0;34m)\u001b[0m \u001b[0;32mas\u001b[0m \u001b[0mf\u001b[0m\u001b[0;34m:\u001b[0m\u001b[0;34m\u001b[0m\u001b[0;34m\u001b[0m\u001b[0m\n\u001b[0m\u001b[1;32m      2\u001b[0m   \u001b[0mdf\u001b[0m \u001b[0;34m=\u001b[0m \u001b[0mxr\u001b[0m\u001b[0;34m.\u001b[0m\u001b[0mopen_dataset\u001b[0m\u001b[0;34m(\u001b[0m\u001b[0mf\u001b[0m\u001b[0;34m.\u001b[0m\u001b[0mread\u001b[0m\u001b[0;34m(\u001b[0m\u001b[0;34m)\u001b[0m\u001b[0;34m)\u001b[0m\u001b[0;34m\u001b[0m\u001b[0;34m\u001b[0m\u001b[0m\n",
            "\u001b[0;31mAttributeError\u001b[0m: __enter__"
          ]
        }
      ]
    },
    {
      "cell_type": "code",
      "source": [
        "data = urllib.request.urlretrieve(path_test)\n",
        "data"
      ],
      "metadata": {
        "colab": {
          "base_uri": "https://localhost:8080/"
        },
        "id": "NVHhWlcx8yyK",
        "outputId": "253254db-595c-443a-97d8-4128862ab22b"
      },
      "execution_count": null,
      "outputs": [
        {
          "output_type": "execute_result",
          "data": {
            "text/plain": [
              "('/tmp/tmp2ytacrww', <http.client.HTTPMessage at 0x7feaadbdb950>)"
            ]
          },
          "metadata": {},
          "execution_count": 79
        }
      ]
    },
    {
      "cell_type": "code",
      "source": [
        "xr_climat = xr.open_dataarray(data, engine = \"netcdf4\")"
      ],
      "metadata": {
        "colab": {
          "base_uri": "https://localhost:8080/",
          "height": 318
        },
        "id": "qVytgwcYYsFa",
        "outputId": "4b6b384b-f53c-41a9-ce65-13e857eae7b6"
      },
      "execution_count": null,
      "outputs": [
        {
          "output_type": "error",
          "ename": "ValueError",
          "evalue": "ignored",
          "traceback": [
            "\u001b[0;31m---------------------------------------------------------------------------\u001b[0m",
            "\u001b[0;31mValueError\u001b[0m                                Traceback (most recent call last)",
            "\u001b[0;32m<ipython-input-80-7df2774c35ae>\u001b[0m in \u001b[0;36m<module>\u001b[0;34m\u001b[0m\n\u001b[0;32m----> 1\u001b[0;31m \u001b[0mxr_climat\u001b[0m \u001b[0;34m=\u001b[0m \u001b[0mxr\u001b[0m\u001b[0;34m.\u001b[0m\u001b[0mopen_dataarray\u001b[0m\u001b[0;34m(\u001b[0m\u001b[0mdata\u001b[0m\u001b[0;34m,\u001b[0m \u001b[0mengine\u001b[0m \u001b[0;34m=\u001b[0m \u001b[0;34m\"netcdf4\"\u001b[0m\u001b[0;34m)\u001b[0m\u001b[0;34m\u001b[0m\u001b[0;34m\u001b[0m\u001b[0m\n\u001b[0m",
            "\u001b[0;32m/usr/local/lib/python3.7/dist-packages/xarray/backends/api.py\u001b[0m in \u001b[0;36mopen_dataarray\u001b[0;34m(filename_or_obj, engine, chunks, cache, decode_cf, mask_and_scale, decode_times, decode_timedelta, use_cftime, concat_characters, decode_coords, drop_variables, backend_kwargs, *args, **kwargs)\u001b[0m\n\u001b[1;32m    664\u001b[0m         \u001b[0muse_cftime\u001b[0m\u001b[0;34m=\u001b[0m\u001b[0muse_cftime\u001b[0m\u001b[0;34m,\u001b[0m\u001b[0;34m\u001b[0m\u001b[0;34m\u001b[0m\u001b[0m\n\u001b[1;32m    665\u001b[0m         \u001b[0mdecode_timedelta\u001b[0m\u001b[0;34m=\u001b[0m\u001b[0mdecode_timedelta\u001b[0m\u001b[0;34m,\u001b[0m\u001b[0;34m\u001b[0m\u001b[0;34m\u001b[0m\u001b[0m\n\u001b[0;32m--> 666\u001b[0;31m         \u001b[0;34m**\u001b[0m\u001b[0mkwargs\u001b[0m\u001b[0;34m,\u001b[0m\u001b[0;34m\u001b[0m\u001b[0;34m\u001b[0m\u001b[0m\n\u001b[0m\u001b[1;32m    667\u001b[0m     )\n\u001b[1;32m    668\u001b[0m \u001b[0;34m\u001b[0m\u001b[0m\n",
            "\u001b[0;32m/usr/local/lib/python3.7/dist-packages/xarray/backends/api.py\u001b[0m in \u001b[0;36mopen_dataset\u001b[0;34m(filename_or_obj, engine, chunks, cache, decode_cf, mask_and_scale, decode_times, decode_timedelta, use_cftime, concat_characters, decode_coords, drop_variables, backend_kwargs, *args, **kwargs)\u001b[0m\n\u001b[1;32m    497\u001b[0m         \u001b[0mdrop_variables\u001b[0m\u001b[0;34m=\u001b[0m\u001b[0mdrop_variables\u001b[0m\u001b[0;34m,\u001b[0m\u001b[0;34m\u001b[0m\u001b[0;34m\u001b[0m\u001b[0m\n\u001b[1;32m    498\u001b[0m         \u001b[0;34m**\u001b[0m\u001b[0mdecoders\u001b[0m\u001b[0;34m,\u001b[0m\u001b[0;34m\u001b[0m\u001b[0;34m\u001b[0m\u001b[0m\n\u001b[0;32m--> 499\u001b[0;31m         \u001b[0;34m**\u001b[0m\u001b[0mkwargs\u001b[0m\u001b[0;34m,\u001b[0m\u001b[0;34m\u001b[0m\u001b[0;34m\u001b[0m\u001b[0m\n\u001b[0m\u001b[1;32m    500\u001b[0m     )\n\u001b[1;32m    501\u001b[0m     ds = _dataset_from_backend_dataset(\n",
            "\u001b[0;32m/usr/local/lib/python3.7/dist-packages/xarray/backends/netCDF4_.py\u001b[0m in \u001b[0;36mopen_dataset\u001b[0;34m(self, filename_or_obj, mask_and_scale, decode_times, concat_characters, decode_coords, drop_variables, use_cftime, decode_timedelta, group, mode, format, clobber, diskless, persist, lock, autoclose)\u001b[0m\n\u001b[1;32m    557\u001b[0m             \u001b[0mpersist\u001b[0m\u001b[0;34m=\u001b[0m\u001b[0mpersist\u001b[0m\u001b[0;34m,\u001b[0m\u001b[0;34m\u001b[0m\u001b[0;34m\u001b[0m\u001b[0m\n\u001b[1;32m    558\u001b[0m             \u001b[0mlock\u001b[0m\u001b[0;34m=\u001b[0m\u001b[0mlock\u001b[0m\u001b[0;34m,\u001b[0m\u001b[0;34m\u001b[0m\u001b[0;34m\u001b[0m\u001b[0m\n\u001b[0;32m--> 559\u001b[0;31m             \u001b[0mautoclose\u001b[0m\u001b[0;34m=\u001b[0m\u001b[0mautoclose\u001b[0m\u001b[0;34m,\u001b[0m\u001b[0;34m\u001b[0m\u001b[0;34m\u001b[0m\u001b[0m\n\u001b[0m\u001b[1;32m    560\u001b[0m         )\n\u001b[1;32m    561\u001b[0m \u001b[0;34m\u001b[0m\u001b[0m\n",
            "\u001b[0;32m/usr/local/lib/python3.7/dist-packages/xarray/backends/netCDF4_.py\u001b[0m in \u001b[0;36mopen\u001b[0;34m(cls, filename, mode, format, group, clobber, diskless, persist, lock, lock_maker, autoclose)\u001b[0m\n\u001b[1;32m    351\u001b[0m         \u001b[0;32mif\u001b[0m \u001b[0;32mnot\u001b[0m \u001b[0misinstance\u001b[0m\u001b[0;34m(\u001b[0m\u001b[0mfilename\u001b[0m\u001b[0;34m,\u001b[0m \u001b[0mstr\u001b[0m\u001b[0;34m)\u001b[0m\u001b[0;34m:\u001b[0m\u001b[0;34m\u001b[0m\u001b[0;34m\u001b[0m\u001b[0m\n\u001b[1;32m    352\u001b[0m             raise ValueError(\n\u001b[0;32m--> 353\u001b[0;31m                 \u001b[0;34m\"can only read bytes or file-like objects \"\u001b[0m\u001b[0;34m\u001b[0m\u001b[0;34m\u001b[0m\u001b[0m\n\u001b[0m\u001b[1;32m    354\u001b[0m                 \u001b[0;34m\"with engine='scipy' or 'h5netcdf'\"\u001b[0m\u001b[0;34m\u001b[0m\u001b[0;34m\u001b[0m\u001b[0m\n\u001b[1;32m    355\u001b[0m             )\n",
            "\u001b[0;31mValueError\u001b[0m: can only read bytes or file-like objects with engine='scipy' or 'h5netcdf'"
          ]
        }
      ]
    },
    {
      "cell_type": "code",
      "source": [
        "xr_climat.dims"
      ],
      "metadata": {
        "id": "FLsQnoFHZP_C"
      },
      "execution_count": null,
      "outputs": []
    },
    {
      "cell_type": "code",
      "source": [
        "import pandas as pd"
      ],
      "metadata": {
        "id": "-xXSKz5Esukq"
      },
      "execution_count": 12,
      "outputs": []
    },
    {
      "cell_type": "code",
      "source": [
        "url = \"https://raw.githubusercontent.com/jldbc/coffee-quality-database/master/data/arabica_data_cleaned.csv\"\n",
        "raw_arabica = pd.read_csv(url)"
      ],
      "metadata": {
        "id": "klSgFYFu-xT9"
      },
      "execution_count": 13,
      "outputs": []
    },
    {
      "cell_type": "code",
      "source": [
        "raw_arabica"
      ],
      "metadata": {
        "id": "7OBnu_pQD09I"
      },
      "execution_count": null,
      "outputs": []
    },
    {
      "cell_type": "code",
      "source": [
        "from pyspark.sql.types import *\n",
        "\n",
        "# Auxiliar functions\n",
        "def equivalent_type(f):\n",
        "    if f == 'datetime64[ns]': return TimestampType()\n",
        "    elif f == 'int64': return LongType()\n",
        "    elif f == 'int32': return IntegerType()\n",
        "    elif f == 'float64': return DoubleType()\n",
        "    elif f == 'float32': return FloatType()\n",
        "    else: return StringType()\n",
        "\n",
        "def define_structure(string, format_type):\n",
        "    try: typo = equivalent_type(format_type)\n",
        "    except: typo = StringType()\n",
        "    return StructField(string, typo)\n",
        "\n",
        "# Given pandas dataframe, it will return a spark's dataframe.\n",
        "def pandas_to_spark(pandas_df):\n",
        "    columns = list(pandas_df.columns)\n",
        "    types = list(pandas_df.dtypes)\n",
        "    struct_list = []\n",
        "    for column, typo in zip(columns, types): \n",
        "      struct_list.append(define_structure(column, typo))\n",
        "    p_schema = StructType(struct_list)\n",
        "    return spark.createDataFrame(pandas_df, p_schema)"
      ],
      "metadata": {
        "id": "RJHm_MAzSY57"
      },
      "execution_count": 10,
      "outputs": []
    },
    {
      "cell_type": "code",
      "source": [
        "df_arabica = pandas_to_spark(raw_arabica)"
      ],
      "metadata": {
        "id": "Au2ZseQqSdAK"
      },
      "execution_count": 14,
      "outputs": []
    },
    {
      "cell_type": "code",
      "source": [
        "df_arabica.show(10)"
      ],
      "metadata": {
        "id": "M_zELbsSNvQR"
      },
      "execution_count": null,
      "outputs": []
    },
    {
      "cell_type": "code",
      "source": [
        "tempList = [] #Edit01\n",
        "for col in df_arabica.columns:\n",
        "        new_name = col.strip()\n",
        "        new_name = \"\".join(new_name.split())\n",
        "        new_name = new_name.replace('.','_') # EDIT\n",
        "        tempList.append(new_name) #Edit02\n",
        "print(tempList) #Just for the sake of it #Edit03\n",
        "\n",
        "df_arabica = df_arabica.toDF(*tempList) #Edit04"
      ],
      "metadata": {
        "id": "P_Lzm4nic28s",
        "colab": {
          "base_uri": "https://localhost:8080/"
        },
        "outputId": "f794ab6b-7af2-4a77-c3be-f1b513d5940e"
      },
      "execution_count": 17,
      "outputs": [
        {
          "output_type": "stream",
          "name": "stdout",
          "text": [
            "['Unnamed:0', 'Species', 'Owner', 'Country_of_Origin', 'Farm_Name', 'Lot_Number', 'Mill', 'ICO_Number', 'Company', 'Altitude', 'Region', 'Producer', 'Number_of_Bags', 'Bag_Weight', 'In_Country_Partner', 'Harvest_Year', 'Grading_Date', 'Owner_1', 'Variety', 'Processing_Method', 'Aroma', 'Flavor', 'Aftertaste', 'Acidity', 'Body', 'Balance', 'Uniformity', 'Clean_Cup', 'Sweetness', 'Cupper_Points', 'Total_Cup_Points', 'Moisture', 'Category_One_Defects', 'Quakers', 'Color', 'Category_Two_Defects', 'Expiration', 'Certification_Body', 'Certification_Address', 'Certification_Contact', 'unit_of_measurement', 'altitude_low_meters', 'altitude_high_meters', 'altitude_mean_meters']\n"
          ]
        }
      ]
    },
    {
      "cell_type": "code",
      "source": [
        "df_arabica.filter(df_arabica[\"Country_of_Origin\"]=='Brazil')\\\n",
        "          .select('Farm_name')\\\n",
        "          .distinct()\\\n",
        "          .show(100, 100)"
      ],
      "metadata": {
        "colab": {
          "base_uri": "https://localhost:8080/"
        },
        "id": "s7g2MTjibnWr",
        "outputId": "dbb534d4-7bf3-49ec-87a8-82d0bc6e6d5d"
      },
      "execution_count": 18,
      "outputs": [
        {
          "output_type": "stream",
          "name": "stdout",
          "text": [
            "+-----------------------------------+\n",
            "|                          Farm_name|\n",
            "+-----------------------------------+\n",
            "|                  fazenda rio verde|\n",
            "|                    fazenda do lobo|\n",
            "|                fazenda grota funda|\n",
            "|                        sitio claro|\n",
            "|                        santa alina|\n",
            "|                   fazenda chamusca|\n",
            "|                        santa maria|\n",
            "|                        capoeirinha|\n",
            "|                  fazenda do sertao|\n",
            "|                         santa fé 2|\n",
            "|                    café do paraíso|\n",
            "|            cachoeira da grama farm|\n",
            "|             são francisco da serra|\n",
            "|                     fazenda jericó|\n",
            "|                        sertao farm|\n",
            "|                   campo das flores|\n",
            "|                       olhos d'agua|\n",
            "|       fazenda serra de três barras|\n",
            "|                    fazenda pantano|\n",
            "|              pereira estate coffee|\n",
            "|                          rio verde|\n",
            "|                  sitío são geraldo|\n",
            "|                   fazenda baipendi|\n",
            "|                         água limpa|\n",
            "|                    fazenda kaquend|\n",
            "|                                NaN|\n",
            "|              fazenda santo antonio|\n",
            "|               fazenda vista alegre|\n",
            "|                    fazenda recreio|\n",
            "|                 fazenda capoeirnha|\n",
            "|                            pantano|\n",
            "|              fazenda são sebastião|\n",
            "|                      santa bárbara|\n",
            "|                      santa mariana|\n",
            "|                             sertao|\n",
            "|       são rafael_ ra/ras certified|\n",
            "|                  sitío santa luzia|\n",
            "|           fazenda são josé mirante|\n",
            "|                  são josé da lagoa|\n",
            "|              fazenda rio brilhante|\n",
            "|                  fazenda são pedro|\n",
            "|                 fazenda sacramento|\n",
            "|                        café citrus|\n",
            "|          santa mariana/são vicente|\n",
            "|                           cianorte|\n",
            "|                            juliana|\n",
            "|sitío corrego da olaria/são caetano|\n",
            "|                fazenda serra negra|\n",
            "|                 fazendas klem ltda|\n",
            "|                    castelhana farm|\n",
            "|                       leticia farm|\n",
            "|                             helena|\n",
            "|                            caxambu|\n",
            "+-----------------------------------+\n",
            "\n"
          ]
        }
      ]
    },
    {
      "cell_type": "code",
      "source": [
        "df_farms = spark.createDataFrame(\n",
        "    [\n",
        "        (\"fazenda rio verde\",-21.877600079894428, -45.17833587173798 ),  # create your data here, be consistent in the types.\n",
        "        (\"fazenda do lobo\", -20.05845833645814, -45.551377369807916),\n",
        "        (\"fazenda grota funda\",-4.498676298642221, -46.01438009152326),\n",
        "        (\"sitio claro\",-12.404400112670487, -57.0307320652044),\n",
        "        (\"santa alina\",-21.76121880758086, -46.674253002625804),\n",
        "        (\"fazenda chamusca\",-21.4532483711391, -45.22708818550831),\n",
        "        (\"santa maria\",-16.609194745742165, -46.98365752985455),\n",
        "        (\"capoeirinha\",-18.64698614414741, -45.796849953979795),\n",
        "        (\"fazenda do sertao\",-22.09933939187727, -45.18968007378277),\n",
        "        (\"santa fé 2\",-17.582654936016926, -47.2198752950817),\n",
        "        (\"café do paraíso\",-22.094568087843687, -45.155496432162685),\n",
        "        (\"cachoeira da grama farm\",-21.76626556295618, -46.702161544954144),\n",
        "        (\"são francisco da serra\",-22.629913000779446, -44.601043902591805),\n",
        "        (\"fazenda jericó\",-18.676315608302055, -45.70281563093488),\n",
        "        (\"sertao farm\",-22.099418916815903, -45.18965861611114),\n",
        "        (\"campo das flores\",-20.312258124962906, -43.28548394936318),\n",
        "        (\"olhos d'agua\",-18.63831446703355, -46.952789277527444),\n",
        "        (\"fazenda serra de três barras\",-19.560780988980817, -46.579303497451384),\n",
        "        (\"fazenda pantano\",-18.631997524421426, -46.82473127385452),\n",
        "        (\"pereira estate coffee\",-22.112480964214626, -45.15508902245408),\n",
        "        (\"rio verde\",-21.940510105475326, -45.176192869009476),\n",
        "        (\"sitío são geraldo\",-22.59528143237296, -46.66759241371165),\n",
        "        (\"fazenda baipendi\",-21.45008093579659, -46.8357381855336),\n",
        "        (\"água limpa\",-21.44645605895183, -46.82635044153258),\n",
        "        (\"fazenda kaquend\",-21.435236392716707, -46.83244978479159),\n",
        "        (\"fazenda santo antonio\",-21.40862617568116, -46.80560442679252),\n",
        "        (\"fazenda vista alegre\",-21.44237673402853, -46.818513026788274),\n",
        "        (\"fazenda recreio\",-21.780100162105256, -46.67880344388111),\n",
        "        (\"fazenda capoeirnha\",-21.761009557830032, -46.67507912298348),\n",
        "        (\"pantano\",-21.444638601462618, -46.81747769417689),\n",
        "        (\"fazenda são sebastião\",-21.444863288363614, -46.827235570452125),\n",
        "        (\"santa bárbara\",-18.52732198399872, -47.569893903127564),\n",
        "        (\"santa mariana\",-23.19046310851501, -50.55948683365515),\n",
        "        (\"sertao\",-22.095760723175886, -45.189755175672296),\n",
        "        (\"são rafael_ ra/ras certified\",-22.784292492565246, -47.032534461666536),\n",
        "        (\"sitío santa luzia\",-22.366016295045306, -46.47371725096838),\n",
        "        (\"fazenda são josé mirante\",-22.785019797545694, -47.03177457322967),\n",
        "        (\"cianorte\",-22.774138613223663, -47.02968245276757),\n",
        "        (\"juliana\",-21.46270024286904, -46.832515362350975),\n",
        "        (\"sitío corrego da olaria/são caetano\",-22.745464486282955, -47.0338567362583),\n",
        "        (\"fazenda serra negra\",-21., -46.674253002625804),\n",
        "        (\"fazendas klem ltda\",-20.27591897959779, -41.876604035124465),\n",
        "        (\"castelhana farm\",-18.922960557030457, -47.45831617257145),\n",
        "        (\"leticia farm\",-19.807319369835636, -42.215697182335234),\n",
        "        (\"helena\",-22.107657064931225, -48.32067672583973),\n",
        "        (\"caxambu\",-21.339808722609096, -45.42201735838091),\n",
        "    ],\n",
        "    [\"Farm_name\", \"long\",\"lat\"]  # add your column names here\n",
        ")"
      ],
      "metadata": {
        "id": "v-zjcLdpdT-O"
      },
      "execution_count": 7,
      "outputs": []
    },
    {
      "cell_type": "code",
      "source": [
        "df_arabica = df_arabica.join(df_farms, on=['Farm_name'], how='left_outer')"
      ],
      "metadata": {
        "id": "o3nRDSNLsd3X"
      },
      "execution_count": 19,
      "outputs": []
    },
    {
      "cell_type": "code",
      "source": [
        "df_arabica.filter(df_arabica[\"Country_of_Origin\"]=='Brazil')\\\n",
        "          .select(['Farm_name',\"long\",\"lat\",\"Total_Cup_Points\", \"Aroma\",\"Altitude\"])\\\n",
        "          .show(100, 100)"
      ],
      "metadata": {
        "colab": {
          "base_uri": "https://localhost:8080/"
        },
        "id": "dWOcGCMMughI",
        "outputId": "19f2f276-7828-4b01-a53d-b5a844ee6db1"
      },
      "execution_count": 23,
      "outputs": [
        {
          "output_type": "stream",
          "name": "stdout",
          "text": [
            "+----------------------------+-------------------+-------------------+----------------+-----+--------------+\n",
            "|                   Farm_name|               long|                lat|Total_Cup_Points|Aroma|      Altitude|\n",
            "+----------------------------+-------------------+-------------------+----------------+-----+--------------+\n",
            "|           fazenda rio verde|-21.877600079894428| -45.17833587173798|            84.0| 7.58|          1260|\n",
            "|           fazenda rio verde|-21.877600079894428| -45.17833587173798|           83.83| 7.92|          1260|\n",
            "|             fazenda do lobo| -20.05845833645814|-45.551377369807916|           83.17| 7.75|         1000m|\n",
            "|         fazenda grota funda| -4.498676298642221| -46.01438009152326|           84.92|  8.0|         1200m|\n",
            "|                 sitio claro|-12.404400112670487|  -57.0307320652044|           84.92|  8.0|        1000 m|\n",
            "|                 santa alina| -21.76121880758086|-46.674253002625804|           84.33| 8.17|1200m to 1350m|\n",
            "|            fazenda chamusca|  -21.4532483711391| -45.22708818550831|           82.58| 7.58|     900-1050m|\n",
            "|                 santa maria|-16.609194745742165| -46.98365752985455|           82.67| 7.33|           NaN|\n",
            "|                 capoeirinha| -18.64698614414741|-45.796849953979795|           83.92| 7.58|           934|\n",
            "|                 capoeirinha| -18.64698614414741|-45.796849953979795|           83.67| 7.58|           934|\n",
            "|                 capoeirinha| -18.64698614414741|-45.796849953979795|           83.08| 7.58|           905|\n",
            "|                 capoeirinha| -18.64698614414741|-45.796849953979795|            83.0|  7.5|           872|\n",
            "|                 capoeirinha| -18.64698614414741|-45.796849953979795|           82.83| 7.67|           905|\n",
            "|                 capoeirinha| -18.64698614414741|-45.796849953979795|           82.75|  7.5|           905|\n",
            "|                 capoeirinha| -18.64698614414741|-45.796849953979795|           82.67|  7.5|           890|\n",
            "|                 capoeirinha| -18.64698614414741|-45.796849953979795|           82.67|  7.5|           934|\n",
            "|           fazenda do sertao| -22.09933939187727| -45.18968007378277|           83.83| 7.83|       1.250 m|\n",
            "|                  santa fé 2|-17.582654936016926|  -47.2198752950817|           82.83| 7.58|           900|\n",
            "|             café do paraíso|-22.094568087843687|-45.155496432162685|           84.17| 7.58|  894m - 1183m|\n",
            "|     cachoeira da grama farm| -21.76626556295618|-46.702161544954144|           83.42| 7.33|           NaN|\n",
            "|      são francisco da serra|-22.629913000779446|-44.601043902591805|           83.17| 7.92|          950m|\n",
            "|              fazenda jericó|-18.676315608302055| -45.70281563093488|           83.58| 7.83|         1100m|\n",
            "|                 sertao farm|-22.099418916815903| -45.18965861611114|            83.0| 7.75|          1250|\n",
            "|            campo das flores|-20.312258124962906| -43.28548394936318|           83.17| 7.75|         1000m|\n",
            "|                olhos d'agua| -18.63831446703355|-46.952789277527444|           83.17| 7.58|          900m|\n",
            "|fazenda serra de três barras|-19.560780988980817|-46.579303497451384|           85.42|  8.0|         1250m|\n",
            "|             fazenda pantano|-18.631997524421426| -46.82473127385452|           82.92| 7.08|  11000 metros|\n",
            "|       pereira estate coffee|-22.112480964214626| -45.15508902245408|           86.17| 8.17|           1.2|\n",
            "|       pereira estate coffee|-22.112480964214626| -45.15508902245408|           86.17| 8.42|           1.2|\n",
            "|                   rio verde|-21.940510105475326|-45.176192869009476|           83.83| 7.25|             1|\n",
            "|                   rio verde|-21.940510105475326|-45.176192869009476|           83.83| 7.67|          1200|\n",
            "|                   rio verde|-21.940510105475326|-45.176192869009476|           83.33|  7.5|          1227|\n",
            "|                   rio verde|-21.940510105475326|-45.176192869009476|           83.08| 7.33|             1|\n",
            "|                   rio verde|-21.940510105475326|-45.176192869009476|           83.08| 7.58|          1200|\n",
            "|                   rio verde|-21.940510105475326|-45.176192869009476|           82.67| 7.58|             1|\n",
            "|           sitío são geraldo| -22.59528143237296| -46.66759241371165|            85.0|  8.0|         1100m|\n",
            "|            fazenda baipendi| -21.45008093579659|  -46.8357381855336|           84.33|  8.0|     900-1200m|\n",
            "|                  água limpa| -21.44645605895183| -46.82635044153258|           83.25| 7.75|         1200m|\n",
            "|             fazenda kaquend|-21.435236392716707| -46.83244978479159|           86.92|  8.5|         1250m|\n",
            "|             fazenda kaquend|-21.435236392716707| -46.83244978479159|           86.08| 8.33|         1250m|\n",
            "|                         NaN|               null|               null|           88.83| 8.58|           NaN|\n",
            "|                         NaN|               null|               null|            84.5| 7.81|           mmm|\n",
            "|                         NaN|               null|               null|            84.5| 8.17|          test|\n",
            "|                         NaN|               null|               null|           83.25| 7.58|           NaN|\n",
            "|                         NaN|               null|               null|           83.08| 7.42|           NaN|\n",
            "|                         NaN|               null|               null|           82.58|  7.5|           NaN|\n",
            "|                         NaN|               null|               null|           82.58| 7.42|           NaN|\n",
            "|       fazenda santo antonio| -21.40862617568116| -46.80560442679252|            83.0| 7.67|      900-1100|\n",
            "|        fazenda vista alegre| -21.44237673402853|-46.818513026788274|           84.58|  8.5|         1100m|\n",
            "|             fazenda recreio|-21.780100162105256| -46.67880344388111|           86.42|  8.5|          1300|\n",
            "|             fazenda recreio|-21.780100162105256| -46.67880344388111|           84.58|  8.0|         1300m|\n",
            "|          fazenda capoeirnha|-21.761009557830032| -46.67507912298348|           83.92|  7.5|           890|\n",
            "|          fazenda capoeirnha|-21.761009557830032| -46.67507912298348|           83.75| 7.67|           890|\n",
            "|          fazenda capoeirnha|-21.761009557830032| -46.67507912298348|           83.67| 7.67|           890|\n",
            "|          fazenda capoeirnha|-21.761009557830032| -46.67507912298348|           83.58| 7.58|           890|\n",
            "|          fazenda capoeirnha|-21.761009557830032| -46.67507912298348|           83.17| 7.67|           890|\n",
            "|          fazenda capoeirnha|-21.761009557830032| -46.67507912298348|            83.0| 7.58|           890|\n",
            "|          fazenda capoeirnha|-21.761009557830032| -46.67507912298348|            83.0|  7.5|           894|\n",
            "|          fazenda capoeirnha|-21.761009557830032| -46.67507912298348|           82.92| 7.67|           890|\n",
            "|          fazenda capoeirnha|-21.761009557830032| -46.67507912298348|            82.5|  7.5|           890|\n",
            "|                     pantano|-21.444638601462618| -46.81747769417689|           84.17| 7.67|          1150|\n",
            "|       fazenda são sebastião|-21.444863288363614|-46.827235570452125|           81.17| 7.42|         1000m|\n",
            "|               santa bárbara| -18.52732198399872|-47.569893903127564|           81.92| 7.42|          1020|\n",
            "|           fazenda rio verde|-21.877600079894428| -45.17833587173798|            82.5| 7.42|          1260|\n",
            "|           fazenda rio verde|-21.877600079894428| -45.17833587173798|           82.42| 7.25|          1260|\n",
            "|               santa mariana| -23.19046310851501| -50.55948683365515|           82.42| 7.75|           NaN|\n",
            "|                      sertao|-22.095760723175886|-45.189755175672296|            81.5|  7.5|          1.25|\n",
            "|são rafael_ ra/ras certified|-22.784292492565246|-47.032534461666536|           80.25| 7.17|           995|\n",
            "|           sitío santa luzia|-22.366016295045306| -46.47371725096838|           82.33| 7.58|         1100m|\n",
            "|    fazenda são josé mirante|-22.785019797545694| -47.03177457322967|           81.08| 7.58|           695|\n",
            "|                 santa maria|-16.609194745742165| -46.98365752985455|           78.42| 6.83|           NaN|\n",
            "|                 capoeirinha| -18.64698614414741|-45.796849953979795|           82.33|  7.5|           934|\n",
            "|                 capoeirinha| -18.64698614414741|-45.796849953979795|            82.0|  7.5|           944|\n",
            "|           são josé da lagoa|               null|               null|            82.0| 7.42|         1050m|\n",
            "|           fazenda do sertao| -22.09933939187727| -45.18968007378277|            82.5| 7.67|       1.250 m|\n",
            "|       fazenda rio brilhante|               null|               null|           81.42| 7.33|          1100|\n",
            "|           fazenda são pedro|               null|               null|           82.33| 7.33|           982|\n",
            "|             café do paraíso|-22.094568087843687|-45.155496432162685|            82.0| 7.33|  894m - 1183m|\n",
            "|     cachoeira da grama farm| -21.76626556295618|-46.702161544954144|            81.0| 7.25|           NaN|\n",
            "|     cachoeira da grama farm| -21.76626556295618|-46.702161544954144|            81.0| 7.33|           NaN|\n",
            "|     cachoeira da grama farm| -21.76626556295618|-46.702161544954144|            80.5| 7.25|        1250 m|\n",
            "|                 sertao farm|-22.099418916815903| -45.18965861611114|           81.83| 7.75|          1250|\n",
            "|                 sertao farm|-22.099418916815903| -45.18965861611114|           81.33| 7.17|          1200|\n",
            "|                 sertao farm|-22.099418916815903| -45.18965861611114|           80.92| 7.25|          1200|\n",
            "|            campo das flores|-20.312258124962906| -43.28548394936318|            82.0| 7.42|         1000m|\n",
            "|          fazenda sacramento|               null|               null|           81.33| 7.25|          1100|\n",
            "|       pereira estate coffee|-22.112480964214626| -45.15508902245408|            81.5| 7.58|          1200|\n",
            "|       pereira estate coffee|-22.112480964214626| -45.15508902245408|            80.5| 7.42|          1250|\n",
            "|                 café citrus|               null|               null|           82.33| 7.58|          950m|\n",
            "|   santa mariana/são vicente|               null|               null|            82.0| 7.58|          950m|\n",
            "|                    cianorte|-22.774138613223663| -47.02968245276757|           81.83| 7.33|      900-950m|\n",
            "|                   rio verde|-21.940510105475326|-45.176192869009476|           82.42| 7.17|             1|\n",
            "|                   rio verde|-21.940510105475326|-45.176192869009476|           82.33| 8.25|          1268|\n",
            "|                   rio verde|-21.940510105475326|-45.176192869009476|           82.33| 7.75|          1100|\n",
            "|                   rio verde|-21.940510105475326|-45.176192869009476|           82.25| 7.42|             1|\n",
            "|                   rio verde|-21.940510105475326|-45.176192869009476|           82.25| 7.75|          1100|\n",
            "|                   rio verde|-21.940510105475326|-45.176192869009476|           82.17| 6.92|             1|\n",
            "|                   rio verde|-21.940510105475326|-45.176192869009476|           82.08| 7.25|             1|\n",
            "|                   rio verde|-21.940510105475326|-45.176192869009476|           81.83| 7.17|             1|\n",
            "|                   rio verde|-21.940510105475326|-45.176192869009476|           81.83| 7.58|             1|\n",
            "+----------------------------+-------------------+-------------------+----------------+-----+--------------+\n",
            "only showing top 100 rows\n",
            "\n"
          ]
        }
      ]
    }
  ]
}